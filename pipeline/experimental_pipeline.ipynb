{
 "cells": [
  {
   "cell_type": "markdown",
   "id": "3de676a3",
   "metadata": {},
   "source": [
    "# Experiment Pipeline\n",
    "\n",
    "\n",
    "**Data workflow**\n",
    "\n",
    "question_id is the unique identifier across the whole project\n",
    "\n",
    "- Set of questions → csv file\n",
    "    - question id\n",
    "    - prompt\n",
    "    - groundtruth answer\n",
    "    - question class\n",
    "- Activations → .pt files\n",
    "    - question id\n",
    "    - hidden_states\n",
    "    - output\n",
    "- Processed activations dataframe (for faster loading) → .csv\n",
    "    - rows: neuron_ids (flattened)\n",
    "    - columns : q_ids\n",
    "- Cluster → list of tuples (.npy files)\n",
    "    - [(layer_id, emb_id), ..]\n",
    "- Analysis files → csv\n",
    "    - question id\n",
    "    - accuracy without knockout\n",
    "    - accuracy with knockout\n",
    "\n",
    "**Function workflow**\n",
    "\n",
    "- load_llm: load an llm for evaluation\n",
    "    - input → model_paths\n",
    "    - output → model instance\n",
    "- generate_outputs_batch: takes a set of questions and generates llm outputs, can do knockout\n",
    "    - input → set of questions, llm, optional cluster npy file, activation dir\n",
    "    - output → activations, save to activation_dir\n",
    "- process_activations: load activation dir using aggregation strategy (first/avg/last) and save the df\n",
    "    - input → activations_dir, set_of_questions\n",
    "    - output → Processed activations dataframe\n",
    "- cluster_activations: load activations df and do clustering and save them, append _kmeans or _pca for the method, optionally calculate r2 score to rank clusters\n",
    "    - input → Processed activations dataframe, clustering_kwargs\n",
    "    - output → cluster npy files saved\n",
    "- visualize clusters [Needs to be implemented]\n",
    "    - input → activation_dir, question_id\n",
    "    - output → .mp4 file with plots for each token"
   ]
  },
  {
   "cell_type": "code",
   "execution_count": null,
   "id": "592b713f",
   "metadata": {
    "scrolled": true
   },
   "outputs": [],
   "source": [
    "import os\n",
    "opj = os.path.join\n",
    "os.environ['CUDA_VISIBLE_DEVICES'] = '0, 1'\n",
    "\n",
    "import utils\n",
    "print(\"Started pipeline\")"
   ]
  },
  {
   "cell_type": "markdown",
   "id": "1aa2ec45",
   "metadata": {},
   "source": [
    "# Load LLM"
   ]
  },
  {
   "cell_type": "code",
   "execution_count": null,
   "id": "b4e834d9",
   "metadata": {},
   "outputs": [],
   "source": [
    "# load llm\n",
    "model_path = '/home/gridsan/wzulfikar/models/vicuna-13b-v1.3'\n",
    "lora_model_path = '/home/gridsan/wzulfikar/models/alpaca-lora-13b'\n",
    "\n",
    "tokenizer, model = utils.load_llm(model_path, lora_model_path)"
   ]
  },
  {
   "cell_type": "markdown",
   "id": "3d8852b7",
   "metadata": {},
   "source": [
    "# Generate baseline outputs\n"
   ]
  },
  {
   "cell_type": "code",
   "execution_count": null,
   "id": "050fb82d",
   "metadata": {
    "scrolled": true
   },
   "outputs": [],
   "source": [
    "dataset_dir = '/home/gridsan/wzulfikar/activations/cot_vicuna_13b/'\n",
    "\n",
    "cot_csv_file = opj(dataset_dir, 'prompt_chain.csv')\n",
    "no_cot_csv_file = opj(dataset_dir, 'prompt_no_chain.csv')\n",
    "raw_activations_dir = opj(dataset_dir, 'raw')\n",
    "\n",
    "utils.generate_outputs_batch([cot_csv_file, no_cot_csv_file], tokenizer, model, activations_dir=raw_activations_dir)\n"
   ]
  },
  {
   "cell_type": "markdown",
   "id": "fe05907a",
   "metadata": {},
   "source": [
    "# Process activations for clustering"
   ]
  },
  {
   "cell_type": "code",
   "execution_count": null,
   "id": "d96b34b4",
   "metadata": {},
   "outputs": [],
   "source": [
    "aggr_strategy = 'avg'\n",
    "utils.process_activations([cot_csv_file, no_cot_csv_file], raw_activations_dir, aggr_strategy=aggr_strategy)"
   ]
  },
  {
   "cell_type": "markdown",
   "id": "30d802f0",
   "metadata": {},
   "source": [
    "# Cluster using kmeans\n"
   ]
  },
  {
   "cell_type": "code",
   "execution_count": null,
   "id": "18e5795b",
   "metadata": {},
   "outputs": [],
   "source": [
    "activations_df_file = opj(raw_activations_dir, f'activations_{aggr_strategy}.csv')\n",
    "clusters_dir = opj(dataset_dir, 'clusters')\n",
    "n_clusters = 16\n",
    "\n",
    "utils.cluster_activations_kmeans(activations_df_file, clusters_dir, cluster_kwargs={'n_clusters': n_clusters}, \n",
    "                                 calculate_significance=True)"
   ]
  },
  {
   "cell_type": "markdown",
   "id": "a706b2f0",
   "metadata": {},
   "source": [
    "# Generate outputs with knockout of each cluster\n"
   ]
  },
  {
   "cell_type": "code",
   "execution_count": null,
   "id": "749c410b",
   "metadata": {
    "scrolled": true
   },
   "outputs": [],
   "source": [
    "for c in range(5, n_clusters):\n",
    "    knockout_cluster = opj(clusters_dir, f'{c}.npy')\n",
    "    knockout_activation_dir = opj(clusters_dir, f'cluster_{c}')\n",
    "    utils.generate_outputs_batch([cot_csv_file, no_cot_csv_file], tokenizer, model, knockout_cluster=knockout_cluster, activations_dir=knockout_activation_dir)"
   ]
  }
 ],
 "metadata": {
  "kernelspec": {
   "display_name": "Python [conda env:.conda-openllm]",
   "language": "python",
   "name": "conda-env-.conda-openllm-py"
  },
  "language_info": {
   "codemirror_mode": {
    "name": "ipython",
    "version": 3
   },
   "file_extension": ".py",
   "mimetype": "text/x-python",
   "name": "python",
   "nbconvert_exporter": "python",
   "pygments_lexer": "ipython3",
   "version": "3.8.0"
  },
  "latex_envs": {
   "LaTeX_envs_menu_present": true,
   "autoclose": false,
   "autocomplete": true,
   "bibliofile": "biblio.bib",
   "cite_by": "apalike",
   "current_citInitial": 1,
   "eqLabelWithNumbers": true,
   "eqNumInitial": 1,
   "hotkeys": {
    "equation": "Ctrl-E",
    "itemize": "Ctrl-I"
   },
   "labels_anchors": false,
   "latex_user_defs": false,
   "report_style_numbering": false,
   "user_envs_cfg": false
  },
  "toc": {
   "base_numbering": 1,
   "nav_menu": {},
   "number_sections": true,
   "sideBar": true,
   "skip_h1_title": false,
   "title_cell": "Table of Contents",
   "title_sidebar": "Contents",
   "toc_cell": false,
   "toc_position": {},
   "toc_section_display": true,
   "toc_window_display": false
  }
 },
 "nbformat": 4,
 "nbformat_minor": 5
}
