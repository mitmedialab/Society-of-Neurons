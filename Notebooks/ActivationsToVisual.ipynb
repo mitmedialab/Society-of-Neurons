{
  "cells": [
    {
      "cell_type": "markdown",
      "metadata": {
        "id": "6ExAe1UCWn5E"
      },
      "source": [
        "# Activations to Visualization\n",
        "\n",
        "This notebook contains code for loading and visualizing activations of an LLM during output generation. The code assumes the generated output is stored in a saved .pt file on your google drive. \n",
        "\n",
        "\n",
        "Currently, the model being tested is [Alpaca-LoRA](https://github.com/tloen/alpaca-lora/), 7B parameters\n",
        "\n",
        "## Description of the saved file\n",
        "\n",
        "The input prompt, generated output and hidden states are saved as a `.pt` file from pytorch. \n",
        "\n",
        "The file is saved as `{input_prompt}.pt`\n",
        "\n",
        "To load the file use,\n",
        "\n",
        "`data = torch.load(\"{input_prompt}.pt\", map_location=torch.device('cpu'))`\n",
        "\n",
        "A peek into what that file looks like when loaded:\n",
        "```\n",
        "prompt = data['prompt']\n",
        "hidden_states = data['hidden_states']\n",
        "output_sequence = data['sequences'][0]\n",
        "output = data['output'].split(\"Response:\")[1]\n",
        "```\n",
        "\n",
        "The shape of the hidden states will be:\n",
        "\n",
        "```\n",
        "hidden states for full output shape: (n_output_tokens, n_layers, num_beams, n_iterations, hidden_size)\n",
        "\n",
        "n_output_tokens : includes the input tokens, I think even in input each token is fed one at a time\n",
        "n_layers : 33, number of decoder layers + input layer\n",
        "num_beams : 1, number of beam searches\n",
        "n_iterations: n_input_tokens, for first and then 1 for all other output tokens\n",
        "hidden_size: 4096, based on model config\n",
        "```"
      ]
    },
    {
      "cell_type": "markdown",
      "metadata": {
        "id": "HGUqO5sa-V6V"
      },
      "source": [
        "### Mount Google Drive"
      ]
    },
    {
      "cell_type": "code",
      "execution_count": 2,
      "metadata": {
        "id": "r5XYt1pC8quP",
        "colab": {
          "base_uri": "https://localhost:8080/"
        },
        "outputId": "32b476d0-3af0-4abb-b9b2-ce5bd51cefc3"
      },
      "outputs": [
        {
          "output_type": "stream",
          "name": "stdout",
          "text": [
            "Mounted at /content/drive\n",
            "activations  models  visualizations\n"
          ]
        }
      ],
      "source": [
        "from google.colab import drive\n",
        "\n",
        "drive.mount('/content/drive')\n",
        "!ls '/content/drive/MyDrive/llm'"
      ]
    },
    {
      "cell_type": "markdown",
      "source": [
        "###Import Packages"
      ],
      "metadata": {
        "id": "5TfmsoUfmLPJ"
      }
    },
    {
      "cell_type": "code",
      "source": [
        "!pip install -q git+https://github.com/wazeerzulfikar/transformers.git"
      ],
      "metadata": {
        "colab": {
          "base_uri": "https://localhost:8080/"
        },
        "id": "iwAJXh2Frzpf",
        "outputId": "ff43fd3c-9730-4699-a756-8037637f5acb"
      },
      "execution_count": 3,
      "outputs": [
        {
          "output_type": "stream",
          "name": "stdout",
          "text": [
            "  Installing build dependencies ... \u001b[?25l\u001b[?25hdone\n",
            "  Getting requirements to build wheel ... \u001b[?25l\u001b[?25hdone\n",
            "  Preparing metadata (pyproject.toml) ... \u001b[?25l\u001b[?25hdone\n",
            "\u001b[2K     \u001b[90m━━━━━━━━━━━━━━━━━━━━━━━━━━━━━━━━━━━━━━\u001b[0m \u001b[32m224.5/224.5 kB\u001b[0m \u001b[31m18.2 MB/s\u001b[0m eta \u001b[36m0:00:00\u001b[0m\n",
            "\u001b[2K     \u001b[90m━━━━━━━━━━━━━━━━━━━━━━━━━━━━━━━━━━━━━━━━\u001b[0m \u001b[32m7.8/7.8 MB\u001b[0m \u001b[31m104.4 MB/s\u001b[0m eta \u001b[36m0:00:00\u001b[0m\n",
            "\u001b[?25h  Building wheel for transformers (pyproject.toml) ... \u001b[?25l\u001b[?25hdone\n"
          ]
        }
      ]
    },
    {
      "cell_type": "code",
      "source": [
        "import numpy as np\n",
        "import cv2\n",
        "import matplotlib.pyplot as plt\n",
        "import matplotlib\n",
        "from matplotlib.animation import FuncAnimation\n",
        "from IPython.display import HTML\n",
        "import matplotlib.colors as mcolors\n",
        "from matplotlib.colors import LogNorm\n",
        "import torch\n",
        "from tqdm import tqdm \n",
        "import transformers"
      ],
      "metadata": {
        "id": "xpsgG7onhFTw"
      },
      "execution_count": 4,
      "outputs": []
    },
    {
      "cell_type": "markdown",
      "metadata": {
        "id": "EdFzdIyh-bi1"
      },
      "source": [
        "### Load Activations (.pt file)"
      ]
    },
    {
      "cell_type": "code",
      "source": [
        "input_prompt = \"What_is_4_+_2?\"\n",
        "\n",
        "activation_path = \"/content/drive/MyDrive/llm/activations/\"+str(input_prompt)+\".pt\"\n",
        "data = torch.load(activation_path, map_location=torch.device('cpu'))\n",
        "\n",
        "# from transformers import LlamaTokenizer, LlamaForCausalLM, GenerationConfig\n",
        "# tokenizer = LlamaTokenizer.from_pretrained('decapoda-research/llama-7b-hf')"
      ],
      "metadata": {
        "id": "DPgYNXBF4DIH"
      },
      "execution_count": 5,
      "outputs": []
    },
    {
      "cell_type": "markdown",
      "source": [
        "###Define Visualization Options & Utility Functions\n"
      ],
      "metadata": {
        "id": "E4vypa5ilUpX"
      }
    },
    {
      "cell_type": "code",
      "source": [
        "def generate_bitmap_animation(data):\n",
        "\n",
        "  hidden_states = data['hidden_states']\n",
        "  output_response = data['output'].split(\"Response:\")[1]\n",
        "  # tokenized_output_response = tokenizer.encode(output_response)\n",
        "\n",
        "  all_images = []\n",
        "  vmin=0\n",
        "  vmax=0\n",
        "\n",
        "  #iterate through hidden states of all tokens \n",
        "  for token_id, token_hidden_states in tqdm(enumerate(hidden_states)):\n",
        "    # Disregard first hidden state (which inclued all input? tokens)\n",
        "    if token_id > 0:\n",
        "      # current_token = tokenized_output_response[token_id]\n",
        "      current_token_string = output_response[token_id]\n",
        "      # print(\"Token ID: \"+str(token_id)+\"\\t Token Value: \" + str(current_token), \"\\t Token String: '\" + str(current_token_string)+\"'\")\n",
        "\n",
        "      # Initialize an empty dictionary to store activations\n",
        "      activations = []\n",
        "\n",
        "      # iterate through all layers for each token's hidden states\n",
        "      for layer_id, layers in enumerate(token_hidden_states):\n",
        "        # print(\"Layer: \"+str(layer_id))\n",
        "        for beam_id, beams in enumerate(layers):\n",
        "          # print(\"Beam: \"+str(beam_id))\n",
        "          for token_activation_id, token_activations in enumerate(beams):\n",
        "            # print(token_activations.shape)\n",
        "            token_activations_np = token_activations.numpy()  # Detach and convert to NumPy array\n",
        "            activations.extend(token_activations_np)\n",
        "\n",
        "      # Determine the size of the square image\n",
        "      image_size = int(np.ceil(np.sqrt(len(activations))))\n",
        "\n",
        "      # Create an empty square image with pixel values set to zero\n",
        "      img = np.zeros((image_size, image_size), dtype=np.uint8)\n",
        "\n",
        "      # Fill in the image with the normalized activation values\n",
        "      img.flat[:len(activations)] = activations\n",
        "\n",
        "      # Add the image to the all_images list\n",
        "      all_images.append(img)\n",
        "\n",
        "      # Update the global vmin and vmax\n",
        "      vmin_token = np.min(activations)\n",
        "      if vmin_token < vmin:\n",
        "        vmin = vmin_token\n",
        "      vmax_token = np.max(activations)\n",
        "      if vmax_token > vmax:\n",
        "        vmax = vmax_token\n",
        "\n",
        "  #Set log norm based on global max and min activations values\n",
        "  log_norm = LogNorm(vmin=vmin, vmax=vmax)\n",
        "\n",
        "  # Set the matplotlib backend to save files in the desired format\n",
        "  matplotlib.use(\"Agg\")\n",
        "\n",
        "  # Define the update function for the animation\n",
        "  def update(frame):\n",
        "      plt.clf()\n",
        "      plt.imshow(all_images[frame], cmap='viridis', norm=log_norm)\n",
        "      plt.title(f\"Token {frame + 1}: {output_response[frame]}\", fontsize=30)\n",
        "      plt.axis('off')\n",
        "\n",
        "  # Create the animation\n",
        "  fig = plt.figure(figsize=(20, 20))\n",
        "  ani = FuncAnimation(fig, update, frames=len(output_response)-1, interval=250)\n",
        "\n",
        "  # Save the animation as an MP4 file\n",
        "  output_file = data[\"prompt\"].replace(' ', '_')+\".mp4\"\n",
        "  output_path = \"/content/drive/MyDrive/llm/visualizations/\"+str(output_file)\n",
        "  ani.save(output_path, dpi=100, writer=\"ffmpeg\")\n",
        "\n",
        "  # Set the matplotlib backend back to the default\n",
        "  matplotlib.use(\"module://ipykernel.pylab.backend_inline\")\n",
        "\n",
        "  print(\"visualization succesfully saved: '\"+str(output_path)+\"'\")\n",
        "\n",
        "def generate_visuals(data, visual_type=\"bitmap_animation\"):\n",
        "  if visual_type == \"bitmap_animation\":\n",
        "    generate_bitmap_animation(data)"
      ],
      "metadata": {
        "id": "adsI_rpAO3Cp"
      },
      "execution_count": 25,
      "outputs": []
    },
    {
      "cell_type": "markdown",
      "source": [
        "###Run Visual Generation & Save Ouput"
      ],
      "metadata": {
        "id": "W0BYWgiOksy1"
      }
    },
    {
      "cell_type": "code",
      "source": [
        "generate_visuals(data, visual_type=\"bitmap_animation\")"
      ],
      "metadata": {
        "colab": {
          "base_uri": "https://localhost:8080/"
        },
        "id": "7L35qD3yi8qi",
        "outputId": "c79f307f-7c9c-4467-9a68-1722decd3a04"
      },
      "execution_count": 26,
      "outputs": [
        {
          "output_type": "stream",
          "name": "stderr",
          "text": [
            "10it [00:00, 27.98it/s]\n"
          ]
        },
        {
          "output_type": "stream",
          "name": "stdout",
          "text": [
            "visualization succesfully saved: '/content/drive/MyDrive/llm/visualizations/What_is_4_+_2?.mp4'\n"
          ]
        }
      ]
    },
    {
      "cell_type": "markdown",
      "source": [
        "## UNDER DEVELOPMENT - Visualize Reduced Dim"
      ],
      "metadata": {
        "id": "U1gS_gxKb8Iy"
      }
    },
    {
      "cell_type": "code",
      "source": [
        "%pip install umap-learn"
      ],
      "metadata": {
        "colab": {
          "base_uri": "https://localhost:8080/"
        },
        "id": "cAP5o4o-fvOl",
        "outputId": "16b58a1d-839d-491a-b2c1-903a80d80750"
      },
      "execution_count": 37,
      "outputs": [
        {
          "output_type": "stream",
          "name": "stdout",
          "text": [
            "Looking in indexes: https://pypi.org/simple, https://us-python.pkg.dev/colab-wheels/public/simple/\n",
            "Collecting umap-learn\n",
            "  Downloading umap-learn-0.5.3.tar.gz (88 kB)\n",
            "\u001b[2K     \u001b[90m━━━━━━━━━━━━━━━━━━━━━━━━━━━━━━━━━━━━━━━━\u001b[0m \u001b[32m88.2/88.2 kB\u001b[0m \u001b[31m9.9 MB/s\u001b[0m eta \u001b[36m0:00:00\u001b[0m\n",
            "\u001b[?25h  Preparing metadata (setup.py) ... \u001b[?25l\u001b[?25hdone\n",
            "Requirement already satisfied: numpy>=1.17 in /usr/local/lib/python3.10/dist-packages (from umap-learn) (1.22.4)\n",
            "Requirement already satisfied: scikit-learn>=0.22 in /usr/local/lib/python3.10/dist-packages (from umap-learn) (1.2.2)\n",
            "Requirement already satisfied: scipy>=1.0 in /usr/local/lib/python3.10/dist-packages (from umap-learn) (1.10.1)\n",
            "Requirement already satisfied: numba>=0.49 in /usr/local/lib/python3.10/dist-packages (from umap-learn) (0.56.4)\n",
            "Collecting pynndescent>=0.5\n",
            "  Downloading pynndescent-0.5.10.tar.gz (1.1 MB)\n",
            "\u001b[2K     \u001b[90m━━━━━━━━━━━━━━━━━━━━━━━━━━━━━━━━━━━━━━━━\u001b[0m \u001b[32m1.1/1.1 MB\u001b[0m \u001b[31m73.5 MB/s\u001b[0m eta \u001b[36m0:00:00\u001b[0m\n",
            "\u001b[?25h  Preparing metadata (setup.py) ... \u001b[?25l\u001b[?25hdone\n",
            "Requirement already satisfied: tqdm in /usr/local/lib/python3.10/dist-packages (from umap-learn) (4.65.0)\n",
            "Requirement already satisfied: llvmlite<0.40,>=0.39.0dev0 in /usr/local/lib/python3.10/dist-packages (from numba>=0.49->umap-learn) (0.39.1)\n",
            "Requirement already satisfied: setuptools in /usr/local/lib/python3.10/dist-packages (from numba>=0.49->umap-learn) (67.7.2)\n",
            "Requirement already satisfied: joblib>=0.11 in /usr/local/lib/python3.10/dist-packages (from pynndescent>=0.5->umap-learn) (1.2.0)\n",
            "Requirement already satisfied: threadpoolctl>=2.0.0 in /usr/local/lib/python3.10/dist-packages (from scikit-learn>=0.22->umap-learn) (3.1.0)\n",
            "Building wheels for collected packages: umap-learn, pynndescent\n",
            "  Building wheel for umap-learn (setup.py) ... \u001b[?25l\u001b[?25hdone\n",
            "  Created wheel for umap-learn: filename=umap_learn-0.5.3-py3-none-any.whl size=82830 sha256=1b63fde4a6c9d64d284ac102998e20c8413d9596e0e0513a68cb0b318f5f0700\n",
            "  Stored in directory: /root/.cache/pip/wheels/a0/e8/c6/a37ea663620bd5200ea1ba0907ab3c217042c1d035ef606acc\n",
            "  Building wheel for pynndescent (setup.py) ... \u001b[?25l\u001b[?25hdone\n",
            "  Created wheel for pynndescent: filename=pynndescent-0.5.10-py3-none-any.whl size=55640 sha256=e59073f4876b034c8d1c22cba6a2779cb1c05f35ff80d8e7e9bcbc587a3703d2\n",
            "  Stored in directory: /root/.cache/pip/wheels/4a/38/5d/f60a40a66a9512b7e5e83517ebc2d1b42d857be97d135f1096\n",
            "Successfully built umap-learn pynndescent\n",
            "Installing collected packages: pynndescent, umap-learn\n",
            "Successfully installed pynndescent-0.5.10 umap-learn-0.5.3\n"
          ]
        }
      ]
    },
    {
      "cell_type": "code",
      "source": [
        "import os\n",
        "import pandas as pd\n",
        "import umap\n",
        "import matplotlib\n",
        "from tqdm import tqdm\n",
        "import seaborn as sns\n",
        "\n",
        "activation_folder_list = os.listdir(\"/content/drive/MyDrive/llm/test/\")\n",
        "\n",
        "all_prompt_activations = []\n",
        "all_prompt_filenames = []\n",
        "\n",
        "count = 0\n",
        "for activation_file in tqdm(activation_folder_list):\n",
        "  if count < 1000:\n",
        "    print(activation_file)\n",
        "\n",
        "    filename = '_'.join(activation_file.split('_')[-3:])\n",
        "    all_prompt_filenames.append(filename)\n",
        "\n",
        "    data = torch.load(activation_path, map_location=torch.device('cpu'))\n",
        "\n",
        "    hidden_states = data['hidden_states']\n",
        "    output_response = data['output'].split(\"Response:\")[1]\n",
        "    # tokenized_output_response = tokenizer.encode(output_response)\n",
        "\n",
        "    all_activations = []\n",
        "    vmin=0\n",
        "    vmax=0\n",
        "\n",
        "    #iterate through hidden states of all tokens \n",
        "    for token_id, token_hidden_states in tqdm(enumerate(hidden_states)):\n",
        "      # Disregard first hidden state (which inclued all input? tokens)\n",
        "      if token_id > 0:\n",
        "        # current_token = tokenized_output_response[token_id]\n",
        "        current_token_string = output_response[token_id]\n",
        "        # print(\"Token ID: \"+str(token_id)+\"\\t Token Value: \" + str(current_token), \"\\t Token String: '\" + str(current_token_string)+\"'\")\n",
        "\n",
        "        # Initialize an empty dictionary to store activations\n",
        "        activations = []\n",
        "\n",
        "        # iterate through all layers for each token's hidden states\n",
        "        for layer_id, layers in enumerate(token_hidden_states):\n",
        "          # print(\"Layer: \"+str(layer_id))\n",
        "          for beam_id, beams in enumerate(layers):\n",
        "            # print(\"Beam: \"+str(beam_id))\n",
        "            for token_activation_id, token_activations in enumerate(beams):\n",
        "              # print(token_activations.shape)\n",
        "              token_activations_np = token_activations.numpy()  # Detach and convert to NumPy array\n",
        "              activations.extend(token_activations_np)\n",
        "\n",
        "        # all_activations.append(activations)\n",
        "        all_activations.extend(activations)\n",
        "    all_prompt_activations.append(all_activations)\n",
        "\n",
        "    count += 1\n",
        "\n",
        "# from transformers import LlamaTokenizer, LlamaForCausalLM, GenerationConfig\n",
        "# tokenizer = LlamaTokenizer.from_pretrained('decapoda-research/llama-7b-hf')"
      ],
      "metadata": {
        "colab": {
          "base_uri": "https://localhost:8080/"
        },
        "id": "Ts8uuAjhbujQ",
        "outputId": "cd9242d0-4738-4d7d-a0d9-1ba5a728e147"
      },
      "execution_count": 51,
      "outputs": [
        {
          "output_type": "stream",
          "name": "stderr",
          "text": [
            "\r  0%|          | 0/1132 [00:00<?, ?it/s]"
          ]
        },
        {
          "output_type": "stream",
          "name": "stdout",
          "text": [
            "Question_131_character_qa_open.pt\n"
          ]
        },
        {
          "output_type": "stream",
          "name": "stderr",
          "text": [
            "\n",
            "10it [00:00, 127.42it/s]\n",
            "  0%|          | 1/1132 [00:00<02:21,  7.97it/s]"
          ]
        },
        {
          "output_type": "stream",
          "name": "stdout",
          "text": [
            "Question_132_character_qa_open.pt\n"
          ]
        },
        {
          "output_type": "stream",
          "name": "stderr",
          "text": [
            "\n",
            "10it [00:00, 114.91it/s]\n",
            "  0%|          | 2/1132 [00:00<02:29,  7.54it/s]"
          ]
        },
        {
          "output_type": "stream",
          "name": "stdout",
          "text": [
            "Question_133_character_qa_open.pt\n"
          ]
        },
        {
          "output_type": "stream",
          "name": "stderr",
          "text": [
            "\n",
            "10it [00:00, 126.94it/s]\n",
            "  0%|          | 3/1132 [00:00<02:29,  7.55it/s]"
          ]
        },
        {
          "output_type": "stream",
          "name": "stdout",
          "text": [
            "Question_134_character_qa_open.pt\n"
          ]
        },
        {
          "output_type": "stream",
          "name": "stderr",
          "text": [
            "\n",
            "10it [00:00, 109.41it/s]\n",
            "  0%|          | 4/1132 [00:00<02:34,  7.30it/s]"
          ]
        },
        {
          "output_type": "stream",
          "name": "stdout",
          "text": [
            "Question_137_character_qa_open.pt\n"
          ]
        },
        {
          "output_type": "stream",
          "name": "stderr",
          "text": [
            "\n",
            "10it [00:00, 118.83it/s]\n",
            "  0%|          | 5/1132 [00:00<02:33,  7.33it/s]"
          ]
        },
        {
          "output_type": "stream",
          "name": "stdout",
          "text": [
            "Question_136_character_qa_open.pt\n"
          ]
        },
        {
          "output_type": "stream",
          "name": "stderr",
          "text": [
            "\n",
            "10it [00:00, 111.08it/s]\n",
            "  1%|          | 6/1132 [00:00<02:35,  7.24it/s]"
          ]
        },
        {
          "output_type": "stream",
          "name": "stdout",
          "text": [
            "Question_135_character_qa_open.pt\n"
          ]
        },
        {
          "output_type": "stream",
          "name": "stderr",
          "text": [
            "\n",
            "0it [00:00, ?it/s]\u001b[A\n",
            "10it [00:00, 94.89it/s]\n",
            "  1%|          | 7/1132 [00:01<03:02,  6.17it/s]"
          ]
        },
        {
          "output_type": "stream",
          "name": "stdout",
          "text": [
            "Question_138_character_qa_open.pt\n"
          ]
        },
        {
          "output_type": "stream",
          "name": "stderr",
          "text": [
            "\n",
            "10it [00:00, 120.67it/s]\n",
            "  1%|          | 8/1132 [00:01<02:51,  6.55it/s]"
          ]
        },
        {
          "output_type": "stream",
          "name": "stdout",
          "text": [
            "Question_139_character_qa_open.pt\n"
          ]
        },
        {
          "output_type": "stream",
          "name": "stderr",
          "text": [
            "\n",
            "10it [00:00, 110.98it/s]\n",
            "  1%|          | 9/1132 [00:01<02:47,  6.72it/s]"
          ]
        },
        {
          "output_type": "stream",
          "name": "stdout",
          "text": [
            "Question_140_character_qa_open.pt\n"
          ]
        },
        {
          "output_type": "stream",
          "name": "stderr",
          "text": [
            "\n",
            "10it [00:00, 119.25it/s]\n",
            "  1%|          | 10/1132 [00:01<02:40,  6.97it/s]"
          ]
        },
        {
          "output_type": "stream",
          "name": "stdout",
          "text": [
            "Question_141_character_qa_open.pt\n"
          ]
        },
        {
          "output_type": "stream",
          "name": "stderr",
          "text": [
            "\n",
            "10it [00:00, 108.80it/s]\n",
            "  1%|          | 11/1132 [00:01<02:40,  6.98it/s]"
          ]
        },
        {
          "output_type": "stream",
          "name": "stdout",
          "text": [
            "Question_142_character_qa_open.pt\n"
          ]
        },
        {
          "output_type": "stream",
          "name": "stderr",
          "text": [
            "\n",
            "10it [00:00, 120.04it/s]\n",
            "  1%|          | 12/1132 [00:01<02:37,  7.13it/s]"
          ]
        },
        {
          "output_type": "stream",
          "name": "stdout",
          "text": [
            "Question_143_character_qa_open.pt\n"
          ]
        },
        {
          "output_type": "stream",
          "name": "stderr",
          "text": [
            "\n",
            "10it [00:00, 121.39it/s]\n",
            "  1%|          | 13/1132 [00:01<02:57,  6.32it/s]"
          ]
        },
        {
          "output_type": "stream",
          "name": "stdout",
          "text": [
            "Question_144_character_qa_open.pt\n"
          ]
        },
        {
          "output_type": "stream",
          "name": "stderr",
          "text": [
            "\n",
            "10it [00:00, 117.72it/s]\n",
            "  1%|          | 14/1132 [00:02<02:50,  6.54it/s]"
          ]
        },
        {
          "output_type": "stream",
          "name": "stdout",
          "text": [
            "Question_145_character_qa_open.pt\n"
          ]
        },
        {
          "output_type": "stream",
          "name": "stderr",
          "text": [
            "\n",
            "10it [00:00, 118.40it/s]\n",
            "  1%|▏         | 15/1132 [00:02<02:45,  6.73it/s]"
          ]
        },
        {
          "output_type": "stream",
          "name": "stdout",
          "text": [
            "Question_146_character_qa_open.pt\n"
          ]
        },
        {
          "output_type": "stream",
          "name": "stderr",
          "text": [
            "\n",
            "10it [00:00, 107.85it/s]\n",
            "  1%|▏         | 16/1132 [00:02<02:43,  6.81it/s]"
          ]
        },
        {
          "output_type": "stream",
          "name": "stdout",
          "text": [
            "Question_147_character_qa_open.pt\n"
          ]
        },
        {
          "output_type": "stream",
          "name": "stderr",
          "text": [
            "\n",
            "10it [00:00, 112.52it/s]\n",
            "  2%|▏         | 17/1132 [00:02<02:41,  6.89it/s]"
          ]
        },
        {
          "output_type": "stream",
          "name": "stdout",
          "text": [
            "Question_149_character_qa_open.pt\n"
          ]
        },
        {
          "output_type": "stream",
          "name": "stderr",
          "text": [
            "\n",
            "10it [00:00, 110.28it/s]\n",
            "  2%|▏         | 18/1132 [00:02<02:40,  6.96it/s]"
          ]
        },
        {
          "output_type": "stream",
          "name": "stdout",
          "text": [
            "Question_148_character_qa_open.pt\n"
          ]
        },
        {
          "output_type": "stream",
          "name": "stderr",
          "text": [
            "\n",
            "10it [00:00, 117.43it/s]\n",
            "  2%|▏         | 19/1132 [00:02<02:59,  6.20it/s]"
          ]
        },
        {
          "output_type": "stream",
          "name": "stdout",
          "text": [
            "Question_150_character_qa_open.pt\n"
          ]
        },
        {
          "output_type": "stream",
          "name": "stderr",
          "text": [
            "\n",
            "10it [00:00, 121.21it/s]\n",
            "  2%|▏         | 20/1132 [00:02<02:51,  6.47it/s]"
          ]
        },
        {
          "output_type": "stream",
          "name": "stdout",
          "text": [
            "Question_151_character_qa_open.pt\n"
          ]
        },
        {
          "output_type": "stream",
          "name": "stderr",
          "text": [
            "\n",
            "10it [00:00, 104.48it/s]\n",
            "  2%|▏         | 21/1132 [00:03<02:48,  6.60it/s]"
          ]
        },
        {
          "output_type": "stream",
          "name": "stdout",
          "text": [
            "Question_152_character_qa_close.pt\n"
          ]
        },
        {
          "output_type": "stream",
          "name": "stderr",
          "text": [
            "\n",
            "10it [00:00, 114.21it/s]\n",
            "  2%|▏         | 22/1132 [00:03<02:45,  6.72it/s]"
          ]
        },
        {
          "output_type": "stream",
          "name": "stdout",
          "text": [
            "Question_153_character_qa_close.pt\n"
          ]
        },
        {
          "output_type": "stream",
          "name": "stderr",
          "text": [
            "\n",
            "10it [00:00, 108.65it/s]\n",
            "  2%|▏         | 23/1132 [00:03<02:44,  6.75it/s]"
          ]
        },
        {
          "output_type": "stream",
          "name": "stdout",
          "text": [
            "Question_154_character_qa_close.pt\n"
          ]
        },
        {
          "output_type": "stream",
          "name": "stderr",
          "text": [
            "\n",
            "10it [00:00, 119.60it/s]\n",
            "  2%|▏         | 24/1132 [00:03<02:41,  6.87it/s]"
          ]
        },
        {
          "output_type": "stream",
          "name": "stdout",
          "text": [
            "Question_155_character_qa_close.pt\n"
          ]
        },
        {
          "output_type": "stream",
          "name": "stderr",
          "text": [
            "\n",
            "10it [00:00, 115.63it/s]\n",
            "  2%|▏         | 25/1132 [00:03<03:01,  6.09it/s]"
          ]
        },
        {
          "output_type": "stream",
          "name": "stdout",
          "text": [
            "Question_156_character_qa_close.pt\n"
          ]
        },
        {
          "output_type": "stream",
          "name": "stderr",
          "text": [
            "\n",
            "10it [00:00, 118.00it/s]\n",
            "  2%|▏         | 26/1132 [00:03<02:51,  6.44it/s]"
          ]
        },
        {
          "output_type": "stream",
          "name": "stdout",
          "text": [
            "Question_157_character_qa_close.pt\n"
          ]
        },
        {
          "output_type": "stream",
          "name": "stderr",
          "text": [
            "\n",
            "10it [00:00, 120.93it/s]\n",
            "  2%|▏         | 27/1132 [00:03<02:44,  6.73it/s]"
          ]
        },
        {
          "output_type": "stream",
          "name": "stdout",
          "text": [
            "Question_158_character_qa_close.pt\n"
          ]
        },
        {
          "output_type": "stream",
          "name": "stderr",
          "text": [
            "\n",
            "10it [00:00, 112.33it/s]\n",
            "  2%|▏         | 28/1132 [00:04<02:41,  6.86it/s]"
          ]
        },
        {
          "output_type": "stream",
          "name": "stdout",
          "text": [
            "Question_159_character_qa_close.pt\n"
          ]
        },
        {
          "output_type": "stream",
          "name": "stderr",
          "text": [
            "\n",
            "10it [00:00, 115.31it/s]\n",
            "  3%|▎         | 29/1132 [00:04<02:37,  6.98it/s]"
          ]
        },
        {
          "output_type": "stream",
          "name": "stdout",
          "text": [
            "Question_160_character_qa_close.pt\n"
          ]
        },
        {
          "output_type": "stream",
          "name": "stderr",
          "text": [
            "\n",
            "10it [00:00, 110.22it/s]\n",
            "  3%|▎         | 30/1132 [00:04<02:37,  7.00it/s]"
          ]
        },
        {
          "output_type": "stream",
          "name": "stdout",
          "text": [
            "Question_161_character_qa_close.pt\n"
          ]
        },
        {
          "output_type": "stream",
          "name": "stderr",
          "text": [
            "\n",
            "10it [00:00, 123.43it/s]\n",
            "  3%|▎         | 31/1132 [00:04<02:54,  6.31it/s]"
          ]
        },
        {
          "output_type": "stream",
          "name": "stdout",
          "text": [
            "Question_162_character_qa_close.pt\n"
          ]
        },
        {
          "output_type": "stream",
          "name": "stderr",
          "text": [
            "\n",
            "0it [00:00, ?it/s]\u001b[A\n",
            "10it [00:00, 96.80it/s]\n",
            "  3%|▎         | 32/1132 [00:04<02:53,  6.33it/s]"
          ]
        },
        {
          "output_type": "stream",
          "name": "stdout",
          "text": [
            "Question_163_character_qa_close.pt\n"
          ]
        },
        {
          "output_type": "stream",
          "name": "stderr",
          "text": [
            "\n",
            "10it [00:00, 112.34it/s]\n",
            "  3%|▎         | 33/1132 [00:04<02:47,  6.58it/s]"
          ]
        },
        {
          "output_type": "stream",
          "name": "stdout",
          "text": [
            "Question_164_character_qa_close.pt\n"
          ]
        },
        {
          "output_type": "stream",
          "name": "stderr",
          "text": [
            "\n",
            "0it [00:00, ?it/s]\u001b[A\n",
            "10it [00:00, 95.79it/s]\n",
            "  3%|▎         | 34/1132 [00:05<02:47,  6.56it/s]"
          ]
        },
        {
          "output_type": "stream",
          "name": "stdout",
          "text": [
            "Question_165_character_qa_close.pt\n"
          ]
        },
        {
          "output_type": "stream",
          "name": "stderr",
          "text": [
            "\n",
            "10it [00:00, 109.17it/s]\n",
            "  3%|▎         | 35/1132 [00:05<02:43,  6.70it/s]"
          ]
        },
        {
          "output_type": "stream",
          "name": "stdout",
          "text": [
            "Question_166_character_qa_close.pt\n"
          ]
        },
        {
          "output_type": "stream",
          "name": "stderr",
          "text": [
            "\n",
            "10it [00:00, 119.20it/s]\n",
            "  3%|▎         | 36/1132 [00:05<02:39,  6.87it/s]"
          ]
        },
        {
          "output_type": "stream",
          "name": "stdout",
          "text": [
            "Question_167_character_qa_close.pt\n"
          ]
        },
        {
          "output_type": "stream",
          "name": "stderr",
          "text": [
            "\n",
            "10it [00:00, 113.70it/s]\n",
            "  3%|▎         | 37/1132 [00:05<03:00,  6.08it/s]"
          ]
        },
        {
          "output_type": "stream",
          "name": "stdout",
          "text": [
            "Question_168_character_qa_close.pt\n"
          ]
        },
        {
          "output_type": "stream",
          "name": "stderr",
          "text": [
            "\n",
            "10it [00:00, 116.20it/s]\n",
            "  3%|▎         | 38/1132 [00:05<02:50,  6.40it/s]"
          ]
        },
        {
          "output_type": "stream",
          "name": "stdout",
          "text": [
            "Question_169_character_qa_close.pt\n"
          ]
        },
        {
          "output_type": "stream",
          "name": "stderr",
          "text": [
            "\n",
            "10it [00:00, 118.72it/s]\n",
            "  3%|▎         | 39/1132 [00:05<02:46,  6.56it/s]"
          ]
        },
        {
          "output_type": "stream",
          "name": "stdout",
          "text": [
            "Question_170_character_qa_close.pt\n"
          ]
        },
        {
          "output_type": "stream",
          "name": "stderr",
          "text": [
            "\n",
            "10it [00:00, 106.25it/s]\n",
            "  4%|▎         | 40/1132 [00:05<02:43,  6.68it/s]"
          ]
        },
        {
          "output_type": "stream",
          "name": "stdout",
          "text": [
            "Question_171_character_qa_close.pt\n"
          ]
        },
        {
          "output_type": "stream",
          "name": "stderr",
          "text": [
            "\n",
            "10it [00:00, 121.01it/s]\n",
            "  4%|▎         | 41/1132 [00:06<02:38,  6.89it/s]"
          ]
        },
        {
          "output_type": "stream",
          "name": "stdout",
          "text": [
            "Question_172_character_qa_close.pt\n"
          ]
        },
        {
          "output_type": "stream",
          "name": "stderr",
          "text": [
            "\n",
            "10it [00:00, 101.91it/s]\n",
            "  4%|▎         | 42/1132 [00:06<02:40,  6.77it/s]"
          ]
        },
        {
          "output_type": "stream",
          "name": "stdout",
          "text": [
            "Question_174_character_qa_close.pt\n"
          ]
        },
        {
          "output_type": "stream",
          "name": "stderr",
          "text": [
            "\n",
            "10it [00:00, 122.47it/s]\n",
            "  4%|▍         | 43/1132 [00:06<03:00,  6.04it/s]"
          ]
        },
        {
          "output_type": "stream",
          "name": "stdout",
          "text": [
            "Question_173_character_qa_close.pt\n"
          ]
        },
        {
          "output_type": "stream",
          "name": "stderr",
          "text": [
            "\n",
            "10it [00:00, 119.89it/s]\n",
            "  4%|▍         | 44/1132 [00:06<02:50,  6.38it/s]"
          ]
        },
        {
          "output_type": "stream",
          "name": "stdout",
          "text": [
            "Question_175_character_qa_close.pt\n"
          ]
        },
        {
          "output_type": "stream",
          "name": "stderr",
          "text": [
            "\n",
            "10it [00:00, 112.19it/s]\n",
            "  4%|▍         | 45/1132 [00:06<02:45,  6.57it/s]"
          ]
        },
        {
          "output_type": "stream",
          "name": "stdout",
          "text": [
            "Question_176_character_qa_close.pt\n"
          ]
        },
        {
          "output_type": "stream",
          "name": "stderr",
          "text": [
            "\n",
            "10it [00:00, 121.75it/s]\n",
            "  4%|▍         | 46/1132 [00:06<02:38,  6.86it/s]"
          ]
        },
        {
          "output_type": "stream",
          "name": "stdout",
          "text": [
            "Question_177_character_qa_close.pt\n"
          ]
        },
        {
          "output_type": "stream",
          "name": "stderr",
          "text": [
            "\n",
            "10it [00:00, 103.92it/s]\n",
            "  4%|▍         | 47/1132 [00:07<02:38,  6.83it/s]"
          ]
        },
        {
          "output_type": "stream",
          "name": "stdout",
          "text": [
            "Question_178_character_qa_close.pt\n"
          ]
        },
        {
          "output_type": "stream",
          "name": "stderr",
          "text": [
            "\n",
            "10it [00:00, 118.46it/s]\n",
            "  4%|▍         | 48/1132 [00:07<02:34,  7.02it/s]"
          ]
        },
        {
          "output_type": "stream",
          "name": "stdout",
          "text": [
            "Question_179_character_qa_close.pt\n"
          ]
        },
        {
          "output_type": "stream",
          "name": "stderr",
          "text": [
            "\n",
            "10it [00:00, 116.19it/s]\n",
            "  4%|▍         | 49/1132 [00:07<02:54,  6.19it/s]"
          ]
        },
        {
          "output_type": "stream",
          "name": "stdout",
          "text": [
            "Question_180_character_qa_close.pt\n"
          ]
        },
        {
          "output_type": "stream",
          "name": "stderr",
          "text": [
            "\n",
            "10it [00:00, 112.58it/s]\n",
            "  4%|▍         | 50/1132 [00:07<02:47,  6.46it/s]"
          ]
        },
        {
          "output_type": "stream",
          "name": "stdout",
          "text": [
            "Question_181_character_qa_open.pt\n"
          ]
        },
        {
          "output_type": "stream",
          "name": "stderr",
          "text": [
            "\n",
            "10it [00:00, 122.25it/s]\n",
            "  5%|▍         | 51/1132 [00:07<02:39,  6.77it/s]"
          ]
        },
        {
          "output_type": "stream",
          "name": "stdout",
          "text": [
            "Question_182_character_qa_open.pt\n"
          ]
        },
        {
          "output_type": "stream",
          "name": "stderr",
          "text": [
            "\n",
            "10it [00:00, 113.97it/s]\n",
            "  5%|▍         | 52/1132 [00:07<02:37,  6.84it/s]"
          ]
        },
        {
          "output_type": "stream",
          "name": "stdout",
          "text": [
            "Question_183_character_qa_open.pt\n"
          ]
        },
        {
          "output_type": "stream",
          "name": "stderr",
          "text": [
            "\n",
            "10it [00:00, 123.72it/s]\n",
            "  5%|▍         | 53/1132 [00:07<02:33,  7.04it/s]"
          ]
        },
        {
          "output_type": "stream",
          "name": "stdout",
          "text": [
            "Question_184_character_qa_open.pt\n"
          ]
        },
        {
          "output_type": "stream",
          "name": "stderr",
          "text": [
            "\n",
            "10it [00:00, 115.20it/s]\n",
            "  5%|▍         | 54/1132 [00:08<02:31,  7.11it/s]"
          ]
        },
        {
          "output_type": "stream",
          "name": "stdout",
          "text": [
            "Question_185_character_qa_open.pt\n"
          ]
        },
        {
          "output_type": "stream",
          "name": "stderr",
          "text": [
            "\n",
            "10it [00:00, 117.34it/s]\n",
            "  5%|▍         | 55/1132 [00:08<02:50,  6.32it/s]"
          ]
        },
        {
          "output_type": "stream",
          "name": "stdout",
          "text": [
            "Question_186_character_qa_open.pt\n"
          ]
        },
        {
          "output_type": "stream",
          "name": "stderr",
          "text": [
            "\n",
            "10it [00:00, 116.45it/s]\n",
            "  5%|▍         | 56/1132 [00:08<02:43,  6.60it/s]"
          ]
        },
        {
          "output_type": "stream",
          "name": "stdout",
          "text": [
            "Question_187_character_qa_open.pt\n"
          ]
        },
        {
          "output_type": "stream",
          "name": "stderr",
          "text": [
            "\n",
            "10it [00:00, 110.71it/s]\n",
            "  5%|▌         | 57/1132 [00:08<02:41,  6.68it/s]"
          ]
        },
        {
          "output_type": "stream",
          "name": "stdout",
          "text": [
            "Question_188_character_qa_open.pt\n"
          ]
        },
        {
          "output_type": "stream",
          "name": "stderr",
          "text": [
            "\n",
            "10it [00:00, 118.78it/s]\n",
            "  5%|▌         | 58/1132 [00:08<02:35,  6.89it/s]"
          ]
        },
        {
          "output_type": "stream",
          "name": "stdout",
          "text": [
            "Question_189_character_qa_open.pt\n"
          ]
        },
        {
          "output_type": "stream",
          "name": "stderr",
          "text": [
            "\n",
            "10it [00:00, 108.13it/s]\n",
            "  5%|▌         | 59/1132 [00:08<02:36,  6.86it/s]"
          ]
        },
        {
          "output_type": "stream",
          "name": "stdout",
          "text": [
            "Question_190_character_qa_open.pt\n"
          ]
        },
        {
          "output_type": "stream",
          "name": "stderr",
          "text": [
            "\n",
            "10it [00:00, 121.25it/s]\n",
            "  5%|▌         | 60/1132 [00:08<02:32,  7.02it/s]"
          ]
        },
        {
          "output_type": "stream",
          "name": "stdout",
          "text": [
            "Question_191_character_qa_open.pt\n"
          ]
        },
        {
          "output_type": "stream",
          "name": "stderr",
          "text": [
            "\n",
            "10it [00:00, 117.21it/s]\n",
            "  5%|▌         | 61/1132 [00:09<02:53,  6.17it/s]"
          ]
        },
        {
          "output_type": "stream",
          "name": "stdout",
          "text": [
            "Question_193_character_qa_open.pt\n"
          ]
        },
        {
          "output_type": "stream",
          "name": "stderr",
          "text": [
            "\n",
            "10it [00:00, 119.84it/s]\n",
            "  5%|▌         | 62/1132 [00:12<19:18,  1.08s/it]"
          ]
        },
        {
          "output_type": "stream",
          "name": "stdout",
          "text": [
            "Question_192_character_qa_open.pt\n"
          ]
        },
        {
          "output_type": "stream",
          "name": "stderr",
          "text": [
            "\n",
            "10it [00:00, 115.19it/s]\n",
            "  6%|▌         | 63/1132 [00:12<14:16,  1.25it/s]"
          ]
        },
        {
          "output_type": "stream",
          "name": "stdout",
          "text": [
            "Question_194_character_qa_open.pt\n"
          ]
        },
        {
          "output_type": "stream",
          "name": "stderr",
          "text": [
            "\n",
            "10it [00:00, 122.78it/s]\n",
            "  6%|▌         | 64/1132 [00:12<10:41,  1.67it/s]"
          ]
        },
        {
          "output_type": "stream",
          "name": "stdout",
          "text": [
            "Question_195_character_qa_open.pt\n"
          ]
        },
        {
          "output_type": "stream",
          "name": "stderr",
          "text": [
            "\n",
            "10it [00:00, 112.57it/s]\n",
            "  6%|▌         | 65/1132 [00:12<08:12,  2.17it/s]"
          ]
        },
        {
          "output_type": "stream",
          "name": "stdout",
          "text": [
            "Question_196_character_qa_open.pt\n"
          ]
        },
        {
          "output_type": "stream",
          "name": "stderr",
          "text": [
            "\n",
            "10it [00:00, 117.33it/s]\n",
            "  6%|▌         | 66/1132 [00:12<06:29,  2.73it/s]"
          ]
        },
        {
          "output_type": "stream",
          "name": "stdout",
          "text": [
            "Question_197_character_qa_open.pt\n"
          ]
        },
        {
          "output_type": "stream",
          "name": "stderr",
          "text": [
            "\n",
            "10it [00:00, 115.97it/s]\n",
            "  6%|▌         | 67/1132 [00:13<05:36,  3.16it/s]"
          ]
        },
        {
          "output_type": "stream",
          "name": "stdout",
          "text": [
            "Question_198_character_qa_open.pt\n"
          ]
        },
        {
          "output_type": "stream",
          "name": "stderr",
          "text": [
            "\n",
            "10it [00:00, 121.15it/s]\n",
            "  6%|▌         | 68/1132 [00:13<04:38,  3.82it/s]"
          ]
        },
        {
          "output_type": "stream",
          "name": "stdout",
          "text": [
            "Question_199_character_qa_open.pt\n"
          ]
        },
        {
          "output_type": "stream",
          "name": "stderr",
          "text": [
            "\n",
            "10it [00:00, 119.65it/s]\n",
            "  6%|▌         | 69/1132 [00:13<03:57,  4.48it/s]"
          ]
        },
        {
          "output_type": "stream",
          "name": "stdout",
          "text": [
            "Question_200_character_qa_open.pt\n"
          ]
        },
        {
          "output_type": "stream",
          "name": "stderr",
          "text": [
            "\n",
            "10it [00:00, 110.19it/s]\n",
            "  6%|▌         | 70/1132 [00:13<03:30,  5.04it/s]"
          ]
        },
        {
          "output_type": "stream",
          "name": "stdout",
          "text": [
            "Question_201_character_qa_open.pt\n"
          ]
        },
        {
          "output_type": "stream",
          "name": "stderr",
          "text": [
            "\n",
            "10it [00:00, 116.29it/s]\n",
            "  6%|▋         | 71/1132 [00:13<03:11,  5.54it/s]"
          ]
        },
        {
          "output_type": "stream",
          "name": "stdout",
          "text": [
            "Question_202_character_qa_open.pt\n"
          ]
        },
        {
          "output_type": "stream",
          "name": "stderr",
          "text": [
            "\n",
            "10it [00:00, 111.88it/s]\n",
            "  6%|▋         | 72/1132 [00:13<02:57,  5.97it/s]"
          ]
        },
        {
          "output_type": "stream",
          "name": "stdout",
          "text": [
            "Question_203_character_qa_open.pt\n"
          ]
        },
        {
          "output_type": "stream",
          "name": "stderr",
          "text": [
            "\n",
            "10it [00:00, 117.61it/s]\n",
            "  6%|▋         | 73/1132 [00:14<03:07,  5.66it/s]"
          ]
        },
        {
          "output_type": "stream",
          "name": "stdout",
          "text": [
            "Question_204_character_qa_open.pt\n"
          ]
        },
        {
          "output_type": "stream",
          "name": "stderr",
          "text": [
            "\n",
            "10it [00:00, 119.26it/s]\n",
            "  7%|▋         | 74/1132 [00:14<02:53,  6.08it/s]"
          ]
        },
        {
          "output_type": "stream",
          "name": "stdout",
          "text": [
            "Question_205_character_qa_open.pt\n"
          ]
        },
        {
          "output_type": "stream",
          "name": "stderr",
          "text": [
            "\n",
            "10it [00:00, 108.87it/s]\n",
            "  7%|▋         | 75/1132 [00:14<02:46,  6.36it/s]"
          ]
        },
        {
          "output_type": "stream",
          "name": "stdout",
          "text": [
            "Question_206_character_qa_open.pt\n"
          ]
        },
        {
          "output_type": "stream",
          "name": "stderr",
          "text": [
            "\n",
            "10it [00:00, 111.65it/s]\n",
            "  7%|▋         | 76/1132 [00:14<02:39,  6.61it/s]"
          ]
        },
        {
          "output_type": "stream",
          "name": "stdout",
          "text": [
            "Question_207_character_qa_open.pt\n"
          ]
        },
        {
          "output_type": "stream",
          "name": "stderr",
          "text": [
            "\n",
            "10it [00:00, 111.35it/s]\n",
            "  7%|▋         | 77/1132 [00:14<02:36,  6.76it/s]"
          ]
        },
        {
          "output_type": "stream",
          "name": "stdout",
          "text": [
            "Question_208_character_qa_open.pt\n"
          ]
        },
        {
          "output_type": "stream",
          "name": "stderr",
          "text": [
            "\n",
            "10it [00:00, 120.13it/s]\n",
            "  7%|▋         | 78/1132 [00:14<02:30,  7.00it/s]"
          ]
        },
        {
          "output_type": "stream",
          "name": "stdout",
          "text": [
            "Question_209_character_qa_open.pt\n"
          ]
        },
        {
          "output_type": "stream",
          "name": "stderr",
          "text": [
            "\n",
            "10it [00:00, 118.31it/s]\n",
            "  7%|▋         | 79/1132 [00:14<02:49,  6.22it/s]"
          ]
        },
        {
          "output_type": "stream",
          "name": "stdout",
          "text": [
            "Question_210_character_qa_open.pt\n"
          ]
        },
        {
          "output_type": "stream",
          "name": "stderr",
          "text": [
            "\n",
            "10it [00:00, 121.74it/s]\n",
            "  7%|▋         | 80/1132 [00:15<02:40,  6.55it/s]"
          ]
        },
        {
          "output_type": "stream",
          "name": "stdout",
          "text": [
            "Question_211_character_qa_open.pt\n"
          ]
        },
        {
          "output_type": "stream",
          "name": "stderr",
          "text": [
            "\n",
            "10it [00:00, 120.40it/s]\n",
            "  7%|▋         | 81/1132 [00:15<02:33,  6.84it/s]"
          ]
        },
        {
          "output_type": "stream",
          "name": "stdout",
          "text": [
            "Question_212_character_qa_close.pt\n"
          ]
        },
        {
          "output_type": "stream",
          "name": "stderr",
          "text": [
            "\n",
            "10it [00:00, 114.26it/s]\n",
            "  7%|▋         | 82/1132 [00:15<02:31,  6.95it/s]"
          ]
        },
        {
          "output_type": "stream",
          "name": "stdout",
          "text": [
            "Question_213_character_qa_close.pt\n"
          ]
        },
        {
          "output_type": "stream",
          "name": "stderr",
          "text": [
            "\n",
            "10it [00:00, 118.60it/s]\n",
            "  7%|▋         | 83/1132 [00:15<02:27,  7.10it/s]"
          ]
        },
        {
          "output_type": "stream",
          "name": "stdout",
          "text": [
            "Question_214_character_qa_close.pt\n"
          ]
        },
        {
          "output_type": "stream",
          "name": "stderr",
          "text": [
            "\n",
            "10it [00:00, 105.85it/s]\n",
            "  7%|▋         | 84/1132 [00:15<02:30,  6.97it/s]"
          ]
        },
        {
          "output_type": "stream",
          "name": "stdout",
          "text": [
            "Question_215_character_qa_close.pt\n"
          ]
        },
        {
          "output_type": "stream",
          "name": "stderr",
          "text": [
            "\n",
            "10it [00:00, 122.67it/s]\n",
            "  8%|▊         | 85/1132 [00:15<02:47,  6.25it/s]"
          ]
        },
        {
          "output_type": "stream",
          "name": "stdout",
          "text": [
            "Question_216_character_qa_close.pt\n"
          ]
        },
        {
          "output_type": "stream",
          "name": "stderr",
          "text": [
            "\n",
            "10it [00:00, 118.58it/s]\n",
            "  8%|▊         | 86/1132 [00:15<02:42,  6.43it/s]"
          ]
        },
        {
          "output_type": "stream",
          "name": "stdout",
          "text": [
            "Question_217_character_qa_close.pt\n"
          ]
        },
        {
          "output_type": "stream",
          "name": "stderr",
          "text": [
            "\n",
            "10it [00:00, 111.63it/s]\n",
            "  8%|▊         | 87/1132 [00:16<02:37,  6.62it/s]"
          ]
        },
        {
          "output_type": "stream",
          "name": "stdout",
          "text": [
            "Question_218_character_qa_close.pt\n"
          ]
        },
        {
          "output_type": "stream",
          "name": "stderr",
          "text": [
            "\n",
            "10it [00:00, 117.88it/s]\n",
            "  8%|▊         | 88/1132 [00:16<02:33,  6.82it/s]"
          ]
        },
        {
          "output_type": "stream",
          "name": "stdout",
          "text": [
            "Question_219_character_qa_close.pt\n"
          ]
        },
        {
          "output_type": "stream",
          "name": "stderr",
          "text": [
            "\n",
            "10it [00:00, 109.74it/s]\n",
            "  8%|▊         | 89/1132 [00:16<02:31,  6.88it/s]"
          ]
        },
        {
          "output_type": "stream",
          "name": "stdout",
          "text": [
            "Question_220_character_qa_close.pt\n"
          ]
        },
        {
          "output_type": "stream",
          "name": "stderr",
          "text": [
            "\n",
            "10it [00:00, 116.10it/s]\n",
            "  8%|▊         | 90/1132 [00:16<02:29,  6.97it/s]"
          ]
        },
        {
          "output_type": "stream",
          "name": "stdout",
          "text": [
            "Question_221_character_qa_close.pt\n"
          ]
        },
        {
          "output_type": "stream",
          "name": "stderr",
          "text": [
            "\n",
            "10it [00:00, 117.17it/s]\n",
            "  8%|▊         | 91/1132 [00:16<02:50,  6.11it/s]"
          ]
        },
        {
          "output_type": "stream",
          "name": "stdout",
          "text": [
            "Question_222_character_qa_close.pt\n"
          ]
        },
        {
          "output_type": "stream",
          "name": "stderr",
          "text": [
            "\n",
            "10it [00:00, 118.40it/s]\n",
            "  8%|▊         | 92/1132 [00:16<02:40,  6.48it/s]"
          ]
        },
        {
          "output_type": "stream",
          "name": "stdout",
          "text": [
            "Question_223_character_qa_close.pt\n"
          ]
        },
        {
          "output_type": "stream",
          "name": "stderr",
          "text": [
            "\n",
            "10it [00:00, 120.30it/s]\n",
            "  8%|▊         | 93/1132 [00:16<02:35,  6.67it/s]"
          ]
        },
        {
          "output_type": "stream",
          "name": "stdout",
          "text": [
            "Question_224_character_qa_close.pt\n"
          ]
        },
        {
          "output_type": "stream",
          "name": "stderr",
          "text": [
            "\n",
            "10it [00:00, 112.45it/s]\n",
            "  8%|▊         | 94/1132 [00:17<02:33,  6.78it/s]"
          ]
        },
        {
          "output_type": "stream",
          "name": "stdout",
          "text": [
            "Question_225_character_qa_close.pt\n"
          ]
        },
        {
          "output_type": "stream",
          "name": "stderr",
          "text": [
            "\n",
            "10it [00:00, 119.36it/s]\n",
            "  8%|▊         | 95/1132 [00:17<02:31,  6.85it/s]"
          ]
        },
        {
          "output_type": "stream",
          "name": "stdout",
          "text": [
            "Question_226_character_qa_close.pt\n"
          ]
        },
        {
          "output_type": "stream",
          "name": "stderr",
          "text": [
            "\n",
            "10it [00:00, 110.32it/s]\n",
            "  8%|▊         | 96/1132 [00:17<02:29,  6.91it/s]"
          ]
        },
        {
          "output_type": "stream",
          "name": "stdout",
          "text": [
            "Question_227_character_qa_close.pt\n"
          ]
        },
        {
          "output_type": "stream",
          "name": "stderr",
          "text": [
            "\n",
            "10it [00:00, 118.87it/s]\n",
            "  9%|▊         | 97/1132 [00:17<02:47,  6.19it/s]"
          ]
        },
        {
          "output_type": "stream",
          "name": "stdout",
          "text": [
            "Question_228_character_qa_close.pt\n"
          ]
        },
        {
          "output_type": "stream",
          "name": "stderr",
          "text": [
            "\n",
            "10it [00:00, 120.51it/s]\n",
            "  9%|▊         | 98/1132 [00:17<02:40,  6.44it/s]"
          ]
        },
        {
          "output_type": "stream",
          "name": "stdout",
          "text": [
            "Question_229_character_qa_close.pt\n"
          ]
        },
        {
          "output_type": "stream",
          "name": "stderr",
          "text": [
            "\n",
            "10it [00:00, 104.27it/s]\n",
            "  9%|▊         | 99/1132 [00:17<02:37,  6.54it/s]"
          ]
        },
        {
          "output_type": "stream",
          "name": "stdout",
          "text": [
            "Question_230_character_qa_close.pt\n"
          ]
        },
        {
          "output_type": "stream",
          "name": "stderr",
          "text": [
            "\n",
            "10it [00:00, 118.73it/s]\n",
            "  9%|▉         | 100/1132 [00:18<02:33,  6.73it/s]"
          ]
        },
        {
          "output_type": "stream",
          "name": "stdout",
          "text": [
            "Question_231_character_qa_close.pt\n"
          ]
        },
        {
          "output_type": "stream",
          "name": "stderr",
          "text": [
            "\n",
            "10it [00:00, 109.27it/s]\n",
            "  9%|▉         | 101/1132 [00:18<02:32,  6.77it/s]"
          ]
        },
        {
          "output_type": "stream",
          "name": "stdout",
          "text": [
            "Question_232_character_qa_close.pt\n"
          ]
        },
        {
          "output_type": "stream",
          "name": "stderr",
          "text": [
            "\n",
            "10it [00:00, 119.05it/s]\n",
            "  9%|▉         | 102/1132 [00:18<02:28,  6.95it/s]"
          ]
        },
        {
          "output_type": "stream",
          "name": "stdout",
          "text": [
            "Question_233_character_qa_close.pt\n"
          ]
        },
        {
          "output_type": "stream",
          "name": "stderr",
          "text": [
            "\n",
            "10it [00:00, 116.62it/s]\n",
            "  9%|▉         | 103/1132 [00:18<02:48,  6.12it/s]"
          ]
        },
        {
          "output_type": "stream",
          "name": "stdout",
          "text": [
            "Question_234_character_qa_close.pt\n"
          ]
        },
        {
          "output_type": "stream",
          "name": "stderr",
          "text": [
            "\n",
            "10it [00:00, 112.94it/s]\n",
            "  9%|▉         | 104/1132 [00:18<02:40,  6.41it/s]"
          ]
        },
        {
          "output_type": "stream",
          "name": "stdout",
          "text": [
            "Question_235_character_qa_close.pt\n"
          ]
        },
        {
          "output_type": "stream",
          "name": "stderr",
          "text": [
            "\n",
            "10it [00:00, 119.50it/s]\n",
            "  9%|▉         | 105/1132 [00:18<02:34,  6.66it/s]"
          ]
        },
        {
          "output_type": "stream",
          "name": "stdout",
          "text": [
            "Question_237_character_qa_close.pt\n"
          ]
        },
        {
          "output_type": "stream",
          "name": "stderr",
          "text": [
            "\n",
            "10it [00:00, 104.88it/s]\n",
            "  9%|▉         | 106/1132 [00:18<02:33,  6.70it/s]"
          ]
        },
        {
          "output_type": "stream",
          "name": "stdout",
          "text": [
            "Question_236_character_qa_close.pt\n"
          ]
        },
        {
          "output_type": "stream",
          "name": "stderr",
          "text": [
            "\n",
            "10it [00:00, 120.07it/s]\n",
            "  9%|▉         | 107/1132 [00:19<02:28,  6.89it/s]"
          ]
        },
        {
          "output_type": "stream",
          "name": "stdout",
          "text": [
            "Question_238_character_qa_close.pt\n"
          ]
        },
        {
          "output_type": "stream",
          "name": "stderr",
          "text": [
            "\n",
            "10it [00:00, 110.28it/s]\n",
            " 10%|▉         | 108/1132 [00:19<02:27,  6.94it/s]"
          ]
        },
        {
          "output_type": "stream",
          "name": "stdout",
          "text": [
            "Question_239_character_qa_close.pt\n"
          ]
        },
        {
          "output_type": "stream",
          "name": "stderr",
          "text": [
            "\n",
            "10it [00:00, 117.42it/s]\n",
            " 10%|▉         | 109/1132 [00:19<02:47,  6.11it/s]"
          ]
        },
        {
          "output_type": "stream",
          "name": "stdout",
          "text": [
            "Question_240_character_qa_close.pt\n"
          ]
        },
        {
          "output_type": "stream",
          "name": "stderr",
          "text": [
            "\n",
            "10it [00:00, 119.99it/s]\n",
            " 10%|▉         | 110/1132 [00:19<02:40,  6.36it/s]"
          ]
        },
        {
          "output_type": "stream",
          "name": "stdout",
          "text": [
            "Question_241_character_qa_open.pt\n"
          ]
        },
        {
          "output_type": "stream",
          "name": "stderr",
          "text": [
            "\n",
            "10it [00:00, 109.06it/s]\n",
            " 10%|▉         | 111/1132 [00:19<02:38,  6.46it/s]"
          ]
        },
        {
          "output_type": "stream",
          "name": "stdout",
          "text": [
            "Question_242_character_qa_open.pt\n"
          ]
        },
        {
          "output_type": "stream",
          "name": "stderr",
          "text": [
            "\n",
            "10it [00:00, 120.30it/s]\n",
            " 10%|▉         | 112/1132 [00:19<02:30,  6.76it/s]"
          ]
        },
        {
          "output_type": "stream",
          "name": "stdout",
          "text": [
            "Question_243_character_qa_open.pt\n"
          ]
        },
        {
          "output_type": "stream",
          "name": "stderr",
          "text": [
            "\n",
            "10it [00:00, 105.69it/s]\n",
            " 10%|▉         | 113/1132 [00:19<02:29,  6.82it/s]"
          ]
        },
        {
          "output_type": "stream",
          "name": "stdout",
          "text": [
            "Question_244_character_qa_open.pt\n"
          ]
        },
        {
          "output_type": "stream",
          "name": "stderr",
          "text": [
            "\n",
            "10it [00:00, 121.93it/s]\n",
            " 10%|█         | 114/1132 [00:20<02:24,  7.02it/s]"
          ]
        },
        {
          "output_type": "stream",
          "name": "stdout",
          "text": [
            "Question_245_character_qa_open.pt\n"
          ]
        },
        {
          "output_type": "stream",
          "name": "stderr",
          "text": [
            "\n",
            "10it [00:00, 115.89it/s]\n",
            " 10%|█         | 115/1132 [00:20<02:44,  6.17it/s]"
          ]
        },
        {
          "output_type": "stream",
          "name": "stdout",
          "text": [
            "Question_246_character_qa_open.pt\n"
          ]
        },
        {
          "output_type": "stream",
          "name": "stderr",
          "text": [
            "\n",
            "10it [00:00, 111.06it/s]\n",
            " 10%|█         | 116/1132 [00:20<02:40,  6.31it/s]"
          ]
        },
        {
          "output_type": "stream",
          "name": "stdout",
          "text": [
            "Question_247_character_qa_open.pt\n"
          ]
        },
        {
          "output_type": "stream",
          "name": "stderr",
          "text": [
            "\n",
            "10it [00:00, 120.42it/s]\n",
            " 10%|█         | 117/1132 [00:20<02:33,  6.63it/s]"
          ]
        },
        {
          "output_type": "stream",
          "name": "stdout",
          "text": [
            "Question_249_character_qa_open.pt\n"
          ]
        },
        {
          "output_type": "stream",
          "name": "stderr",
          "text": [
            "\n",
            "10it [00:00, 113.13it/s]\n",
            " 10%|█         | 118/1132 [00:20<02:29,  6.78it/s]"
          ]
        },
        {
          "output_type": "stream",
          "name": "stdout",
          "text": [
            "Question_248_character_qa_open.pt\n"
          ]
        },
        {
          "output_type": "stream",
          "name": "stderr",
          "text": [
            "\n",
            "10it [00:00, 119.59it/s]\n",
            " 11%|█         | 119/1132 [00:20<02:27,  6.88it/s]"
          ]
        },
        {
          "output_type": "stream",
          "name": "stdout",
          "text": [
            "Question_250_character_qa_open.pt\n"
          ]
        },
        {
          "output_type": "stream",
          "name": "stderr",
          "text": [
            "\n",
            "10it [00:00, 109.65it/s]\n",
            " 11%|█         | 120/1132 [00:21<02:27,  6.88it/s]"
          ]
        },
        {
          "output_type": "stream",
          "name": "stdout",
          "text": [
            "Question_251_character_qa_open.pt\n"
          ]
        },
        {
          "output_type": "stream",
          "name": "stderr",
          "text": [
            "\n",
            "10it [00:00, 119.42it/s]\n",
            " 11%|█         | 121/1132 [00:21<02:42,  6.23it/s]"
          ]
        },
        {
          "output_type": "stream",
          "name": "stdout",
          "text": [
            "Question_253_character_qa_open.pt\n"
          ]
        },
        {
          "output_type": "stream",
          "name": "stderr",
          "text": [
            "\n",
            "10it [00:00, 118.81it/s]\n",
            " 11%|█         | 122/1132 [00:21<02:33,  6.56it/s]"
          ]
        },
        {
          "output_type": "stream",
          "name": "stdout",
          "text": [
            "Question_252_character_qa_open.pt\n"
          ]
        },
        {
          "output_type": "stream",
          "name": "stderr",
          "text": [
            "\n",
            "10it [00:00, 114.16it/s]\n",
            " 11%|█         | 123/1132 [00:21<02:30,  6.71it/s]"
          ]
        },
        {
          "output_type": "stream",
          "name": "stdout",
          "text": [
            "Question_254_character_qa_open.pt\n"
          ]
        },
        {
          "output_type": "stream",
          "name": "stderr",
          "text": [
            "\n",
            "10it [00:00, 120.07it/s]\n",
            " 11%|█         | 124/1132 [00:21<02:26,  6.89it/s]"
          ]
        },
        {
          "output_type": "stream",
          "name": "stdout",
          "text": [
            "Question_255_character_qa_open.pt\n"
          ]
        },
        {
          "output_type": "stream",
          "name": "stderr",
          "text": [
            "\n",
            "10it [00:00, 110.86it/s]\n",
            " 11%|█         | 125/1132 [00:21<02:24,  6.96it/s]"
          ]
        },
        {
          "output_type": "stream",
          "name": "stdout",
          "text": [
            "Question_256_character_qa_open.pt\n"
          ]
        },
        {
          "output_type": "stream",
          "name": "stderr",
          "text": [
            "\n",
            "10it [00:00, 120.82it/s]\n",
            " 11%|█         | 126/1132 [00:21<02:21,  7.11it/s]"
          ]
        },
        {
          "output_type": "stream",
          "name": "stdout",
          "text": [
            "Question_257_character_qa_open.pt\n"
          ]
        },
        {
          "output_type": "stream",
          "name": "stderr",
          "text": [
            "\n",
            "10it [00:00, 118.00it/s]\n",
            " 11%|█         | 127/1132 [00:22<02:46,  6.05it/s]"
          ]
        },
        {
          "output_type": "stream",
          "name": "stdout",
          "text": [
            "Question_258_character_qa_open.pt\n"
          ]
        },
        {
          "output_type": "stream",
          "name": "stderr",
          "text": [
            "\n",
            "10it [00:00, 118.94it/s]\n",
            " 11%|█▏        | 128/1132 [00:22<02:39,  6.30it/s]"
          ]
        },
        {
          "output_type": "stream",
          "name": "stdout",
          "text": [
            "Question_260_character_qa_open.pt\n"
          ]
        },
        {
          "output_type": "stream",
          "name": "stderr",
          "text": [
            "\n",
            "10it [00:00, 117.26it/s]\n",
            " 11%|█▏        | 129/1132 [00:22<02:32,  6.57it/s]"
          ]
        },
        {
          "output_type": "stream",
          "name": "stdout",
          "text": [
            "Question_259_character_qa_open.pt\n"
          ]
        },
        {
          "output_type": "stream",
          "name": "stderr",
          "text": [
            "\n",
            "10it [00:00, 111.72it/s]\n",
            " 11%|█▏        | 130/1132 [00:22<02:29,  6.68it/s]"
          ]
        },
        {
          "output_type": "stream",
          "name": "stdout",
          "text": [
            "Question_261_character_qa_open.pt\n"
          ]
        },
        {
          "output_type": "stream",
          "name": "stderr",
          "text": [
            "\n",
            "10it [00:00, 117.80it/s]\n",
            " 12%|█▏        | 131/1132 [00:22<02:26,  6.85it/s]"
          ]
        },
        {
          "output_type": "stream",
          "name": "stdout",
          "text": [
            "Question_262_character_qa_open.pt\n"
          ]
        },
        {
          "output_type": "stream",
          "name": "stderr",
          "text": [
            "\n",
            "10it [00:00, 112.60it/s]\n",
            " 12%|█▏        | 132/1132 [00:22<02:26,  6.84it/s]"
          ]
        },
        {
          "output_type": "stream",
          "name": "stdout",
          "text": [
            "Question_263_character_qa_open.pt\n"
          ]
        },
        {
          "output_type": "stream",
          "name": "stderr",
          "text": [
            "\n",
            "10it [00:00, 113.00it/s]\n",
            " 12%|█▏        | 133/1132 [00:23<02:42,  6.14it/s]"
          ]
        },
        {
          "output_type": "stream",
          "name": "stdout",
          "text": [
            "Question_264_character_qa_open.pt\n"
          ]
        },
        {
          "output_type": "stream",
          "name": "stderr",
          "text": [
            "\n",
            "10it [00:00, 119.86it/s]\n",
            " 12%|█▏        | 134/1132 [00:23<02:33,  6.49it/s]"
          ]
        },
        {
          "output_type": "stream",
          "name": "stdout",
          "text": [
            "Question_265_character_qa_open.pt\n"
          ]
        },
        {
          "output_type": "stream",
          "name": "stderr",
          "text": [
            "\n",
            "10it [00:00, 108.36it/s]\n",
            " 12%|█▏        | 135/1132 [00:23<02:30,  6.64it/s]"
          ]
        },
        {
          "output_type": "stream",
          "name": "stdout",
          "text": [
            "Question_267_character_qa_open.pt\n"
          ]
        },
        {
          "output_type": "stream",
          "name": "stderr",
          "text": [
            "\n",
            "10it [00:00, 119.43it/s]\n",
            " 12%|█▏        | 136/1132 [00:23<02:24,  6.88it/s]"
          ]
        },
        {
          "output_type": "stream",
          "name": "stdout",
          "text": [
            "Question_266_character_qa_open.pt\n"
          ]
        },
        {
          "output_type": "stream",
          "name": "stderr",
          "text": [
            "\n",
            "10it [00:00, 109.92it/s]\n",
            " 12%|█▏        | 137/1132 [00:23<02:23,  6.92it/s]"
          ]
        },
        {
          "output_type": "stream",
          "name": "stdout",
          "text": [
            "Question_268_character_qa_open.pt\n"
          ]
        },
        {
          "output_type": "stream",
          "name": "stderr",
          "text": [
            "\n",
            "10it [00:00, 122.87it/s]\n",
            " 12%|█▏        | 138/1132 [00:23<02:23,  6.93it/s]"
          ]
        },
        {
          "output_type": "stream",
          "name": "stdout",
          "text": [
            "Question_269_character_qa_open.pt\n"
          ]
        },
        {
          "output_type": "stream",
          "name": "stderr",
          "text": [
            "\n",
            "10it [00:00, 116.27it/s]\n",
            " 12%|█▏        | 139/1132 [00:23<02:41,  6.14it/s]"
          ]
        },
        {
          "output_type": "stream",
          "name": "stdout",
          "text": [
            "Question_270_character_qa_open.pt\n"
          ]
        },
        {
          "output_type": "stream",
          "name": "stderr",
          "text": [
            "\n",
            "10it [00:00, 114.77it/s]\n",
            " 12%|█▏        | 140/1132 [00:24<02:33,  6.44it/s]"
          ]
        },
        {
          "output_type": "stream",
          "name": "stdout",
          "text": [
            "Question_272_character_qa_close.pt\n"
          ]
        },
        {
          "output_type": "stream",
          "name": "stderr",
          "text": [
            "\n",
            "10it [00:00, 116.06it/s]\n",
            " 12%|█▏        | 141/1132 [00:24<02:28,  6.68it/s]"
          ]
        },
        {
          "output_type": "stream",
          "name": "stdout",
          "text": [
            "Question_271_character_qa_open.pt\n"
          ]
        },
        {
          "output_type": "stream",
          "name": "stderr",
          "text": [
            "\n",
            "10it [00:00, 114.01it/s]\n",
            " 13%|█▎        | 142/1132 [00:24<02:24,  6.85it/s]"
          ]
        },
        {
          "output_type": "stream",
          "name": "stdout",
          "text": [
            "Question_273_character_qa_close.pt\n"
          ]
        },
        {
          "output_type": "stream",
          "name": "stderr",
          "text": [
            "\n",
            "10it [00:00, 119.22it/s]\n",
            " 13%|█▎        | 143/1132 [00:24<02:20,  7.05it/s]"
          ]
        },
        {
          "output_type": "stream",
          "name": "stdout",
          "text": [
            "Question_274_character_qa_close.pt\n"
          ]
        },
        {
          "output_type": "stream",
          "name": "stderr",
          "text": [
            "\n",
            "10it [00:00, 110.90it/s]\n",
            " 13%|█▎        | 144/1132 [00:24<02:19,  7.06it/s]"
          ]
        },
        {
          "output_type": "stream",
          "name": "stdout",
          "text": [
            "Question_275_character_qa_close.pt\n"
          ]
        },
        {
          "output_type": "stream",
          "name": "stderr",
          "text": [
            "\n",
            "10it [00:00, 121.30it/s]\n",
            " 13%|█▎        | 145/1132 [00:24<02:36,  6.31it/s]"
          ]
        },
        {
          "output_type": "stream",
          "name": "stdout",
          "text": [
            "Question_277_character_qa_close.pt\n"
          ]
        },
        {
          "output_type": "stream",
          "name": "stderr",
          "text": [
            "\n",
            "10it [00:00, 121.43it/s]\n",
            " 13%|█▎        | 146/1132 [00:24<02:28,  6.64it/s]"
          ]
        },
        {
          "output_type": "stream",
          "name": "stdout",
          "text": [
            "Question_276_character_qa_close.pt\n"
          ]
        },
        {
          "output_type": "stream",
          "name": "stderr",
          "text": [
            "\n",
            "10it [00:00, 112.29it/s]\n",
            " 13%|█▎        | 147/1132 [00:25<02:24,  6.80it/s]"
          ]
        },
        {
          "output_type": "stream",
          "name": "stdout",
          "text": [
            "Question_278_character_qa_close.pt\n"
          ]
        },
        {
          "output_type": "stream",
          "name": "stderr",
          "text": [
            "\n",
            "10it [00:00, 120.24it/s]\n",
            " 13%|█▎        | 148/1132 [00:25<02:22,  6.91it/s]"
          ]
        },
        {
          "output_type": "stream",
          "name": "stdout",
          "text": [
            "Question_279_character_qa_close.pt\n"
          ]
        },
        {
          "output_type": "stream",
          "name": "stderr",
          "text": [
            "\n",
            "10it [00:00, 111.14it/s]\n",
            " 13%|█▎        | 149/1132 [00:25<02:20,  7.00it/s]"
          ]
        },
        {
          "output_type": "stream",
          "name": "stdout",
          "text": [
            "Question_280_character_qa_close.pt\n"
          ]
        },
        {
          "output_type": "stream",
          "name": "stderr",
          "text": [
            "\n",
            "10it [00:00, 119.88it/s]\n",
            " 13%|█▎        | 150/1132 [00:25<02:17,  7.14it/s]"
          ]
        },
        {
          "output_type": "stream",
          "name": "stdout",
          "text": [
            "Question_281_character_qa_close.pt\n"
          ]
        },
        {
          "output_type": "stream",
          "name": "stderr",
          "text": [
            "\n",
            "10it [00:00, 118.11it/s]\n",
            " 13%|█▎        | 151/1132 [00:25<02:35,  6.30it/s]"
          ]
        },
        {
          "output_type": "stream",
          "name": "stdout",
          "text": [
            "Question_283_character_qa_close.pt\n"
          ]
        },
        {
          "output_type": "stream",
          "name": "stderr",
          "text": [
            "\n",
            "10it [00:00, 116.37it/s]\n",
            " 13%|█▎        | 152/1132 [00:25<02:28,  6.60it/s]"
          ]
        },
        {
          "output_type": "stream",
          "name": "stdout",
          "text": [
            "Question_282_character_qa_close.pt\n"
          ]
        },
        {
          "output_type": "stream",
          "name": "stderr",
          "text": [
            "\n",
            "10it [00:00, 120.57it/s]\n",
            " 14%|█▎        | 153/1132 [00:25<02:23,  6.85it/s]"
          ]
        },
        {
          "output_type": "stream",
          "name": "stdout",
          "text": [
            "Question_284_character_qa_close.pt\n"
          ]
        },
        {
          "output_type": "stream",
          "name": "stderr",
          "text": [
            "\n",
            "10it [00:00, 106.86it/s]\n",
            " 14%|█▎        | 154/1132 [00:26<02:22,  6.88it/s]"
          ]
        },
        {
          "output_type": "stream",
          "name": "stdout",
          "text": [
            "Question_285_character_qa_close.pt\n"
          ]
        },
        {
          "output_type": "stream",
          "name": "stderr",
          "text": [
            "\n",
            "10it [00:00, 121.10it/s]\n",
            " 14%|█▎        | 155/1132 [00:26<02:18,  7.06it/s]"
          ]
        },
        {
          "output_type": "stream",
          "name": "stdout",
          "text": [
            "Question_286_character_qa_close.pt\n"
          ]
        },
        {
          "output_type": "stream",
          "name": "stderr",
          "text": [
            "\n",
            "10it [00:00, 112.85it/s]\n",
            " 14%|█▍        | 156/1132 [00:26<02:17,  7.09it/s]"
          ]
        },
        {
          "output_type": "stream",
          "name": "stdout",
          "text": [
            "Question_287_character_qa_close.pt\n"
          ]
        },
        {
          "output_type": "stream",
          "name": "stderr",
          "text": [
            "\n",
            "10it [00:00, 121.25it/s]\n",
            " 14%|█▍        | 157/1132 [00:26<02:34,  6.31it/s]"
          ]
        },
        {
          "output_type": "stream",
          "name": "stdout",
          "text": [
            "Question_288_character_qa_close.pt\n"
          ]
        },
        {
          "output_type": "stream",
          "name": "stderr",
          "text": [
            "\n",
            "10it [00:00, 118.90it/s]\n",
            " 14%|█▍        | 158/1132 [00:26<02:27,  6.62it/s]"
          ]
        },
        {
          "output_type": "stream",
          "name": "stdout",
          "text": [
            "Question_289_character_qa_close.pt\n"
          ]
        },
        {
          "output_type": "stream",
          "name": "stderr",
          "text": [
            "\n",
            "10it [00:00, 104.23it/s]\n",
            " 14%|█▍        | 159/1132 [00:26<02:26,  6.64it/s]"
          ]
        },
        {
          "output_type": "stream",
          "name": "stdout",
          "text": [
            "Question_290_character_qa_close.pt\n"
          ]
        },
        {
          "output_type": "stream",
          "name": "stderr",
          "text": [
            "\n",
            "10it [00:00, 120.92it/s]\n",
            " 14%|█▍        | 160/1132 [00:27<02:21,  6.86it/s]"
          ]
        },
        {
          "output_type": "stream",
          "name": "stdout",
          "text": [
            "Question_292_character_qa_close.pt\n"
          ]
        },
        {
          "output_type": "stream",
          "name": "stderr",
          "text": [
            "\n",
            "10it [00:00, 108.72it/s]\n",
            " 14%|█▍        | 161/1132 [00:27<02:20,  6.93it/s]"
          ]
        },
        {
          "output_type": "stream",
          "name": "stdout",
          "text": [
            "Question_291_character_qa_close.pt\n"
          ]
        },
        {
          "output_type": "stream",
          "name": "stderr",
          "text": [
            "\n",
            "10it [00:00, 119.94it/s]\n",
            " 14%|█▍        | 162/1132 [00:27<02:17,  7.05it/s]"
          ]
        },
        {
          "output_type": "stream",
          "name": "stdout",
          "text": [
            "Question_293_character_qa_close.pt\n"
          ]
        },
        {
          "output_type": "stream",
          "name": "stderr",
          "text": [
            "\n",
            "10it [00:00, 112.59it/s]\n",
            " 14%|█▍        | 163/1132 [00:27<02:36,  6.20it/s]"
          ]
        },
        {
          "output_type": "stream",
          "name": "stdout",
          "text": [
            "Question_294_character_qa_close.pt\n"
          ]
        },
        {
          "output_type": "stream",
          "name": "stderr",
          "text": [
            "\n",
            "10it [00:00, 115.78it/s]\n",
            " 14%|█▍        | 164/1132 [00:27<02:28,  6.52it/s]"
          ]
        },
        {
          "output_type": "stream",
          "name": "stdout",
          "text": [
            "Question_296_character_qa_close.pt\n"
          ]
        },
        {
          "output_type": "stream",
          "name": "stderr",
          "text": [
            "\n",
            "10it [00:00, 121.83it/s]\n",
            " 15%|█▍        | 165/1132 [00:27<02:22,  6.77it/s]"
          ]
        },
        {
          "output_type": "stream",
          "name": "stdout",
          "text": [
            "Question_295_character_qa_close.pt\n"
          ]
        },
        {
          "output_type": "stream",
          "name": "stderr",
          "text": [
            "\n",
            "10it [00:00, 113.89it/s]\n",
            " 15%|█▍        | 166/1132 [00:27<02:19,  6.92it/s]"
          ]
        },
        {
          "output_type": "stream",
          "name": "stdout",
          "text": [
            "Question_297_character_qa_close.pt\n"
          ]
        },
        {
          "output_type": "stream",
          "name": "stderr",
          "text": [
            "\n",
            "10it [00:00, 120.57it/s]\n",
            " 15%|█▍        | 167/1132 [00:28<02:16,  7.08it/s]"
          ]
        },
        {
          "output_type": "stream",
          "name": "stdout",
          "text": [
            "Question_298_character_qa_close.pt\n"
          ]
        },
        {
          "output_type": "stream",
          "name": "stderr",
          "text": [
            "\n",
            "10it [00:00, 108.92it/s]\n",
            " 15%|█▍        | 168/1132 [00:28<02:18,  6.98it/s]"
          ]
        },
        {
          "output_type": "stream",
          "name": "stdout",
          "text": [
            "Question_299_character_qa_close.pt\n"
          ]
        },
        {
          "output_type": "stream",
          "name": "stderr",
          "text": [
            "\n",
            "10it [00:00, 120.68it/s]\n",
            " 15%|█▍        | 169/1132 [00:28<02:33,  6.27it/s]"
          ]
        },
        {
          "output_type": "stream",
          "name": "stdout",
          "text": [
            "Question_300_character_qa_close.pt\n"
          ]
        },
        {
          "output_type": "stream",
          "name": "stderr",
          "text": [
            "\n",
            "10it [00:00, 119.07it/s]\n",
            " 15%|█▌        | 170/1132 [00:28<02:26,  6.58it/s]"
          ]
        },
        {
          "output_type": "stream",
          "name": "stdout",
          "text": [
            "Question_301_character_qa_open.pt\n"
          ]
        },
        {
          "output_type": "stream",
          "name": "stderr",
          "text": [
            "\n",
            "10it [00:00, 111.94it/s]\n",
            " 15%|█▌        | 171/1132 [00:28<02:22,  6.76it/s]"
          ]
        },
        {
          "output_type": "stream",
          "name": "stdout",
          "text": [
            "Question_302_character_qa_open.pt\n"
          ]
        },
        {
          "output_type": "stream",
          "name": "stderr",
          "text": [
            "\n",
            "10it [00:00, 119.30it/s]\n",
            " 15%|█▌        | 172/1132 [00:28<02:18,  6.92it/s]"
          ]
        },
        {
          "output_type": "stream",
          "name": "stdout",
          "text": [
            "Question_303_character_qa_open.pt\n"
          ]
        },
        {
          "output_type": "stream",
          "name": "stderr",
          "text": [
            "\n",
            "10it [00:00, 109.12it/s]\n",
            " 15%|█▌        | 173/1132 [00:28<02:17,  6.97it/s]"
          ]
        },
        {
          "output_type": "stream",
          "name": "stdout",
          "text": [
            "Question_304_character_qa_open.pt\n"
          ]
        },
        {
          "output_type": "stream",
          "name": "stderr",
          "text": [
            "\n",
            "10it [00:00, 119.63it/s]\n",
            " 15%|█▌        | 174/1132 [00:29<02:14,  7.13it/s]"
          ]
        },
        {
          "output_type": "stream",
          "name": "stdout",
          "text": [
            "Question_306_character_qa_open.pt\n"
          ]
        },
        {
          "output_type": "stream",
          "name": "stderr",
          "text": [
            "\n",
            "10it [00:00, 116.46it/s]\n",
            " 15%|█▌        | 175/1132 [00:29<02:33,  6.25it/s]"
          ]
        },
        {
          "output_type": "stream",
          "name": "stdout",
          "text": [
            "Question_305_character_qa_open.pt\n"
          ]
        },
        {
          "output_type": "stream",
          "name": "stderr",
          "text": [
            "\n",
            "10it [00:00, 119.56it/s]\n",
            " 16%|█▌        | 176/1132 [00:29<02:26,  6.52it/s]"
          ]
        },
        {
          "output_type": "stream",
          "name": "stdout",
          "text": [
            "Question_308_character_qa_open.pt\n"
          ]
        },
        {
          "output_type": "stream",
          "name": "stderr",
          "text": [
            "\n",
            "10it [00:00, 121.85it/s]\n",
            " 16%|█▌        | 177/1132 [00:29<02:22,  6.70it/s]"
          ]
        },
        {
          "output_type": "stream",
          "name": "stdout",
          "text": [
            "Question_307_character_qa_open.pt\n"
          ]
        },
        {
          "output_type": "stream",
          "name": "stderr",
          "text": [
            "\n",
            "10it [00:00, 109.22it/s]\n",
            " 16%|█▌        | 178/1132 [00:29<02:20,  6.79it/s]"
          ]
        },
        {
          "output_type": "stream",
          "name": "stdout",
          "text": [
            "Question_309_character_qa_open.pt\n"
          ]
        },
        {
          "output_type": "stream",
          "name": "stderr",
          "text": [
            "\n",
            "10it [00:00, 120.51it/s]\n",
            " 16%|█▌        | 179/1132 [00:29<02:17,  6.92it/s]"
          ]
        },
        {
          "output_type": "stream",
          "name": "stdout",
          "text": [
            "Question_310_character_qa_open.pt\n"
          ]
        },
        {
          "output_type": "stream",
          "name": "stderr",
          "text": [
            "\n",
            "10it [00:00, 110.58it/s]\n",
            " 16%|█▌        | 180/1132 [00:29<02:16,  6.95it/s]"
          ]
        },
        {
          "output_type": "stream",
          "name": "stdout",
          "text": [
            "Question_311_character_qa_open.pt\n"
          ]
        },
        {
          "output_type": "stream",
          "name": "stderr",
          "text": [
            "\n",
            "10it [00:00, 121.26it/s]\n",
            " 16%|█▌        | 181/1132 [00:30<02:32,  6.22it/s]"
          ]
        },
        {
          "output_type": "stream",
          "name": "stdout",
          "text": [
            "Question_312_character_qa_open.pt\n"
          ]
        },
        {
          "output_type": "stream",
          "name": "stderr",
          "text": [
            "\n",
            "10it [00:00, 118.97it/s]\n",
            " 16%|█▌        | 182/1132 [00:30<02:25,  6.53it/s]"
          ]
        },
        {
          "output_type": "stream",
          "name": "stdout",
          "text": [
            "Question_313_character_qa_open.pt\n"
          ]
        },
        {
          "output_type": "stream",
          "name": "stderr",
          "text": [
            "\n",
            "10it [00:00, 111.89it/s]\n",
            " 16%|█▌        | 183/1132 [00:30<02:21,  6.72it/s]"
          ]
        },
        {
          "output_type": "stream",
          "name": "stdout",
          "text": [
            "Question_314_character_qa_open.pt\n"
          ]
        },
        {
          "output_type": "stream",
          "name": "stderr",
          "text": [
            "\n",
            "10it [00:00, 119.12it/s]\n",
            " 16%|█▋        | 184/1132 [00:30<02:20,  6.76it/s]"
          ]
        },
        {
          "output_type": "stream",
          "name": "stdout",
          "text": [
            "Question_315_character_qa_open.pt\n"
          ]
        },
        {
          "output_type": "stream",
          "name": "stderr",
          "text": [
            "\n",
            "10it [00:00, 104.36it/s]\n",
            " 16%|█▋        | 185/1132 [00:30<02:19,  6.77it/s]"
          ]
        },
        {
          "output_type": "stream",
          "name": "stdout",
          "text": [
            "Question_316_character_qa_open.pt\n"
          ]
        },
        {
          "output_type": "stream",
          "name": "stderr",
          "text": [
            "\n",
            "10it [00:00, 119.96it/s]\n",
            " 16%|█▋        | 186/1132 [00:30<02:16,  6.93it/s]"
          ]
        },
        {
          "output_type": "stream",
          "name": "stdout",
          "text": [
            "Question_317_character_qa_open.pt\n"
          ]
        },
        {
          "output_type": "stream",
          "name": "stderr",
          "text": [
            "\n",
            "10it [00:00, 120.20it/s]\n",
            " 17%|█▋        | 187/1132 [00:31<02:33,  6.15it/s]"
          ]
        },
        {
          "output_type": "stream",
          "name": "stdout",
          "text": [
            "Question_318_character_qa_open.pt\n"
          ]
        },
        {
          "output_type": "stream",
          "name": "stderr",
          "text": [
            "\n",
            "10it [00:00, 110.63it/s]\n",
            " 17%|█▋        | 188/1132 [00:31<02:26,  6.42it/s]"
          ]
        },
        {
          "output_type": "stream",
          "name": "stdout",
          "text": [
            "Question_319_character_qa_open.pt\n"
          ]
        },
        {
          "output_type": "stream",
          "name": "stderr",
          "text": [
            "\n",
            "10it [00:00, 120.50it/s]\n",
            " 17%|█▋        | 189/1132 [00:31<02:22,  6.62it/s]"
          ]
        },
        {
          "output_type": "stream",
          "name": "stdout",
          "text": [
            "Question_320_character_qa_open.pt\n"
          ]
        },
        {
          "output_type": "stream",
          "name": "stderr",
          "text": [
            "\n",
            "0it [00:00, ?it/s]\u001b[A\n",
            "10it [00:00, 90.06it/s]\n",
            " 17%|█▋        | 190/1132 [00:31<02:25,  6.48it/s]"
          ]
        },
        {
          "output_type": "stream",
          "name": "stdout",
          "text": [
            "Question_322_character_qa_open.pt\n"
          ]
        },
        {
          "output_type": "stream",
          "name": "stderr",
          "text": [
            "\n",
            "10it [00:00, 123.37it/s]\n",
            " 17%|█▋        | 191/1132 [00:31<02:19,  6.73it/s]"
          ]
        },
        {
          "output_type": "stream",
          "name": "stdout",
          "text": [
            "Question_321_character_qa_open.pt\n"
          ]
        },
        {
          "output_type": "stream",
          "name": "stderr",
          "text": [
            "\n",
            "10it [00:00, 108.61it/s]\n",
            " 17%|█▋        | 192/1132 [00:31<02:19,  6.74it/s]"
          ]
        },
        {
          "output_type": "stream",
          "name": "stdout",
          "text": [
            "Question_323_character_qa_open.pt\n"
          ]
        },
        {
          "output_type": "stream",
          "name": "stderr",
          "text": [
            "\n",
            "10it [00:00, 120.03it/s]\n",
            " 17%|█▋        | 193/1132 [00:32<02:35,  6.06it/s]"
          ]
        },
        {
          "output_type": "stream",
          "name": "stdout",
          "text": [
            "Question_324_character_qa_open.pt\n"
          ]
        },
        {
          "output_type": "stream",
          "name": "stderr",
          "text": [
            "\n",
            "10it [00:00, 121.59it/s]\n",
            " 17%|█▋        | 194/1132 [00:32<02:27,  6.36it/s]"
          ]
        },
        {
          "output_type": "stream",
          "name": "stdout",
          "text": [
            "Question_326_character_qa_open.pt\n"
          ]
        },
        {
          "output_type": "stream",
          "name": "stderr",
          "text": [
            "\n",
            "10it [00:00, 110.84it/s]\n",
            " 17%|█▋        | 195/1132 [00:32<02:24,  6.47it/s]"
          ]
        },
        {
          "output_type": "stream",
          "name": "stdout",
          "text": [
            "Question_325_character_qa_open.pt\n"
          ]
        },
        {
          "output_type": "stream",
          "name": "stderr",
          "text": [
            "\n",
            "10it [00:00, 115.88it/s]\n",
            " 17%|█▋        | 196/1132 [00:32<02:20,  6.68it/s]"
          ]
        },
        {
          "output_type": "stream",
          "name": "stdout",
          "text": [
            "Question_327_character_qa_open.pt\n"
          ]
        },
        {
          "output_type": "stream",
          "name": "stderr",
          "text": [
            "\n",
            "10it [00:00, 110.94it/s]\n",
            " 17%|█▋        | 197/1132 [00:32<02:18,  6.73it/s]"
          ]
        },
        {
          "output_type": "stream",
          "name": "stdout",
          "text": [
            "Question_328_character_qa_open.pt\n"
          ]
        },
        {
          "output_type": "stream",
          "name": "stderr",
          "text": [
            "\n",
            "10it [00:00, 117.07it/s]\n",
            " 17%|█▋        | 198/1132 [00:32<02:15,  6.88it/s]"
          ]
        },
        {
          "output_type": "stream",
          "name": "stdout",
          "text": [
            "Question_329_character_qa_open.pt\n"
          ]
        },
        {
          "output_type": "stream",
          "name": "stderr",
          "text": [
            "\n",
            "10it [00:00, 115.33it/s]\n",
            " 18%|█▊        | 199/1132 [00:32<02:33,  6.09it/s]"
          ]
        },
        {
          "output_type": "stream",
          "name": "stdout",
          "text": [
            "Question_330_character_qa_open.pt\n"
          ]
        },
        {
          "output_type": "stream",
          "name": "stderr",
          "text": [
            "\n",
            "10it [00:00, 119.37it/s]\n",
            " 18%|█▊        | 200/1132 [00:33<02:24,  6.46it/s]"
          ]
        },
        {
          "output_type": "stream",
          "name": "stdout",
          "text": [
            "Question_331_character_qa_open.pt\n"
          ]
        },
        {
          "output_type": "stream",
          "name": "stderr",
          "text": [
            "\n",
            "10it [00:00, 119.34it/s]\n",
            " 18%|█▊        | 201/1132 [00:33<02:18,  6.74it/s]"
          ]
        },
        {
          "output_type": "stream",
          "name": "stdout",
          "text": [
            "Question_333_character_qa_close.pt\n"
          ]
        },
        {
          "output_type": "stream",
          "name": "stderr",
          "text": [
            "\n",
            "10it [00:00, 107.96it/s]\n",
            " 18%|█▊        | 202/1132 [00:33<02:16,  6.80it/s]"
          ]
        },
        {
          "output_type": "stream",
          "name": "stdout",
          "text": [
            "Question_332_character_qa_close.pt\n"
          ]
        },
        {
          "output_type": "stream",
          "name": "stderr",
          "text": [
            "\n",
            "10it [00:00, 117.20it/s]\n",
            " 18%|█▊        | 203/1132 [00:33<02:13,  6.95it/s]"
          ]
        },
        {
          "output_type": "stream",
          "name": "stdout",
          "text": [
            "Question_334_character_qa_close.pt\n"
          ]
        },
        {
          "output_type": "stream",
          "name": "stderr",
          "text": [
            "\n",
            "10it [00:00, 111.49it/s]\n",
            " 18%|█▊        | 204/1132 [00:33<02:12,  6.99it/s]"
          ]
        },
        {
          "output_type": "stream",
          "name": "stdout",
          "text": [
            "Question_335_character_qa_close.pt\n"
          ]
        },
        {
          "output_type": "stream",
          "name": "stderr",
          "text": [
            "\n",
            "10it [00:00, 120.11it/s]\n",
            " 18%|█▊        | 205/1132 [00:33<02:28,  6.23it/s]"
          ]
        },
        {
          "output_type": "stream",
          "name": "stdout",
          "text": [
            "Question_336_character_qa_close.pt\n"
          ]
        },
        {
          "output_type": "stream",
          "name": "stderr",
          "text": [
            "\n",
            "10it [00:00, 120.21it/s]\n",
            " 18%|█▊        | 206/1132 [00:33<02:21,  6.54it/s]"
          ]
        },
        {
          "output_type": "stream",
          "name": "stdout",
          "text": [
            "Question_337_character_qa_close.pt\n"
          ]
        },
        {
          "output_type": "stream",
          "name": "stderr",
          "text": [
            "\n",
            "10it [00:00, 107.34it/s]\n",
            " 18%|█▊        | 207/1132 [00:34<02:18,  6.66it/s]"
          ]
        },
        {
          "output_type": "stream",
          "name": "stdout",
          "text": [
            "Question_338_character_qa_close.pt\n"
          ]
        },
        {
          "output_type": "stream",
          "name": "stderr",
          "text": [
            "\n",
            "10it [00:00, 121.55it/s]\n",
            " 18%|█▊        | 208/1132 [00:34<02:14,  6.86it/s]"
          ]
        },
        {
          "output_type": "stream",
          "name": "stdout",
          "text": [
            "Question_339_character_qa_close.pt\n"
          ]
        },
        {
          "output_type": "stream",
          "name": "stderr",
          "text": [
            "\n",
            "10it [00:00, 110.57it/s]\n",
            " 18%|█▊        | 209/1132 [00:34<02:13,  6.93it/s]"
          ]
        },
        {
          "output_type": "stream",
          "name": "stdout",
          "text": [
            "Question_340_character_qa_close.pt\n"
          ]
        },
        {
          "output_type": "stream",
          "name": "stderr",
          "text": [
            "\n",
            "10it [00:00, 114.98it/s]\n",
            " 19%|█▊        | 210/1132 [00:34<02:10,  7.04it/s]"
          ]
        },
        {
          "output_type": "stream",
          "name": "stdout",
          "text": [
            "Question_341_character_qa_close.pt\n"
          ]
        },
        {
          "output_type": "stream",
          "name": "stderr",
          "text": [
            "\n",
            "10it [00:00, 117.16it/s]\n",
            " 19%|█▊        | 211/1132 [00:34<02:28,  6.19it/s]"
          ]
        },
        {
          "output_type": "stream",
          "name": "stdout",
          "text": [
            "Question_342_character_qa_close.pt\n"
          ]
        },
        {
          "output_type": "stream",
          "name": "stderr",
          "text": [
            "\n",
            "10it [00:00, 119.27it/s]\n",
            " 19%|█▊        | 212/1132 [00:34<02:20,  6.54it/s]"
          ]
        },
        {
          "output_type": "stream",
          "name": "stdout",
          "text": [
            "Question_343_character_qa_close.pt\n"
          ]
        },
        {
          "output_type": "stream",
          "name": "stderr",
          "text": [
            "\n",
            "10it [00:00, 120.78it/s]\n",
            " 19%|█▉        | 213/1132 [00:35<02:14,  6.82it/s]"
          ]
        },
        {
          "output_type": "stream",
          "name": "stdout",
          "text": [
            "Question_345_character_qa_close.pt\n"
          ]
        },
        {
          "output_type": "stream",
          "name": "stderr",
          "text": [
            "\n",
            "10it [00:00, 116.00it/s]\n",
            " 19%|█▉        | 214/1132 [00:35<02:11,  6.98it/s]"
          ]
        },
        {
          "output_type": "stream",
          "name": "stdout",
          "text": [
            "Question_344_character_qa_close.pt\n"
          ]
        },
        {
          "output_type": "stream",
          "name": "stderr",
          "text": [
            "\n",
            "10it [00:00, 123.63it/s]\n",
            " 19%|█▉        | 215/1132 [00:35<02:08,  7.16it/s]"
          ]
        },
        {
          "output_type": "stream",
          "name": "stdout",
          "text": [
            "Question_346_character_qa_close.pt\n"
          ]
        },
        {
          "output_type": "stream",
          "name": "stderr",
          "text": [
            "\n",
            "10it [00:00, 109.13it/s]\n",
            " 19%|█▉        | 216/1132 [00:35<02:08,  7.13it/s]"
          ]
        },
        {
          "output_type": "stream",
          "name": "stdout",
          "text": [
            "Question_347_character_qa_close.pt\n"
          ]
        },
        {
          "output_type": "stream",
          "name": "stderr",
          "text": [
            "\n",
            "10it [00:00, 120.59it/s]\n",
            " 19%|█▉        | 217/1132 [00:35<02:24,  6.34it/s]"
          ]
        },
        {
          "output_type": "stream",
          "name": "stdout",
          "text": [
            "Question_348_character_qa_close.pt\n"
          ]
        },
        {
          "output_type": "stream",
          "name": "stderr",
          "text": [
            "\n",
            "10it [00:00, 118.07it/s]\n",
            " 19%|█▉        | 218/1132 [00:35<02:17,  6.64it/s]"
          ]
        },
        {
          "output_type": "stream",
          "name": "stdout",
          "text": [
            "Question_349_character_qa_close.pt\n"
          ]
        },
        {
          "output_type": "stream",
          "name": "stderr",
          "text": [
            "\n",
            "10it [00:00, 115.07it/s]\n",
            " 19%|█▉        | 219/1132 [00:35<02:14,  6.80it/s]"
          ]
        },
        {
          "output_type": "stream",
          "name": "stdout",
          "text": [
            "Question_350_character_qa_close.pt\n"
          ]
        },
        {
          "output_type": "stream",
          "name": "stderr",
          "text": [
            "\n",
            "10it [00:00, 118.57it/s]\n",
            " 19%|█▉        | 220/1132 [00:36<02:11,  6.96it/s]"
          ]
        },
        {
          "output_type": "stream",
          "name": "stdout",
          "text": [
            "Question_351_character_qa_close.pt\n"
          ]
        },
        {
          "output_type": "stream",
          "name": "stderr",
          "text": [
            "\n",
            "10it [00:00, 105.79it/s]\n",
            " 20%|█▉        | 221/1132 [00:36<02:11,  6.94it/s]"
          ]
        },
        {
          "output_type": "stream",
          "name": "stdout",
          "text": [
            "Question_352_character_qa_close.pt\n"
          ]
        },
        {
          "output_type": "stream",
          "name": "stderr",
          "text": [
            "\n",
            "10it [00:00, 119.40it/s]\n",
            " 20%|█▉        | 222/1132 [00:36<02:08,  7.09it/s]"
          ]
        },
        {
          "output_type": "stream",
          "name": "stdout",
          "text": [
            "Question_353_character_qa_close.pt\n"
          ]
        },
        {
          "output_type": "stream",
          "name": "stderr",
          "text": [
            "\n",
            "10it [00:00, 116.38it/s]\n",
            " 20%|█▉        | 223/1132 [00:36<02:28,  6.13it/s]"
          ]
        },
        {
          "output_type": "stream",
          "name": "stdout",
          "text": [
            "Question_354_character_qa_close.pt\n"
          ]
        },
        {
          "output_type": "stream",
          "name": "stderr",
          "text": [
            "\n",
            "10it [00:00, 113.91it/s]\n",
            " 20%|█▉        | 224/1132 [00:36<02:22,  6.39it/s]"
          ]
        },
        {
          "output_type": "stream",
          "name": "stdout",
          "text": [
            "Question_355_character_qa_close.pt\n"
          ]
        },
        {
          "output_type": "stream",
          "name": "stderr",
          "text": [
            "\n",
            "10it [00:00, 117.64it/s]\n",
            " 20%|█▉        | 225/1132 [00:36<02:16,  6.62it/s]"
          ]
        },
        {
          "output_type": "stream",
          "name": "stdout",
          "text": [
            "Question_356_character_qa_close.pt\n"
          ]
        },
        {
          "output_type": "stream",
          "name": "stderr",
          "text": [
            "\n",
            "10it [00:00, 113.72it/s]\n",
            " 20%|█▉        | 226/1132 [00:36<02:13,  6.79it/s]"
          ]
        },
        {
          "output_type": "stream",
          "name": "stdout",
          "text": [
            "Question_357_character_qa_close.pt\n"
          ]
        },
        {
          "output_type": "stream",
          "name": "stderr",
          "text": [
            "\n",
            "10it [00:00, 119.66it/s]\n",
            " 20%|██        | 227/1132 [00:37<02:09,  6.96it/s]"
          ]
        },
        {
          "output_type": "stream",
          "name": "stdout",
          "text": [
            "Question_358_character_qa_close.pt\n"
          ]
        },
        {
          "output_type": "stream",
          "name": "stderr",
          "text": [
            "\n",
            "10it [00:00, 108.13it/s]\n",
            " 20%|██        | 228/1132 [00:37<02:10,  6.91it/s]"
          ]
        },
        {
          "output_type": "stream",
          "name": "stdout",
          "text": [
            "Question_359_character_qa_close.pt\n"
          ]
        },
        {
          "output_type": "stream",
          "name": "stderr",
          "text": [
            "\n",
            "10it [00:00, 107.88it/s]\n",
            " 20%|██        | 229/1132 [00:37<02:28,  6.10it/s]"
          ]
        },
        {
          "output_type": "stream",
          "name": "stdout",
          "text": [
            "Question_360_character_qa_close.pt\n"
          ]
        },
        {
          "output_type": "stream",
          "name": "stderr",
          "text": [
            "\n",
            "10it [00:00, 123.22it/s]\n",
            " 20%|██        | 230/1132 [00:37<02:19,  6.45it/s]"
          ]
        },
        {
          "output_type": "stream",
          "name": "stdout",
          "text": [
            "Question_361_character_qa_open.pt\n"
          ]
        },
        {
          "output_type": "stream",
          "name": "stderr",
          "text": [
            "\n",
            "10it [00:00, 108.40it/s]\n",
            " 20%|██        | 231/1132 [00:37<02:16,  6.60it/s]"
          ]
        },
        {
          "output_type": "stream",
          "name": "stdout",
          "text": [
            "Question_362_character_qa_open.pt\n"
          ]
        },
        {
          "output_type": "stream",
          "name": "stderr",
          "text": [
            "\n",
            "10it [00:00, 117.83it/s]\n",
            " 20%|██        | 232/1132 [00:37<02:12,  6.80it/s]"
          ]
        },
        {
          "output_type": "stream",
          "name": "stdout",
          "text": [
            "Question_363_character_qa_open.pt\n"
          ]
        },
        {
          "output_type": "stream",
          "name": "stderr",
          "text": [
            "\n",
            "10it [00:00, 107.37it/s]\n",
            " 21%|██        | 233/1132 [00:37<02:10,  6.86it/s]"
          ]
        },
        {
          "output_type": "stream",
          "name": "stdout",
          "text": [
            "Question_364_character_qa_open.pt\n"
          ]
        },
        {
          "output_type": "stream",
          "name": "stderr",
          "text": [
            "\n",
            "10it [00:00, 122.62it/s]\n",
            " 21%|██        | 234/1132 [00:38<02:07,  7.06it/s]"
          ]
        },
        {
          "output_type": "stream",
          "name": "stdout",
          "text": [
            "Question_366_character_qa_open.pt\n"
          ]
        },
        {
          "output_type": "stream",
          "name": "stderr",
          "text": [
            "\n",
            "10it [00:00, 118.06it/s]\n",
            " 21%|██        | 235/1132 [00:38<02:25,  6.16it/s]"
          ]
        },
        {
          "output_type": "stream",
          "name": "stdout",
          "text": [
            "Question_365_character_qa_open.pt\n"
          ]
        },
        {
          "output_type": "stream",
          "name": "stderr",
          "text": [
            "\n",
            "10it [00:00, 114.74it/s]\n",
            " 21%|██        | 236/1132 [00:38<02:19,  6.41it/s]"
          ]
        },
        {
          "output_type": "stream",
          "name": "stdout",
          "text": [
            "Question_367_character_qa_open.pt\n"
          ]
        },
        {
          "output_type": "stream",
          "name": "stderr",
          "text": [
            "\n",
            "10it [00:00, 119.40it/s]\n",
            " 21%|██        | 237/1132 [00:38<02:14,  6.63it/s]"
          ]
        },
        {
          "output_type": "stream",
          "name": "stdout",
          "text": [
            "Question_368_character_qa_open.pt\n"
          ]
        },
        {
          "output_type": "stream",
          "name": "stderr",
          "text": [
            "\n",
            "10it [00:00, 110.78it/s]\n",
            " 21%|██        | 238/1132 [00:38<02:12,  6.74it/s]"
          ]
        },
        {
          "output_type": "stream",
          "name": "stdout",
          "text": [
            "Question_369_character_qa_open.pt\n"
          ]
        },
        {
          "output_type": "stream",
          "name": "stderr",
          "text": [
            "\n",
            "10it [00:00, 117.63it/s]\n",
            " 21%|██        | 239/1132 [00:38<02:10,  6.82it/s]"
          ]
        },
        {
          "output_type": "stream",
          "name": "stdout",
          "text": [
            "Question_370_character_qa_open.pt\n"
          ]
        },
        {
          "output_type": "stream",
          "name": "stderr",
          "text": [
            "\n",
            "10it [00:00, 108.63it/s]\n",
            " 21%|██        | 240/1132 [00:39<02:09,  6.87it/s]"
          ]
        },
        {
          "output_type": "stream",
          "name": "stdout",
          "text": [
            "Question_371_character_qa_open.pt\n"
          ]
        },
        {
          "output_type": "stream",
          "name": "stderr",
          "text": [
            "\n",
            "10it [00:00, 121.66it/s]\n",
            " 21%|██▏       | 241/1132 [00:39<02:23,  6.22it/s]"
          ]
        },
        {
          "output_type": "stream",
          "name": "stdout",
          "text": [
            "Question_372_character_qa_open.pt\n"
          ]
        },
        {
          "output_type": "stream",
          "name": "stderr",
          "text": [
            "\n",
            "10it [00:00, 115.29it/s]\n",
            " 21%|██▏       | 242/1132 [00:39<02:18,  6.43it/s]"
          ]
        },
        {
          "output_type": "stream",
          "name": "stdout",
          "text": [
            "Question_373_character_qa_open.pt\n"
          ]
        },
        {
          "output_type": "stream",
          "name": "stderr",
          "text": [
            "\n",
            "10it [00:00, 112.69it/s]\n",
            " 21%|██▏       | 243/1132 [00:39<02:13,  6.66it/s]"
          ]
        },
        {
          "output_type": "stream",
          "name": "stdout",
          "text": [
            "Question_374_character_qa_open.pt\n"
          ]
        },
        {
          "output_type": "stream",
          "name": "stderr",
          "text": [
            "\n",
            "10it [00:00, 119.50it/s]\n",
            " 22%|██▏       | 244/1132 [00:39<02:09,  6.87it/s]"
          ]
        },
        {
          "output_type": "stream",
          "name": "stdout",
          "text": [
            "Question_375_character_qa_open.pt\n"
          ]
        },
        {
          "output_type": "stream",
          "name": "stderr",
          "text": [
            "\n",
            "10it [00:00, 102.24it/s]\n",
            " 22%|██▏       | 245/1132 [00:39<02:10,  6.81it/s]"
          ]
        },
        {
          "output_type": "stream",
          "name": "stdout",
          "text": [
            "Question_376_character_qa_open.pt\n"
          ]
        },
        {
          "output_type": "stream",
          "name": "stderr",
          "text": [
            "\n",
            "10it [00:00, 121.69it/s]\n",
            " 22%|██▏       | 246/1132 [00:39<02:06,  7.01it/s]"
          ]
        },
        {
          "output_type": "stream",
          "name": "stdout",
          "text": [
            "Question_377_character_qa_open.pt\n"
          ]
        },
        {
          "output_type": "stream",
          "name": "stderr",
          "text": [
            "\n",
            "10it [00:00, 117.17it/s]\n",
            " 22%|██▏       | 247/1132 [00:40<02:22,  6.20it/s]"
          ]
        },
        {
          "output_type": "stream",
          "name": "stdout",
          "text": [
            "Question_378_character_qa_open.pt\n"
          ]
        },
        {
          "output_type": "stream",
          "name": "stderr",
          "text": [
            "\n",
            "10it [00:00, 113.65it/s]\n",
            " 22%|██▏       | 248/1132 [00:40<02:16,  6.47it/s]"
          ]
        },
        {
          "output_type": "stream",
          "name": "stdout",
          "text": [
            "Question_379_character_qa_open.pt\n"
          ]
        },
        {
          "output_type": "stream",
          "name": "stderr",
          "text": [
            "\n",
            "10it [00:00, 115.52it/s]\n",
            " 22%|██▏       | 249/1132 [00:40<02:11,  6.71it/s]"
          ]
        },
        {
          "output_type": "stream",
          "name": "stdout",
          "text": [
            "Question_380_character_qa_open.pt\n"
          ]
        },
        {
          "output_type": "stream",
          "name": "stderr",
          "text": [
            "\n",
            "10it [00:00, 111.87it/s]\n",
            " 22%|██▏       | 250/1132 [00:40<02:09,  6.82it/s]"
          ]
        },
        {
          "output_type": "stream",
          "name": "stdout",
          "text": [
            "Question_381_character_qa_open.pt\n"
          ]
        },
        {
          "output_type": "stream",
          "name": "stderr",
          "text": [
            "\n",
            "10it [00:00, 115.53it/s]\n",
            " 22%|██▏       | 251/1132 [00:40<02:06,  6.98it/s]"
          ]
        },
        {
          "output_type": "stream",
          "name": "stdout",
          "text": [
            "Question_382_character_qa_open.pt\n"
          ]
        },
        {
          "output_type": "stream",
          "name": "stderr",
          "text": [
            "\n",
            "10it [00:00, 110.19it/s]\n",
            " 22%|██▏       | 252/1132 [00:40<02:06,  6.95it/s]"
          ]
        },
        {
          "output_type": "stream",
          "name": "stdout",
          "text": [
            "Question_383_character_qa_open.pt\n"
          ]
        },
        {
          "output_type": "stream",
          "name": "stderr",
          "text": [
            "\n",
            "10it [00:00, 121.28it/s]\n",
            " 22%|██▏       | 253/1132 [00:41<02:20,  6.26it/s]"
          ]
        },
        {
          "output_type": "stream",
          "name": "stdout",
          "text": [
            "Question_384_character_qa_open.pt\n"
          ]
        },
        {
          "output_type": "stream",
          "name": "stderr",
          "text": [
            "\n",
            "10it [00:00, 122.68it/s]\n",
            " 22%|██▏       | 254/1132 [00:41<02:13,  6.60it/s]"
          ]
        },
        {
          "output_type": "stream",
          "name": "stdout",
          "text": [
            "Question_385_character_qa_open.pt\n"
          ]
        },
        {
          "output_type": "stream",
          "name": "stderr",
          "text": [
            "\n",
            "10it [00:00, 110.43it/s]\n",
            " 23%|██▎       | 255/1132 [00:41<02:11,  6.69it/s]"
          ]
        },
        {
          "output_type": "stream",
          "name": "stdout",
          "text": [
            "Question_386_character_qa_open.pt\n"
          ]
        },
        {
          "output_type": "stream",
          "name": "stderr",
          "text": [
            "\n",
            "10it [00:00, 119.41it/s]\n",
            " 23%|██▎       | 256/1132 [00:41<02:06,  6.91it/s]"
          ]
        },
        {
          "output_type": "stream",
          "name": "stdout",
          "text": [
            "Question_387_character_qa_open.pt\n"
          ]
        },
        {
          "output_type": "stream",
          "name": "stderr",
          "text": [
            "\n",
            "10it [00:00, 110.95it/s]\n",
            " 23%|██▎       | 257/1132 [00:41<02:07,  6.87it/s]"
          ]
        },
        {
          "output_type": "stream",
          "name": "stdout",
          "text": [
            "Question_388_character_qa_open.pt\n"
          ]
        },
        {
          "output_type": "stream",
          "name": "stderr",
          "text": [
            "\n",
            "10it [00:00, 123.25it/s]\n",
            " 23%|██▎       | 258/1132 [00:41<02:03,  7.09it/s]"
          ]
        },
        {
          "output_type": "stream",
          "name": "stdout",
          "text": [
            "Question_389_character_qa_open.pt\n"
          ]
        },
        {
          "output_type": "stream",
          "name": "stderr",
          "text": [
            "\n",
            "10it [00:00, 119.61it/s]\n",
            " 23%|██▎       | 259/1132 [00:41<02:21,  6.15it/s]"
          ]
        },
        {
          "output_type": "stream",
          "name": "stdout",
          "text": [
            "Question_390_character_qa_open.pt\n"
          ]
        },
        {
          "output_type": "stream",
          "name": "stderr",
          "text": [
            "\n",
            "10it [00:00, 119.87it/s]\n",
            " 23%|██▎       | 260/1132 [00:42<02:13,  6.52it/s]"
          ]
        },
        {
          "output_type": "stream",
          "name": "stdout",
          "text": [
            "Question_391_character_qa_open.pt\n"
          ]
        },
        {
          "output_type": "stream",
          "name": "stderr",
          "text": [
            "\n",
            "10it [00:00, 121.13it/s]\n",
            " 23%|██▎       | 261/1132 [00:42<02:09,  6.74it/s]"
          ]
        },
        {
          "output_type": "stream",
          "name": "stdout",
          "text": [
            "Question_392_character_qa_close.pt\n"
          ]
        },
        {
          "output_type": "stream",
          "name": "stderr",
          "text": [
            "\n",
            "0it [00:00, ?it/s]\u001b[A\n",
            "10it [00:00, 90.47it/s]\n",
            " 23%|██▎       | 262/1132 [00:42<02:12,  6.57it/s]"
          ]
        },
        {
          "output_type": "stream",
          "name": "stdout",
          "text": [
            "Question_393_character_qa_close.pt\n"
          ]
        },
        {
          "output_type": "stream",
          "name": "stderr",
          "text": [
            "\n",
            "0it [00:00, ?it/s]\u001b[A\n",
            "10it [00:00, 92.35it/s]\n",
            " 23%|██▎       | 263/1132 [00:42<02:17,  6.31it/s]"
          ]
        },
        {
          "output_type": "stream",
          "name": "stdout",
          "text": [
            "Question_394_character_qa_close.pt\n"
          ]
        },
        {
          "output_type": "stream",
          "name": "stderr",
          "text": [
            "\n",
            "10it [00:00, 118.97it/s]\n",
            " 23%|██▎       | 264/1132 [00:42<02:14,  6.45it/s]"
          ]
        },
        {
          "output_type": "stream",
          "name": "stdout",
          "text": [
            "Question_396_character_qa_close.pt\n"
          ]
        },
        {
          "output_type": "stream",
          "name": "stderr",
          "text": [
            "\n",
            "10it [00:00, 117.90it/s]\n",
            " 23%|██▎       | 265/1132 [00:42<02:10,  6.66it/s]"
          ]
        },
        {
          "output_type": "stream",
          "name": "stdout",
          "text": [
            "Question_395_character_qa_close.pt\n"
          ]
        },
        {
          "output_type": "stream",
          "name": "stderr",
          "text": [
            "\n",
            "10it [00:00, 118.11it/s]\n",
            " 23%|██▎       | 266/1132 [00:43<02:23,  6.04it/s]"
          ]
        },
        {
          "output_type": "stream",
          "name": "stdout",
          "text": [
            "Question_397_character_qa_close.pt\n"
          ]
        },
        {
          "output_type": "stream",
          "name": "stderr",
          "text": [
            "\n",
            "10it [00:00, 121.27it/s]\n",
            " 24%|██▎       | 267/1132 [00:43<02:17,  6.31it/s]"
          ]
        },
        {
          "output_type": "stream",
          "name": "stdout",
          "text": [
            "Question_398_character_qa_close.pt\n"
          ]
        },
        {
          "output_type": "stream",
          "name": "stderr",
          "text": [
            "\n",
            "10it [00:00, 108.71it/s]\n",
            " 24%|██▎       | 268/1132 [00:43<02:13,  6.48it/s]"
          ]
        },
        {
          "output_type": "stream",
          "name": "stdout",
          "text": [
            "Question_399_character_qa_close.pt\n"
          ]
        },
        {
          "output_type": "stream",
          "name": "stderr",
          "text": [
            "\n",
            "10it [00:00, 117.28it/s]\n",
            " 24%|██▍       | 269/1132 [00:43<02:09,  6.64it/s]"
          ]
        },
        {
          "output_type": "stream",
          "name": "stdout",
          "text": [
            "Question_400_character_qa_close.pt\n"
          ]
        },
        {
          "output_type": "stream",
          "name": "stderr",
          "text": [
            "\n",
            "0it [00:00, ?it/s]\u001b[A\n",
            "10it [00:00, 91.55it/s]\n",
            " 24%|██▍       | 270/1132 [00:43<02:16,  6.32it/s]"
          ]
        },
        {
          "output_type": "stream",
          "name": "stdout",
          "text": [
            "Question_401_character_qa_close.pt\n"
          ]
        },
        {
          "output_type": "stream",
          "name": "stderr",
          "text": [
            "\n",
            "10it [00:00, 119.91it/s]\n",
            " 24%|██▍       | 271/1132 [00:43<02:10,  6.59it/s]"
          ]
        },
        {
          "output_type": "stream",
          "name": "stdout",
          "text": [
            "Question_402_character_qa_close.pt\n"
          ]
        },
        {
          "output_type": "stream",
          "name": "stderr",
          "text": [
            "\n",
            "10it [00:00, 102.31it/s]\n",
            " 24%|██▍       | 272/1132 [00:43<02:25,  5.92it/s]"
          ]
        },
        {
          "output_type": "stream",
          "name": "stdout",
          "text": [
            "Question_403_character_qa_close.pt\n"
          ]
        },
        {
          "output_type": "stream",
          "name": "stderr",
          "text": [
            "\n",
            "0it [00:00, ?it/s]\u001b[A\n",
            "10it [00:00, 90.69it/s]\n",
            " 24%|██▍       | 273/1132 [00:44<02:24,  5.95it/s]"
          ]
        },
        {
          "output_type": "stream",
          "name": "stdout",
          "text": [
            "Question_404_character_qa_close.pt\n"
          ]
        },
        {
          "output_type": "stream",
          "name": "stderr",
          "text": [
            "\n",
            "0it [00:00, ?it/s]\u001b[A\n",
            "10it [00:00, 94.72it/s]\n",
            " 24%|██▍       | 274/1132 [00:44<02:22,  6.02it/s]"
          ]
        },
        {
          "output_type": "stream",
          "name": "stdout",
          "text": [
            "Question_405_character_qa_close.pt\n"
          ]
        },
        {
          "output_type": "stream",
          "name": "stderr",
          "text": [
            "\n",
            "10it [00:00, 115.43it/s]\n",
            " 24%|██▍       | 275/1132 [00:44<02:18,  6.20it/s]"
          ]
        },
        {
          "output_type": "stream",
          "name": "stdout",
          "text": [
            "Question_406_character_qa_close.pt\n"
          ]
        },
        {
          "output_type": "stream",
          "name": "stderr",
          "text": [
            "\n",
            "10it [00:00, 104.73it/s]\n",
            " 24%|██▍       | 276/1132 [00:44<02:15,  6.31it/s]"
          ]
        },
        {
          "output_type": "stream",
          "name": "stdout",
          "text": [
            "Question_407_character_qa_close.pt\n"
          ]
        },
        {
          "output_type": "stream",
          "name": "stderr",
          "text": [
            "\n",
            "10it [00:00, 112.75it/s]\n",
            " 24%|██▍       | 277/1132 [00:44<02:10,  6.54it/s]"
          ]
        },
        {
          "output_type": "stream",
          "name": "stdout",
          "text": [
            "Question_408_character_qa_close.pt\n"
          ]
        },
        {
          "output_type": "stream",
          "name": "stderr",
          "text": [
            "\n",
            "10it [00:00, 109.68it/s]\n",
            " 25%|██▍       | 278/1132 [00:44<02:08,  6.62it/s]"
          ]
        },
        {
          "output_type": "stream",
          "name": "stdout",
          "text": [
            "Question_409_character_qa_close.pt\n"
          ]
        },
        {
          "output_type": "stream",
          "name": "stderr",
          "text": [
            "\n",
            "0it [00:00, ?it/s]\u001b[A\n",
            "10it [00:00, 75.51it/s]\n",
            " 25%|██▍       | 279/1132 [00:45<02:34,  5.52it/s]"
          ]
        },
        {
          "output_type": "stream",
          "name": "stdout",
          "text": [
            "Question_410_character_qa_close.pt\n"
          ]
        },
        {
          "output_type": "stream",
          "name": "stderr",
          "text": [
            "\n",
            "10it [00:00, 115.98it/s]\n",
            " 25%|██▍       | 280/1132 [00:45<02:25,  5.87it/s]"
          ]
        },
        {
          "output_type": "stream",
          "name": "stdout",
          "text": [
            "Question_411_character_qa_close.pt\n"
          ]
        },
        {
          "output_type": "stream",
          "name": "stderr",
          "text": [
            "\n",
            "10it [00:00, 109.54it/s]\n",
            " 25%|██▍       | 281/1132 [00:45<02:18,  6.15it/s]"
          ]
        },
        {
          "output_type": "stream",
          "name": "stdout",
          "text": [
            "Question_413_character_qa_close.pt\n"
          ]
        },
        {
          "output_type": "stream",
          "name": "stderr",
          "text": [
            "\n",
            "10it [00:00, 113.68it/s]\n",
            " 25%|██▍       | 282/1132 [00:45<02:12,  6.40it/s]"
          ]
        },
        {
          "output_type": "stream",
          "name": "stdout",
          "text": [
            "Question_412_character_qa_close.pt\n"
          ]
        },
        {
          "output_type": "stream",
          "name": "stderr",
          "text": [
            "\n",
            "10it [00:00, 110.17it/s]\n",
            " 25%|██▌       | 283/1132 [00:45<02:10,  6.49it/s]"
          ]
        },
        {
          "output_type": "stream",
          "name": "stdout",
          "text": [
            "Question_414_character_qa_close.pt\n"
          ]
        },
        {
          "output_type": "stream",
          "name": "stderr",
          "text": [
            "\n",
            "10it [00:00, 122.08it/s]\n",
            " 25%|██▌       | 284/1132 [00:45<02:06,  6.72it/s]"
          ]
        },
        {
          "output_type": "stream",
          "name": "stdout",
          "text": [
            "Question_415_character_qa_close.pt\n"
          ]
        },
        {
          "output_type": "stream",
          "name": "stderr",
          "text": [
            "\n",
            "10it [00:00, 120.15it/s]\n",
            " 25%|██▌       | 285/1132 [00:46<02:18,  6.13it/s]"
          ]
        },
        {
          "output_type": "stream",
          "name": "stdout",
          "text": [
            "Question_417_character_qa_close.pt\n"
          ]
        },
        {
          "output_type": "stream",
          "name": "stderr",
          "text": [
            "\n",
            "10it [00:00, 116.96it/s]\n",
            " 25%|██▌       | 286/1132 [00:46<02:12,  6.40it/s]"
          ]
        },
        {
          "output_type": "stream",
          "name": "stdout",
          "text": [
            "Question_416_character_qa_close.pt\n"
          ]
        },
        {
          "output_type": "stream",
          "name": "stderr",
          "text": [
            "\n",
            "10it [00:00, 120.09it/s]\n",
            " 25%|██▌       | 287/1132 [00:46<02:07,  6.65it/s]"
          ]
        },
        {
          "output_type": "stream",
          "name": "stdout",
          "text": [
            "Question_418_character_qa_close.pt\n"
          ]
        },
        {
          "output_type": "stream",
          "name": "stderr",
          "text": [
            "\n",
            "10it [00:00, 105.76it/s]\n",
            " 25%|██▌       | 288/1132 [00:46<02:07,  6.64it/s]"
          ]
        },
        {
          "output_type": "stream",
          "name": "stdout",
          "text": [
            "Question_419_character_qa_close.pt\n"
          ]
        },
        {
          "output_type": "stream",
          "name": "stderr",
          "text": [
            "\n",
            "10it [00:00, 120.47it/s]\n",
            " 26%|██▌       | 289/1132 [00:46<02:04,  6.77it/s]"
          ]
        },
        {
          "output_type": "stream",
          "name": "stdout",
          "text": [
            "Question_420_character_qa_close.pt\n"
          ]
        },
        {
          "output_type": "stream",
          "name": "stderr",
          "text": [
            "\n",
            "10it [00:00, 104.43it/s]\n",
            " 26%|██▌       | 290/1132 [00:46<02:04,  6.75it/s]"
          ]
        },
        {
          "output_type": "stream",
          "name": "stdout",
          "text": [
            "Question_421_character_qa_open.pt\n"
          ]
        },
        {
          "output_type": "stream",
          "name": "stderr",
          "text": [
            "\n",
            "10it [00:00, 120.45it/s]\n",
            " 26%|██▌       | 291/1132 [00:46<02:17,  6.14it/s]"
          ]
        },
        {
          "output_type": "stream",
          "name": "stdout",
          "text": [
            "Question_422_character_qa_open.pt\n"
          ]
        },
        {
          "output_type": "stream",
          "name": "stderr",
          "text": [
            "\n",
            "10it [00:00, 117.31it/s]\n",
            " 26%|██▌       | 292/1132 [00:47<02:09,  6.46it/s]"
          ]
        },
        {
          "output_type": "stream",
          "name": "stdout",
          "text": [
            "Question_423_character_qa_open.pt\n"
          ]
        },
        {
          "output_type": "stream",
          "name": "stderr",
          "text": [
            "\n",
            "10it [00:00, 110.18it/s]\n",
            " 26%|██▌       | 293/1132 [00:47<02:07,  6.57it/s]"
          ]
        },
        {
          "output_type": "stream",
          "name": "stdout",
          "text": [
            "Question_424_character_qa_open.pt\n"
          ]
        },
        {
          "output_type": "stream",
          "name": "stderr",
          "text": [
            "\n",
            "10it [00:00, 114.48it/s]\n",
            " 26%|██▌       | 294/1132 [00:47<02:04,  6.73it/s]"
          ]
        },
        {
          "output_type": "stream",
          "name": "stdout",
          "text": [
            "Question_425_character_qa_open.pt\n"
          ]
        },
        {
          "output_type": "stream",
          "name": "stderr",
          "text": [
            "\n",
            "10it [00:00, 111.38it/s]\n",
            " 26%|██▌       | 295/1132 [00:47<02:02,  6.81it/s]"
          ]
        },
        {
          "output_type": "stream",
          "name": "stdout",
          "text": [
            "Question_426_character_qa_open.pt\n"
          ]
        },
        {
          "output_type": "stream",
          "name": "stderr",
          "text": [
            "\n",
            "10it [00:00, 118.83it/s]\n",
            " 26%|██▌       | 296/1132 [00:47<02:00,  6.94it/s]"
          ]
        },
        {
          "output_type": "stream",
          "name": "stdout",
          "text": [
            "Question_427_character_qa_open.pt\n"
          ]
        },
        {
          "output_type": "stream",
          "name": "stderr",
          "text": [
            "\n",
            "10it [00:00, 115.22it/s]\n",
            " 26%|██▌       | 297/1132 [00:47<02:16,  6.11it/s]"
          ]
        },
        {
          "output_type": "stream",
          "name": "stdout",
          "text": [
            "Question_428_character_qa_open.pt\n"
          ]
        },
        {
          "output_type": "stream",
          "name": "stderr",
          "text": [
            "\n",
            "10it [00:00, 115.30it/s]\n",
            " 26%|██▋       | 298/1132 [00:48<02:09,  6.42it/s]"
          ]
        },
        {
          "output_type": "stream",
          "name": "stdout",
          "text": [
            "Question_429_character_qa_open.pt\n"
          ]
        },
        {
          "output_type": "stream",
          "name": "stderr",
          "text": [
            "\n",
            "10it [00:00, 122.82it/s]\n",
            " 26%|██▋       | 299/1132 [00:48<02:04,  6.71it/s]"
          ]
        },
        {
          "output_type": "stream",
          "name": "stdout",
          "text": [
            "Question_430_character_qa_open.pt\n"
          ]
        },
        {
          "output_type": "stream",
          "name": "stderr",
          "text": [
            "\n",
            "10it [00:00, 109.10it/s]\n",
            " 27%|██▋       | 300/1132 [00:48<02:02,  6.81it/s]"
          ]
        },
        {
          "output_type": "stream",
          "name": "stdout",
          "text": [
            "Question_431_character_qa_open.pt\n"
          ]
        },
        {
          "output_type": "stream",
          "name": "stderr",
          "text": [
            "\n",
            "10it [00:00, 119.47it/s]\n",
            " 27%|██▋       | 301/1132 [00:48<01:58,  6.98it/s]"
          ]
        },
        {
          "output_type": "stream",
          "name": "stdout",
          "text": [
            "Question_432_character_qa_open.pt\n"
          ]
        },
        {
          "output_type": "stream",
          "name": "stderr",
          "text": [
            "\n",
            "10it [00:00, 108.08it/s]\n",
            " 27%|██▋       | 302/1132 [00:48<01:58,  7.00it/s]"
          ]
        },
        {
          "output_type": "stream",
          "name": "stdout",
          "text": [
            "Question_433_character_qa_open.pt\n"
          ]
        },
        {
          "output_type": "stream",
          "name": "stderr",
          "text": [
            "\n",
            "10it [00:00, 121.89it/s]\n",
            " 27%|██▋       | 303/1132 [00:48<02:13,  6.23it/s]"
          ]
        },
        {
          "output_type": "stream",
          "name": "stdout",
          "text": [
            "Question_434_character_qa_open.pt\n"
          ]
        },
        {
          "output_type": "stream",
          "name": "stderr",
          "text": [
            "\n",
            "10it [00:00, 120.84it/s]\n",
            " 27%|██▋       | 304/1132 [00:48<02:06,  6.52it/s]"
          ]
        },
        {
          "output_type": "stream",
          "name": "stdout",
          "text": [
            "Question_435_character_qa_open.pt\n"
          ]
        },
        {
          "output_type": "stream",
          "name": "stderr",
          "text": [
            "\n",
            "10it [00:00, 109.81it/s]\n",
            " 27%|██▋       | 305/1132 [00:49<02:03,  6.68it/s]"
          ]
        },
        {
          "output_type": "stream",
          "name": "stdout",
          "text": [
            "Question_436_character_qa_open.pt\n"
          ]
        },
        {
          "output_type": "stream",
          "name": "stderr",
          "text": [
            "\n",
            "10it [00:00, 118.57it/s]\n",
            " 27%|██▋       | 306/1132 [00:49<01:59,  6.89it/s]"
          ]
        },
        {
          "output_type": "stream",
          "name": "stdout",
          "text": [
            "Question_437_character_qa_open.pt\n"
          ]
        },
        {
          "output_type": "stream",
          "name": "stderr",
          "text": [
            "\n",
            "10it [00:00, 108.91it/s]\n",
            " 27%|██▋       | 307/1132 [00:49<01:58,  6.96it/s]"
          ]
        },
        {
          "output_type": "stream",
          "name": "stdout",
          "text": [
            "Question_438_character_qa_open.pt\n"
          ]
        },
        {
          "output_type": "stream",
          "name": "stderr",
          "text": [
            "\n",
            "10it [00:00, 119.25it/s]\n",
            " 27%|██▋       | 308/1132 [00:49<01:56,  7.10it/s]"
          ]
        },
        {
          "output_type": "stream",
          "name": "stdout",
          "text": [
            "Question_439_character_qa_open.pt\n"
          ]
        },
        {
          "output_type": "stream",
          "name": "stderr",
          "text": [
            "\n",
            "10it [00:00, 115.51it/s]\n",
            " 27%|██▋       | 309/1132 [00:49<02:11,  6.24it/s]"
          ]
        },
        {
          "output_type": "stream",
          "name": "stdout",
          "text": [
            "Question_441_character_qa_open.pt\n"
          ]
        },
        {
          "output_type": "stream",
          "name": "stderr",
          "text": [
            "\n",
            "10it [00:00, 114.27it/s]\n",
            " 27%|██▋       | 310/1132 [00:49<02:06,  6.52it/s]"
          ]
        },
        {
          "output_type": "stream",
          "name": "stdout",
          "text": [
            "Question_440_character_qa_open.pt\n"
          ]
        },
        {
          "output_type": "stream",
          "name": "stderr",
          "text": [
            "\n",
            "10it [00:00, 120.44it/s]\n",
            " 27%|██▋       | 311/1132 [00:49<02:00,  6.81it/s]"
          ]
        },
        {
          "output_type": "stream",
          "name": "stdout",
          "text": [
            "Question_442_character_qa_open.pt\n"
          ]
        },
        {
          "output_type": "stream",
          "name": "stderr",
          "text": [
            "\n",
            "10it [00:00, 110.87it/s]\n",
            " 28%|██▊       | 312/1132 [00:50<01:58,  6.90it/s]"
          ]
        },
        {
          "output_type": "stream",
          "name": "stdout",
          "text": [
            "Question_443_character_qa_open.pt\n"
          ]
        },
        {
          "output_type": "stream",
          "name": "stderr",
          "text": [
            "\n",
            "10it [00:00, 118.47it/s]\n",
            " 28%|██▊       | 313/1132 [00:50<01:57,  7.00it/s]"
          ]
        },
        {
          "output_type": "stream",
          "name": "stdout",
          "text": [
            "Question_444_character_qa_open.pt\n"
          ]
        },
        {
          "output_type": "stream",
          "name": "stderr",
          "text": [
            "\n",
            "10it [00:00, 112.75it/s]\n",
            " 28%|██▊       | 314/1132 [00:50<01:55,  7.06it/s]"
          ]
        },
        {
          "output_type": "stream",
          "name": "stdout",
          "text": [
            "Question_445_character_qa_open.pt\n"
          ]
        },
        {
          "output_type": "stream",
          "name": "stderr",
          "text": [
            "\n",
            "10it [00:00, 120.06it/s]\n",
            " 28%|██▊       | 315/1132 [00:50<02:09,  6.30it/s]"
          ]
        },
        {
          "output_type": "stream",
          "name": "stdout",
          "text": [
            "Question_446_character_qa_open.pt\n"
          ]
        },
        {
          "output_type": "stream",
          "name": "stderr",
          "text": [
            "\n",
            "10it [00:00, 119.00it/s]\n",
            " 28%|██▊       | 316/1132 [00:50<02:03,  6.58it/s]"
          ]
        },
        {
          "output_type": "stream",
          "name": "stdout",
          "text": [
            "Question_447_character_qa_open.pt\n"
          ]
        },
        {
          "output_type": "stream",
          "name": "stderr",
          "text": [
            "\n",
            "10it [00:00, 105.39it/s]\n",
            " 28%|██▊       | 317/1132 [00:50<02:03,  6.63it/s]"
          ]
        },
        {
          "output_type": "stream",
          "name": "stdout",
          "text": [
            "Question_448_character_qa_open.pt\n"
          ]
        },
        {
          "output_type": "stream",
          "name": "stderr",
          "text": [
            "\n",
            "10it [00:00, 117.23it/s]\n",
            " 28%|██▊       | 318/1132 [00:50<02:00,  6.75it/s]"
          ]
        },
        {
          "output_type": "stream",
          "name": "stdout",
          "text": [
            "Question_449_character_qa_open.pt\n"
          ]
        },
        {
          "output_type": "stream",
          "name": "stderr",
          "text": [
            "\n",
            "10it [00:00, 112.46it/s]\n",
            " 28%|██▊       | 319/1132 [00:51<01:58,  6.86it/s]"
          ]
        },
        {
          "output_type": "stream",
          "name": "stdout",
          "text": [
            "Question_450_character_qa_open.pt\n"
          ]
        },
        {
          "output_type": "stream",
          "name": "stderr",
          "text": [
            "\n",
            "10it [00:00, 118.12it/s]\n",
            " 28%|██▊       | 320/1132 [00:51<01:55,  7.03it/s]"
          ]
        },
        {
          "output_type": "stream",
          "name": "stdout",
          "text": [
            "Question_451_character_qa_open.pt\n"
          ]
        },
        {
          "output_type": "stream",
          "name": "stderr",
          "text": [
            "\n",
            "10it [00:00, 115.83it/s]\n",
            " 28%|██▊       | 321/1132 [00:51<02:11,  6.18it/s]"
          ]
        },
        {
          "output_type": "stream",
          "name": "stdout",
          "text": [
            "Question_452_character_qa_close.pt\n"
          ]
        },
        {
          "output_type": "stream",
          "name": "stderr",
          "text": [
            "\n",
            "10it [00:00, 115.40it/s]\n",
            " 28%|██▊       | 322/1132 [00:51<02:04,  6.49it/s]"
          ]
        },
        {
          "output_type": "stream",
          "name": "stdout",
          "text": [
            "Question_453_character_qa_close.pt\n"
          ]
        },
        {
          "output_type": "stream",
          "name": "stderr",
          "text": [
            "\n",
            "10it [00:00, 117.19it/s]\n",
            " 29%|██▊       | 323/1132 [00:51<02:02,  6.63it/s]"
          ]
        },
        {
          "output_type": "stream",
          "name": "stdout",
          "text": [
            "Question_454_character_qa_close.pt\n"
          ]
        },
        {
          "output_type": "stream",
          "name": "stderr",
          "text": [
            "\n",
            "10it [00:00, 102.81it/s]\n",
            " 29%|██▊       | 324/1132 [00:51<02:02,  6.62it/s]"
          ]
        },
        {
          "output_type": "stream",
          "name": "stdout",
          "text": [
            "Question_455_character_qa_close.pt\n"
          ]
        },
        {
          "output_type": "stream",
          "name": "stderr",
          "text": [
            "\n",
            "10it [00:00, 116.71it/s]\n",
            " 29%|██▊       | 325/1132 [00:52<01:58,  6.81it/s]"
          ]
        },
        {
          "output_type": "stream",
          "name": "stdout",
          "text": [
            "Question_456_character_qa_close.pt\n"
          ]
        },
        {
          "output_type": "stream",
          "name": "stderr",
          "text": [
            "\n",
            "10it [00:00, 104.34it/s]\n",
            " 29%|██▉       | 326/1132 [00:52<01:57,  6.84it/s]"
          ]
        },
        {
          "output_type": "stream",
          "name": "stdout",
          "text": [
            "Question_457_character_qa_close.pt\n"
          ]
        },
        {
          "output_type": "stream",
          "name": "stderr",
          "text": [
            "\n",
            "10it [00:00, 114.83it/s]\n",
            " 29%|██▉       | 327/1132 [00:52<02:11,  6.10it/s]"
          ]
        },
        {
          "output_type": "stream",
          "name": "stdout",
          "text": [
            "Question_458_character_qa_close.pt\n"
          ]
        },
        {
          "output_type": "stream",
          "name": "stderr",
          "text": [
            "\n",
            "10it [00:00, 117.17it/s]\n",
            " 29%|██▉       | 328/1132 [00:52<02:05,  6.43it/s]"
          ]
        },
        {
          "output_type": "stream",
          "name": "stdout",
          "text": [
            "Question_459_character_qa_close.pt\n"
          ]
        },
        {
          "output_type": "stream",
          "name": "stderr",
          "text": [
            "\n",
            "10it [00:00, 107.06it/s]\n",
            " 29%|██▉       | 329/1132 [00:52<02:02,  6.55it/s]"
          ]
        },
        {
          "output_type": "stream",
          "name": "stdout",
          "text": [
            "Question_460_character_qa_close.pt\n"
          ]
        },
        {
          "output_type": "stream",
          "name": "stderr",
          "text": [
            "\n",
            "10it [00:00, 117.21it/s]\n",
            " 29%|██▉       | 330/1132 [00:52<01:59,  6.74it/s]"
          ]
        },
        {
          "output_type": "stream",
          "name": "stdout",
          "text": [
            "Question_461_character_qa_close.pt\n"
          ]
        },
        {
          "output_type": "stream",
          "name": "stderr",
          "text": [
            "\n",
            "10it [00:00, 112.17it/s]\n",
            " 29%|██▉       | 331/1132 [00:52<01:57,  6.83it/s]"
          ]
        },
        {
          "output_type": "stream",
          "name": "stdout",
          "text": [
            "Question_462_character_qa_close.pt\n"
          ]
        },
        {
          "output_type": "stream",
          "name": "stderr",
          "text": [
            "\n",
            "10it [00:00, 121.33it/s]\n",
            " 29%|██▉       | 332/1132 [00:53<01:53,  7.03it/s]"
          ]
        },
        {
          "output_type": "stream",
          "name": "stdout",
          "text": [
            "Question_463_character_qa_close.pt\n"
          ]
        },
        {
          "output_type": "stream",
          "name": "stderr",
          "text": [
            "\n",
            "10it [00:00, 112.24it/s]\n",
            " 29%|██▉       | 333/1132 [00:53<02:09,  6.19it/s]"
          ]
        },
        {
          "output_type": "stream",
          "name": "stdout",
          "text": [
            "Question_464_character_qa_close.pt\n"
          ]
        },
        {
          "output_type": "stream",
          "name": "stderr",
          "text": [
            "\n",
            "10it [00:00, 111.47it/s]\n",
            " 30%|██▉       | 334/1132 [00:53<02:03,  6.46it/s]"
          ]
        },
        {
          "output_type": "stream",
          "name": "stdout",
          "text": [
            "Question_465_character_qa_close.pt\n"
          ]
        },
        {
          "output_type": "stream",
          "name": "stderr",
          "text": [
            "\n",
            "10it [00:00, 123.68it/s]\n",
            " 30%|██▉       | 335/1132 [00:53<01:58,  6.70it/s]"
          ]
        },
        {
          "output_type": "stream",
          "name": "stdout",
          "text": [
            "Question_466_character_qa_close.pt\n"
          ]
        },
        {
          "output_type": "stream",
          "name": "stderr",
          "text": [
            "\n",
            "10it [00:00, 107.49it/s]\n",
            " 30%|██▉       | 336/1132 [00:53<01:58,  6.75it/s]"
          ]
        },
        {
          "output_type": "stream",
          "name": "stdout",
          "text": [
            "Question_467_character_qa_close.pt\n"
          ]
        },
        {
          "output_type": "stream",
          "name": "stderr",
          "text": [
            "\n",
            "10it [00:00, 119.37it/s]\n",
            " 30%|██▉       | 337/1132 [00:53<01:54,  6.94it/s]"
          ]
        },
        {
          "output_type": "stream",
          "name": "stdout",
          "text": [
            "Question_468_character_qa_close.pt\n"
          ]
        },
        {
          "output_type": "stream",
          "name": "stderr",
          "text": [
            "\n",
            "10it [00:00, 108.54it/s]\n",
            " 30%|██▉       | 338/1132 [00:53<01:55,  6.86it/s]"
          ]
        },
        {
          "output_type": "stream",
          "name": "stdout",
          "text": [
            "Question_469_character_qa_close.pt\n"
          ]
        },
        {
          "output_type": "stream",
          "name": "stderr",
          "text": [
            "\n",
            "10it [00:00, 120.47it/s]\n",
            " 30%|██▉       | 339/1132 [00:54<02:08,  6.17it/s]"
          ]
        },
        {
          "output_type": "stream",
          "name": "stdout",
          "text": [
            "Question_470_character_qa_close.pt\n"
          ]
        },
        {
          "output_type": "stream",
          "name": "stderr",
          "text": [
            "\n",
            "10it [00:00, 121.30it/s]\n",
            " 30%|███       | 340/1132 [00:54<02:01,  6.52it/s]"
          ]
        },
        {
          "output_type": "stream",
          "name": "stdout",
          "text": [
            "Question_471_character_qa_close.pt\n"
          ]
        },
        {
          "output_type": "stream",
          "name": "stderr",
          "text": [
            "\n",
            "10it [00:00, 111.08it/s]\n",
            " 30%|███       | 341/1132 [00:54<01:58,  6.66it/s]"
          ]
        },
        {
          "output_type": "stream",
          "name": "stdout",
          "text": [
            "Question_472_character_qa_close.pt\n"
          ]
        },
        {
          "output_type": "stream",
          "name": "stderr",
          "text": [
            "\n",
            "10it [00:00, 122.15it/s]\n",
            " 30%|███       | 342/1132 [00:54<01:54,  6.92it/s]"
          ]
        },
        {
          "output_type": "stream",
          "name": "stdout",
          "text": [
            "Question_473_character_qa_close.pt\n"
          ]
        },
        {
          "output_type": "stream",
          "name": "stderr",
          "text": [
            "\n",
            "10it [00:00, 107.78it/s]\n",
            " 30%|███       | 343/1132 [00:54<01:53,  6.94it/s]"
          ]
        },
        {
          "output_type": "stream",
          "name": "stdout",
          "text": [
            "Question_474_character_qa_close.pt\n"
          ]
        },
        {
          "output_type": "stream",
          "name": "stderr",
          "text": [
            "\n",
            "10it [00:00, 121.35it/s]\n",
            " 30%|███       | 344/1132 [00:54<01:51,  7.10it/s]"
          ]
        },
        {
          "output_type": "stream",
          "name": "stdout",
          "text": [
            "Question_475_character_qa_close.pt\n"
          ]
        },
        {
          "output_type": "stream",
          "name": "stderr",
          "text": [
            "\n",
            "10it [00:00, 117.07it/s]\n",
            " 30%|███       | 345/1132 [00:55<02:05,  6.25it/s]"
          ]
        },
        {
          "output_type": "stream",
          "name": "stdout",
          "text": [
            "Question_476_character_qa_close.pt\n"
          ]
        },
        {
          "output_type": "stream",
          "name": "stderr",
          "text": [
            "\n",
            "10it [00:00, 113.96it/s]\n",
            " 31%|███       | 346/1132 [00:55<02:00,  6.52it/s]"
          ]
        },
        {
          "output_type": "stream",
          "name": "stdout",
          "text": [
            "Question_478_character_qa_close.pt\n"
          ]
        },
        {
          "output_type": "stream",
          "name": "stderr",
          "text": [
            "\n",
            "10it [00:00, 112.13it/s]\n",
            " 31%|███       | 347/1132 [00:55<01:56,  6.72it/s]"
          ]
        },
        {
          "output_type": "stream",
          "name": "stdout",
          "text": [
            "Question_477_character_qa_close.pt\n"
          ]
        },
        {
          "output_type": "stream",
          "name": "stderr",
          "text": [
            "\n",
            "10it [00:00, 114.48it/s]\n",
            " 31%|███       | 348/1132 [00:55<01:54,  6.87it/s]"
          ]
        },
        {
          "output_type": "stream",
          "name": "stdout",
          "text": [
            "Question_479_character_qa_close.pt\n"
          ]
        },
        {
          "output_type": "stream",
          "name": "stderr",
          "text": [
            "\n",
            "10it [00:00, 119.11it/s]\n",
            " 31%|███       | 349/1132 [00:55<01:53,  6.93it/s]"
          ]
        },
        {
          "output_type": "stream",
          "name": "stdout",
          "text": [
            "Question_480_character_qa_close.pt\n"
          ]
        },
        {
          "output_type": "stream",
          "name": "stderr",
          "text": [
            "\n",
            "10it [00:00, 106.41it/s]\n",
            " 31%|███       | 350/1132 [00:55<01:52,  6.94it/s]"
          ]
        },
        {
          "output_type": "stream",
          "name": "stdout",
          "text": [
            "Question_481_character_qa_open.pt\n"
          ]
        },
        {
          "output_type": "stream",
          "name": "stderr",
          "text": [
            "\n",
            "10it [00:00, 119.33it/s]\n",
            " 31%|███       | 351/1132 [00:55<02:07,  6.11it/s]"
          ]
        },
        {
          "output_type": "stream",
          "name": "stdout",
          "text": [
            "Question_482_character_qa_open.pt\n"
          ]
        },
        {
          "output_type": "stream",
          "name": "stderr",
          "text": [
            "\n",
            "10it [00:00, 119.17it/s]\n",
            " 31%|███       | 352/1132 [00:56<02:01,  6.43it/s]"
          ]
        },
        {
          "output_type": "stream",
          "name": "stdout",
          "text": [
            "Question_483_character_qa_open.pt\n"
          ]
        },
        {
          "output_type": "stream",
          "name": "stderr",
          "text": [
            "\n",
            "10it [00:00, 108.96it/s]\n",
            " 31%|███       | 353/1132 [00:56<01:59,  6.50it/s]"
          ]
        },
        {
          "output_type": "stream",
          "name": "stdout",
          "text": [
            "Question_484_character_qa_open.pt\n"
          ]
        },
        {
          "output_type": "stream",
          "name": "stderr",
          "text": [
            "\n",
            "10it [00:00, 106.78it/s]\n",
            " 31%|███▏      | 354/1132 [00:56<01:57,  6.64it/s]"
          ]
        },
        {
          "output_type": "stream",
          "name": "stdout",
          "text": [
            "Question_485_character_qa_open.pt\n"
          ]
        },
        {
          "output_type": "stream",
          "name": "stderr",
          "text": [
            "\n",
            "0it [00:00, ?it/s]\u001b[A\n",
            "10it [00:00, 91.20it/s]\n",
            " 31%|███▏      | 355/1132 [00:56<02:00,  6.45it/s]"
          ]
        },
        {
          "output_type": "stream",
          "name": "stdout",
          "text": [
            "Question_486_character_qa_open.pt\n"
          ]
        },
        {
          "output_type": "stream",
          "name": "stderr",
          "text": [
            "\n",
            "10it [00:00, 120.86it/s]\n",
            " 31%|███▏      | 356/1132 [00:56<01:55,  6.71it/s]"
          ]
        },
        {
          "output_type": "stream",
          "name": "stdout",
          "text": [
            "Question_487_character_qa_open.pt\n"
          ]
        },
        {
          "output_type": "stream",
          "name": "stderr",
          "text": [
            "\n",
            "10it [00:00, 119.19it/s]\n",
            " 32%|███▏      | 357/1132 [00:56<02:07,  6.06it/s]"
          ]
        },
        {
          "output_type": "stream",
          "name": "stdout",
          "text": [
            "Question_488_character_qa_open.pt\n"
          ]
        },
        {
          "output_type": "stream",
          "name": "stderr",
          "text": [
            "\n",
            "10it [00:00, 118.97it/s]\n",
            " 32%|███▏      | 358/1132 [00:57<02:00,  6.41it/s]"
          ]
        },
        {
          "output_type": "stream",
          "name": "stdout",
          "text": [
            "Question_489_character_qa_open.pt\n"
          ]
        },
        {
          "output_type": "stream",
          "name": "stderr",
          "text": [
            "\n",
            "10it [00:00, 120.49it/s]\n",
            " 32%|███▏      | 359/1132 [00:57<01:55,  6.71it/s]"
          ]
        },
        {
          "output_type": "stream",
          "name": "stdout",
          "text": [
            "Question_490_character_qa_open.pt\n"
          ]
        },
        {
          "output_type": "stream",
          "name": "stderr",
          "text": [
            "\n",
            "10it [00:00, 114.43it/s]\n",
            " 32%|███▏      | 360/1132 [00:57<01:53,  6.83it/s]"
          ]
        },
        {
          "output_type": "stream",
          "name": "stdout",
          "text": [
            "Question_491_character_qa_open.pt\n"
          ]
        },
        {
          "output_type": "stream",
          "name": "stderr",
          "text": [
            "\n",
            "10it [00:00, 114.20it/s]\n",
            " 32%|███▏      | 361/1132 [00:57<01:52,  6.85it/s]"
          ]
        },
        {
          "output_type": "stream",
          "name": "stdout",
          "text": [
            "Question_492_character_qa_open.pt\n"
          ]
        },
        {
          "output_type": "stream",
          "name": "stderr",
          "text": [
            "\n",
            "10it [00:00, 111.52it/s]\n",
            " 32%|███▏      | 362/1132 [00:57<01:51,  6.91it/s]"
          ]
        },
        {
          "output_type": "stream",
          "name": "stdout",
          "text": [
            "Question_493_character_qa_open.pt\n"
          ]
        },
        {
          "output_type": "stream",
          "name": "stderr",
          "text": [
            "\n",
            "10it [00:00, 118.16it/s]\n",
            " 32%|███▏      | 363/1132 [00:57<02:04,  6.17it/s]"
          ]
        },
        {
          "output_type": "stream",
          "name": "stdout",
          "text": [
            "Question_494_character_qa_open.pt\n"
          ]
        },
        {
          "output_type": "stream",
          "name": "stderr",
          "text": [
            "\n",
            "10it [00:00, 117.28it/s]\n",
            " 32%|███▏      | 364/1132 [00:57<01:59,  6.40it/s]"
          ]
        },
        {
          "output_type": "stream",
          "name": "stdout",
          "text": [
            "Question_496_character_qa_open.pt\n"
          ]
        },
        {
          "output_type": "stream",
          "name": "stderr",
          "text": [
            "\n",
            "10it [00:00, 111.61it/s]\n",
            " 32%|███▏      | 365/1132 [00:58<01:55,  6.61it/s]"
          ]
        },
        {
          "output_type": "stream",
          "name": "stdout",
          "text": [
            "Question_495_character_qa_open.pt\n"
          ]
        },
        {
          "output_type": "stream",
          "name": "stderr",
          "text": [
            "\n",
            "10it [00:00, 117.64it/s]\n",
            " 32%|███▏      | 366/1132 [00:58<01:53,  6.75it/s]"
          ]
        },
        {
          "output_type": "stream",
          "name": "stdout",
          "text": [
            "Question_497_character_qa_open.pt\n"
          ]
        },
        {
          "output_type": "stream",
          "name": "stderr",
          "text": [
            "\n",
            "10it [00:00, 108.73it/s]\n",
            " 32%|███▏      | 367/1132 [00:58<01:52,  6.77it/s]"
          ]
        },
        {
          "output_type": "stream",
          "name": "stdout",
          "text": [
            "Question_498_character_qa_open.pt\n"
          ]
        },
        {
          "output_type": "stream",
          "name": "stderr",
          "text": [
            "\n",
            "10it [00:00, 119.02it/s]\n",
            " 33%|███▎      | 368/1132 [00:58<01:50,  6.94it/s]"
          ]
        },
        {
          "output_type": "stream",
          "name": "stdout",
          "text": [
            "Question_499_character_qa_open.pt\n"
          ]
        },
        {
          "output_type": "stream",
          "name": "stderr",
          "text": [
            "\n",
            "10it [00:00, 114.50it/s]\n",
            " 33%|███▎      | 369/1132 [00:58<02:05,  6.09it/s]"
          ]
        },
        {
          "output_type": "stream",
          "name": "stdout",
          "text": [
            "Question_500_character_qa_open.pt\n"
          ]
        },
        {
          "output_type": "stream",
          "name": "stderr",
          "text": [
            "\n",
            "10it [00:00, 112.01it/s]\n",
            " 33%|███▎      | 370/1132 [00:58<02:01,  6.29it/s]"
          ]
        },
        {
          "output_type": "stream",
          "name": "stdout",
          "text": [
            "Question_501_character_qa_open.pt\n"
          ]
        },
        {
          "output_type": "stream",
          "name": "stderr",
          "text": [
            "\n",
            "10it [00:00, 121.51it/s]\n",
            " 33%|███▎      | 371/1132 [00:58<01:56,  6.53it/s]"
          ]
        },
        {
          "output_type": "stream",
          "name": "stdout",
          "text": [
            "Question_502_character_qa_open.pt\n"
          ]
        },
        {
          "output_type": "stream",
          "name": "stderr",
          "text": [
            "\n",
            "10it [00:00, 109.58it/s]\n",
            " 33%|███▎      | 372/1132 [00:59<01:55,  6.59it/s]"
          ]
        },
        {
          "output_type": "stream",
          "name": "stdout",
          "text": [
            "Question_503_character_qa_open.pt\n"
          ]
        },
        {
          "output_type": "stream",
          "name": "stderr",
          "text": [
            "\n",
            "10it [00:00, 115.70it/s]\n",
            " 33%|███▎      | 373/1132 [00:59<01:53,  6.68it/s]"
          ]
        },
        {
          "output_type": "stream",
          "name": "stdout",
          "text": [
            "Question_504_character_qa_open.pt\n"
          ]
        },
        {
          "output_type": "stream",
          "name": "stderr",
          "text": [
            "\n",
            "10it [00:00, 109.76it/s]\n",
            " 33%|███▎      | 374/1132 [00:59<01:52,  6.75it/s]"
          ]
        },
        {
          "output_type": "stream",
          "name": "stdout",
          "text": [
            "Question_505_character_qa_open.pt\n"
          ]
        },
        {
          "output_type": "stream",
          "name": "stderr",
          "text": [
            "\n",
            "10it [00:00, 118.51it/s]\n",
            " 33%|███▎      | 375/1132 [00:59<02:05,  6.04it/s]"
          ]
        },
        {
          "output_type": "stream",
          "name": "stdout",
          "text": [
            "Question_506_character_qa_open.pt\n"
          ]
        },
        {
          "output_type": "stream",
          "name": "stderr",
          "text": [
            "\n",
            "10it [00:00, 120.57it/s]\n",
            " 33%|███▎      | 376/1132 [00:59<01:59,  6.33it/s]"
          ]
        },
        {
          "output_type": "stream",
          "name": "stdout",
          "text": [
            "Question_507_character_qa_open.pt\n"
          ]
        },
        {
          "output_type": "stream",
          "name": "stderr",
          "text": [
            "\n",
            "10it [00:00, 114.95it/s]\n",
            " 33%|███▎      | 377/1132 [00:59<01:54,  6.60it/s]"
          ]
        },
        {
          "output_type": "stream",
          "name": "stdout",
          "text": [
            "Question_508_character_qa_open.pt\n"
          ]
        },
        {
          "output_type": "stream",
          "name": "stderr",
          "text": [
            "\n",
            "10it [00:00, 116.05it/s]\n",
            " 33%|███▎      | 378/1132 [01:00<01:50,  6.82it/s]"
          ]
        },
        {
          "output_type": "stream",
          "name": "stdout",
          "text": [
            "Question_509_character_qa_open.pt\n"
          ]
        },
        {
          "output_type": "stream",
          "name": "stderr",
          "text": [
            "\n",
            "10it [00:00, 108.53it/s]\n",
            " 33%|███▎      | 379/1132 [01:00<01:50,  6.84it/s]"
          ]
        },
        {
          "output_type": "stream",
          "name": "stdout",
          "text": [
            "Question_510_character_qa_open.pt\n"
          ]
        },
        {
          "output_type": "stream",
          "name": "stderr",
          "text": [
            "\n",
            "10it [00:00, 120.57it/s]\n",
            " 34%|███▎      | 380/1132 [01:00<01:48,  6.90it/s]"
          ]
        },
        {
          "output_type": "stream",
          "name": "stdout",
          "text": [
            "Question_511_character_qa_open.pt\n"
          ]
        },
        {
          "output_type": "stream",
          "name": "stderr",
          "text": [
            "\n",
            "10it [00:00, 117.13it/s]\n",
            " 34%|███▎      | 381/1132 [01:00<02:02,  6.11it/s]"
          ]
        },
        {
          "output_type": "stream",
          "name": "stdout",
          "text": [
            "Question_512_character_qa_close.pt\n"
          ]
        },
        {
          "output_type": "stream",
          "name": "stderr",
          "text": [
            "\n",
            "10it [00:00, 115.70it/s]\n",
            " 34%|███▎      | 382/1132 [01:00<01:56,  6.43it/s]"
          ]
        },
        {
          "output_type": "stream",
          "name": "stdout",
          "text": [
            "Question_513_character_qa_close.pt\n"
          ]
        },
        {
          "output_type": "stream",
          "name": "stderr",
          "text": [
            "\n",
            "10it [00:00, 113.91it/s]\n",
            " 34%|███▍      | 383/1132 [01:00<01:52,  6.67it/s]"
          ]
        },
        {
          "output_type": "stream",
          "name": "stdout",
          "text": [
            "Question_514_character_qa_close.pt\n"
          ]
        },
        {
          "output_type": "stream",
          "name": "stderr",
          "text": [
            "\n",
            "10it [00:00, 113.42it/s]\n",
            " 34%|███▍      | 384/1132 [01:00<01:49,  6.83it/s]"
          ]
        },
        {
          "output_type": "stream",
          "name": "stdout",
          "text": [
            "Question_515_character_qa_close.pt\n"
          ]
        },
        {
          "output_type": "stream",
          "name": "stderr",
          "text": [
            "\n",
            "10it [00:00, 116.38it/s]\n",
            " 34%|███▍      | 385/1132 [01:01<01:46,  6.98it/s]"
          ]
        },
        {
          "output_type": "stream",
          "name": "stdout",
          "text": [
            "Question_516_character_qa_close.pt\n"
          ]
        },
        {
          "output_type": "stream",
          "name": "stderr",
          "text": [
            "\n",
            "10it [00:00, 112.85it/s]\n",
            " 34%|███▍      | 386/1132 [01:01<01:45,  7.06it/s]"
          ]
        },
        {
          "output_type": "stream",
          "name": "stdout",
          "text": [
            "Question_517_character_qa_close.pt\n"
          ]
        },
        {
          "output_type": "stream",
          "name": "stderr",
          "text": [
            "\n",
            "10it [00:00, 119.62it/s]\n",
            " 34%|███▍      | 387/1132 [01:01<01:58,  6.30it/s]"
          ]
        },
        {
          "output_type": "stream",
          "name": "stdout",
          "text": [
            "Question_519_character_qa_close.pt\n"
          ]
        },
        {
          "output_type": "stream",
          "name": "stderr",
          "text": [
            "\n",
            "10it [00:00, 122.38it/s]\n",
            " 34%|███▍      | 388/1132 [01:01<01:52,  6.64it/s]"
          ]
        },
        {
          "output_type": "stream",
          "name": "stdout",
          "text": [
            "Question_518_character_qa_close.pt\n"
          ]
        },
        {
          "output_type": "stream",
          "name": "stderr",
          "text": [
            "\n",
            "10it [00:00, 113.20it/s]\n",
            " 34%|███▍      | 389/1132 [01:01<01:49,  6.81it/s]"
          ]
        },
        {
          "output_type": "stream",
          "name": "stdout",
          "text": [
            "Question_520_character_qa_close.pt\n"
          ]
        },
        {
          "output_type": "stream",
          "name": "stderr",
          "text": [
            "\n",
            "10it [00:00, 117.61it/s]\n",
            " 34%|███▍      | 390/1132 [01:01<01:46,  6.98it/s]"
          ]
        },
        {
          "output_type": "stream",
          "name": "stdout",
          "text": [
            "Question_521_character_qa_close.pt\n"
          ]
        },
        {
          "output_type": "stream",
          "name": "stderr",
          "text": [
            "\n",
            "0it [00:00, ?it/s]\u001b[A\n",
            "10it [00:00, 95.84it/s]\n",
            " 35%|███▍      | 391/1132 [01:01<01:48,  6.83it/s]"
          ]
        },
        {
          "output_type": "stream",
          "name": "stdout",
          "text": [
            "Question_523_character_qa_close.pt\n"
          ]
        },
        {
          "output_type": "stream",
          "name": "stderr",
          "text": [
            "\n",
            "10it [00:00, 119.75it/s]\n",
            " 35%|███▍      | 392/1132 [01:02<01:46,  6.95it/s]"
          ]
        },
        {
          "output_type": "stream",
          "name": "stdout",
          "text": [
            "Question_522_character_qa_close.pt\n"
          ]
        },
        {
          "output_type": "stream",
          "name": "stderr",
          "text": [
            "\n",
            "10it [00:00, 110.66it/s]\n",
            " 35%|███▍      | 393/1132 [01:02<02:01,  6.09it/s]"
          ]
        },
        {
          "output_type": "stream",
          "name": "stdout",
          "text": [
            "Question_524_character_qa_close.pt\n"
          ]
        },
        {
          "output_type": "stream",
          "name": "stderr",
          "text": [
            "\n",
            "10it [00:00, 116.68it/s]\n",
            " 35%|███▍      | 394/1132 [01:02<01:55,  6.41it/s]"
          ]
        },
        {
          "output_type": "stream",
          "name": "stdout",
          "text": [
            "Question_526_character_qa_close.pt\n"
          ]
        },
        {
          "output_type": "stream",
          "name": "stderr",
          "text": [
            "\n",
            "10it [00:00, 118.78it/s]\n",
            " 35%|███▍      | 395/1132 [01:02<01:50,  6.69it/s]"
          ]
        },
        {
          "output_type": "stream",
          "name": "stdout",
          "text": [
            "Question_525_character_qa_close.pt\n"
          ]
        },
        {
          "output_type": "stream",
          "name": "stderr",
          "text": [
            "\n",
            "10it [00:00, 113.51it/s]\n",
            " 35%|███▍      | 396/1132 [01:02<01:47,  6.84it/s]"
          ]
        },
        {
          "output_type": "stream",
          "name": "stdout",
          "text": [
            "Question_528_character_qa_close.pt\n"
          ]
        },
        {
          "output_type": "stream",
          "name": "stderr",
          "text": [
            "\n",
            "10it [00:00, 113.81it/s]\n",
            " 35%|███▌      | 397/1132 [01:02<01:45,  6.96it/s]"
          ]
        },
        {
          "output_type": "stream",
          "name": "stdout",
          "text": [
            "Question_527_character_qa_close.pt\n"
          ]
        },
        {
          "output_type": "stream",
          "name": "stderr",
          "text": [
            "\n",
            "10it [00:00, 108.45it/s]\n",
            " 35%|███▌      | 398/1132 [01:03<01:46,  6.91it/s]"
          ]
        },
        {
          "output_type": "stream",
          "name": "stdout",
          "text": [
            "Question_529_character_qa_close.pt\n"
          ]
        },
        {
          "output_type": "stream",
          "name": "stderr",
          "text": [
            "\n",
            "10it [00:00, 122.28it/s]\n",
            " 35%|███▌      | 399/1132 [01:03<01:57,  6.25it/s]"
          ]
        },
        {
          "output_type": "stream",
          "name": "stdout",
          "text": [
            "Question_530_character_qa_close.pt\n"
          ]
        },
        {
          "output_type": "stream",
          "name": "stderr",
          "text": [
            "\n",
            "10it [00:00, 120.50it/s]\n",
            " 35%|███▌      | 400/1132 [01:03<01:51,  6.56it/s]"
          ]
        },
        {
          "output_type": "stream",
          "name": "stdout",
          "text": [
            "Question_531_character_qa_close.pt\n"
          ]
        },
        {
          "output_type": "stream",
          "name": "stderr",
          "text": [
            "\n",
            "10it [00:00, 112.84it/s]\n",
            " 35%|███▌      | 401/1132 [01:03<01:48,  6.74it/s]"
          ]
        },
        {
          "output_type": "stream",
          "name": "stdout",
          "text": [
            "Question_532_character_qa_close.pt\n"
          ]
        },
        {
          "output_type": "stream",
          "name": "stderr",
          "text": [
            "\n",
            "10it [00:00, 118.53it/s]\n",
            " 36%|███▌      | 402/1132 [01:03<01:45,  6.92it/s]"
          ]
        },
        {
          "output_type": "stream",
          "name": "stdout",
          "text": [
            "Question_533_character_qa_close.pt\n"
          ]
        },
        {
          "output_type": "stream",
          "name": "stderr",
          "text": [
            "\n",
            "10it [00:00, 115.70it/s]\n",
            " 36%|███▌      | 403/1132 [01:03<01:44,  7.00it/s]"
          ]
        },
        {
          "output_type": "stream",
          "name": "stdout",
          "text": [
            "Question_534_character_qa_close.pt\n"
          ]
        },
        {
          "output_type": "stream",
          "name": "stderr",
          "text": [
            "\n",
            "10it [00:00, 118.39it/s]\n",
            " 36%|███▌      | 404/1132 [01:03<01:42,  7.12it/s]"
          ]
        },
        {
          "output_type": "stream",
          "name": "stdout",
          "text": [
            "Question_535_character_qa_close.pt\n"
          ]
        },
        {
          "output_type": "stream",
          "name": "stderr",
          "text": [
            "\n",
            "10it [00:00, 116.28it/s]\n",
            " 36%|███▌      | 405/1132 [01:04<01:56,  6.22it/s]"
          ]
        },
        {
          "output_type": "stream",
          "name": "stdout",
          "text": [
            "Question_536_character_qa_close.pt\n"
          ]
        },
        {
          "output_type": "stream",
          "name": "stderr",
          "text": [
            "\n",
            "10it [00:00, 110.51it/s]\n",
            " 36%|███▌      | 406/1132 [01:04<01:52,  6.47it/s]"
          ]
        },
        {
          "output_type": "stream",
          "name": "stdout",
          "text": [
            "Question_537_character_qa_close.pt\n"
          ]
        },
        {
          "output_type": "stream",
          "name": "stderr",
          "text": [
            "\n",
            "10it [00:00, 117.57it/s]\n",
            " 36%|███▌      | 407/1132 [01:04<01:48,  6.66it/s]"
          ]
        },
        {
          "output_type": "stream",
          "name": "stdout",
          "text": [
            "Question_538_character_qa_close.pt\n"
          ]
        },
        {
          "output_type": "stream",
          "name": "stderr",
          "text": [
            "\n",
            "10it [00:00, 106.49it/s]\n",
            " 36%|███▌      | 408/1132 [01:04<01:47,  6.73it/s]"
          ]
        },
        {
          "output_type": "stream",
          "name": "stdout",
          "text": [
            "Question_539_character_qa_close.pt\n"
          ]
        },
        {
          "output_type": "stream",
          "name": "stderr",
          "text": [
            "\n",
            "10it [00:00, 117.47it/s]\n",
            " 36%|███▌      | 409/1132 [01:04<01:45,  6.87it/s]"
          ]
        },
        {
          "output_type": "stream",
          "name": "stdout",
          "text": [
            "Question_540_character_qa_close.pt\n"
          ]
        },
        {
          "output_type": "stream",
          "name": "stderr",
          "text": [
            "\n",
            "10it [00:00, 103.65it/s]\n",
            " 36%|███▌      | 410/1132 [01:04<01:46,  6.77it/s]"
          ]
        },
        {
          "output_type": "stream",
          "name": "stdout",
          "text": [
            "Question_541_character_qa_open.pt\n"
          ]
        },
        {
          "output_type": "stream",
          "name": "stderr",
          "text": [
            "\n",
            "10it [00:00, 121.49it/s]\n",
            " 36%|███▋      | 411/1132 [01:05<01:57,  6.12it/s]"
          ]
        },
        {
          "output_type": "stream",
          "name": "stdout",
          "text": [
            "Question_542_character_qa_open.pt\n"
          ]
        },
        {
          "output_type": "stream",
          "name": "stderr",
          "text": [
            "\n",
            "10it [00:00, 121.83it/s]\n",
            " 36%|███▋      | 412/1132 [01:05<01:52,  6.43it/s]"
          ]
        },
        {
          "output_type": "stream",
          "name": "stdout",
          "text": [
            "Question_543_character_qa_open.pt\n"
          ]
        },
        {
          "output_type": "stream",
          "name": "stderr",
          "text": [
            "\n",
            "10it [00:00, 109.85it/s]\n",
            " 36%|███▋      | 413/1132 [01:05<01:50,  6.50it/s]"
          ]
        },
        {
          "output_type": "stream",
          "name": "stdout",
          "text": [
            "Question_545_character_qa_open.pt\n"
          ]
        },
        {
          "output_type": "stream",
          "name": "stderr",
          "text": [
            "\n",
            "10it [00:00, 113.02it/s]\n",
            " 37%|███▋      | 414/1132 [01:05<01:47,  6.68it/s]"
          ]
        },
        {
          "output_type": "stream",
          "name": "stdout",
          "text": [
            "Question_544_character_qa_open.pt\n"
          ]
        },
        {
          "output_type": "stream",
          "name": "stderr",
          "text": [
            "\n",
            "10it [00:00, 107.48it/s]\n",
            " 37%|███▋      | 415/1132 [01:05<01:46,  6.73it/s]"
          ]
        },
        {
          "output_type": "stream",
          "name": "stdout",
          "text": [
            "Question_546_character_qa_open.pt\n"
          ]
        },
        {
          "output_type": "stream",
          "name": "stderr",
          "text": [
            "\n",
            "10it [00:00, 118.73it/s]\n",
            " 37%|███▋      | 416/1132 [01:05<01:43,  6.92it/s]"
          ]
        },
        {
          "output_type": "stream",
          "name": "stdout",
          "text": [
            "Question_547_character_qa_open.pt\n"
          ]
        },
        {
          "output_type": "stream",
          "name": "stderr",
          "text": [
            "\n",
            "10it [00:00, 115.49it/s]\n",
            " 37%|███▋      | 417/1132 [01:05<01:56,  6.13it/s]"
          ]
        },
        {
          "output_type": "stream",
          "name": "stdout",
          "text": [
            "Question_549_character_qa_open.pt\n"
          ]
        },
        {
          "output_type": "stream",
          "name": "stderr",
          "text": [
            "\n",
            "10it [00:00, 112.23it/s]\n",
            " 37%|███▋      | 418/1132 [01:06<01:52,  6.37it/s]"
          ]
        },
        {
          "output_type": "stream",
          "name": "stdout",
          "text": [
            "Question_548_character_qa_open.pt\n"
          ]
        },
        {
          "output_type": "stream",
          "name": "stderr",
          "text": [
            "\n",
            "10it [00:00, 120.32it/s]\n",
            " 37%|███▋      | 419/1132 [01:06<01:47,  6.65it/s]"
          ]
        },
        {
          "output_type": "stream",
          "name": "stdout",
          "text": [
            "Question_550_character_qa_open.pt\n"
          ]
        },
        {
          "output_type": "stream",
          "name": "stderr",
          "text": [
            "\n",
            "10it [00:00, 103.05it/s]\n",
            " 37%|███▋      | 420/1132 [01:06<01:48,  6.59it/s]"
          ]
        },
        {
          "output_type": "stream",
          "name": "stdout",
          "text": [
            "Question_551_character_qa_open.pt\n"
          ]
        },
        {
          "output_type": "stream",
          "name": "stderr",
          "text": [
            "\n",
            "10it [00:00, 121.05it/s]\n",
            " 37%|███▋      | 421/1132 [01:06<01:44,  6.83it/s]"
          ]
        },
        {
          "output_type": "stream",
          "name": "stdout",
          "text": [
            "Question_553_character_qa_open.pt\n"
          ]
        },
        {
          "output_type": "stream",
          "name": "stderr",
          "text": [
            "\n",
            "10it [00:00, 105.65it/s]\n",
            " 37%|███▋      | 422/1132 [01:06<01:44,  6.82it/s]"
          ]
        },
        {
          "output_type": "stream",
          "name": "stdout",
          "text": [
            "Question_552_character_qa_open.pt\n"
          ]
        },
        {
          "output_type": "stream",
          "name": "stderr",
          "text": [
            "\n",
            "10it [00:00, 122.76it/s]\n",
            " 37%|███▋      | 423/1132 [01:06<01:54,  6.19it/s]"
          ]
        },
        {
          "output_type": "stream",
          "name": "stdout",
          "text": [
            "Question_555_character_qa_open.pt\n"
          ]
        },
        {
          "output_type": "stream",
          "name": "stderr",
          "text": [
            "\n",
            "10it [00:00, 120.23it/s]\n",
            " 37%|███▋      | 424/1132 [01:06<01:48,  6.52it/s]"
          ]
        },
        {
          "output_type": "stream",
          "name": "stdout",
          "text": [
            "Question_554_character_qa_open.pt\n"
          ]
        },
        {
          "output_type": "stream",
          "name": "stderr",
          "text": [
            "\n",
            "10it [00:00, 114.74it/s]\n",
            " 38%|███▊      | 425/1132 [01:07<01:45,  6.71it/s]"
          ]
        },
        {
          "output_type": "stream",
          "name": "stdout",
          "text": [
            "Question_556_character_qa_open.pt\n"
          ]
        },
        {
          "output_type": "stream",
          "name": "stderr",
          "text": [
            "\n",
            "10it [00:00, 115.56it/s]\n",
            " 38%|███▊      | 426/1132 [01:07<01:43,  6.83it/s]"
          ]
        },
        {
          "output_type": "stream",
          "name": "stdout",
          "text": [
            "Question_557_character_qa_open.pt\n"
          ]
        },
        {
          "output_type": "stream",
          "name": "stderr",
          "text": [
            "\n",
            "10it [00:00, 106.46it/s]\n",
            " 38%|███▊      | 427/1132 [01:07<01:42,  6.87it/s]"
          ]
        },
        {
          "output_type": "stream",
          "name": "stdout",
          "text": [
            "Question_558_character_qa_open.pt\n"
          ]
        },
        {
          "output_type": "stream",
          "name": "stderr",
          "text": [
            "\n",
            "10it [00:00, 117.11it/s]\n",
            " 38%|███▊      | 428/1132 [01:07<01:40,  6.98it/s]"
          ]
        },
        {
          "output_type": "stream",
          "name": "stdout",
          "text": [
            "Question_559_character_qa_open.pt\n"
          ]
        },
        {
          "output_type": "stream",
          "name": "stderr",
          "text": [
            "\n",
            "10it [00:00, 119.09it/s]\n",
            " 38%|███▊      | 429/1132 [01:07<01:54,  6.15it/s]"
          ]
        },
        {
          "output_type": "stream",
          "name": "stdout",
          "text": [
            "Question_560_character_qa_open.pt\n"
          ]
        },
        {
          "output_type": "stream",
          "name": "stderr",
          "text": [
            "\n",
            "10it [00:00, 118.41it/s]\n",
            " 38%|███▊      | 430/1132 [01:07<01:48,  6.44it/s]"
          ]
        },
        {
          "output_type": "stream",
          "name": "stdout",
          "text": [
            "Question_561_character_qa_open.pt\n"
          ]
        },
        {
          "output_type": "stream",
          "name": "stderr",
          "text": [
            "\n",
            "10it [00:00, 119.77it/s]\n",
            " 38%|███▊      | 431/1132 [01:08<01:44,  6.68it/s]"
          ]
        },
        {
          "output_type": "stream",
          "name": "stdout",
          "text": [
            "Question_562_character_qa_open.pt\n"
          ]
        },
        {
          "output_type": "stream",
          "name": "stderr",
          "text": [
            "\n",
            "10it [00:00, 114.41it/s]\n",
            " 38%|███▊      | 432/1132 [01:08<01:43,  6.77it/s]"
          ]
        },
        {
          "output_type": "stream",
          "name": "stdout",
          "text": [
            "Question_563_character_qa_open.pt\n"
          ]
        },
        {
          "output_type": "stream",
          "name": "stderr",
          "text": [
            "\n",
            "10it [00:00, 119.41it/s]\n",
            " 38%|███▊      | 433/1132 [01:08<01:40,  6.95it/s]"
          ]
        },
        {
          "output_type": "stream",
          "name": "stdout",
          "text": [
            "Question_564_character_qa_open.pt\n"
          ]
        },
        {
          "output_type": "stream",
          "name": "stderr",
          "text": [
            "\n",
            "10it [00:00, 105.97it/s]\n",
            " 38%|███▊      | 434/1132 [01:08<01:40,  6.94it/s]"
          ]
        },
        {
          "output_type": "stream",
          "name": "stdout",
          "text": [
            "Question_565_character_qa_open.pt\n"
          ]
        },
        {
          "output_type": "stream",
          "name": "stderr",
          "text": [
            "\n",
            "10it [00:00, 121.11it/s]\n",
            " 38%|███▊      | 435/1132 [01:08<01:51,  6.25it/s]"
          ]
        },
        {
          "output_type": "stream",
          "name": "stdout",
          "text": [
            "Question_566_character_qa_open.pt\n"
          ]
        },
        {
          "output_type": "stream",
          "name": "stderr",
          "text": [
            "\n",
            "10it [00:00, 121.05it/s]\n",
            " 39%|███▊      | 436/1132 [01:08<01:45,  6.57it/s]"
          ]
        },
        {
          "output_type": "stream",
          "name": "stdout",
          "text": [
            "Question_568_character_qa_open.pt\n"
          ]
        },
        {
          "output_type": "stream",
          "name": "stderr",
          "text": [
            "\n",
            "10it [00:00, 112.47it/s]\n",
            " 39%|███▊      | 437/1132 [01:08<01:44,  6.65it/s]"
          ]
        },
        {
          "output_type": "stream",
          "name": "stdout",
          "text": [
            "Question_567_character_qa_open.pt\n"
          ]
        },
        {
          "output_type": "stream",
          "name": "stderr",
          "text": [
            "\n",
            "10it [00:00, 118.43it/s]\n",
            " 39%|███▊      | 438/1132 [01:09<01:41,  6.82it/s]"
          ]
        },
        {
          "output_type": "stream",
          "name": "stdout",
          "text": [
            "Question_569_character_qa_open.pt\n"
          ]
        },
        {
          "output_type": "stream",
          "name": "stderr",
          "text": [
            "\n",
            "10it [00:00, 109.92it/s]\n",
            " 39%|███▉      | 439/1132 [01:09<01:42,  6.79it/s]"
          ]
        },
        {
          "output_type": "stream",
          "name": "stdout",
          "text": [
            "Question_570_character_qa_open.pt\n"
          ]
        },
        {
          "output_type": "stream",
          "name": "stderr",
          "text": [
            "\n",
            "10it [00:00, 113.63it/s]\n",
            " 39%|███▉      | 440/1132 [01:09<01:40,  6.87it/s]"
          ]
        },
        {
          "output_type": "stream",
          "name": "stdout",
          "text": [
            "Question_571_character_qa_open.pt\n"
          ]
        },
        {
          "output_type": "stream",
          "name": "stderr",
          "text": [
            "\n",
            "10it [00:00, 113.93it/s]\n",
            " 39%|███▉      | 441/1132 [01:09<01:53,  6.09it/s]"
          ]
        },
        {
          "output_type": "stream",
          "name": "stdout",
          "text": [
            "Question_572_character_qa_close.pt\n"
          ]
        },
        {
          "output_type": "stream",
          "name": "stderr",
          "text": [
            "\n",
            "10it [00:00, 114.53it/s]\n",
            " 39%|███▉      | 442/1132 [01:09<01:47,  6.41it/s]"
          ]
        },
        {
          "output_type": "stream",
          "name": "stdout",
          "text": [
            "Question_573_character_qa_close.pt\n"
          ]
        },
        {
          "output_type": "stream",
          "name": "stderr",
          "text": [
            "\n",
            "10it [00:00, 118.17it/s]\n",
            " 39%|███▉      | 443/1132 [01:09<01:44,  6.62it/s]"
          ]
        },
        {
          "output_type": "stream",
          "name": "stdout",
          "text": [
            "Question_574_character_qa_close.pt\n"
          ]
        },
        {
          "output_type": "stream",
          "name": "stderr",
          "text": [
            "\n",
            "10it [00:00, 106.90it/s]\n",
            " 39%|███▉      | 444/1132 [01:10<01:43,  6.65it/s]"
          ]
        },
        {
          "output_type": "stream",
          "name": "stdout",
          "text": [
            "Question_575_character_qa_close.pt\n"
          ]
        },
        {
          "output_type": "stream",
          "name": "stderr",
          "text": [
            "\n",
            "10it [00:00, 107.13it/s]\n",
            " 39%|███▉      | 445/1132 [01:10<01:42,  6.72it/s]"
          ]
        },
        {
          "output_type": "stream",
          "name": "stdout",
          "text": [
            "Question_576_character_qa_close.pt\n"
          ]
        },
        {
          "output_type": "stream",
          "name": "stderr",
          "text": [
            "\n",
            "10it [00:00, 104.62it/s]\n",
            " 39%|███▉      | 446/1132 [01:10<01:42,  6.72it/s]"
          ]
        },
        {
          "output_type": "stream",
          "name": "stdout",
          "text": [
            "Question_577_character_qa_close.pt\n"
          ]
        },
        {
          "output_type": "stream",
          "name": "stderr",
          "text": [
            "\n",
            "10it [00:00, 116.85it/s]\n",
            " 39%|███▉      | 447/1132 [01:10<01:54,  5.98it/s]"
          ]
        },
        {
          "output_type": "stream",
          "name": "stdout",
          "text": [
            "Question_578_character_qa_close.pt\n"
          ]
        },
        {
          "output_type": "stream",
          "name": "stderr",
          "text": [
            "\n",
            "10it [00:00, 114.52it/s]\n",
            " 40%|███▉      | 448/1132 [01:10<01:49,  6.27it/s]"
          ]
        },
        {
          "output_type": "stream",
          "name": "stdout",
          "text": [
            "Question_579_character_qa_close.pt\n"
          ]
        },
        {
          "output_type": "stream",
          "name": "stderr",
          "text": [
            "\n",
            "10it [00:00, 111.56it/s]\n",
            " 40%|███▉      | 449/1132 [01:10<01:45,  6.47it/s]"
          ]
        },
        {
          "output_type": "stream",
          "name": "stdout",
          "text": [
            "Question_580_character_qa_close.pt\n"
          ]
        },
        {
          "output_type": "stream",
          "name": "stderr",
          "text": [
            "\n",
            "10it [00:00, 117.59it/s]\n",
            " 40%|███▉      | 450/1132 [01:10<01:42,  6.65it/s]"
          ]
        },
        {
          "output_type": "stream",
          "name": "stdout",
          "text": [
            "Question_581_character_qa_close.pt\n"
          ]
        },
        {
          "output_type": "stream",
          "name": "stderr",
          "text": [
            "\n",
            "10it [00:00, 111.34it/s]\n",
            " 40%|███▉      | 451/1132 [01:11<01:40,  6.76it/s]"
          ]
        },
        {
          "output_type": "stream",
          "name": "stdout",
          "text": [
            "Question_582_character_qa_close.pt\n"
          ]
        },
        {
          "output_type": "stream",
          "name": "stderr",
          "text": [
            "\n",
            "10it [00:00, 119.58it/s]\n",
            " 40%|███▉      | 452/1132 [01:11<01:39,  6.82it/s]"
          ]
        },
        {
          "output_type": "stream",
          "name": "stdout",
          "text": [
            "Question_583_character_qa_close.pt\n"
          ]
        },
        {
          "output_type": "stream",
          "name": "stderr",
          "text": [
            "\n",
            "10it [00:00, 116.32it/s]\n",
            " 40%|████      | 453/1132 [01:11<01:53,  6.00it/s]"
          ]
        },
        {
          "output_type": "stream",
          "name": "stdout",
          "text": [
            "Question_584_character_qa_close.pt\n"
          ]
        },
        {
          "output_type": "stream",
          "name": "stderr",
          "text": [
            "\n",
            "10it [00:00, 114.90it/s]\n",
            " 40%|████      | 454/1132 [01:11<01:47,  6.32it/s]"
          ]
        },
        {
          "output_type": "stream",
          "name": "stdout",
          "text": [
            "Question_586_character_qa_close.pt\n"
          ]
        },
        {
          "output_type": "stream",
          "name": "stderr",
          "text": [
            "\n",
            "10it [00:00, 112.56it/s]\n",
            " 40%|████      | 455/1132 [01:11<01:43,  6.55it/s]"
          ]
        },
        {
          "output_type": "stream",
          "name": "stdout",
          "text": [
            "Question_585_character_qa_close.pt\n"
          ]
        },
        {
          "output_type": "stream",
          "name": "stderr",
          "text": [
            "\n",
            "10it [00:00, 107.37it/s]\n",
            " 40%|████      | 456/1132 [01:11<01:41,  6.65it/s]"
          ]
        },
        {
          "output_type": "stream",
          "name": "stdout",
          "text": [
            "Question_587_character_qa_close.pt\n"
          ]
        },
        {
          "output_type": "stream",
          "name": "stderr",
          "text": [
            "\n",
            "10it [00:00, 115.78it/s]\n",
            " 40%|████      | 457/1132 [01:11<01:39,  6.82it/s]"
          ]
        },
        {
          "output_type": "stream",
          "name": "stdout",
          "text": [
            "Question_588_character_qa_close.pt\n"
          ]
        },
        {
          "output_type": "stream",
          "name": "stderr",
          "text": [
            "\n",
            "10it [00:00, 104.75it/s]\n",
            " 40%|████      | 458/1132 [01:12<01:38,  6.82it/s]"
          ]
        },
        {
          "output_type": "stream",
          "name": "stdout",
          "text": [
            "Question_589_character_qa_close.pt\n"
          ]
        },
        {
          "output_type": "stream",
          "name": "stderr",
          "text": [
            "\n",
            "10it [00:00, 118.70it/s]\n",
            " 41%|████      | 459/1132 [01:12<01:50,  6.09it/s]"
          ]
        },
        {
          "output_type": "stream",
          "name": "stdout",
          "text": [
            "Question_590_character_qa_close.pt\n"
          ]
        },
        {
          "output_type": "stream",
          "name": "stderr",
          "text": [
            "\n",
            "10it [00:00, 118.71it/s]\n",
            " 41%|████      | 460/1132 [01:12<01:46,  6.28it/s]"
          ]
        },
        {
          "output_type": "stream",
          "name": "stdout",
          "text": [
            "Question_591_character_qa_close.pt\n"
          ]
        },
        {
          "output_type": "stream",
          "name": "stderr",
          "text": [
            "\n",
            "10it [00:00, 103.25it/s]\n",
            " 41%|████      | 461/1132 [01:12<01:45,  6.36it/s]"
          ]
        },
        {
          "output_type": "stream",
          "name": "stdout",
          "text": [
            "Question_594_character_qa_close.pt\n"
          ]
        },
        {
          "output_type": "stream",
          "name": "stderr",
          "text": [
            "\n",
            "10it [00:00, 119.91it/s]\n",
            " 41%|████      | 462/1132 [01:12<01:42,  6.56it/s]"
          ]
        },
        {
          "output_type": "stream",
          "name": "stdout",
          "text": [
            "Question_593_character_qa_close.pt\n"
          ]
        },
        {
          "output_type": "stream",
          "name": "stderr",
          "text": [
            "\n",
            "10it [00:00, 99.89it/s]\n",
            " 41%|████      | 463/1132 [01:12<01:42,  6.56it/s]"
          ]
        },
        {
          "output_type": "stream",
          "name": "stdout",
          "text": [
            "Question_592_character_qa_close.pt\n"
          ]
        },
        {
          "output_type": "stream",
          "name": "stderr",
          "text": [
            "\n",
            "10it [00:00, 110.53it/s]\n",
            " 41%|████      | 464/1132 [01:13<01:40,  6.68it/s]"
          ]
        },
        {
          "output_type": "stream",
          "name": "stdout",
          "text": [
            "Question_595_character_qa_close.pt\n"
          ]
        },
        {
          "output_type": "stream",
          "name": "stderr",
          "text": [
            "\n",
            "10it [00:00, 112.92it/s]\n",
            " 41%|████      | 465/1132 [01:13<01:50,  6.01it/s]"
          ]
        },
        {
          "output_type": "stream",
          "name": "stdout",
          "text": [
            "Question_596_character_qa_close.pt\n"
          ]
        },
        {
          "output_type": "stream",
          "name": "stderr",
          "text": [
            "\n",
            "10it [00:00, 116.90it/s]\n",
            " 41%|████      | 466/1132 [01:13<01:44,  6.35it/s]"
          ]
        },
        {
          "output_type": "stream",
          "name": "stdout",
          "text": [
            "Question_598_character_qa_close.pt\n"
          ]
        },
        {
          "output_type": "stream",
          "name": "stderr",
          "text": [
            "\n",
            "10it [00:00, 120.74it/s]\n",
            " 41%|████▏     | 467/1132 [01:13<01:40,  6.64it/s]"
          ]
        },
        {
          "output_type": "stream",
          "name": "stdout",
          "text": [
            "Question_597_character_qa_close.pt\n"
          ]
        },
        {
          "output_type": "stream",
          "name": "stderr",
          "text": [
            "\n",
            "10it [00:00, 110.63it/s]\n",
            " 41%|████▏     | 468/1132 [01:13<01:38,  6.76it/s]"
          ]
        },
        {
          "output_type": "stream",
          "name": "stdout",
          "text": [
            "Question_599_character_qa_close.pt\n"
          ]
        },
        {
          "output_type": "stream",
          "name": "stderr",
          "text": [
            "\n",
            "10it [00:00, 114.49it/s]\n",
            " 41%|████▏     | 469/1132 [01:13<01:35,  6.93it/s]"
          ]
        },
        {
          "output_type": "stream",
          "name": "stdout",
          "text": [
            "Question_600_character_qa_close.pt\n"
          ]
        },
        {
          "output_type": "stream",
          "name": "stderr",
          "text": [
            "\n",
            "10it [00:00, 111.36it/s]\n",
            " 42%|████▏     | 470/1132 [01:13<01:34,  6.98it/s]"
          ]
        },
        {
          "output_type": "stream",
          "name": "stdout",
          "text": [
            "Question_601_character_qa_open.pt\n"
          ]
        },
        {
          "output_type": "stream",
          "name": "stderr",
          "text": [
            "\n",
            "10it [00:00, 118.96it/s]\n",
            " 42%|████▏     | 471/1132 [01:14<01:45,  6.24it/s]"
          ]
        },
        {
          "output_type": "stream",
          "name": "stdout",
          "text": [
            "Question_602_character_qa_open.pt\n"
          ]
        },
        {
          "output_type": "stream",
          "name": "stderr",
          "text": [
            "\n",
            "10it [00:00, 118.72it/s]\n",
            " 42%|████▏     | 472/1132 [01:14<01:40,  6.54it/s]"
          ]
        },
        {
          "output_type": "stream",
          "name": "stdout",
          "text": [
            "Question_603_character_qa_open.pt\n"
          ]
        },
        {
          "output_type": "stream",
          "name": "stderr",
          "text": [
            "\n",
            "10it [00:00, 109.28it/s]\n",
            " 42%|████▏     | 473/1132 [01:14<01:38,  6.69it/s]"
          ]
        },
        {
          "output_type": "stream",
          "name": "stdout",
          "text": [
            "Question_604_character_qa_open.pt\n"
          ]
        },
        {
          "output_type": "stream",
          "name": "stderr",
          "text": [
            "\n",
            "10it [00:00, 118.33it/s]\n",
            " 42%|████▏     | 474/1132 [01:14<01:36,  6.82it/s]"
          ]
        },
        {
          "output_type": "stream",
          "name": "stdout",
          "text": [
            "Question_606_character_qa_open.pt\n"
          ]
        },
        {
          "output_type": "stream",
          "name": "stderr",
          "text": [
            "\n",
            "10it [00:00, 110.38it/s]\n",
            " 42%|████▏     | 475/1132 [01:14<01:35,  6.88it/s]"
          ]
        },
        {
          "output_type": "stream",
          "name": "stdout",
          "text": [
            "Question_605_character_qa_open.pt\n"
          ]
        },
        {
          "output_type": "stream",
          "name": "stderr",
          "text": [
            "\n",
            "10it [00:00, 118.76it/s]\n",
            " 42%|████▏     | 476/1132 [01:14<01:33,  7.05it/s]"
          ]
        },
        {
          "output_type": "stream",
          "name": "stdout",
          "text": [
            "Question_608_character_qa_open.pt\n"
          ]
        },
        {
          "output_type": "stream",
          "name": "stderr",
          "text": [
            "\n",
            "10it [00:00, 118.40it/s]\n",
            " 42%|████▏     | 477/1132 [01:15<01:44,  6.25it/s]"
          ]
        },
        {
          "output_type": "stream",
          "name": "stdout",
          "text": [
            "Question_607_character_qa_open.pt\n"
          ]
        },
        {
          "output_type": "stream",
          "name": "stderr",
          "text": [
            "\n",
            "10it [00:00, 123.19it/s]\n",
            " 42%|████▏     | 478/1132 [01:22<25:37,  2.35s/it]"
          ]
        },
        {
          "output_type": "stream",
          "name": "stdout",
          "text": [
            "Question_609_character_qa_open.pt\n"
          ]
        },
        {
          "output_type": "stream",
          "name": "stderr",
          "text": [
            "\n",
            "10it [00:00, 114.91it/s]\n",
            " 42%|████▏     | 479/1132 [01:22<18:21,  1.69s/it]"
          ]
        },
        {
          "output_type": "stream",
          "name": "stdout",
          "text": [
            "Question_610_character_qa_open.pt\n"
          ]
        },
        {
          "output_type": "stream",
          "name": "stderr",
          "text": [
            "\n",
            "10it [00:00, 120.53it/s]\n",
            " 42%|████▏     | 480/1132 [01:22<13:15,  1.22s/it]"
          ]
        },
        {
          "output_type": "stream",
          "name": "stdout",
          "text": [
            "Question_611_character_qa_open.pt\n"
          ]
        },
        {
          "output_type": "stream",
          "name": "stderr",
          "text": [
            "\n",
            "10it [00:00, 110.24it/s]\n",
            " 42%|████▏     | 481/1132 [01:22<09:43,  1.12it/s]"
          ]
        },
        {
          "output_type": "stream",
          "name": "stdout",
          "text": [
            "Question_612_character_qa_open.pt\n"
          ]
        },
        {
          "output_type": "stream",
          "name": "stderr",
          "text": [
            "\n",
            "10it [00:00, 110.02it/s]\n",
            " 43%|████▎     | 482/1132 [01:23<07:16,  1.49it/s]"
          ]
        },
        {
          "output_type": "stream",
          "name": "stdout",
          "text": [
            "Question_613_character_qa_open.pt\n"
          ]
        },
        {
          "output_type": "stream",
          "name": "stderr",
          "text": [
            "\n",
            "10it [00:00, 118.02it/s]\n",
            " 43%|████▎     | 483/1132 [01:23<05:43,  1.89it/s]"
          ]
        },
        {
          "output_type": "stream",
          "name": "stdout",
          "text": [
            "Question_614_character_qa_open.pt\n"
          ]
        },
        {
          "output_type": "stream",
          "name": "stderr",
          "text": [
            "\n",
            "10it [00:00, 116.86it/s]\n",
            " 43%|████▎     | 484/1132 [01:23<04:27,  2.43it/s]"
          ]
        },
        {
          "output_type": "stream",
          "name": "stdout",
          "text": [
            "Question_616_character_qa_open.pt\n"
          ]
        },
        {
          "output_type": "stream",
          "name": "stderr",
          "text": [
            "\n",
            "10it [00:00, 119.87it/s]\n",
            " 43%|████▎     | 485/1132 [01:23<03:34,  3.02it/s]"
          ]
        },
        {
          "output_type": "stream",
          "name": "stdout",
          "text": [
            "Question_615_character_qa_open.pt\n"
          ]
        },
        {
          "output_type": "stream",
          "name": "stderr",
          "text": [
            "\n",
            "10it [00:00, 106.55it/s]\n",
            " 43%|████▎     | 486/1132 [01:23<02:57,  3.63it/s]"
          ]
        },
        {
          "output_type": "stream",
          "name": "stdout",
          "text": [
            "Question_617_character_qa_open.pt\n"
          ]
        },
        {
          "output_type": "stream",
          "name": "stderr",
          "text": [
            "\n",
            "10it [00:00, 113.67it/s]\n",
            " 43%|████▎     | 487/1132 [01:23<02:31,  4.27it/s]"
          ]
        },
        {
          "output_type": "stream",
          "name": "stdout",
          "text": [
            "Question_618_character_qa_open.pt\n"
          ]
        },
        {
          "output_type": "stream",
          "name": "stderr",
          "text": [
            "\n",
            "10it [00:00, 106.24it/s]\n",
            " 43%|████▎     | 488/1132 [01:24<02:14,  4.80it/s]"
          ]
        },
        {
          "output_type": "stream",
          "name": "stdout",
          "text": [
            "Question_620_character_qa_open.pt\n"
          ]
        },
        {
          "output_type": "stream",
          "name": "stderr",
          "text": [
            "\n",
            "10it [00:00, 116.15it/s]\n",
            " 43%|████▎     | 489/1132 [01:24<02:13,  4.82it/s]"
          ]
        },
        {
          "output_type": "stream",
          "name": "stdout",
          "text": [
            "Question_619_character_qa_open.pt\n"
          ]
        },
        {
          "output_type": "stream",
          "name": "stderr",
          "text": [
            "\n",
            "10it [00:00, 115.32it/s]\n",
            " 43%|████▎     | 490/1132 [01:24<02:00,  5.35it/s]"
          ]
        },
        {
          "output_type": "stream",
          "name": "stdout",
          "text": [
            "Question_621_character_qa_open.pt\n"
          ]
        },
        {
          "output_type": "stream",
          "name": "stderr",
          "text": [
            "\n",
            "10it [00:00, 109.34it/s]\n",
            " 43%|████▎     | 491/1132 [01:24<01:51,  5.75it/s]"
          ]
        },
        {
          "output_type": "stream",
          "name": "stdout",
          "text": [
            "Question_622_character_qa_open.pt\n"
          ]
        },
        {
          "output_type": "stream",
          "name": "stderr",
          "text": [
            "\n",
            "10it [00:00, 119.72it/s]\n",
            " 43%|████▎     | 492/1132 [01:24<01:44,  6.13it/s]"
          ]
        },
        {
          "output_type": "stream",
          "name": "stdout",
          "text": [
            "Question_624_character_qa_open.pt\n"
          ]
        },
        {
          "output_type": "stream",
          "name": "stderr",
          "text": [
            "\n",
            "10it [00:00, 111.73it/s]\n",
            " 44%|████▎     | 493/1132 [01:24<01:40,  6.34it/s]"
          ]
        },
        {
          "output_type": "stream",
          "name": "stdout",
          "text": [
            "Question_623_character_qa_open.pt\n"
          ]
        },
        {
          "output_type": "stream",
          "name": "stderr",
          "text": [
            "\n",
            "10it [00:00, 114.61it/s]\n",
            " 44%|████▎     | 494/1132 [01:24<01:36,  6.59it/s]"
          ]
        },
        {
          "output_type": "stream",
          "name": "stdout",
          "text": [
            "Question_626_character_qa_open.pt\n"
          ]
        },
        {
          "output_type": "stream",
          "name": "stderr",
          "text": [
            "\n",
            "10it [00:00, 114.32it/s]\n",
            " 44%|████▎     | 495/1132 [01:25<01:47,  5.92it/s]"
          ]
        },
        {
          "output_type": "stream",
          "name": "stdout",
          "text": [
            "Question_625_character_qa_open.pt\n"
          ]
        },
        {
          "output_type": "stream",
          "name": "stderr",
          "text": [
            "\n",
            "10it [00:00, 115.31it/s]\n",
            " 44%|████▍     | 496/1132 [01:25<01:41,  6.24it/s]"
          ]
        },
        {
          "output_type": "stream",
          "name": "stdout",
          "text": [
            "Question_627_character_qa_open.pt\n"
          ]
        },
        {
          "output_type": "stream",
          "name": "stderr",
          "text": [
            "\n",
            "0it [00:00, ?it/s]\u001b[A\n",
            "10it [00:00, 76.21it/s]\n",
            " 44%|████▍     | 497/1132 [01:25<01:46,  5.95it/s]"
          ]
        },
        {
          "output_type": "stream",
          "name": "stdout",
          "text": [
            "Question_629_character_qa_open.pt\n"
          ]
        },
        {
          "output_type": "stream",
          "name": "stderr",
          "text": [
            "\n",
            "0it [00:00, ?it/s]\u001b[A\n",
            "10it [00:00, 83.09it/s]\n",
            " 44%|████▍     | 498/1132 [01:25<01:49,  5.80it/s]"
          ]
        },
        {
          "output_type": "stream",
          "name": "stdout",
          "text": [
            "Question_628_character_qa_open.pt\n"
          ]
        },
        {
          "output_type": "stream",
          "name": "stderr",
          "text": [
            "\n",
            "10it [00:00, 108.96it/s]\n",
            " 44%|████▍     | 499/1132 [01:25<01:45,  5.97it/s]"
          ]
        },
        {
          "output_type": "stream",
          "name": "stdout",
          "text": [
            "Question_630_character_qa_open.pt\n"
          ]
        },
        {
          "output_type": "stream",
          "name": "stderr",
          "text": [
            "\n",
            "10it [00:00, 108.42it/s]\n",
            " 44%|████▍     | 500/1132 [01:25<01:41,  6.22it/s]"
          ]
        },
        {
          "output_type": "stream",
          "name": "stdout",
          "text": [
            "Question_631_character_qa_open.pt\n"
          ]
        },
        {
          "output_type": "stream",
          "name": "stderr",
          "text": [
            "\n",
            "10it [00:00, 117.98it/s]\n",
            " 44%|████▍     | 501/1132 [01:26<01:37,  6.48it/s]"
          ]
        },
        {
          "output_type": "stream",
          "name": "stdout",
          "text": [
            "Question_632_character_qa_close.pt\n"
          ]
        },
        {
          "output_type": "stream",
          "name": "stderr",
          "text": [
            "\n",
            "10it [00:00, 109.95it/s]\n",
            " 44%|████▍     | 502/1132 [01:26<01:49,  5.75it/s]"
          ]
        },
        {
          "output_type": "stream",
          "name": "stdout",
          "text": [
            "Question_633_character_qa_close.pt\n"
          ]
        },
        {
          "output_type": "stream",
          "name": "stderr",
          "text": [
            "\n",
            "10it [00:00, 111.06it/s]\n",
            " 44%|████▍     | 503/1132 [01:26<01:43,  6.10it/s]"
          ]
        },
        {
          "output_type": "stream",
          "name": "stdout",
          "text": [
            "Question_634_character_qa_close.pt\n"
          ]
        },
        {
          "output_type": "stream",
          "name": "stderr",
          "text": [
            "\n",
            "10it [00:00, 122.11it/s]\n",
            " 45%|████▍     | 504/1132 [01:26<01:37,  6.44it/s]"
          ]
        },
        {
          "output_type": "stream",
          "name": "stdout",
          "text": [
            "Question_635_character_qa_close.pt\n"
          ]
        },
        {
          "output_type": "stream",
          "name": "stderr",
          "text": [
            "\n",
            "10it [00:00, 105.90it/s]\n",
            " 45%|████▍     | 505/1132 [01:26<01:35,  6.55it/s]"
          ]
        },
        {
          "output_type": "stream",
          "name": "stdout",
          "text": [
            "Question_636_character_qa_close.pt\n"
          ]
        },
        {
          "output_type": "stream",
          "name": "stderr",
          "text": [
            "\n",
            "10it [00:00, 120.24it/s]\n",
            " 45%|████▍     | 506/1132 [01:26<01:31,  6.82it/s]"
          ]
        },
        {
          "output_type": "stream",
          "name": "stdout",
          "text": [
            "Question_638_character_qa_close.pt\n"
          ]
        },
        {
          "output_type": "stream",
          "name": "stderr",
          "text": [
            "\n",
            "10it [00:00, 105.99it/s]\n",
            " 45%|████▍     | 507/1132 [01:26<01:31,  6.83it/s]"
          ]
        },
        {
          "output_type": "stream",
          "name": "stdout",
          "text": [
            "Question_637_character_qa_close.pt\n"
          ]
        },
        {
          "output_type": "stream",
          "name": "stderr",
          "text": [
            "\n",
            "10it [00:00, 121.28it/s]\n",
            " 45%|████▍     | 508/1132 [01:27<01:40,  6.19it/s]"
          ]
        },
        {
          "output_type": "stream",
          "name": "stdout",
          "text": [
            "Question_639_character_qa_close.pt\n"
          ]
        },
        {
          "output_type": "stream",
          "name": "stderr",
          "text": [
            "\n",
            "10it [00:00, 119.27it/s]\n",
            " 45%|████▍     | 509/1132 [01:27<01:36,  6.46it/s]"
          ]
        },
        {
          "output_type": "stream",
          "name": "stdout",
          "text": [
            "Question_640_character_qa_close.pt\n"
          ]
        },
        {
          "output_type": "stream",
          "name": "stderr",
          "text": [
            "\n",
            "10it [00:00, 105.27it/s]\n",
            " 45%|████▌     | 510/1132 [01:27<01:34,  6.57it/s]"
          ]
        },
        {
          "output_type": "stream",
          "name": "stdout",
          "text": [
            "Question_641_character_qa_close.pt\n"
          ]
        },
        {
          "output_type": "stream",
          "name": "stderr",
          "text": [
            "\n",
            "10it [00:00, 118.01it/s]\n",
            " 45%|████▌     | 511/1132 [01:27<01:31,  6.78it/s]"
          ]
        },
        {
          "output_type": "stream",
          "name": "stdout",
          "text": [
            "Question_642_character_qa_close.pt\n"
          ]
        },
        {
          "output_type": "stream",
          "name": "stderr",
          "text": [
            "\n",
            "10it [00:00, 109.66it/s]\n",
            " 45%|████▌     | 512/1132 [01:27<01:30,  6.84it/s]"
          ]
        },
        {
          "output_type": "stream",
          "name": "stdout",
          "text": [
            "Question_643_character_qa_close.pt\n"
          ]
        },
        {
          "output_type": "stream",
          "name": "stderr",
          "text": [
            "\n",
            "10it [00:00, 120.25it/s]\n",
            " 45%|████▌     | 513/1132 [01:27<01:28,  6.98it/s]"
          ]
        },
        {
          "output_type": "stream",
          "name": "stdout",
          "text": [
            "Question_644_character_qa_close.pt\n"
          ]
        },
        {
          "output_type": "stream",
          "name": "stderr",
          "text": [
            "\n",
            "10it [00:00, 117.28it/s]\n",
            " 45%|████▌     | 514/1132 [01:28<01:40,  6.17it/s]"
          ]
        },
        {
          "output_type": "stream",
          "name": "stdout",
          "text": [
            "Question_645_character_qa_close.pt\n"
          ]
        },
        {
          "output_type": "stream",
          "name": "stderr",
          "text": [
            "\n",
            "10it [00:00, 105.80it/s]\n",
            " 45%|████▌     | 515/1132 [01:28<01:38,  6.29it/s]"
          ]
        },
        {
          "output_type": "stream",
          "name": "stdout",
          "text": [
            "Question_647_character_qa_close.pt\n"
          ]
        },
        {
          "output_type": "stream",
          "name": "stderr",
          "text": [
            "\n",
            "10it [00:00, 117.93it/s]\n",
            " 46%|████▌     | 516/1132 [01:28<01:33,  6.57it/s]"
          ]
        },
        {
          "output_type": "stream",
          "name": "stdout",
          "text": [
            "Question_646_character_qa_close.pt\n"
          ]
        },
        {
          "output_type": "stream",
          "name": "stderr",
          "text": [
            "\n",
            "10it [00:00, 111.17it/s]\n",
            " 46%|████▌     | 517/1132 [01:28<01:31,  6.72it/s]"
          ]
        },
        {
          "output_type": "stream",
          "name": "stdout",
          "text": [
            "Question_648_character_qa_close.pt\n"
          ]
        },
        {
          "output_type": "stream",
          "name": "stderr",
          "text": [
            "\n",
            "10it [00:00, 119.55it/s]\n",
            " 46%|████▌     | 518/1132 [01:28<01:28,  6.92it/s]"
          ]
        },
        {
          "output_type": "stream",
          "name": "stdout",
          "text": [
            "Question_649_character_qa_close.pt\n"
          ]
        },
        {
          "output_type": "stream",
          "name": "stderr",
          "text": [
            "\n",
            "10it [00:00, 110.79it/s]\n",
            " 46%|████▌     | 519/1132 [01:28<01:28,  6.95it/s]"
          ]
        },
        {
          "output_type": "stream",
          "name": "stdout",
          "text": [
            "Question_650_character_qa_close.pt\n"
          ]
        },
        {
          "output_type": "stream",
          "name": "stderr",
          "text": [
            "\n",
            "10it [00:00, 122.46it/s]\n",
            " 46%|████▌     | 520/1132 [01:28<01:37,  6.25it/s]"
          ]
        },
        {
          "output_type": "stream",
          "name": "stdout",
          "text": [
            "Question_651_character_qa_close.pt\n"
          ]
        },
        {
          "output_type": "stream",
          "name": "stderr",
          "text": [
            "\n",
            "10it [00:00, 123.01it/s]\n",
            " 46%|████▌     | 521/1132 [01:29<01:32,  6.57it/s]"
          ]
        },
        {
          "output_type": "stream",
          "name": "stdout",
          "text": [
            "Question_652_character_qa_close.pt\n"
          ]
        },
        {
          "output_type": "stream",
          "name": "stderr",
          "text": [
            "\n",
            "10it [00:00, 110.09it/s]\n",
            " 46%|████▌     | 522/1132 [01:29<01:30,  6.73it/s]"
          ]
        },
        {
          "output_type": "stream",
          "name": "stdout",
          "text": [
            "Question_653_character_qa_close.pt\n"
          ]
        },
        {
          "output_type": "stream",
          "name": "stderr",
          "text": [
            "\n",
            "10it [00:00, 116.06it/s]\n",
            " 46%|████▌     | 523/1132 [01:29<01:28,  6.88it/s]"
          ]
        },
        {
          "output_type": "stream",
          "name": "stdout",
          "text": [
            "Question_654_character_qa_close.pt\n"
          ]
        },
        {
          "output_type": "stream",
          "name": "stderr",
          "text": [
            "\n",
            "10it [00:00, 111.98it/s]\n",
            " 46%|████▋     | 524/1132 [01:29<01:28,  6.88it/s]"
          ]
        },
        {
          "output_type": "stream",
          "name": "stdout",
          "text": [
            "Question_655_character_qa_close.pt\n"
          ]
        },
        {
          "output_type": "stream",
          "name": "stderr",
          "text": [
            "\n",
            "10it [00:00, 117.92it/s]\n",
            " 46%|████▋     | 525/1132 [01:29<01:29,  6.79it/s]"
          ]
        },
        {
          "output_type": "stream",
          "name": "stdout",
          "text": [
            "Question_656_character_qa_close.pt\n"
          ]
        },
        {
          "output_type": "stream",
          "name": "stderr",
          "text": [
            "\n",
            "10it [00:00, 116.82it/s]\n",
            " 46%|████▋     | 526/1132 [01:29<01:40,  6.01it/s]"
          ]
        },
        {
          "output_type": "stream",
          "name": "stdout",
          "text": [
            "Question_657_character_qa_close.pt\n"
          ]
        },
        {
          "output_type": "stream",
          "name": "stderr",
          "text": [
            "\n",
            "10it [00:00, 118.76it/s]\n",
            " 47%|████▋     | 527/1132 [01:30<01:35,  6.32it/s]"
          ]
        },
        {
          "output_type": "stream",
          "name": "stdout",
          "text": [
            "Question_658_character_qa_close.pt\n"
          ]
        },
        {
          "output_type": "stream",
          "name": "stderr",
          "text": [
            "\n",
            "10it [00:00, 121.92it/s]\n",
            " 47%|████▋     | 528/1132 [01:30<01:31,  6.63it/s]"
          ]
        },
        {
          "output_type": "stream",
          "name": "stdout",
          "text": [
            "Question_660_character_qa_close.pt\n"
          ]
        },
        {
          "output_type": "stream",
          "name": "stderr",
          "text": [
            "\n",
            "10it [00:00, 102.22it/s]\n",
            " 47%|████▋     | 529/1132 [01:30<01:30,  6.63it/s]"
          ]
        },
        {
          "output_type": "stream",
          "name": "stdout",
          "text": [
            "Question_659_character_qa_close.pt\n"
          ]
        },
        {
          "output_type": "stream",
          "name": "stderr",
          "text": [
            "\n",
            "10it [00:00, 114.01it/s]\n",
            " 47%|████▋     | 530/1132 [01:30<01:28,  6.79it/s]"
          ]
        },
        {
          "output_type": "stream",
          "name": "stdout",
          "text": [
            "Question_661_character_qa_open.pt\n"
          ]
        },
        {
          "output_type": "stream",
          "name": "stderr",
          "text": [
            "\n",
            "10it [00:00, 108.07it/s]\n",
            " 47%|████▋     | 531/1132 [01:30<01:28,  6.81it/s]"
          ]
        },
        {
          "output_type": "stream",
          "name": "stdout",
          "text": [
            "Question_663_character_qa_open.pt\n"
          ]
        },
        {
          "output_type": "stream",
          "name": "stderr",
          "text": [
            "\n",
            "10it [00:00, 122.35it/s]\n",
            " 47%|████▋     | 532/1132 [01:30<01:37,  6.16it/s]"
          ]
        },
        {
          "output_type": "stream",
          "name": "stdout",
          "text": [
            "Question_662_character_qa_open.pt\n"
          ]
        },
        {
          "output_type": "stream",
          "name": "stderr",
          "text": [
            "\n",
            "10it [00:00, 121.63it/s]\n",
            " 47%|████▋     | 533/1132 [01:30<01:32,  6.47it/s]"
          ]
        },
        {
          "output_type": "stream",
          "name": "stdout",
          "text": [
            "Question_664_character_qa_open.pt\n"
          ]
        },
        {
          "output_type": "stream",
          "name": "stderr",
          "text": [
            "\n",
            "10it [00:00, 102.01it/s]\n",
            " 47%|████▋     | 534/1132 [01:31<01:32,  6.46it/s]"
          ]
        },
        {
          "output_type": "stream",
          "name": "stdout",
          "text": [
            "Question_666_character_qa_open.pt\n"
          ]
        },
        {
          "output_type": "stream",
          "name": "stderr",
          "text": [
            "\n",
            "10it [00:00, 117.32it/s]\n",
            " 47%|████▋     | 535/1132 [01:31<01:28,  6.72it/s]"
          ]
        },
        {
          "output_type": "stream",
          "name": "stdout",
          "text": [
            "Question_665_character_qa_open.pt\n"
          ]
        },
        {
          "output_type": "stream",
          "name": "stderr",
          "text": [
            "\n",
            "10it [00:00, 108.65it/s]\n",
            " 47%|████▋     | 536/1132 [01:31<01:27,  6.77it/s]"
          ]
        },
        {
          "output_type": "stream",
          "name": "stdout",
          "text": [
            "Question_667_character_qa_open.pt\n"
          ]
        },
        {
          "output_type": "stream",
          "name": "stderr",
          "text": [
            "\n",
            "10it [00:00, 120.25it/s]\n",
            " 47%|████▋     | 537/1132 [01:31<01:25,  6.94it/s]"
          ]
        },
        {
          "output_type": "stream",
          "name": "stdout",
          "text": [
            "Question_668_character_qa_open.pt\n"
          ]
        },
        {
          "output_type": "stream",
          "name": "stderr",
          "text": [
            "\n",
            "10it [00:00, 115.18it/s]\n",
            " 48%|████▊     | 538/1132 [01:31<01:37,  6.10it/s]"
          ]
        },
        {
          "output_type": "stream",
          "name": "stdout",
          "text": [
            "Question_669_character_qa_open.pt\n"
          ]
        },
        {
          "output_type": "stream",
          "name": "stderr",
          "text": [
            "\n",
            "10it [00:00, 113.86it/s]\n",
            " 48%|████▊     | 539/1132 [01:31<01:33,  6.37it/s]"
          ]
        },
        {
          "output_type": "stream",
          "name": "stdout",
          "text": [
            "Question_670_character_qa_open.pt\n"
          ]
        },
        {
          "output_type": "stream",
          "name": "stderr",
          "text": [
            "\n",
            "10it [00:00, 119.36it/s]\n",
            " 48%|████▊     | 540/1132 [01:32<01:28,  6.65it/s]"
          ]
        },
        {
          "output_type": "stream",
          "name": "stdout",
          "text": [
            "Question_671_character_qa_open.pt\n"
          ]
        },
        {
          "output_type": "stream",
          "name": "stderr",
          "text": [
            "\n",
            "10it [00:00, 109.59it/s]\n",
            " 48%|████▊     | 541/1132 [01:32<01:27,  6.78it/s]"
          ]
        },
        {
          "output_type": "stream",
          "name": "stdout",
          "text": [
            "Question_672_character_qa_open.pt\n"
          ]
        },
        {
          "output_type": "stream",
          "name": "stderr",
          "text": [
            "\n",
            "10it [00:00, 121.28it/s]\n",
            " 48%|████▊     | 542/1132 [01:32<01:24,  6.99it/s]"
          ]
        },
        {
          "output_type": "stream",
          "name": "stdout",
          "text": [
            "Question_673_character_qa_open.pt\n"
          ]
        },
        {
          "output_type": "stream",
          "name": "stderr",
          "text": [
            "\n",
            "10it [00:00, 108.15it/s]\n",
            " 48%|████▊     | 543/1132 [01:32<01:24,  6.98it/s]"
          ]
        },
        {
          "output_type": "stream",
          "name": "stdout",
          "text": [
            "Question_674_character_qa_open.pt\n"
          ]
        },
        {
          "output_type": "stream",
          "name": "stderr",
          "text": [
            "\n",
            "10it [00:00, 122.80it/s]\n",
            " 48%|████▊     | 544/1132 [01:32<01:34,  6.24it/s]"
          ]
        },
        {
          "output_type": "stream",
          "name": "stdout",
          "text": [
            "Question_675_character_qa_open.pt\n"
          ]
        },
        {
          "output_type": "stream",
          "name": "stderr",
          "text": [
            "\n",
            "10it [00:00, 122.74it/s]\n",
            " 48%|████▊     | 545/1132 [01:32<01:29,  6.55it/s]"
          ]
        },
        {
          "output_type": "stream",
          "name": "stdout",
          "text": [
            "Question_676_character_qa_open.pt\n"
          ]
        },
        {
          "output_type": "stream",
          "name": "stderr",
          "text": [
            "\n",
            "10it [00:00, 110.48it/s]\n",
            " 48%|████▊     | 546/1132 [01:32<01:27,  6.71it/s]"
          ]
        },
        {
          "output_type": "stream",
          "name": "stdout",
          "text": [
            "Question_677_character_qa_open.pt\n"
          ]
        },
        {
          "output_type": "stream",
          "name": "stderr",
          "text": [
            "\n",
            "10it [00:00, 116.86it/s]\n",
            " 48%|████▊     | 547/1132 [01:33<01:25,  6.84it/s]"
          ]
        },
        {
          "output_type": "stream",
          "name": "stdout",
          "text": [
            "Question_678_character_qa_open.pt\n"
          ]
        },
        {
          "output_type": "stream",
          "name": "stderr",
          "text": [
            "\n",
            "10it [00:00, 110.64it/s]\n",
            " 48%|████▊     | 548/1132 [01:33<01:24,  6.88it/s]"
          ]
        },
        {
          "output_type": "stream",
          "name": "stdout",
          "text": [
            "Question_679_character_qa_open.pt\n"
          ]
        },
        {
          "output_type": "stream",
          "name": "stderr",
          "text": [
            "\n",
            "10it [00:00, 120.53it/s]\n",
            " 48%|████▊     | 549/1132 [01:33<01:22,  7.03it/s]"
          ]
        },
        {
          "output_type": "stream",
          "name": "stdout",
          "text": [
            "Question_680_character_qa_open.pt\n"
          ]
        },
        {
          "output_type": "stream",
          "name": "stderr",
          "text": [
            "\n",
            "10it [00:00, 117.06it/s]\n",
            " 49%|████▊     | 550/1132 [01:33<01:34,  6.15it/s]"
          ]
        },
        {
          "output_type": "stream",
          "name": "stdout",
          "text": [
            "Question_681_character_qa_open.pt\n"
          ]
        },
        {
          "output_type": "stream",
          "name": "stderr",
          "text": [
            "\n",
            "10it [00:00, 115.75it/s]\n",
            " 49%|████▊     | 551/1132 [01:33<01:30,  6.45it/s]"
          ]
        },
        {
          "output_type": "stream",
          "name": "stdout",
          "text": [
            "Question_682_character_qa_open.pt\n"
          ]
        },
        {
          "output_type": "stream",
          "name": "stderr",
          "text": [
            "\n",
            "10it [00:00, 114.30it/s]\n",
            " 49%|████▉     | 552/1132 [01:33<01:26,  6.68it/s]"
          ]
        },
        {
          "output_type": "stream",
          "name": "stdout",
          "text": [
            "Question_683_character_qa_open.pt\n"
          ]
        },
        {
          "output_type": "stream",
          "name": "stderr",
          "text": [
            "\n",
            "10it [00:00, 108.10it/s]\n",
            " 49%|████▉     | 553/1132 [01:33<01:25,  6.75it/s]"
          ]
        },
        {
          "output_type": "stream",
          "name": "stdout",
          "text": [
            "Question_684_character_qa_open.pt\n"
          ]
        },
        {
          "output_type": "stream",
          "name": "stderr",
          "text": [
            "\n",
            "10it [00:00, 111.94it/s]\n",
            " 49%|████▉     | 554/1132 [01:34<01:24,  6.86it/s]"
          ]
        },
        {
          "output_type": "stream",
          "name": "stdout",
          "text": [
            "Question_685_character_qa_open.pt\n"
          ]
        },
        {
          "output_type": "stream",
          "name": "stderr",
          "text": [
            "\n",
            "10it [00:00, 110.18it/s]\n",
            " 49%|████▉     | 555/1132 [01:34<01:23,  6.92it/s]"
          ]
        },
        {
          "output_type": "stream",
          "name": "stdout",
          "text": [
            "Question_686_character_qa_open.pt\n"
          ]
        },
        {
          "output_type": "stream",
          "name": "stderr",
          "text": [
            "\n",
            "10it [00:00, 120.87it/s]\n",
            " 49%|████▉     | 556/1132 [01:34<01:32,  6.21it/s]"
          ]
        },
        {
          "output_type": "stream",
          "name": "stdout",
          "text": [
            "Question_687_character_qa_open.pt\n"
          ]
        },
        {
          "output_type": "stream",
          "name": "stderr",
          "text": [
            "\n",
            "10it [00:00, 114.49it/s]\n",
            " 49%|████▉     | 557/1132 [01:34<01:28,  6.48it/s]"
          ]
        },
        {
          "output_type": "stream",
          "name": "stdout",
          "text": [
            "Question_688_character_qa_open.pt\n"
          ]
        },
        {
          "output_type": "stream",
          "name": "stderr",
          "text": [
            "\n",
            "10it [00:00, 102.39it/s]\n",
            " 49%|████▉     | 558/1132 [01:34<01:27,  6.56it/s]"
          ]
        },
        {
          "output_type": "stream",
          "name": "stdout",
          "text": [
            "Question_689_character_qa_open.pt\n"
          ]
        },
        {
          "output_type": "stream",
          "name": "stderr",
          "text": [
            "\n",
            "10it [00:00, 117.65it/s]\n",
            " 49%|████▉     | 559/1132 [01:34<01:25,  6.73it/s]"
          ]
        },
        {
          "output_type": "stream",
          "name": "stdout",
          "text": [
            "Question_690_character_qa_open.pt\n"
          ]
        },
        {
          "output_type": "stream",
          "name": "stderr",
          "text": [
            "\n",
            "10it [00:00, 110.51it/s]\n",
            " 49%|████▉     | 560/1132 [01:35<01:23,  6.81it/s]"
          ]
        },
        {
          "output_type": "stream",
          "name": "stdout",
          "text": [
            "Question_691_character_qa_open.pt\n"
          ]
        },
        {
          "output_type": "stream",
          "name": "stderr",
          "text": [
            "\n",
            "10it [00:00, 118.43it/s]\n",
            " 50%|████▉     | 561/1132 [01:35<01:21,  6.99it/s]"
          ]
        },
        {
          "output_type": "stream",
          "name": "stdout",
          "text": [
            "Question_692_character_qa_close.pt\n"
          ]
        },
        {
          "output_type": "stream",
          "name": "stderr",
          "text": [
            "\n",
            "10it [00:00, 117.13it/s]\n",
            " 50%|████▉     | 562/1132 [01:35<01:32,  6.15it/s]"
          ]
        },
        {
          "output_type": "stream",
          "name": "stdout",
          "text": [
            "Question_693_character_qa_close.pt\n"
          ]
        },
        {
          "output_type": "stream",
          "name": "stderr",
          "text": [
            "\n",
            "10it [00:00, 118.15it/s]\n",
            " 50%|████▉     | 563/1132 [01:35<01:27,  6.49it/s]"
          ]
        },
        {
          "output_type": "stream",
          "name": "stdout",
          "text": [
            "Question_694_character_qa_close.pt\n"
          ]
        },
        {
          "output_type": "stream",
          "name": "stderr",
          "text": [
            "\n",
            "10it [00:00, 121.70it/s]\n",
            " 50%|████▉     | 564/1132 [01:35<01:23,  6.77it/s]"
          ]
        },
        {
          "output_type": "stream",
          "name": "stdout",
          "text": [
            "Question_695_character_qa_close.pt\n"
          ]
        },
        {
          "output_type": "stream",
          "name": "stderr",
          "text": [
            "\n",
            "10it [00:00, 103.11it/s]\n",
            " 50%|████▉     | 565/1132 [01:35<01:24,  6.72it/s]"
          ]
        },
        {
          "output_type": "stream",
          "name": "stdout",
          "text": [
            "Question_696_character_qa_close.pt\n"
          ]
        },
        {
          "output_type": "stream",
          "name": "stderr",
          "text": [
            "\n",
            "10it [00:00, 117.46it/s]\n",
            " 50%|█████     | 566/1132 [01:35<01:22,  6.88it/s]"
          ]
        },
        {
          "output_type": "stream",
          "name": "stdout",
          "text": [
            "Question_697_character_qa_close.pt\n"
          ]
        },
        {
          "output_type": "stream",
          "name": "stderr",
          "text": [
            "\n",
            "10it [00:00, 106.47it/s]\n",
            " 50%|█████     | 567/1132 [01:36<01:21,  6.90it/s]"
          ]
        },
        {
          "output_type": "stream",
          "name": "stdout",
          "text": [
            "Question_698_character_qa_close.pt\n"
          ]
        },
        {
          "output_type": "stream",
          "name": "stderr",
          "text": [
            "\n",
            "10it [00:00, 115.30it/s]\n",
            " 50%|█████     | 568/1132 [01:36<01:31,  6.15it/s]"
          ]
        },
        {
          "output_type": "stream",
          "name": "stdout",
          "text": [
            "Question_699_character_qa_close.pt\n"
          ]
        },
        {
          "output_type": "stream",
          "name": "stderr",
          "text": [
            "\n",
            "10it [00:00, 113.25it/s]\n",
            " 50%|█████     | 569/1132 [01:36<01:27,  6.40it/s]"
          ]
        },
        {
          "output_type": "stream",
          "name": "stdout",
          "text": [
            "Question_701_character_qa_close.pt\n"
          ]
        },
        {
          "output_type": "stream",
          "name": "stderr",
          "text": [
            "\n",
            "10it [00:00, 99.93it/s]\n",
            " 50%|█████     | 570/1132 [01:36<01:28,  6.38it/s]"
          ]
        },
        {
          "output_type": "stream",
          "name": "stdout",
          "text": [
            "Question_700_character_qa_close.pt\n"
          ]
        },
        {
          "output_type": "stream",
          "name": "stderr",
          "text": [
            "\n",
            "10it [00:00, 116.31it/s]\n",
            " 50%|█████     | 571/1132 [01:36<01:24,  6.63it/s]"
          ]
        },
        {
          "output_type": "stream",
          "name": "stdout",
          "text": [
            "Question_702_character_qa_close.pt\n"
          ]
        },
        {
          "output_type": "stream",
          "name": "stderr",
          "text": [
            "\n",
            "0it [00:00, ?it/s]\u001b[A\n",
            "10it [00:00, 91.24it/s]\n",
            " 51%|█████     | 572/1132 [01:36<01:26,  6.49it/s]"
          ]
        },
        {
          "output_type": "stream",
          "name": "stdout",
          "text": [
            "Question_703_character_qa_close.pt\n"
          ]
        },
        {
          "output_type": "stream",
          "name": "stderr",
          "text": [
            "\n",
            "10it [00:00, 102.69it/s]\n",
            " 51%|█████     | 573/1132 [01:37<01:25,  6.52it/s]"
          ]
        },
        {
          "output_type": "stream",
          "name": "stdout",
          "text": [
            "Question_704_character_qa_close.pt\n"
          ]
        },
        {
          "output_type": "stream",
          "name": "stderr",
          "text": [
            "\n",
            "10it [00:00, 109.77it/s]\n",
            " 51%|█████     | 574/1132 [01:37<01:35,  5.86it/s]"
          ]
        },
        {
          "output_type": "stream",
          "name": "stdout",
          "text": [
            "Question_705_character_qa_close.pt\n"
          ]
        },
        {
          "output_type": "stream",
          "name": "stderr",
          "text": [
            "\n",
            "10it [00:00, 116.67it/s]\n",
            " 51%|█████     | 575/1132 [01:37<01:29,  6.19it/s]"
          ]
        },
        {
          "output_type": "stream",
          "name": "stdout",
          "text": [
            "Question_706_character_qa_close.pt\n"
          ]
        },
        {
          "output_type": "stream",
          "name": "stderr",
          "text": [
            "\n",
            "10it [00:00, 115.09it/s]\n",
            " 51%|█████     | 576/1132 [01:37<01:25,  6.47it/s]"
          ]
        },
        {
          "output_type": "stream",
          "name": "stdout",
          "text": [
            "Question_707_character_qa_close.pt\n"
          ]
        },
        {
          "output_type": "stream",
          "name": "stderr",
          "text": [
            "\n",
            "10it [00:00, 103.76it/s]\n",
            " 51%|█████     | 577/1132 [01:37<01:24,  6.57it/s]"
          ]
        },
        {
          "output_type": "stream",
          "name": "stdout",
          "text": [
            "Question_708_character_qa_close.pt\n"
          ]
        },
        {
          "output_type": "stream",
          "name": "stderr",
          "text": [
            "\n",
            "10it [00:00, 106.56it/s]\n",
            " 51%|█████     | 578/1132 [01:37<01:23,  6.63it/s]"
          ]
        },
        {
          "output_type": "stream",
          "name": "stdout",
          "text": [
            "Question_709_character_qa_close.pt\n"
          ]
        },
        {
          "output_type": "stream",
          "name": "stderr",
          "text": [
            "\n",
            "0it [00:00, ?it/s]\u001b[A\n",
            "10it [00:00, 90.86it/s]\n",
            " 51%|█████     | 579/1132 [01:37<01:25,  6.49it/s]"
          ]
        },
        {
          "output_type": "stream",
          "name": "stdout",
          "text": [
            "Question_710_character_qa_close.pt\n"
          ]
        },
        {
          "output_type": "stream",
          "name": "stderr",
          "text": [
            "\n",
            "10it [00:00, 119.27it/s]\n",
            " 51%|█████     | 580/1132 [01:38<01:33,  5.92it/s]"
          ]
        },
        {
          "output_type": "stream",
          "name": "stdout",
          "text": [
            "Question_711_character_qa_close.pt\n"
          ]
        },
        {
          "output_type": "stream",
          "name": "stderr",
          "text": [
            "\n",
            "0it [00:00, ?it/s]\u001b[A\n",
            "10it [00:00, 95.45it/s]\n",
            " 51%|█████▏    | 581/1132 [01:38<01:31,  6.04it/s]"
          ]
        },
        {
          "output_type": "stream",
          "name": "stdout",
          "text": [
            "Question_712_character_qa_close.pt\n"
          ]
        },
        {
          "output_type": "stream",
          "name": "stderr",
          "text": [
            "\n",
            "10it [00:00, 110.96it/s]\n",
            " 51%|█████▏    | 582/1132 [01:38<01:28,  6.20it/s]"
          ]
        },
        {
          "output_type": "stream",
          "name": "stdout",
          "text": [
            "Question_713_character_qa_close.pt\n"
          ]
        },
        {
          "output_type": "stream",
          "name": "stderr",
          "text": [
            "\n",
            "10it [00:00, 113.67it/s]\n",
            " 52%|█████▏    | 583/1132 [01:38<01:24,  6.47it/s]"
          ]
        },
        {
          "output_type": "stream",
          "name": "stdout",
          "text": [
            "Question_715_character_qa_close.pt\n"
          ]
        },
        {
          "output_type": "stream",
          "name": "stderr",
          "text": [
            "\n",
            "10it [00:00, 113.45it/s]\n",
            " 52%|█████▏    | 584/1132 [01:38<01:22,  6.66it/s]"
          ]
        },
        {
          "output_type": "stream",
          "name": "stdout",
          "text": [
            "Question_714_character_qa_close.pt\n"
          ]
        },
        {
          "output_type": "stream",
          "name": "stderr",
          "text": [
            "\n",
            "0it [00:00, ?it/s]\u001b[A\n",
            "10it [00:00, 95.32it/s]\n",
            " 52%|█████▏    | 585/1132 [01:38<01:24,  6.44it/s]"
          ]
        },
        {
          "output_type": "stream",
          "name": "stdout",
          "text": [
            "Question_716_character_qa_close.pt\n"
          ]
        },
        {
          "output_type": "stream",
          "name": "stderr",
          "text": [
            "\n",
            "10it [00:00, 106.03it/s]\n",
            " 52%|█████▏    | 586/1132 [01:39<01:34,  5.77it/s]"
          ]
        },
        {
          "output_type": "stream",
          "name": "stdout",
          "text": [
            "Question_717_character_qa_close.pt\n"
          ]
        },
        {
          "output_type": "stream",
          "name": "stderr",
          "text": [
            "\n",
            "10it [00:00, 114.90it/s]\n",
            " 52%|█████▏    | 587/1132 [01:39<01:29,  6.08it/s]"
          ]
        },
        {
          "output_type": "stream",
          "name": "stdout",
          "text": [
            "Question_718_character_qa_close.pt\n"
          ]
        },
        {
          "output_type": "stream",
          "name": "stderr",
          "text": [
            "\n",
            "10it [00:00, 100.32it/s]\n",
            " 52%|█████▏    | 588/1132 [01:39<01:27,  6.18it/s]"
          ]
        },
        {
          "output_type": "stream",
          "name": "stdout",
          "text": [
            "Question_719_character_qa_close.pt\n"
          ]
        },
        {
          "output_type": "stream",
          "name": "stderr",
          "text": [
            "\n",
            "10it [00:00, 114.68it/s]\n",
            " 52%|█████▏    | 589/1132 [01:39<01:24,  6.43it/s]"
          ]
        },
        {
          "output_type": "stream",
          "name": "stdout",
          "text": [
            "Question_720_character_qa_close.pt\n"
          ]
        },
        {
          "output_type": "stream",
          "name": "stderr",
          "text": [
            "\n",
            "10it [00:00, 105.21it/s]\n",
            " 52%|█████▏    | 590/1132 [01:39<01:22,  6.55it/s]"
          ]
        },
        {
          "output_type": "stream",
          "name": "stdout",
          "text": [
            "Question_721_character_qa_open.pt\n"
          ]
        },
        {
          "output_type": "stream",
          "name": "stderr",
          "text": [
            "\n",
            "10it [00:00, 116.98it/s]\n",
            " 52%|█████▏    | 591/1132 [01:39<01:20,  6.76it/s]"
          ]
        },
        {
          "output_type": "stream",
          "name": "stdout",
          "text": [
            "Question_722_character_qa_open.pt\n"
          ]
        },
        {
          "output_type": "stream",
          "name": "stderr",
          "text": [
            "\n",
            "10it [00:00, 115.92it/s]\n",
            " 52%|█████▏    | 592/1132 [01:40<01:29,  6.05it/s]"
          ]
        },
        {
          "output_type": "stream",
          "name": "stdout",
          "text": [
            "Question_723_character_qa_open.pt\n"
          ]
        },
        {
          "output_type": "stream",
          "name": "stderr",
          "text": [
            "\n",
            "10it [00:00, 116.17it/s]\n",
            " 52%|█████▏    | 593/1132 [01:40<01:24,  6.39it/s]"
          ]
        },
        {
          "output_type": "stream",
          "name": "stdout",
          "text": [
            "Question_724_character_qa_open.pt\n"
          ]
        },
        {
          "output_type": "stream",
          "name": "stderr",
          "text": [
            "\n",
            "10it [00:00, 117.86it/s]\n",
            " 52%|█████▏    | 594/1132 [01:40<01:20,  6.64it/s]"
          ]
        },
        {
          "output_type": "stream",
          "name": "stdout",
          "text": [
            "Question_725_character_qa_open.pt\n"
          ]
        },
        {
          "output_type": "stream",
          "name": "stderr",
          "text": [
            "\n",
            "10it [00:00, 113.41it/s]\n",
            " 53%|█████▎    | 595/1132 [01:40<01:19,  6.78it/s]"
          ]
        },
        {
          "output_type": "stream",
          "name": "stdout",
          "text": [
            "Question_726_character_qa_open.pt\n"
          ]
        },
        {
          "output_type": "stream",
          "name": "stderr",
          "text": [
            "\n",
            "10it [00:00, 116.75it/s]\n",
            " 53%|█████▎    | 596/1132 [01:40<01:18,  6.83it/s]"
          ]
        },
        {
          "output_type": "stream",
          "name": "stdout",
          "text": [
            "Question_727_character_qa_open.pt\n"
          ]
        },
        {
          "output_type": "stream",
          "name": "stderr",
          "text": [
            "\n",
            "10it [00:00, 107.61it/s]\n",
            " 53%|█████▎    | 597/1132 [01:40<01:17,  6.87it/s]"
          ]
        },
        {
          "output_type": "stream",
          "name": "stdout",
          "text": [
            "Question_728_character_qa_open.pt\n"
          ]
        },
        {
          "output_type": "stream",
          "name": "stderr",
          "text": [
            "\n",
            "10it [00:00, 123.21it/s]\n",
            " 53%|█████▎    | 598/1132 [01:40<01:27,  6.12it/s]"
          ]
        },
        {
          "output_type": "stream",
          "name": "stdout",
          "text": [
            "Question_729_character_qa_open.pt\n"
          ]
        },
        {
          "output_type": "stream",
          "name": "stderr",
          "text": [
            "\n",
            "10it [00:00, 107.09it/s]\n",
            " 53%|█████▎    | 599/1132 [01:41<01:23,  6.36it/s]"
          ]
        },
        {
          "output_type": "stream",
          "name": "stdout",
          "text": [
            "Question_730_character_qa_open.pt\n"
          ]
        },
        {
          "output_type": "stream",
          "name": "stderr",
          "text": [
            "\n",
            "10it [00:00, 106.06it/s]\n",
            " 53%|█████▎    | 600/1132 [01:41<01:21,  6.51it/s]"
          ]
        },
        {
          "output_type": "stream",
          "name": "stdout",
          "text": [
            "Question_731_character_qa_open.pt\n"
          ]
        },
        {
          "output_type": "stream",
          "name": "stderr",
          "text": [
            "\n",
            "10it [00:00, 111.46it/s]\n",
            " 53%|█████▎    | 601/1132 [01:41<01:20,  6.63it/s]"
          ]
        },
        {
          "output_type": "stream",
          "name": "stdout",
          "text": [
            "Question_732_character_qa_open.pt\n"
          ]
        },
        {
          "output_type": "stream",
          "name": "stderr",
          "text": [
            "\n",
            "10it [00:00, 106.31it/s]\n",
            " 53%|█████▎    | 602/1132 [01:41<01:20,  6.61it/s]"
          ]
        },
        {
          "output_type": "stream",
          "name": "stdout",
          "text": [
            "Question_733_character_qa_open.pt\n"
          ]
        },
        {
          "output_type": "stream",
          "name": "stderr",
          "text": [
            "\n",
            "10it [00:00, 115.85it/s]\n",
            " 53%|█████▎    | 603/1132 [01:41<01:18,  6.77it/s]"
          ]
        },
        {
          "output_type": "stream",
          "name": "stdout",
          "text": [
            "Question_734_character_qa_open.pt\n"
          ]
        },
        {
          "output_type": "stream",
          "name": "stderr",
          "text": [
            "\n",
            "10it [00:00, 105.34it/s]\n",
            " 53%|█████▎    | 604/1132 [01:41<01:28,  5.94it/s]"
          ]
        },
        {
          "output_type": "stream",
          "name": "stdout",
          "text": [
            "Question_735_character_qa_open.pt\n"
          ]
        },
        {
          "output_type": "stream",
          "name": "stderr",
          "text": [
            "\n",
            "10it [00:00, 111.41it/s]\n",
            " 53%|█████▎    | 605/1132 [01:42<01:25,  6.20it/s]"
          ]
        },
        {
          "output_type": "stream",
          "name": "stdout",
          "text": [
            "Question_736_character_qa_open.pt\n"
          ]
        },
        {
          "output_type": "stream",
          "name": "stderr",
          "text": [
            "\n",
            "10it [00:00, 116.83it/s]\n",
            " 54%|█████▎    | 606/1132 [01:42<01:20,  6.50it/s]"
          ]
        },
        {
          "output_type": "stream",
          "name": "stdout",
          "text": [
            "Question_737_character_qa_open.pt\n"
          ]
        },
        {
          "output_type": "stream",
          "name": "stderr",
          "text": [
            "\n",
            "10it [00:00, 109.45it/s]\n",
            " 54%|█████▎    | 607/1132 [01:42<01:20,  6.49it/s]"
          ]
        },
        {
          "output_type": "stream",
          "name": "stdout",
          "text": [
            "Question_738_character_qa_open.pt\n"
          ]
        },
        {
          "output_type": "stream",
          "name": "stderr",
          "text": [
            "\n",
            "0it [00:00, ?it/s]\u001b[A\n",
            "10it [00:00, 79.15it/s]\n",
            " 54%|█████▎    | 608/1132 [01:42<01:24,  6.20it/s]"
          ]
        },
        {
          "output_type": "stream",
          "name": "stdout",
          "text": [
            "Question_739_character_qa_open.pt\n"
          ]
        },
        {
          "output_type": "stream",
          "name": "stderr",
          "text": [
            "\n",
            "10it [00:00, 110.22it/s]\n",
            " 54%|█████▍    | 609/1132 [01:42<01:23,  6.24it/s]"
          ]
        },
        {
          "output_type": "stream",
          "name": "stdout",
          "text": [
            "Question_740_character_qa_open.pt\n"
          ]
        },
        {
          "output_type": "stream",
          "name": "stderr",
          "text": [
            "\n",
            "10it [00:00, 116.61it/s]\n",
            " 54%|█████▍    | 610/1132 [01:42<01:31,  5.68it/s]"
          ]
        },
        {
          "output_type": "stream",
          "name": "stdout",
          "text": [
            "Question_741_character_qa_open.pt\n"
          ]
        },
        {
          "output_type": "stream",
          "name": "stderr",
          "text": [
            "\n",
            "10it [00:00, 106.67it/s]\n",
            " 54%|█████▍    | 611/1132 [01:43<01:27,  5.96it/s]"
          ]
        },
        {
          "output_type": "stream",
          "name": "stdout",
          "text": [
            "Question_742_character_qa_open.pt\n"
          ]
        },
        {
          "output_type": "stream",
          "name": "stderr",
          "text": [
            "\n",
            "10it [00:00, 119.24it/s]\n",
            " 54%|█████▍    | 612/1132 [01:43<01:22,  6.32it/s]"
          ]
        },
        {
          "output_type": "stream",
          "name": "stdout",
          "text": [
            "Question_743_character_qa_open.pt\n"
          ]
        },
        {
          "output_type": "stream",
          "name": "stderr",
          "text": [
            "\n",
            "0it [00:00, ?it/s]\u001b[A\n",
            "10it [00:00, 77.70it/s]\n",
            " 54%|█████▍    | 613/1132 [01:43<01:28,  5.89it/s]"
          ]
        },
        {
          "output_type": "stream",
          "name": "stdout",
          "text": [
            "Question_744_character_qa_open.pt\n"
          ]
        },
        {
          "output_type": "stream",
          "name": "stderr",
          "text": [
            "\n",
            "0it [00:00, ?it/s]\u001b[A\n",
            "10it [00:00, 68.98it/s]\n",
            " 54%|█████▍    | 614/1132 [01:43<01:35,  5.43it/s]"
          ]
        },
        {
          "output_type": "stream",
          "name": "stdout",
          "text": [
            "Question_745_character_qa_open.pt\n"
          ]
        },
        {
          "output_type": "stream",
          "name": "stderr",
          "text": [
            "\n",
            "10it [00:00, 116.68it/s]\n",
            " 54%|█████▍    | 615/1132 [01:43<01:28,  5.85it/s]"
          ]
        },
        {
          "output_type": "stream",
          "name": "stdout",
          "text": [
            "Question_747_character_qa_open.pt\n"
          ]
        },
        {
          "output_type": "stream",
          "name": "stderr",
          "text": [
            "\n",
            "10it [00:00, 112.99it/s]\n",
            " 54%|█████▍    | 616/1132 [01:43<01:36,  5.37it/s]"
          ]
        },
        {
          "output_type": "stream",
          "name": "stdout",
          "text": [
            "Question_746_character_qa_open.pt\n"
          ]
        },
        {
          "output_type": "stream",
          "name": "stderr",
          "text": [
            "\n",
            "10it [00:00, 117.04it/s]\n",
            " 55%|█████▍    | 617/1132 [01:44<01:29,  5.78it/s]"
          ]
        },
        {
          "output_type": "stream",
          "name": "stdout",
          "text": [
            "Question_748_character_qa_open.pt\n"
          ]
        },
        {
          "output_type": "stream",
          "name": "stderr",
          "text": [
            "\n",
            "10it [00:00, 107.68it/s]\n",
            " 55%|█████▍    | 618/1132 [01:44<01:26,  5.94it/s]"
          ]
        },
        {
          "output_type": "stream",
          "name": "stdout",
          "text": [
            "Question_749_character_qa_open.pt\n"
          ]
        },
        {
          "output_type": "stream",
          "name": "stderr",
          "text": [
            "\n",
            "10it [00:00, 117.14it/s]\n",
            " 55%|█████▍    | 619/1132 [01:44<01:25,  6.00it/s]"
          ]
        },
        {
          "output_type": "stream",
          "name": "stdout",
          "text": [
            "Question_750_character_qa_open.pt\n"
          ]
        },
        {
          "output_type": "stream",
          "name": "stderr",
          "text": [
            "\n",
            "0it [00:00, ?it/s]\u001b[A\n",
            "10it [00:00, 79.41it/s]\n",
            " 55%|█████▍    | 620/1132 [01:44<01:28,  5.79it/s]"
          ]
        },
        {
          "output_type": "stream",
          "name": "stdout",
          "text": [
            "Question_751_character_qa_open.pt\n"
          ]
        },
        {
          "output_type": "stream",
          "name": "stderr",
          "text": [
            "\n",
            "0it [00:00, ?it/s]\u001b[A\n",
            "10it [00:00, 90.09it/s]\n",
            " 55%|█████▍    | 621/1132 [01:44<01:27,  5.86it/s]"
          ]
        },
        {
          "output_type": "stream",
          "name": "stdout",
          "text": [
            "Question_752_character_qa_close.pt\n"
          ]
        },
        {
          "output_type": "stream",
          "name": "stderr",
          "text": [
            "\n",
            "10it [00:00, 110.95it/s]\n",
            " 55%|█████▍    | 622/1132 [01:44<01:24,  6.04it/s]"
          ]
        },
        {
          "output_type": "stream",
          "name": "stdout",
          "text": [
            "Question_753_character_qa_close.pt\n"
          ]
        },
        {
          "output_type": "stream",
          "name": "stderr",
          "text": [
            "\n",
            "10it [00:00, 117.57it/s]\n",
            " 55%|█████▌    | 623/1132 [01:45<01:32,  5.50it/s]"
          ]
        },
        {
          "output_type": "stream",
          "name": "stdout",
          "text": [
            "Question_754_character_qa_close.pt\n"
          ]
        },
        {
          "output_type": "stream",
          "name": "stderr",
          "text": [
            "\n",
            "10it [00:00, 109.52it/s]\n",
            " 55%|█████▌    | 624/1132 [01:45<01:26,  5.87it/s]"
          ]
        },
        {
          "output_type": "stream",
          "name": "stdout",
          "text": [
            "Question_755_character_qa_close.pt\n"
          ]
        },
        {
          "output_type": "stream",
          "name": "stderr",
          "text": [
            "\n",
            "0it [00:00, ?it/s]\u001b[A\n",
            "10it [00:00, 83.36it/s]\n",
            " 55%|█████▌    | 625/1132 [01:45<01:27,  5.80it/s]"
          ]
        },
        {
          "output_type": "stream",
          "name": "stdout",
          "text": [
            "Question_756_character_qa_close.pt\n"
          ]
        },
        {
          "output_type": "stream",
          "name": "stderr",
          "text": [
            "\n",
            "10it [00:00, 104.33it/s]\n",
            " 55%|█████▌    | 626/1132 [01:45<01:24,  5.98it/s]"
          ]
        },
        {
          "output_type": "stream",
          "name": "stdout",
          "text": [
            "Question_757_character_qa_close.pt\n"
          ]
        },
        {
          "output_type": "stream",
          "name": "stderr",
          "text": [
            "\n",
            "10it [00:00, 113.18it/s]\n",
            " 55%|█████▌    | 627/1132 [01:45<01:20,  6.28it/s]"
          ]
        },
        {
          "output_type": "stream",
          "name": "stdout",
          "text": [
            "Question_759_character_qa_close.pt\n"
          ]
        },
        {
          "output_type": "stream",
          "name": "stderr",
          "text": [
            "\n",
            "10it [00:00, 118.65it/s]\n",
            " 55%|█████▌    | 628/1132 [01:45<01:17,  6.50it/s]"
          ]
        },
        {
          "output_type": "stream",
          "name": "stdout",
          "text": [
            "Question_758_character_qa_close.pt\n"
          ]
        },
        {
          "output_type": "stream",
          "name": "stderr",
          "text": [
            "\n",
            "10it [00:00, 104.96it/s]\n",
            " 56%|█████▌    | 629/1132 [01:46<01:16,  6.60it/s]"
          ]
        },
        {
          "output_type": "stream",
          "name": "stdout",
          "text": [
            "Question_760_character_qa_close.pt\n"
          ]
        },
        {
          "output_type": "stream",
          "name": "stderr",
          "text": [
            "\n",
            "10it [00:00, 119.17it/s]\n",
            " 56%|█████▌    | 630/1132 [01:46<01:23,  6.01it/s]"
          ]
        },
        {
          "output_type": "stream",
          "name": "stdout",
          "text": [
            "Question_761_character_qa_close.pt\n"
          ]
        },
        {
          "output_type": "stream",
          "name": "stderr",
          "text": [
            "\n",
            "10it [00:00, 116.20it/s]\n",
            " 56%|█████▌    | 631/1132 [01:46<01:18,  6.35it/s]"
          ]
        },
        {
          "output_type": "stream",
          "name": "stdout",
          "text": [
            "Question_762_character_qa_close.pt\n"
          ]
        },
        {
          "output_type": "stream",
          "name": "stderr",
          "text": [
            "\n",
            "10it [00:00, 108.98it/s]\n",
            " 56%|█████▌    | 632/1132 [01:46<01:17,  6.47it/s]"
          ]
        },
        {
          "output_type": "stream",
          "name": "stdout",
          "text": [
            "Question_763_character_qa_close.pt\n"
          ]
        },
        {
          "output_type": "stream",
          "name": "stderr",
          "text": [
            "\n",
            "10it [00:00, 115.90it/s]\n",
            " 56%|█████▌    | 633/1132 [01:46<01:15,  6.64it/s]"
          ]
        },
        {
          "output_type": "stream",
          "name": "stdout",
          "text": [
            "Question_764_character_qa_close.pt\n"
          ]
        },
        {
          "output_type": "stream",
          "name": "stderr",
          "text": [
            "\n",
            "10it [00:00, 100.73it/s]\n",
            " 56%|█████▌    | 634/1132 [01:46<01:14,  6.66it/s]"
          ]
        },
        {
          "output_type": "stream",
          "name": "stdout",
          "text": [
            "Question_767_character_qa_close.pt\n"
          ]
        },
        {
          "output_type": "stream",
          "name": "stderr",
          "text": [
            "\n",
            "10it [00:00, 120.28it/s]\n",
            " 56%|█████▌    | 635/1132 [01:46<01:12,  6.88it/s]"
          ]
        },
        {
          "output_type": "stream",
          "name": "stdout",
          "text": [
            "Question_765_character_qa_close.pt\n"
          ]
        },
        {
          "output_type": "stream",
          "name": "stderr",
          "text": [
            "\n",
            "10it [00:00, 121.06it/s]\n",
            " 56%|█████▌    | 636/1132 [01:47<01:19,  6.22it/s]"
          ]
        },
        {
          "output_type": "stream",
          "name": "stdout",
          "text": [
            "Question_766_character_qa_close.pt\n"
          ]
        },
        {
          "output_type": "stream",
          "name": "stderr",
          "text": [
            "\n",
            "10it [00:00, 109.85it/s]\n",
            " 56%|█████▋    | 637/1132 [01:47<01:17,  6.41it/s]"
          ]
        },
        {
          "output_type": "stream",
          "name": "stdout",
          "text": [
            "Question_768_character_qa_close.pt\n"
          ]
        },
        {
          "output_type": "stream",
          "name": "stderr",
          "text": [
            "\n",
            "10it [00:00, 115.11it/s]\n",
            " 56%|█████▋    | 638/1132 [01:47<01:14,  6.63it/s]"
          ]
        },
        {
          "output_type": "stream",
          "name": "stdout",
          "text": [
            "Question_769_character_qa_close.pt\n"
          ]
        },
        {
          "output_type": "stream",
          "name": "stderr",
          "text": [
            "\n",
            "10it [00:00, 109.31it/s]\n",
            " 56%|█████▋    | 639/1132 [01:47<01:13,  6.73it/s]"
          ]
        },
        {
          "output_type": "stream",
          "name": "stdout",
          "text": [
            "Question_770_character_qa_close.pt\n"
          ]
        },
        {
          "output_type": "stream",
          "name": "stderr",
          "text": [
            "\n",
            "10it [00:00, 117.92it/s]\n",
            " 57%|█████▋    | 640/1132 [01:47<01:11,  6.86it/s]"
          ]
        },
        {
          "output_type": "stream",
          "name": "stdout",
          "text": [
            "Question_771_character_qa_close.pt\n"
          ]
        },
        {
          "output_type": "stream",
          "name": "stderr",
          "text": [
            "\n",
            "10it [00:00, 107.10it/s]\n",
            " 57%|█████▋    | 641/1132 [01:47<01:11,  6.89it/s]"
          ]
        },
        {
          "output_type": "stream",
          "name": "stdout",
          "text": [
            "Question_772_character_qa_close.pt\n"
          ]
        },
        {
          "output_type": "stream",
          "name": "stderr",
          "text": [
            "\n",
            "10it [00:00, 118.98it/s]\n",
            " 57%|█████▋    | 642/1132 [01:48<01:19,  6.14it/s]"
          ]
        },
        {
          "output_type": "stream",
          "name": "stdout",
          "text": [
            "Question_774_character_qa_close.pt\n"
          ]
        },
        {
          "output_type": "stream",
          "name": "stderr",
          "text": [
            "\n",
            "10it [00:00, 118.01it/s]\n",
            " 57%|█████▋    | 643/1132 [01:48<01:15,  6.45it/s]"
          ]
        },
        {
          "output_type": "stream",
          "name": "stdout",
          "text": [
            "Question_773_character_qa_close.pt\n"
          ]
        },
        {
          "output_type": "stream",
          "name": "stderr",
          "text": [
            "\n",
            "10it [00:00, 105.18it/s]\n",
            " 57%|█████▋    | 644/1132 [01:48<01:15,  6.49it/s]"
          ]
        },
        {
          "output_type": "stream",
          "name": "stdout",
          "text": [
            "Question_775_character_qa_close.pt\n"
          ]
        },
        {
          "output_type": "stream",
          "name": "stderr",
          "text": [
            "\n",
            "10it [00:00, 113.19it/s]\n",
            " 57%|█████▋    | 645/1132 [01:48<01:12,  6.68it/s]"
          ]
        },
        {
          "output_type": "stream",
          "name": "stdout",
          "text": [
            "Question_776_character_qa_close.pt\n"
          ]
        },
        {
          "output_type": "stream",
          "name": "stderr",
          "text": [
            "\n",
            "10it [00:00, 108.91it/s]\n",
            " 57%|█████▋    | 646/1132 [01:48<01:12,  6.73it/s]"
          ]
        },
        {
          "output_type": "stream",
          "name": "stdout",
          "text": [
            "Question_777_character_qa_close.pt\n"
          ]
        },
        {
          "output_type": "stream",
          "name": "stderr",
          "text": [
            "\n",
            "10it [00:00, 120.61it/s]\n",
            " 57%|█████▋    | 647/1132 [01:48<01:10,  6.91it/s]"
          ]
        },
        {
          "output_type": "stream",
          "name": "stdout",
          "text": [
            "Question_778_character_qa_close.pt\n"
          ]
        },
        {
          "output_type": "stream",
          "name": "stderr",
          "text": [
            "\n",
            "10it [00:00, 111.12it/s]\n",
            " 57%|█████▋    | 648/1132 [01:48<01:19,  6.07it/s]"
          ]
        },
        {
          "output_type": "stream",
          "name": "stdout",
          "text": [
            "Question_779_character_qa_close.pt\n"
          ]
        },
        {
          "output_type": "stream",
          "name": "stderr",
          "text": [
            "\n",
            "10it [00:00, 114.26it/s]\n",
            " 57%|█████▋    | 649/1132 [01:49<01:15,  6.37it/s]"
          ]
        },
        {
          "output_type": "stream",
          "name": "stdout",
          "text": [
            "Question_780_character_qa_close.pt\n"
          ]
        },
        {
          "output_type": "stream",
          "name": "stderr",
          "text": [
            "\n",
            "10it [00:00, 116.44it/s]\n",
            " 57%|█████▋    | 650/1132 [01:49<01:12,  6.61it/s]"
          ]
        },
        {
          "output_type": "stream",
          "name": "stdout",
          "text": [
            "Question_781_character_qa_open.pt\n"
          ]
        },
        {
          "output_type": "stream",
          "name": "stderr",
          "text": [
            "\n",
            "10it [00:00, 106.33it/s]\n",
            " 58%|█████▊    | 651/1132 [01:49<01:12,  6.64it/s]"
          ]
        },
        {
          "output_type": "stream",
          "name": "stdout",
          "text": [
            "Question_782_character_qa_open.pt\n"
          ]
        },
        {
          "output_type": "stream",
          "name": "stderr",
          "text": [
            "\n",
            "10it [00:00, 115.56it/s]\n",
            " 58%|█████▊    | 652/1132 [01:49<01:10,  6.81it/s]"
          ]
        },
        {
          "output_type": "stream",
          "name": "stdout",
          "text": [
            "Question_783_character_qa_open.pt\n"
          ]
        },
        {
          "output_type": "stream",
          "name": "stderr",
          "text": [
            "\n",
            "10it [00:00, 105.86it/s]\n",
            " 58%|█████▊    | 653/1132 [01:49<01:10,  6.79it/s]"
          ]
        },
        {
          "output_type": "stream",
          "name": "stdout",
          "text": [
            "Question_784_character_qa_open.pt\n"
          ]
        },
        {
          "output_type": "stream",
          "name": "stderr",
          "text": [
            "\n",
            "10it [00:00, 115.40it/s]\n",
            " 58%|█████▊    | 654/1132 [01:49<01:19,  6.05it/s]"
          ]
        },
        {
          "output_type": "stream",
          "name": "stdout",
          "text": [
            "Question_785_character_qa_open.pt\n"
          ]
        },
        {
          "output_type": "stream",
          "name": "stderr",
          "text": [
            "\n",
            "10it [00:00, 109.72it/s]\n",
            " 58%|█████▊    | 655/1132 [01:50<01:15,  6.31it/s]"
          ]
        },
        {
          "output_type": "stream",
          "name": "stdout",
          "text": [
            "Question_786_character_qa_open.pt\n"
          ]
        },
        {
          "output_type": "stream",
          "name": "stderr",
          "text": [
            "\n",
            "10it [00:00, 108.99it/s]\n",
            " 58%|█████▊    | 656/1132 [01:50<01:14,  6.42it/s]"
          ]
        },
        {
          "output_type": "stream",
          "name": "stdout",
          "text": [
            "Question_787_character_qa_open.pt\n"
          ]
        },
        {
          "output_type": "stream",
          "name": "stderr",
          "text": [
            "\n",
            "10it [00:00, 109.95it/s]\n",
            " 58%|█████▊    | 657/1132 [01:50<01:12,  6.56it/s]"
          ]
        },
        {
          "output_type": "stream",
          "name": "stdout",
          "text": [
            "Question_788_character_qa_open.pt\n"
          ]
        },
        {
          "output_type": "stream",
          "name": "stderr",
          "text": [
            "\n",
            "10it [00:00, 103.54it/s]\n",
            " 58%|█████▊    | 658/1132 [01:50<01:12,  6.57it/s]"
          ]
        },
        {
          "output_type": "stream",
          "name": "stdout",
          "text": [
            "Question_789_character_qa_open.pt\n"
          ]
        },
        {
          "output_type": "stream",
          "name": "stderr",
          "text": [
            "\n",
            "10it [00:00, 118.12it/s]\n",
            " 58%|█████▊    | 659/1132 [01:50<01:10,  6.72it/s]"
          ]
        },
        {
          "output_type": "stream",
          "name": "stdout",
          "text": [
            "Question_790_character_qa_open.pt\n"
          ]
        },
        {
          "output_type": "stream",
          "name": "stderr",
          "text": [
            "\n",
            "10it [00:00, 114.98it/s]\n",
            " 58%|█████▊    | 660/1132 [01:50<01:19,  5.93it/s]"
          ]
        },
        {
          "output_type": "stream",
          "name": "stdout",
          "text": [
            "Question_791_character_qa_open.pt\n"
          ]
        },
        {
          "output_type": "stream",
          "name": "stderr",
          "text": [
            "\n",
            "10it [00:00, 114.00it/s]\n",
            " 58%|█████▊    | 661/1132 [01:50<01:15,  6.23it/s]"
          ]
        },
        {
          "output_type": "stream",
          "name": "stdout",
          "text": [
            "Question_792_character_qa_open.pt\n"
          ]
        },
        {
          "output_type": "stream",
          "name": "stderr",
          "text": [
            "\n",
            "10it [00:00, 121.18it/s]\n",
            " 58%|█████▊    | 662/1132 [01:51<01:12,  6.53it/s]"
          ]
        },
        {
          "output_type": "stream",
          "name": "stdout",
          "text": [
            "Question_793_character_qa_open.pt\n"
          ]
        },
        {
          "output_type": "stream",
          "name": "stderr",
          "text": [
            "\n",
            "0it [00:00, ?it/s]\u001b[A\n",
            "10it [00:00, 91.33it/s]\n",
            " 59%|█████▊    | 663/1132 [01:51<01:12,  6.43it/s]"
          ]
        },
        {
          "output_type": "stream",
          "name": "stdout",
          "text": [
            "Question_794_character_qa_open.pt\n"
          ]
        },
        {
          "output_type": "stream",
          "name": "stderr",
          "text": [
            "\n",
            "10it [00:00, 115.87it/s]\n",
            " 59%|█████▊    | 664/1132 [01:51<01:10,  6.64it/s]"
          ]
        },
        {
          "output_type": "stream",
          "name": "stdout",
          "text": [
            "Question_795_character_qa_open.pt\n"
          ]
        },
        {
          "output_type": "stream",
          "name": "stderr",
          "text": [
            "\n",
            "10it [00:00, 108.13it/s]\n",
            " 59%|█████▊    | 665/1132 [01:51<01:09,  6.73it/s]"
          ]
        },
        {
          "output_type": "stream",
          "name": "stdout",
          "text": [
            "Question_796_character_qa_open.pt\n"
          ]
        },
        {
          "output_type": "stream",
          "name": "stderr",
          "text": [
            "\n",
            "10it [00:00, 123.50it/s]\n",
            " 59%|█████▉    | 666/1132 [01:51<01:16,  6.12it/s]"
          ]
        },
        {
          "output_type": "stream",
          "name": "stdout",
          "text": [
            "Question_797_character_qa_open.pt\n"
          ]
        },
        {
          "output_type": "stream",
          "name": "stderr",
          "text": [
            "\n",
            "10it [00:00, 117.26it/s]\n",
            " 59%|█████▉    | 667/1132 [01:51<01:12,  6.38it/s]"
          ]
        },
        {
          "output_type": "stream",
          "name": "stdout",
          "text": [
            "Question_798_character_qa_open.pt\n"
          ]
        },
        {
          "output_type": "stream",
          "name": "stderr",
          "text": [
            "\n",
            "10it [00:00, 101.96it/s]\n",
            " 59%|█████▉    | 668/1132 [01:52<01:11,  6.47it/s]"
          ]
        },
        {
          "output_type": "stream",
          "name": "stdout",
          "text": [
            "Question_799_character_qa_open.pt\n"
          ]
        },
        {
          "output_type": "stream",
          "name": "stderr",
          "text": [
            "\n",
            "10it [00:00, 113.04it/s]\n",
            " 59%|█████▉    | 669/1132 [01:52<01:09,  6.62it/s]"
          ]
        },
        {
          "output_type": "stream",
          "name": "stdout",
          "text": [
            "Question_800_character_qa_open.pt\n"
          ]
        },
        {
          "output_type": "stream",
          "name": "stderr",
          "text": [
            "\n",
            "10it [00:00, 101.29it/s]\n",
            " 59%|█████▉    | 670/1132 [01:52<01:10,  6.57it/s]"
          ]
        },
        {
          "output_type": "stream",
          "name": "stdout",
          "text": [
            "Question_801_character_qa_open.pt\n"
          ]
        },
        {
          "output_type": "stream",
          "name": "stderr",
          "text": [
            "\n",
            "10it [00:00, 115.37it/s]\n",
            " 59%|█████▉    | 671/1132 [01:52<01:08,  6.69it/s]"
          ]
        },
        {
          "output_type": "stream",
          "name": "stdout",
          "text": [
            "Question_802_character_qa_open.pt\n"
          ]
        },
        {
          "output_type": "stream",
          "name": "stderr",
          "text": [
            "\n",
            "10it [00:00, 115.37it/s]\n",
            " 59%|█████▉    | 672/1132 [01:52<01:17,  5.92it/s]"
          ]
        },
        {
          "output_type": "stream",
          "name": "stdout",
          "text": [
            "Question_803_character_qa_open.pt\n"
          ]
        },
        {
          "output_type": "stream",
          "name": "stderr",
          "text": [
            "\n",
            "10it [00:00, 113.07it/s]\n",
            " 59%|█████▉    | 673/1132 [01:52<01:13,  6.21it/s]"
          ]
        },
        {
          "output_type": "stream",
          "name": "stdout",
          "text": [
            "Question_804_character_qa_open.pt\n"
          ]
        },
        {
          "output_type": "stream",
          "name": "stderr",
          "text": [
            "\n",
            "10it [00:00, 117.80it/s]\n",
            " 60%|█████▉    | 674/1132 [01:52<01:10,  6.49it/s]"
          ]
        },
        {
          "output_type": "stream",
          "name": "stdout",
          "text": [
            "Question_805_character_qa_open.pt\n"
          ]
        },
        {
          "output_type": "stream",
          "name": "stderr",
          "text": [
            "\n",
            "10it [00:00, 112.84it/s]\n",
            " 60%|█████▉    | 675/1132 [01:53<01:08,  6.68it/s]"
          ]
        },
        {
          "output_type": "stream",
          "name": "stdout",
          "text": [
            "Question_806_character_qa_open.pt\n"
          ]
        },
        {
          "output_type": "stream",
          "name": "stderr",
          "text": [
            "\n",
            "10it [00:00, 119.48it/s]\n",
            " 60%|█████▉    | 676/1132 [01:53<01:06,  6.84it/s]"
          ]
        },
        {
          "output_type": "stream",
          "name": "stdout",
          "text": [
            "Question_807_character_qa_open.pt\n"
          ]
        },
        {
          "output_type": "stream",
          "name": "stderr",
          "text": [
            "\n",
            "10it [00:00, 108.03it/s]\n",
            " 60%|█████▉    | 677/1132 [01:53<01:06,  6.86it/s]"
          ]
        },
        {
          "output_type": "stream",
          "name": "stdout",
          "text": [
            "Question_808_character_qa_open.pt\n"
          ]
        },
        {
          "output_type": "stream",
          "name": "stderr",
          "text": [
            "\n",
            "10it [00:00, 122.59it/s]\n",
            " 60%|█████▉    | 678/1132 [01:53<01:13,  6.19it/s]"
          ]
        },
        {
          "output_type": "stream",
          "name": "stdout",
          "text": [
            "Question_809_character_qa_open.pt\n"
          ]
        },
        {
          "output_type": "stream",
          "name": "stderr",
          "text": [
            "\n",
            "10it [00:00, 120.46it/s]\n",
            " 60%|█████▉    | 679/1132 [01:53<01:10,  6.46it/s]"
          ]
        },
        {
          "output_type": "stream",
          "name": "stdout",
          "text": [
            "Question_810_character_qa_open.pt\n"
          ]
        },
        {
          "output_type": "stream",
          "name": "stderr",
          "text": [
            "\n",
            "10it [00:00, 105.45it/s]\n",
            " 60%|██████    | 680/1132 [01:53<01:08,  6.58it/s]"
          ]
        },
        {
          "output_type": "stream",
          "name": "stdout",
          "text": [
            "Question_811_character_qa_open.pt\n"
          ]
        },
        {
          "output_type": "stream",
          "name": "stderr",
          "text": [
            "\n",
            "10it [00:00, 115.29it/s]\n",
            " 60%|██████    | 681/1132 [01:54<01:07,  6.71it/s]"
          ]
        },
        {
          "output_type": "stream",
          "name": "stdout",
          "text": [
            "Question_812_character_qa_close.pt\n"
          ]
        },
        {
          "output_type": "stream",
          "name": "stderr",
          "text": [
            "\n",
            "10it [00:00, 104.97it/s]\n",
            " 60%|██████    | 682/1132 [01:54<01:07,  6.65it/s]"
          ]
        },
        {
          "output_type": "stream",
          "name": "stdout",
          "text": [
            "Question_813_character_qa_close.pt\n"
          ]
        },
        {
          "output_type": "stream",
          "name": "stderr",
          "text": [
            "\n",
            "10it [00:00, 115.95it/s]\n",
            " 60%|██████    | 683/1132 [01:54<01:06,  6.76it/s]"
          ]
        },
        {
          "output_type": "stream",
          "name": "stdout",
          "text": [
            "Question_815_character_qa_close.pt\n"
          ]
        },
        {
          "output_type": "stream",
          "name": "stderr",
          "text": [
            "\n",
            "10it [00:00, 118.13it/s]\n",
            " 60%|██████    | 684/1132 [01:54<01:14,  6.04it/s]"
          ]
        },
        {
          "output_type": "stream",
          "name": "stdout",
          "text": [
            "Question_814_character_qa_close.pt\n"
          ]
        },
        {
          "output_type": "stream",
          "name": "stderr",
          "text": [
            "\n",
            "10it [00:00, 114.38it/s]\n",
            " 61%|██████    | 685/1132 [01:54<01:10,  6.34it/s]"
          ]
        },
        {
          "output_type": "stream",
          "name": "stdout",
          "text": [
            "Question_816_character_qa_close.pt\n"
          ]
        },
        {
          "output_type": "stream",
          "name": "stderr",
          "text": [
            "\n",
            "10it [00:00, 113.84it/s]\n",
            " 61%|██████    | 686/1132 [01:54<01:07,  6.59it/s]"
          ]
        },
        {
          "output_type": "stream",
          "name": "stdout",
          "text": [
            "Question_817_character_qa_close.pt\n"
          ]
        },
        {
          "output_type": "stream",
          "name": "stderr",
          "text": [
            "\n",
            "10it [00:00, 110.11it/s]\n",
            " 61%|██████    | 687/1132 [01:54<01:06,  6.73it/s]"
          ]
        },
        {
          "output_type": "stream",
          "name": "stdout",
          "text": [
            "Question_818_character_qa_close.pt\n"
          ]
        },
        {
          "output_type": "stream",
          "name": "stderr",
          "text": [
            "\n",
            "10it [00:00, 120.54it/s]\n",
            " 61%|██████    | 688/1132 [01:55<01:04,  6.91it/s]"
          ]
        },
        {
          "output_type": "stream",
          "name": "stdout",
          "text": [
            "Question_819_character_qa_close.pt\n"
          ]
        },
        {
          "output_type": "stream",
          "name": "stderr",
          "text": [
            "\n",
            "10it [00:00, 105.14it/s]\n",
            " 61%|██████    | 689/1132 [01:55<01:04,  6.88it/s]"
          ]
        },
        {
          "output_type": "stream",
          "name": "stdout",
          "text": [
            "Question_820_character_qa_close.pt\n"
          ]
        },
        {
          "output_type": "stream",
          "name": "stderr",
          "text": [
            "\n",
            "10it [00:00, 119.41it/s]\n",
            " 61%|██████    | 690/1132 [01:55<01:11,  6.16it/s]"
          ]
        },
        {
          "output_type": "stream",
          "name": "stdout",
          "text": [
            "Question_821_character_qa_close.pt\n"
          ]
        },
        {
          "output_type": "stream",
          "name": "stderr",
          "text": [
            "\n",
            "10it [00:00, 119.98it/s]\n",
            " 61%|██████    | 691/1132 [01:55<01:07,  6.49it/s]"
          ]
        },
        {
          "output_type": "stream",
          "name": "stdout",
          "text": [
            "Question_823_character_qa_close.pt\n"
          ]
        },
        {
          "output_type": "stream",
          "name": "stderr",
          "text": [
            "\n",
            "10it [00:00, 110.99it/s]\n",
            " 61%|██████    | 692/1132 [01:55<01:06,  6.65it/s]"
          ]
        },
        {
          "output_type": "stream",
          "name": "stdout",
          "text": [
            "Question_822_character_qa_close.pt\n"
          ]
        },
        {
          "output_type": "stream",
          "name": "stderr",
          "text": [
            "\n",
            "10it [00:00, 118.64it/s]\n",
            " 61%|██████    | 693/1132 [01:55<01:03,  6.89it/s]"
          ]
        },
        {
          "output_type": "stream",
          "name": "stdout",
          "text": [
            "Question_824_character_qa_close.pt\n"
          ]
        },
        {
          "output_type": "stream",
          "name": "stderr",
          "text": [
            "\n",
            "10it [00:00, 105.62it/s]\n",
            " 61%|██████▏   | 694/1132 [01:55<01:03,  6.87it/s]"
          ]
        },
        {
          "output_type": "stream",
          "name": "stdout",
          "text": [
            "Question_825_character_qa_close.pt\n"
          ]
        },
        {
          "output_type": "stream",
          "name": "stderr",
          "text": [
            "\n",
            "10it [00:00, 118.84it/s]\n",
            " 61%|██████▏   | 695/1132 [01:56<01:02,  6.99it/s]"
          ]
        },
        {
          "output_type": "stream",
          "name": "stdout",
          "text": [
            "Question_826_character_qa_close.pt\n"
          ]
        },
        {
          "output_type": "stream",
          "name": "stderr",
          "text": [
            "\n",
            "10it [00:00, 117.29it/s]\n",
            " 61%|██████▏   | 696/1132 [01:56<01:10,  6.15it/s]"
          ]
        },
        {
          "output_type": "stream",
          "name": "stdout",
          "text": [
            "Question_827_character_qa_close.pt\n"
          ]
        },
        {
          "output_type": "stream",
          "name": "stderr",
          "text": [
            "\n",
            "10it [00:00, 119.62it/s]\n",
            " 62%|██████▏   | 697/1132 [01:56<01:07,  6.47it/s]"
          ]
        },
        {
          "output_type": "stream",
          "name": "stdout",
          "text": [
            "Question_828_character_qa_close.pt\n"
          ]
        },
        {
          "output_type": "stream",
          "name": "stderr",
          "text": [
            "\n",
            "10it [00:00, 120.53it/s]\n",
            " 62%|██████▏   | 698/1132 [01:56<01:04,  6.73it/s]"
          ]
        },
        {
          "output_type": "stream",
          "name": "stdout",
          "text": [
            "Question_829_character_qa_close.pt\n"
          ]
        },
        {
          "output_type": "stream",
          "name": "stderr",
          "text": [
            "\n",
            "10it [00:00, 109.03it/s]\n",
            " 62%|██████▏   | 699/1132 [01:56<01:03,  6.81it/s]"
          ]
        },
        {
          "output_type": "stream",
          "name": "stdout",
          "text": [
            "Question_830_character_qa_close.pt\n"
          ]
        },
        {
          "output_type": "stream",
          "name": "stderr",
          "text": [
            "\n",
            "10it [00:00, 118.51it/s]\n",
            " 62%|██████▏   | 700/1132 [01:56<01:01,  6.99it/s]"
          ]
        },
        {
          "output_type": "stream",
          "name": "stdout",
          "text": [
            "Question_831_character_qa_close.pt\n"
          ]
        },
        {
          "output_type": "stream",
          "name": "stderr",
          "text": [
            "\n",
            "10it [00:00, 108.02it/s]\n",
            " 62%|██████▏   | 701/1132 [01:57<01:01,  6.98it/s]"
          ]
        },
        {
          "output_type": "stream",
          "name": "stdout",
          "text": [
            "Question_832_character_qa_close.pt\n"
          ]
        },
        {
          "output_type": "stream",
          "name": "stderr",
          "text": [
            "\n",
            "10it [00:00, 102.37it/s]\n",
            " 62%|██████▏   | 702/1132 [01:57<01:10,  6.07it/s]"
          ]
        },
        {
          "output_type": "stream",
          "name": "stdout",
          "text": [
            "Question_833_character_qa_close.pt\n"
          ]
        },
        {
          "output_type": "stream",
          "name": "stderr",
          "text": [
            "\n",
            "10it [00:00, 119.01it/s]\n",
            " 62%|██████▏   | 703/1132 [01:57<01:07,  6.38it/s]"
          ]
        },
        {
          "output_type": "stream",
          "name": "stdout",
          "text": [
            "Question_834_character_qa_close.pt\n"
          ]
        },
        {
          "output_type": "stream",
          "name": "stderr",
          "text": [
            "\n",
            "10it [00:00, 109.01it/s]\n",
            " 62%|██████▏   | 704/1132 [01:57<01:05,  6.52it/s]"
          ]
        },
        {
          "output_type": "stream",
          "name": "stdout",
          "text": [
            "Question_835_character_qa_close.pt\n"
          ]
        },
        {
          "output_type": "stream",
          "name": "stderr",
          "text": [
            "\n",
            "10it [00:00, 103.96it/s]\n",
            " 62%|██████▏   | 705/1132 [01:57<01:05,  6.55it/s]"
          ]
        },
        {
          "output_type": "stream",
          "name": "stdout",
          "text": [
            "Question_836_character_qa_close.pt\n"
          ]
        },
        {
          "output_type": "stream",
          "name": "stderr",
          "text": [
            "\n",
            "10it [00:00, 103.44it/s]\n",
            " 62%|██████▏   | 706/1132 [01:57<01:04,  6.63it/s]"
          ]
        },
        {
          "output_type": "stream",
          "name": "stdout",
          "text": [
            "Question_837_character_qa_close.pt\n"
          ]
        },
        {
          "output_type": "stream",
          "name": "stderr",
          "text": [
            "\n",
            "10it [00:00, 118.01it/s]\n",
            " 62%|██████▏   | 707/1132 [01:57<01:02,  6.80it/s]"
          ]
        },
        {
          "output_type": "stream",
          "name": "stdout",
          "text": [
            "Question_838_character_qa_close.pt\n"
          ]
        },
        {
          "output_type": "stream",
          "name": "stderr",
          "text": [
            "\n",
            "10it [00:00, 114.65it/s]\n",
            " 63%|██████▎   | 708/1132 [01:58<01:10,  6.01it/s]"
          ]
        },
        {
          "output_type": "stream",
          "name": "stdout",
          "text": [
            "Question_839_character_qa_close.pt\n"
          ]
        },
        {
          "output_type": "stream",
          "name": "stderr",
          "text": [
            "\n",
            "10it [00:00, 120.00it/s]\n",
            " 63%|██████▎   | 709/1132 [01:58<01:06,  6.32it/s]"
          ]
        },
        {
          "output_type": "stream",
          "name": "stdout",
          "text": [
            "Question_840_character_qa_close.pt\n"
          ]
        },
        {
          "output_type": "stream",
          "name": "stderr",
          "text": [
            "\n",
            "10it [00:00, 121.12it/s]\n",
            " 63%|██████▎   | 710/1132 [01:58<01:03,  6.61it/s]"
          ]
        },
        {
          "output_type": "stream",
          "name": "stdout",
          "text": [
            "Question_841_character_qa_open.pt\n"
          ]
        },
        {
          "output_type": "stream",
          "name": "stderr",
          "text": [
            "\n",
            "10it [00:00, 113.85it/s]\n",
            " 63%|██████▎   | 711/1132 [01:58<01:01,  6.79it/s]"
          ]
        },
        {
          "output_type": "stream",
          "name": "stdout",
          "text": [
            "Question_842_character_qa_open.pt\n"
          ]
        },
        {
          "output_type": "stream",
          "name": "stderr",
          "text": [
            "\n",
            "10it [00:00, 116.33it/s]\n",
            " 63%|██████▎   | 712/1132 [01:58<01:00,  6.95it/s]"
          ]
        },
        {
          "output_type": "stream",
          "name": "stdout",
          "text": [
            "Question_843_character_qa_open.pt\n"
          ]
        },
        {
          "output_type": "stream",
          "name": "stderr",
          "text": [
            "\n",
            "10it [00:00, 106.17it/s]\n",
            " 63%|██████▎   | 713/1132 [01:58<01:00,  6.92it/s]"
          ]
        },
        {
          "output_type": "stream",
          "name": "stdout",
          "text": [
            "Question_844_character_qa_open.pt\n"
          ]
        },
        {
          "output_type": "stream",
          "name": "stderr",
          "text": [
            "\n",
            "10it [00:00, 118.21it/s]\n",
            " 63%|██████▎   | 714/1132 [01:59<01:07,  6.22it/s]"
          ]
        },
        {
          "output_type": "stream",
          "name": "stdout",
          "text": [
            "Question_845_character_qa_open.pt\n"
          ]
        },
        {
          "output_type": "stream",
          "name": "stderr",
          "text": [
            "\n",
            "10it [00:00, 116.78it/s]\n",
            " 63%|██████▎   | 715/1132 [01:59<01:04,  6.50it/s]"
          ]
        },
        {
          "output_type": "stream",
          "name": "stdout",
          "text": [
            "Question_846_character_qa_open.pt\n"
          ]
        },
        {
          "output_type": "stream",
          "name": "stderr",
          "text": [
            "\n",
            "10it [00:00, 111.45it/s]\n",
            " 63%|██████▎   | 716/1132 [01:59<01:02,  6.65it/s]"
          ]
        },
        {
          "output_type": "stream",
          "name": "stdout",
          "text": [
            "Question_847_character_qa_open.pt\n"
          ]
        },
        {
          "output_type": "stream",
          "name": "stderr",
          "text": [
            "\n",
            "10it [00:00, 114.58it/s]\n",
            " 63%|██████▎   | 717/1132 [01:59<01:01,  6.78it/s]"
          ]
        },
        {
          "output_type": "stream",
          "name": "stdout",
          "text": [
            "Question_848_character_qa_open.pt\n"
          ]
        },
        {
          "output_type": "stream",
          "name": "stderr",
          "text": [
            "\n",
            "10it [00:00, 107.57it/s]\n",
            " 63%|██████▎   | 718/1132 [01:59<01:01,  6.77it/s]"
          ]
        },
        {
          "output_type": "stream",
          "name": "stdout",
          "text": [
            "Question_849_character_qa_open.pt\n"
          ]
        },
        {
          "output_type": "stream",
          "name": "stderr",
          "text": [
            "\n",
            "10it [00:00, 121.04it/s]\n",
            " 64%|██████▎   | 719/1132 [01:59<01:00,  6.86it/s]"
          ]
        },
        {
          "output_type": "stream",
          "name": "stdout",
          "text": [
            "Question_850_character_qa_open.pt\n"
          ]
        },
        {
          "output_type": "stream",
          "name": "stderr",
          "text": [
            "\n",
            "10it [00:00, 116.86it/s]\n",
            " 64%|██████▎   | 720/1132 [01:59<01:08,  6.03it/s]"
          ]
        },
        {
          "output_type": "stream",
          "name": "stdout",
          "text": [
            "Question_852_character_qa_open.pt\n"
          ]
        },
        {
          "output_type": "stream",
          "name": "stderr",
          "text": [
            "\n",
            "10it [00:00, 116.70it/s]\n",
            " 64%|██████▎   | 721/1132 [02:00<01:05,  6.30it/s]"
          ]
        },
        {
          "output_type": "stream",
          "name": "stdout",
          "text": [
            "Question_851_character_qa_open.pt\n"
          ]
        },
        {
          "output_type": "stream",
          "name": "stderr",
          "text": [
            "\n",
            "10it [00:00, 122.92it/s]\n",
            " 64%|██████▍   | 722/1132 [02:00<01:02,  6.59it/s]"
          ]
        },
        {
          "output_type": "stream",
          "name": "stdout",
          "text": [
            "Question_853_character_qa_open.pt\n"
          ]
        },
        {
          "output_type": "stream",
          "name": "stderr",
          "text": [
            "\n",
            "10it [00:00, 105.92it/s]\n",
            " 64%|██████▍   | 723/1132 [02:00<01:01,  6.68it/s]"
          ]
        },
        {
          "output_type": "stream",
          "name": "stdout",
          "text": [
            "Question_854_character_qa_open.pt\n"
          ]
        },
        {
          "output_type": "stream",
          "name": "stderr",
          "text": [
            "\n",
            "10it [00:00, 116.34it/s]\n",
            " 64%|██████▍   | 724/1132 [02:00<00:59,  6.82it/s]"
          ]
        },
        {
          "output_type": "stream",
          "name": "stdout",
          "text": [
            "Question_855_character_qa_open.pt\n"
          ]
        },
        {
          "output_type": "stream",
          "name": "stderr",
          "text": [
            "\n",
            "10it [00:00, 101.77it/s]\n",
            " 64%|██████▍   | 725/1132 [02:00<00:59,  6.79it/s]"
          ]
        },
        {
          "output_type": "stream",
          "name": "stdout",
          "text": [
            "Question_856_character_qa_open.pt\n"
          ]
        },
        {
          "output_type": "stream",
          "name": "stderr",
          "text": [
            "\n",
            "10it [00:00, 123.45it/s]\n",
            " 64%|██████▍   | 726/1132 [02:00<01:05,  6.17it/s]"
          ]
        },
        {
          "output_type": "stream",
          "name": "stdout",
          "text": [
            "Question_857_character_qa_open.pt\n"
          ]
        },
        {
          "output_type": "stream",
          "name": "stderr",
          "text": [
            "\n",
            "10it [00:00, 118.22it/s]\n",
            " 64%|██████▍   | 727/1132 [02:01<01:02,  6.43it/s]"
          ]
        },
        {
          "output_type": "stream",
          "name": "stdout",
          "text": [
            "Question_858_character_qa_open.pt\n"
          ]
        },
        {
          "output_type": "stream",
          "name": "stderr",
          "text": [
            "\n",
            "10it [00:00, 107.74it/s]\n",
            " 64%|██████▍   | 728/1132 [02:01<01:01,  6.57it/s]"
          ]
        },
        {
          "output_type": "stream",
          "name": "stdout",
          "text": [
            "Question_859_character_qa_open.pt\n"
          ]
        },
        {
          "output_type": "stream",
          "name": "stderr",
          "text": [
            "\n",
            "10it [00:00, 106.14it/s]\n",
            " 64%|██████▍   | 729/1132 [02:01<01:00,  6.65it/s]"
          ]
        },
        {
          "output_type": "stream",
          "name": "stdout",
          "text": [
            "Question_860_character_qa_open.pt\n"
          ]
        },
        {
          "output_type": "stream",
          "name": "stderr",
          "text": [
            "\n",
            "10it [00:00, 105.03it/s]\n",
            " 64%|██████▍   | 730/1132 [02:01<00:59,  6.71it/s]"
          ]
        },
        {
          "output_type": "stream",
          "name": "stdout",
          "text": [
            "Question_861_character_qa_open.pt\n"
          ]
        },
        {
          "output_type": "stream",
          "name": "stderr",
          "text": [
            "\n",
            "10it [00:00, 117.12it/s]\n",
            " 65%|██████▍   | 731/1132 [02:01<00:58,  6.87it/s]"
          ]
        },
        {
          "output_type": "stream",
          "name": "stdout",
          "text": [
            "Question_863_character_qa_open.pt\n"
          ]
        },
        {
          "output_type": "stream",
          "name": "stderr",
          "text": [
            "\n",
            "10it [00:00, 114.58it/s]\n",
            " 65%|██████▍   | 732/1132 [02:01<01:06,  6.05it/s]"
          ]
        },
        {
          "output_type": "stream",
          "name": "stdout",
          "text": [
            "Question_862_character_qa_open.pt\n"
          ]
        },
        {
          "output_type": "stream",
          "name": "stderr",
          "text": [
            "\n",
            "10it [00:00, 119.05it/s]\n",
            " 65%|██████▍   | 733/1132 [02:01<01:02,  6.41it/s]"
          ]
        },
        {
          "output_type": "stream",
          "name": "stdout",
          "text": [
            "Question_865_character_qa_open.pt\n"
          ]
        },
        {
          "output_type": "stream",
          "name": "stderr",
          "text": [
            "\n",
            "10it [00:00, 116.12it/s]\n",
            " 65%|██████▍   | 734/1132 [02:02<01:00,  6.58it/s]"
          ]
        },
        {
          "output_type": "stream",
          "name": "stdout",
          "text": [
            "Question_864_character_qa_open.pt\n"
          ]
        },
        {
          "output_type": "stream",
          "name": "stderr",
          "text": [
            "\n",
            "10it [00:00, 112.63it/s]\n",
            " 65%|██████▍   | 735/1132 [02:02<00:58,  6.76it/s]"
          ]
        },
        {
          "output_type": "stream",
          "name": "stdout",
          "text": [
            "Question_866_character_qa_open.pt\n"
          ]
        },
        {
          "output_type": "stream",
          "name": "stderr",
          "text": [
            "\n",
            "10it [00:00, 107.83it/s]\n",
            " 65%|██████▌   | 736/1132 [02:02<00:58,  6.78it/s]"
          ]
        },
        {
          "output_type": "stream",
          "name": "stdout",
          "text": [
            "Question_867_character_qa_open.pt\n"
          ]
        },
        {
          "output_type": "stream",
          "name": "stderr",
          "text": [
            "\n",
            "10it [00:00, 108.48it/s]\n",
            " 65%|██████▌   | 737/1132 [02:02<00:58,  6.78it/s]"
          ]
        },
        {
          "output_type": "stream",
          "name": "stdout",
          "text": [
            "Question_868_character_qa_open.pt\n"
          ]
        },
        {
          "output_type": "stream",
          "name": "stderr",
          "text": [
            "\n",
            "10it [00:00, 118.68it/s]\n",
            " 65%|██████▌   | 738/1132 [02:02<01:04,  6.08it/s]"
          ]
        },
        {
          "output_type": "stream",
          "name": "stdout",
          "text": [
            "Question_869_character_qa_open.pt\n"
          ]
        },
        {
          "output_type": "stream",
          "name": "stderr",
          "text": [
            "\n",
            "10it [00:00, 120.28it/s]\n",
            " 65%|██████▌   | 739/1132 [02:02<01:00,  6.44it/s]"
          ]
        },
        {
          "output_type": "stream",
          "name": "stdout",
          "text": [
            "Question_870_character_qa_open.pt\n"
          ]
        },
        {
          "output_type": "stream",
          "name": "stderr",
          "text": [
            "\n",
            "10it [00:00, 105.49it/s]\n",
            " 65%|██████▌   | 740/1132 [02:03<00:59,  6.57it/s]"
          ]
        },
        {
          "output_type": "stream",
          "name": "stdout",
          "text": [
            "Question_871_character_qa_open.pt\n"
          ]
        },
        {
          "output_type": "stream",
          "name": "stderr",
          "text": [
            "\n",
            "0it [00:00, ?it/s]\u001b[A\n",
            "10it [00:00, 95.25it/s]\n",
            " 65%|██████▌   | 741/1132 [02:03<01:01,  6.40it/s]"
          ]
        },
        {
          "output_type": "stream",
          "name": "stdout",
          "text": [
            "Question_872_character_qa_close.pt\n"
          ]
        },
        {
          "output_type": "stream",
          "name": "stderr",
          "text": [
            "\n",
            "10it [00:00, 119.38it/s]\n",
            " 66%|██████▌   | 742/1132 [02:03<01:00,  6.48it/s]"
          ]
        },
        {
          "output_type": "stream",
          "name": "stdout",
          "text": [
            "Question_873_character_qa_close.pt\n"
          ]
        },
        {
          "output_type": "stream",
          "name": "stderr",
          "text": [
            "\n",
            "10it [00:00, 119.23it/s]\n",
            " 66%|██████▌   | 743/1132 [02:03<00:58,  6.61it/s]"
          ]
        },
        {
          "output_type": "stream",
          "name": "stdout",
          "text": [
            "Question_874_character_qa_close.pt\n"
          ]
        },
        {
          "output_type": "stream",
          "name": "stderr",
          "text": [
            "\n",
            "10it [00:00, 119.95it/s]\n",
            " 66%|██████▌   | 744/1132 [02:03<00:56,  6.82it/s]"
          ]
        },
        {
          "output_type": "stream",
          "name": "stdout",
          "text": [
            "Question_876_character_qa_close.pt\n"
          ]
        },
        {
          "output_type": "stream",
          "name": "stderr",
          "text": [
            "\n",
            "10it [00:00, 120.32it/s]\n",
            " 66%|██████▌   | 745/1132 [02:03<01:03,  6.09it/s]"
          ]
        },
        {
          "output_type": "stream",
          "name": "stdout",
          "text": [
            "Question_875_character_qa_close.pt\n"
          ]
        },
        {
          "output_type": "stream",
          "name": "stderr",
          "text": [
            "\n",
            "10it [00:00, 118.35it/s]\n",
            " 66%|██████▌   | 746/1132 [02:03<01:00,  6.41it/s]"
          ]
        },
        {
          "output_type": "stream",
          "name": "stdout",
          "text": [
            "Question_877_character_qa_close.pt\n"
          ]
        },
        {
          "output_type": "stream",
          "name": "stderr",
          "text": [
            "\n",
            "10it [00:00, 120.70it/s]\n",
            " 66%|██████▌   | 747/1132 [02:04<00:57,  6.64it/s]"
          ]
        },
        {
          "output_type": "stream",
          "name": "stdout",
          "text": [
            "Question_878_character_qa_close.pt\n"
          ]
        },
        {
          "output_type": "stream",
          "name": "stderr",
          "text": [
            "\n",
            "10it [00:00, 103.20it/s]\n",
            " 66%|██████▌   | 748/1132 [02:04<00:57,  6.67it/s]"
          ]
        },
        {
          "output_type": "stream",
          "name": "stdout",
          "text": [
            "Question_879_character_qa_close.pt\n"
          ]
        },
        {
          "output_type": "stream",
          "name": "stderr",
          "text": [
            "\n",
            "10it [00:00, 112.56it/s]\n",
            " 66%|██████▌   | 749/1132 [02:04<00:56,  6.77it/s]"
          ]
        },
        {
          "output_type": "stream",
          "name": "stdout",
          "text": [
            "Question_880_character_qa_close.pt\n"
          ]
        },
        {
          "output_type": "stream",
          "name": "stderr",
          "text": [
            "\n",
            "10it [00:00, 106.97it/s]\n",
            " 66%|██████▋   | 750/1132 [02:04<00:56,  6.78it/s]"
          ]
        },
        {
          "output_type": "stream",
          "name": "stdout",
          "text": [
            "Question_882_character_qa_close.pt\n"
          ]
        },
        {
          "output_type": "stream",
          "name": "stderr",
          "text": [
            "\n",
            "10it [00:00, 119.11it/s]\n",
            " 66%|██████▋   | 751/1132 [02:04<01:03,  6.05it/s]"
          ]
        },
        {
          "output_type": "stream",
          "name": "stdout",
          "text": [
            "Question_881_character_qa_close.pt\n"
          ]
        },
        {
          "output_type": "stream",
          "name": "stderr",
          "text": [
            "\n",
            "10it [00:00, 122.58it/s]\n",
            " 66%|██████▋   | 752/1132 [02:04<00:59,  6.38it/s]"
          ]
        },
        {
          "output_type": "stream",
          "name": "stdout",
          "text": [
            "Question_883_character_qa_close.pt\n"
          ]
        },
        {
          "output_type": "stream",
          "name": "stderr",
          "text": [
            "\n",
            "10it [00:00, 111.57it/s]\n",
            " 67%|██████▋   | 753/1132 [02:05<00:58,  6.51it/s]"
          ]
        },
        {
          "output_type": "stream",
          "name": "stdout",
          "text": [
            "Question_884_character_qa_close.pt\n"
          ]
        },
        {
          "output_type": "stream",
          "name": "stderr",
          "text": [
            "\n",
            "10it [00:00, 120.72it/s]\n",
            " 67%|██████▋   | 754/1132 [02:05<00:55,  6.75it/s]"
          ]
        },
        {
          "output_type": "stream",
          "name": "stdout",
          "text": [
            "Question_886_character_qa_close.pt\n"
          ]
        },
        {
          "output_type": "stream",
          "name": "stderr",
          "text": [
            "\n",
            "0it [00:00, ?it/s]\u001b[A\n",
            "10it [00:00, 94.33it/s]\n",
            " 67%|██████▋   | 755/1132 [02:05<00:57,  6.61it/s]"
          ]
        },
        {
          "output_type": "stream",
          "name": "stdout",
          "text": [
            "Question_885_character_qa_close.pt\n"
          ]
        },
        {
          "output_type": "stream",
          "name": "stderr",
          "text": [
            "\n",
            "10it [00:00, 108.21it/s]\n",
            " 67%|██████▋   | 756/1132 [02:05<00:56,  6.64it/s]"
          ]
        },
        {
          "output_type": "stream",
          "name": "stdout",
          "text": [
            "Question_887_character_qa_close.pt\n"
          ]
        },
        {
          "output_type": "stream",
          "name": "stderr",
          "text": [
            "\n",
            "10it [00:00, 118.59it/s]\n",
            " 67%|██████▋   | 757/1132 [02:05<01:03,  5.94it/s]"
          ]
        },
        {
          "output_type": "stream",
          "name": "stdout",
          "text": [
            "Question_888_character_qa_close.pt\n"
          ]
        },
        {
          "output_type": "stream",
          "name": "stderr",
          "text": [
            "\n",
            "10it [00:00, 116.00it/s]\n",
            " 67%|██████▋   | 758/1132 [02:05<00:59,  6.29it/s]"
          ]
        },
        {
          "output_type": "stream",
          "name": "stdout",
          "text": [
            "Question_889_character_qa_close.pt\n"
          ]
        },
        {
          "output_type": "stream",
          "name": "stderr",
          "text": [
            "\n",
            "10it [00:00, 116.92it/s]\n",
            " 67%|██████▋   | 759/1132 [02:05<00:56,  6.55it/s]"
          ]
        },
        {
          "output_type": "stream",
          "name": "stdout",
          "text": [
            "Question_891_character_qa_close.pt\n"
          ]
        },
        {
          "output_type": "stream",
          "name": "stderr",
          "text": [
            "\n",
            "10it [00:00, 108.67it/s]\n",
            " 67%|██████▋   | 760/1132 [02:06<00:56,  6.63it/s]"
          ]
        },
        {
          "output_type": "stream",
          "name": "stdout",
          "text": [
            "Question_890_character_qa_close.pt\n"
          ]
        },
        {
          "output_type": "stream",
          "name": "stderr",
          "text": [
            "\n",
            "10it [00:00, 103.57it/s]\n",
            " 67%|██████▋   | 761/1132 [02:06<00:55,  6.65it/s]"
          ]
        },
        {
          "output_type": "stream",
          "name": "stdout",
          "text": [
            "Question_893_character_qa_close.pt\n"
          ]
        },
        {
          "output_type": "stream",
          "name": "stderr",
          "text": [
            "\n",
            "10it [00:00, 105.87it/s]\n",
            " 67%|██████▋   | 762/1132 [02:06<00:55,  6.67it/s]"
          ]
        },
        {
          "output_type": "stream",
          "name": "stdout",
          "text": [
            "Question_892_character_qa_close.pt\n"
          ]
        },
        {
          "output_type": "stream",
          "name": "stderr",
          "text": [
            "\n",
            "10it [00:00, 119.08it/s]\n",
            " 67%|██████▋   | 763/1132 [02:06<01:01,  6.02it/s]"
          ]
        },
        {
          "output_type": "stream",
          "name": "stdout",
          "text": [
            "Question_895_character_qa_close.pt\n"
          ]
        },
        {
          "output_type": "stream",
          "name": "stderr",
          "text": [
            "\n",
            "10it [00:00, 118.34it/s]\n",
            " 67%|██████▋   | 764/1132 [02:06<00:57,  6.39it/s]"
          ]
        },
        {
          "output_type": "stream",
          "name": "stdout",
          "text": [
            "Question_894_character_qa_close.pt\n"
          ]
        },
        {
          "output_type": "stream",
          "name": "stderr",
          "text": [
            "\n",
            "10it [00:00, 110.19it/s]\n",
            " 68%|██████▊   | 765/1132 [02:06<00:55,  6.57it/s]"
          ]
        },
        {
          "output_type": "stream",
          "name": "stdout",
          "text": [
            "Question_896_character_qa_close.pt\n"
          ]
        },
        {
          "output_type": "stream",
          "name": "stderr",
          "text": [
            "\n",
            "10it [00:00, 118.09it/s]\n",
            " 68%|██████▊   | 766/1132 [02:07<00:54,  6.75it/s]"
          ]
        },
        {
          "output_type": "stream",
          "name": "stdout",
          "text": [
            "Question_897_character_qa_close.pt\n"
          ]
        },
        {
          "output_type": "stream",
          "name": "stderr",
          "text": [
            "\n",
            "10it [00:00, 109.35it/s]\n",
            " 68%|██████▊   | 767/1132 [02:07<00:53,  6.85it/s]"
          ]
        },
        {
          "output_type": "stream",
          "name": "stdout",
          "text": [
            "Question_898_character_qa_close.pt\n"
          ]
        },
        {
          "output_type": "stream",
          "name": "stderr",
          "text": [
            "\n",
            "10it [00:00, 120.01it/s]\n",
            " 68%|██████▊   | 768/1132 [02:07<00:52,  6.98it/s]"
          ]
        },
        {
          "output_type": "stream",
          "name": "stdout",
          "text": [
            "Question_899_character_qa_close.pt\n"
          ]
        },
        {
          "output_type": "stream",
          "name": "stderr",
          "text": [
            "\n",
            "10it [00:00, 109.46it/s]\n",
            " 68%|██████▊   | 769/1132 [02:07<00:59,  6.08it/s]"
          ]
        },
        {
          "output_type": "stream",
          "name": "stdout",
          "text": [
            "Question_900_character_qa_close.pt\n"
          ]
        },
        {
          "output_type": "stream",
          "name": "stderr",
          "text": [
            "\n",
            "10it [00:00, 113.33it/s]\n",
            " 68%|██████▊   | 770/1132 [02:07<00:57,  6.32it/s]"
          ]
        },
        {
          "output_type": "stream",
          "name": "stdout",
          "text": [
            "Question_901_character_qa_open.pt\n"
          ]
        },
        {
          "output_type": "stream",
          "name": "stderr",
          "text": [
            "\n",
            "10it [00:00, 115.78it/s]\n",
            " 68%|██████▊   | 771/1132 [02:07<00:55,  6.53it/s]"
          ]
        },
        {
          "output_type": "stream",
          "name": "stdout",
          "text": [
            "Question_903_character_qa_open.pt\n"
          ]
        },
        {
          "output_type": "stream",
          "name": "stderr",
          "text": [
            "\n",
            "10it [00:00, 102.61it/s]\n",
            " 68%|██████▊   | 772/1132 [02:07<00:54,  6.58it/s]"
          ]
        },
        {
          "output_type": "stream",
          "name": "stdout",
          "text": [
            "Question_902_character_qa_open.pt\n"
          ]
        },
        {
          "output_type": "stream",
          "name": "stderr",
          "text": [
            "\n",
            "10it [00:00, 119.74it/s]\n",
            " 68%|██████▊   | 773/1132 [02:08<00:52,  6.84it/s]"
          ]
        },
        {
          "output_type": "stream",
          "name": "stdout",
          "text": [
            "Question_904_character_qa_open.pt\n"
          ]
        },
        {
          "output_type": "stream",
          "name": "stderr",
          "text": [
            "\n",
            "0it [00:00, ?it/s]\u001b[A\n",
            "10it [00:00, 95.69it/s]\n",
            " 68%|██████▊   | 774/1132 [02:08<00:53,  6.72it/s]"
          ]
        },
        {
          "output_type": "stream",
          "name": "stdout",
          "text": [
            "Question_905_character_qa_open.pt\n"
          ]
        },
        {
          "output_type": "stream",
          "name": "stderr",
          "text": [
            "\n",
            "10it [00:00, 117.29it/s]\n",
            " 68%|██████▊   | 775/1132 [02:08<00:59,  6.03it/s]"
          ]
        },
        {
          "output_type": "stream",
          "name": "stdout",
          "text": [
            "Question_906_character_qa_open.pt\n"
          ]
        },
        {
          "output_type": "stream",
          "name": "stderr",
          "text": [
            "\n",
            "10it [00:00, 125.10it/s]\n",
            " 69%|██████▊   | 776/1132 [02:08<00:55,  6.40it/s]"
          ]
        },
        {
          "output_type": "stream",
          "name": "stdout",
          "text": [
            "Question_907_character_qa_open.pt\n"
          ]
        },
        {
          "output_type": "stream",
          "name": "stderr",
          "text": [
            "\n",
            "10it [00:00, 99.96it/s]\n",
            " 69%|██████▊   | 777/1132 [02:08<00:54,  6.48it/s]"
          ]
        },
        {
          "output_type": "stream",
          "name": "stdout",
          "text": [
            "Question_908_character_qa_open.pt\n"
          ]
        },
        {
          "output_type": "stream",
          "name": "stderr",
          "text": [
            "\n",
            "10it [00:00, 113.69it/s]\n",
            " 69%|██████▊   | 778/1132 [02:08<00:53,  6.67it/s]"
          ]
        },
        {
          "output_type": "stream",
          "name": "stdout",
          "text": [
            "Question_909_character_qa_open.pt\n"
          ]
        },
        {
          "output_type": "stream",
          "name": "stderr",
          "text": [
            "\n",
            "0it [00:00, ?it/s]\u001b[A\n",
            "10it [00:00, 97.16it/s]\n",
            " 69%|██████▉   | 779/1132 [02:09<00:53,  6.63it/s]"
          ]
        },
        {
          "output_type": "stream",
          "name": "stdout",
          "text": [
            "Question_911_character_qa_open.pt\n"
          ]
        },
        {
          "output_type": "stream",
          "name": "stderr",
          "text": [
            "\n",
            "10it [00:00, 114.82it/s]\n",
            " 69%|██████▉   | 780/1132 [02:09<00:52,  6.73it/s]"
          ]
        },
        {
          "output_type": "stream",
          "name": "stdout",
          "text": [
            "Question_910_character_qa_open.pt\n"
          ]
        },
        {
          "output_type": "stream",
          "name": "stderr",
          "text": [
            "\n",
            "10it [00:00, 118.63it/s]\n",
            " 69%|██████▉   | 781/1132 [02:09<00:58,  6.03it/s]"
          ]
        },
        {
          "output_type": "stream",
          "name": "stdout",
          "text": [
            "Question_912_character_qa_open.pt\n"
          ]
        },
        {
          "output_type": "stream",
          "name": "stderr",
          "text": [
            "\n",
            "10it [00:00, 119.53it/s]\n",
            " 69%|██████▉   | 782/1132 [02:09<00:54,  6.38it/s]"
          ]
        },
        {
          "output_type": "stream",
          "name": "stdout",
          "text": [
            "Question_913_character_qa_open.pt\n"
          ]
        },
        {
          "output_type": "stream",
          "name": "stderr",
          "text": [
            "\n",
            "10it [00:00, 112.85it/s]\n",
            " 69%|██████▉   | 783/1132 [02:09<00:53,  6.58it/s]"
          ]
        },
        {
          "output_type": "stream",
          "name": "stdout",
          "text": [
            "Question_915_character_qa_open.pt\n"
          ]
        },
        {
          "output_type": "stream",
          "name": "stderr",
          "text": [
            "\n",
            "10it [00:00, 108.94it/s]\n",
            " 69%|██████▉   | 784/1132 [02:09<00:51,  6.69it/s]"
          ]
        },
        {
          "output_type": "stream",
          "name": "stdout",
          "text": [
            "Question_914_character_qa_open.pt\n"
          ]
        },
        {
          "output_type": "stream",
          "name": "stderr",
          "text": [
            "\n",
            "10it [00:00, 119.06it/s]\n",
            " 69%|██████▉   | 785/1132 [02:09<00:50,  6.88it/s]"
          ]
        },
        {
          "output_type": "stream",
          "name": "stdout",
          "text": [
            "Question_916_character_qa_open.pt\n"
          ]
        },
        {
          "output_type": "stream",
          "name": "stderr",
          "text": [
            "\n",
            "10it [00:00, 108.74it/s]\n",
            " 69%|██████▉   | 786/1132 [02:10<00:50,  6.87it/s]"
          ]
        },
        {
          "output_type": "stream",
          "name": "stdout",
          "text": [
            "Question_917_character_qa_open.pt\n"
          ]
        },
        {
          "output_type": "stream",
          "name": "stderr",
          "text": [
            "\n",
            "10it [00:00, 111.91it/s]\n",
            " 70%|██████▉   | 787/1132 [02:10<00:56,  6.14it/s]"
          ]
        },
        {
          "output_type": "stream",
          "name": "stdout",
          "text": [
            "Question_918_character_qa_open.pt\n"
          ]
        },
        {
          "output_type": "stream",
          "name": "stderr",
          "text": [
            "\n",
            "10it [00:00, 119.79it/s]\n",
            " 70%|██████▉   | 788/1132 [02:10<00:53,  6.43it/s]"
          ]
        },
        {
          "output_type": "stream",
          "name": "stdout",
          "text": [
            "Question_919_character_qa_open.pt\n"
          ]
        },
        {
          "output_type": "stream",
          "name": "stderr",
          "text": [
            "\n",
            "10it [00:00, 109.02it/s]\n",
            " 70%|██████▉   | 789/1132 [02:10<00:51,  6.60it/s]"
          ]
        },
        {
          "output_type": "stream",
          "name": "stdout",
          "text": [
            "Question_921_character_qa_open.pt\n"
          ]
        },
        {
          "output_type": "stream",
          "name": "stderr",
          "text": [
            "\n",
            "10it [00:00, 116.42it/s]\n",
            " 70%|██████▉   | 790/1132 [02:10<00:50,  6.75it/s]"
          ]
        },
        {
          "output_type": "stream",
          "name": "stdout",
          "text": [
            "Question_920_character_qa_open.pt\n"
          ]
        },
        {
          "output_type": "stream",
          "name": "stderr",
          "text": [
            "\n",
            "10it [00:00, 109.88it/s]\n",
            " 70%|██████▉   | 791/1132 [02:10<00:49,  6.83it/s]"
          ]
        },
        {
          "output_type": "stream",
          "name": "stdout",
          "text": [
            "Question_922_character_qa_open.pt\n"
          ]
        },
        {
          "output_type": "stream",
          "name": "stderr",
          "text": [
            "\n",
            "10it [00:00, 118.00it/s]\n",
            " 70%|██████▉   | 792/1132 [02:10<00:48,  6.96it/s]"
          ]
        },
        {
          "output_type": "stream",
          "name": "stdout",
          "text": [
            "Question_923_character_qa_open.pt\n"
          ]
        },
        {
          "output_type": "stream",
          "name": "stderr",
          "text": [
            "\n",
            "10it [00:00, 112.64it/s]\n",
            " 70%|███████   | 793/1132 [02:11<00:55,  6.11it/s]"
          ]
        },
        {
          "output_type": "stream",
          "name": "stdout",
          "text": [
            "Question_924_character_qa_open.pt\n"
          ]
        },
        {
          "output_type": "stream",
          "name": "stderr",
          "text": [
            "\n",
            "10it [00:00, 116.27it/s]\n",
            " 70%|███████   | 794/1132 [02:11<00:52,  6.40it/s]"
          ]
        },
        {
          "output_type": "stream",
          "name": "stdout",
          "text": [
            "Question_925_character_qa_open.pt\n"
          ]
        },
        {
          "output_type": "stream",
          "name": "stderr",
          "text": [
            "\n",
            "10it [00:00, 114.41it/s]\n",
            " 70%|███████   | 795/1132 [02:11<00:51,  6.57it/s]"
          ]
        },
        {
          "output_type": "stream",
          "name": "stdout",
          "text": [
            "Question_927_character_qa_open.pt\n"
          ]
        },
        {
          "output_type": "stream",
          "name": "stderr",
          "text": [
            "\n",
            "10it [00:00, 110.14it/s]\n",
            " 70%|███████   | 796/1132 [02:11<00:50,  6.71it/s]"
          ]
        },
        {
          "output_type": "stream",
          "name": "stdout",
          "text": [
            "Question_926_character_qa_open.pt\n"
          ]
        },
        {
          "output_type": "stream",
          "name": "stderr",
          "text": [
            "\n",
            "10it [00:00, 111.91it/s]\n",
            " 70%|███████   | 797/1132 [02:11<00:48,  6.84it/s]"
          ]
        },
        {
          "output_type": "stream",
          "name": "stdout",
          "text": [
            "Question_929_character_qa_open.pt\n"
          ]
        },
        {
          "output_type": "stream",
          "name": "stderr",
          "text": [
            "\n",
            "10it [00:00, 106.47it/s]\n",
            " 70%|███████   | 798/1132 [02:11<00:48,  6.84it/s]"
          ]
        },
        {
          "output_type": "stream",
          "name": "stdout",
          "text": [
            "Question_928_character_qa_open.pt\n"
          ]
        },
        {
          "output_type": "stream",
          "name": "stderr",
          "text": [
            "\n",
            "10it [00:00, 113.19it/s]\n",
            " 71%|███████   | 799/1132 [02:12<00:54,  6.09it/s]"
          ]
        },
        {
          "output_type": "stream",
          "name": "stdout",
          "text": [
            "Question_930_character_qa_open.pt\n"
          ]
        },
        {
          "output_type": "stream",
          "name": "stderr",
          "text": [
            "\n",
            "10it [00:00, 114.53it/s]\n",
            " 71%|███████   | 800/1132 [02:12<00:52,  6.37it/s]"
          ]
        },
        {
          "output_type": "stream",
          "name": "stdout",
          "text": [
            "Question_931_character_qa_open.pt\n"
          ]
        },
        {
          "output_type": "stream",
          "name": "stderr",
          "text": [
            "\n",
            "10it [00:00, 101.42it/s]\n",
            " 71%|███████   | 801/1132 [02:12<00:51,  6.46it/s]"
          ]
        },
        {
          "output_type": "stream",
          "name": "stdout",
          "text": [
            "Question_932_character_qa_close.pt\n"
          ]
        },
        {
          "output_type": "stream",
          "name": "stderr",
          "text": [
            "\n",
            "10it [00:00, 118.50it/s]\n",
            " 71%|███████   | 802/1132 [02:12<00:49,  6.69it/s]"
          ]
        },
        {
          "output_type": "stream",
          "name": "stdout",
          "text": [
            "Question_933_character_qa_close.pt\n"
          ]
        },
        {
          "output_type": "stream",
          "name": "stderr",
          "text": [
            "\n",
            "10it [00:00, 108.82it/s]\n",
            " 71%|███████   | 803/1132 [02:12<00:48,  6.73it/s]"
          ]
        },
        {
          "output_type": "stream",
          "name": "stdout",
          "text": [
            "Question_934_character_qa_close.pt\n"
          ]
        },
        {
          "output_type": "stream",
          "name": "stderr",
          "text": [
            "\n",
            "10it [00:00, 122.88it/s]\n",
            " 71%|███████   | 804/1132 [02:12<00:47,  6.89it/s]"
          ]
        },
        {
          "output_type": "stream",
          "name": "stdout",
          "text": [
            "Question_935_character_qa_close.pt\n"
          ]
        },
        {
          "output_type": "stream",
          "name": "stderr",
          "text": [
            "\n",
            "10it [00:00, 117.71it/s]\n",
            " 71%|███████   | 805/1132 [02:13<00:53,  6.08it/s]"
          ]
        },
        {
          "output_type": "stream",
          "name": "stdout",
          "text": [
            "Question_936_character_qa_close.pt\n"
          ]
        },
        {
          "output_type": "stream",
          "name": "stderr",
          "text": [
            "\n",
            "10it [00:00, 112.90it/s]\n",
            " 71%|███████   | 806/1132 [02:13<00:51,  6.34it/s]"
          ]
        },
        {
          "output_type": "stream",
          "name": "stdout",
          "text": [
            "Question_937_character_qa_close.pt\n"
          ]
        },
        {
          "output_type": "stream",
          "name": "stderr",
          "text": [
            "\n",
            "10it [00:00, 116.15it/s]\n",
            " 71%|███████▏  | 807/1132 [02:13<00:49,  6.58it/s]"
          ]
        },
        {
          "output_type": "stream",
          "name": "stdout",
          "text": [
            "Question_938_character_qa_close.pt\n"
          ]
        },
        {
          "output_type": "stream",
          "name": "stderr",
          "text": [
            "\n",
            "10it [00:00, 112.83it/s]\n",
            " 71%|███████▏  | 808/1132 [02:13<00:48,  6.72it/s]"
          ]
        },
        {
          "output_type": "stream",
          "name": "stdout",
          "text": [
            "Question_939_character_qa_close.pt\n"
          ]
        },
        {
          "output_type": "stream",
          "name": "stderr",
          "text": [
            "\n",
            "10it [00:00, 120.56it/s]\n",
            " 71%|███████▏  | 809/1132 [02:13<00:46,  6.91it/s]"
          ]
        },
        {
          "output_type": "stream",
          "name": "stdout",
          "text": [
            "Question_940_character_qa_close.pt\n"
          ]
        },
        {
          "output_type": "stream",
          "name": "stderr",
          "text": [
            "\n",
            "10it [00:00, 101.67it/s]\n",
            " 72%|███████▏  | 810/1132 [02:13<00:47,  6.85it/s]"
          ]
        },
        {
          "output_type": "stream",
          "name": "stdout",
          "text": [
            "Question_941_character_qa_close.pt\n"
          ]
        },
        {
          "output_type": "stream",
          "name": "stderr",
          "text": [
            "\n",
            "10it [00:00, 118.81it/s]\n",
            " 72%|███████▏  | 811/1132 [02:13<00:52,  6.10it/s]"
          ]
        },
        {
          "output_type": "stream",
          "name": "stdout",
          "text": [
            "Question_942_character_qa_close.pt\n"
          ]
        },
        {
          "output_type": "stream",
          "name": "stderr",
          "text": [
            "\n",
            "10it [00:00, 119.60it/s]\n",
            " 72%|███████▏  | 812/1132 [02:14<00:49,  6.41it/s]"
          ]
        },
        {
          "output_type": "stream",
          "name": "stdout",
          "text": [
            "Question_943_character_qa_close.pt\n"
          ]
        },
        {
          "output_type": "stream",
          "name": "stderr",
          "text": [
            "\n",
            "10it [00:00, 107.60it/s]\n",
            " 72%|███████▏  | 813/1132 [02:14<00:48,  6.54it/s]"
          ]
        },
        {
          "output_type": "stream",
          "name": "stdout",
          "text": [
            "Question_944_character_qa_close.pt\n"
          ]
        },
        {
          "output_type": "stream",
          "name": "stderr",
          "text": [
            "\n",
            "10it [00:00, 116.38it/s]\n",
            " 72%|███████▏  | 814/1132 [02:14<00:47,  6.69it/s]"
          ]
        },
        {
          "output_type": "stream",
          "name": "stdout",
          "text": [
            "Question_945_character_qa_close.pt\n"
          ]
        },
        {
          "output_type": "stream",
          "name": "stderr",
          "text": [
            "\n",
            "10it [00:00, 105.22it/s]\n",
            " 72%|███████▏  | 815/1132 [02:14<00:47,  6.72it/s]"
          ]
        },
        {
          "output_type": "stream",
          "name": "stdout",
          "text": [
            "Question_947_character_qa_close.pt\n"
          ]
        },
        {
          "output_type": "stream",
          "name": "stderr",
          "text": [
            "\n",
            "10it [00:00, 116.88it/s]\n",
            " 72%|███████▏  | 816/1132 [02:14<00:45,  6.87it/s]"
          ]
        },
        {
          "output_type": "stream",
          "name": "stdout",
          "text": [
            "Question_946_character_qa_close.pt\n"
          ]
        },
        {
          "output_type": "stream",
          "name": "stderr",
          "text": [
            "\n",
            "10it [00:00, 111.38it/s]\n",
            " 72%|███████▏  | 817/1132 [02:14<00:52,  6.04it/s]"
          ]
        },
        {
          "output_type": "stream",
          "name": "stdout",
          "text": [
            "Question_948_character_qa_close.pt\n"
          ]
        },
        {
          "output_type": "stream",
          "name": "stderr",
          "text": [
            "\n",
            "10it [00:00, 104.60it/s]\n",
            " 72%|███████▏  | 818/1132 [02:14<00:50,  6.26it/s]"
          ]
        },
        {
          "output_type": "stream",
          "name": "stdout",
          "text": [
            "Question_949_character_qa_close.pt\n"
          ]
        },
        {
          "output_type": "stream",
          "name": "stderr",
          "text": [
            "\n",
            "10it [00:00, 119.76it/s]\n",
            " 72%|███████▏  | 819/1132 [02:15<00:47,  6.56it/s]"
          ]
        },
        {
          "output_type": "stream",
          "name": "stdout",
          "text": [
            "Question_950_character_qa_close.pt\n"
          ]
        },
        {
          "output_type": "stream",
          "name": "stderr",
          "text": [
            "\n",
            "10it [00:00, 111.31it/s]\n",
            " 72%|███████▏  | 820/1132 [02:15<00:46,  6.69it/s]"
          ]
        },
        {
          "output_type": "stream",
          "name": "stdout",
          "text": [
            "Question_951_character_qa_close.pt\n"
          ]
        },
        {
          "output_type": "stream",
          "name": "stderr",
          "text": [
            "\n",
            "10it [00:00, 116.91it/s]\n",
            " 73%|███████▎  | 821/1132 [02:15<00:45,  6.88it/s]"
          ]
        },
        {
          "output_type": "stream",
          "name": "stdout",
          "text": [
            "Question_952_character_qa_close.pt\n"
          ]
        },
        {
          "output_type": "stream",
          "name": "stderr",
          "text": [
            "\n",
            "10it [00:00, 107.98it/s]\n",
            " 73%|███████▎  | 822/1132 [02:15<00:45,  6.88it/s]"
          ]
        },
        {
          "output_type": "stream",
          "name": "stdout",
          "text": [
            "Question_953_character_qa_close.pt\n"
          ]
        },
        {
          "output_type": "stream",
          "name": "stderr",
          "text": [
            "\n",
            "10it [00:00, 119.13it/s]\n",
            " 73%|███████▎  | 823/1132 [02:15<00:49,  6.19it/s]"
          ]
        },
        {
          "output_type": "stream",
          "name": "stdout",
          "text": [
            "Question_954_character_qa_close.pt\n"
          ]
        },
        {
          "output_type": "stream",
          "name": "stderr",
          "text": [
            "\n",
            "10it [00:00, 116.96it/s]\n",
            " 73%|███████▎  | 824/1132 [02:15<00:47,  6.50it/s]"
          ]
        },
        {
          "output_type": "stream",
          "name": "stdout",
          "text": [
            "Question_955_character_qa_close.pt\n"
          ]
        },
        {
          "output_type": "stream",
          "name": "stderr",
          "text": [
            "\n",
            "10it [00:00, 110.91it/s]\n",
            " 73%|███████▎  | 825/1132 [02:16<00:46,  6.65it/s]"
          ]
        },
        {
          "output_type": "stream",
          "name": "stdout",
          "text": [
            "Question_956_character_qa_close.pt\n"
          ]
        },
        {
          "output_type": "stream",
          "name": "stderr",
          "text": [
            "\n",
            "10it [00:00, 115.88it/s]\n",
            " 73%|███████▎  | 826/1132 [02:16<00:44,  6.84it/s]"
          ]
        },
        {
          "output_type": "stream",
          "name": "stdout",
          "text": [
            "Question_957_character_qa_close.pt\n"
          ]
        },
        {
          "output_type": "stream",
          "name": "stderr",
          "text": [
            "\n",
            "10it [00:00, 105.59it/s]\n",
            " 73%|███████▎  | 827/1132 [02:16<00:44,  6.86it/s]"
          ]
        },
        {
          "output_type": "stream",
          "name": "stdout",
          "text": [
            "Question_958_character_qa_close.pt\n"
          ]
        },
        {
          "output_type": "stream",
          "name": "stderr",
          "text": [
            "\n",
            "10it [00:00, 115.91it/s]\n",
            " 73%|███████▎  | 828/1132 [02:16<00:44,  6.86it/s]"
          ]
        },
        {
          "output_type": "stream",
          "name": "stdout",
          "text": [
            "Question_959_character_qa_close.pt\n"
          ]
        },
        {
          "output_type": "stream",
          "name": "stderr",
          "text": [
            "\n",
            "10it [00:00, 116.28it/s]\n",
            " 73%|███████▎  | 829/1132 [02:16<00:50,  6.06it/s]"
          ]
        },
        {
          "output_type": "stream",
          "name": "stdout",
          "text": [
            "Question_961_mathematical_operation.pt\n"
          ]
        },
        {
          "output_type": "stream",
          "name": "stderr",
          "text": [
            "\n",
            "10it [00:00, 111.49it/s]\n",
            " 73%|███████▎  | 830/1132 [02:16<00:48,  6.27it/s]"
          ]
        },
        {
          "output_type": "stream",
          "name": "stdout",
          "text": [
            "Question_960_character_qa_close.pt\n"
          ]
        },
        {
          "output_type": "stream",
          "name": "stderr",
          "text": [
            "\n",
            "10it [00:00, 120.05it/s]\n",
            " 73%|███████▎  | 831/1132 [02:16<00:45,  6.59it/s]"
          ]
        },
        {
          "output_type": "stream",
          "name": "stdout",
          "text": [
            "Question_962_mathematical_operation.pt\n"
          ]
        },
        {
          "output_type": "stream",
          "name": "stderr",
          "text": [
            "\n",
            "10it [00:00, 106.42it/s]\n",
            " 73%|███████▎  | 832/1132 [02:17<00:45,  6.66it/s]"
          ]
        },
        {
          "output_type": "stream",
          "name": "stdout",
          "text": [
            "Question_963_mathematical_operation.pt\n"
          ]
        },
        {
          "output_type": "stream",
          "name": "stderr",
          "text": [
            "\n",
            "10it [00:00, 115.24it/s]\n",
            " 74%|███████▎  | 833/1132 [02:17<00:43,  6.80it/s]"
          ]
        },
        {
          "output_type": "stream",
          "name": "stdout",
          "text": [
            "Question_964_mathematical_operation.pt\n"
          ]
        },
        {
          "output_type": "stream",
          "name": "stderr",
          "text": [
            "\n",
            "10it [00:00, 110.05it/s]\n",
            " 74%|███████▎  | 834/1132 [02:17<00:43,  6.82it/s]"
          ]
        },
        {
          "output_type": "stream",
          "name": "stdout",
          "text": [
            "Question_965_mathematical_operation.pt\n"
          ]
        },
        {
          "output_type": "stream",
          "name": "stderr",
          "text": [
            "\n",
            "10it [00:00, 111.47it/s]\n",
            " 74%|███████▍  | 835/1132 [02:17<00:49,  6.05it/s]"
          ]
        },
        {
          "output_type": "stream",
          "name": "stdout",
          "text": [
            "Question_966_mathematical_operation.pt\n"
          ]
        },
        {
          "output_type": "stream",
          "name": "stderr",
          "text": [
            "\n",
            "10it [00:00, 119.92it/s]\n",
            " 74%|███████▍  | 836/1132 [02:17<00:46,  6.38it/s]"
          ]
        },
        {
          "output_type": "stream",
          "name": "stdout",
          "text": [
            "Question_968_mathematical_operation.pt\n"
          ]
        },
        {
          "output_type": "stream",
          "name": "stderr",
          "text": [
            "\n",
            "10it [00:00, 104.76it/s]\n",
            " 74%|███████▍  | 837/1132 [02:17<00:45,  6.48it/s]"
          ]
        },
        {
          "output_type": "stream",
          "name": "stdout",
          "text": [
            "Question_967_mathematical_operation.pt\n"
          ]
        },
        {
          "output_type": "stream",
          "name": "stderr",
          "text": [
            "\n",
            "10it [00:00, 122.49it/s]\n",
            " 74%|███████▍  | 838/1132 [02:18<00:43,  6.71it/s]"
          ]
        },
        {
          "output_type": "stream",
          "name": "stdout",
          "text": [
            "Question_970_mathematical_operation.pt\n"
          ]
        },
        {
          "output_type": "stream",
          "name": "stderr",
          "text": [
            "\n",
            "10it [00:00, 110.27it/s]\n",
            " 74%|███████▍  | 839/1132 [02:18<00:43,  6.81it/s]"
          ]
        },
        {
          "output_type": "stream",
          "name": "stdout",
          "text": [
            "Question_969_mathematical_operation.pt\n"
          ]
        },
        {
          "output_type": "stream",
          "name": "stderr",
          "text": [
            "\n",
            "10it [00:00, 110.34it/s]\n",
            " 74%|███████▍  | 840/1132 [02:18<00:42,  6.87it/s]"
          ]
        },
        {
          "output_type": "stream",
          "name": "stdout",
          "text": [
            "Question_971_mathematical_operation.pt\n"
          ]
        },
        {
          "output_type": "stream",
          "name": "stderr",
          "text": [
            "\n",
            "10it [00:00, 117.69it/s]\n",
            " 74%|███████▍  | 841/1132 [02:18<00:48,  6.05it/s]"
          ]
        },
        {
          "output_type": "stream",
          "name": "stdout",
          "text": [
            "Question_972_mathematical_operation.pt\n"
          ]
        },
        {
          "output_type": "stream",
          "name": "stderr",
          "text": [
            "\n",
            "0it [00:00, ?it/s]\u001b[A\n",
            "10it [00:00, 96.56it/s]\n",
            " 74%|███████▍  | 842/1132 [02:18<00:47,  6.11it/s]"
          ]
        },
        {
          "output_type": "stream",
          "name": "stdout",
          "text": [
            "Question_974_mathematical_operation.pt\n"
          ]
        },
        {
          "output_type": "stream",
          "name": "stderr",
          "text": [
            "\n",
            "10it [00:00, 115.03it/s]\n",
            " 74%|███████▍  | 843/1132 [02:18<00:45,  6.34it/s]"
          ]
        },
        {
          "output_type": "stream",
          "name": "stdout",
          "text": [
            "Question_973_mathematical_operation.pt\n"
          ]
        },
        {
          "output_type": "stream",
          "name": "stderr",
          "text": [
            "\n",
            "10it [00:00, 106.85it/s]\n",
            " 75%|███████▍  | 844/1132 [02:18<00:44,  6.45it/s]"
          ]
        },
        {
          "output_type": "stream",
          "name": "stdout",
          "text": [
            "Question_975_mathematical_operation.pt\n"
          ]
        },
        {
          "output_type": "stream",
          "name": "stderr",
          "text": [
            "\n",
            "10it [00:00, 117.87it/s]\n",
            " 75%|███████▍  | 845/1132 [02:19<00:43,  6.65it/s]"
          ]
        },
        {
          "output_type": "stream",
          "name": "stdout",
          "text": [
            "Question_976_mathematical_operation.pt\n"
          ]
        },
        {
          "output_type": "stream",
          "name": "stderr",
          "text": [
            "\n",
            "10it [00:00, 102.24it/s]\n",
            " 75%|███████▍  | 846/1132 [02:19<00:43,  6.58it/s]"
          ]
        },
        {
          "output_type": "stream",
          "name": "stdout",
          "text": [
            "Question_977_mathematical_operation.pt\n"
          ]
        },
        {
          "output_type": "stream",
          "name": "stderr",
          "text": [
            "\n",
            "10it [00:00, 116.71it/s]\n",
            " 75%|███████▍  | 847/1132 [02:19<00:48,  5.91it/s]"
          ]
        },
        {
          "output_type": "stream",
          "name": "stdout",
          "text": [
            "Question_978_mathematical_operation.pt\n"
          ]
        },
        {
          "output_type": "stream",
          "name": "stderr",
          "text": [
            "\n",
            "10it [00:00, 114.22it/s]\n",
            " 75%|███████▍  | 848/1132 [02:19<00:45,  6.20it/s]"
          ]
        },
        {
          "output_type": "stream",
          "name": "stdout",
          "text": [
            "Question_979_mathematical_operation.pt\n"
          ]
        },
        {
          "output_type": "stream",
          "name": "stderr",
          "text": [
            "\n",
            "10it [00:00, 104.87it/s]\n",
            " 75%|███████▌  | 849/1132 [02:19<00:44,  6.35it/s]"
          ]
        },
        {
          "output_type": "stream",
          "name": "stdout",
          "text": [
            "Question_980_mathematical_operation.pt\n"
          ]
        },
        {
          "output_type": "stream",
          "name": "stderr",
          "text": [
            "\n",
            "10it [00:00, 122.77it/s]\n",
            " 75%|███████▌  | 850/1132 [02:19<00:42,  6.64it/s]"
          ]
        },
        {
          "output_type": "stream",
          "name": "stdout",
          "text": [
            "Question_981_mathematical_operation.pt\n"
          ]
        },
        {
          "output_type": "stream",
          "name": "stderr",
          "text": [
            "\n",
            "10it [00:00, 109.57it/s]\n",
            " 75%|███████▌  | 851/1132 [02:20<00:41,  6.75it/s]"
          ]
        },
        {
          "output_type": "stream",
          "name": "stdout",
          "text": [
            "Question_982_mathematical_operation.pt\n"
          ]
        },
        {
          "output_type": "stream",
          "name": "stderr",
          "text": [
            "\n",
            "10it [00:00, 119.69it/s]\n",
            " 75%|███████▌  | 852/1132 [02:20<00:40,  6.94it/s]"
          ]
        },
        {
          "output_type": "stream",
          "name": "stdout",
          "text": [
            "Question_983_mathematical_operation.pt\n"
          ]
        },
        {
          "output_type": "stream",
          "name": "stderr",
          "text": [
            "\n",
            "10it [00:00, 118.99it/s]\n",
            " 75%|███████▌  | 853/1132 [02:20<00:45,  6.13it/s]"
          ]
        },
        {
          "output_type": "stream",
          "name": "stdout",
          "text": [
            "Question_984_mathematical_operation.pt\n"
          ]
        },
        {
          "output_type": "stream",
          "name": "stderr",
          "text": [
            "\n",
            "10it [00:00, 115.30it/s]\n",
            " 75%|███████▌  | 854/1132 [02:20<00:43,  6.41it/s]"
          ]
        },
        {
          "output_type": "stream",
          "name": "stdout",
          "text": [
            "Question_986_mathematical_operation.pt\n"
          ]
        },
        {
          "output_type": "stream",
          "name": "stderr",
          "text": [
            "\n",
            "10it [00:00, 108.57it/s]\n",
            " 76%|███████▌  | 855/1132 [02:20<00:42,  6.58it/s]"
          ]
        },
        {
          "output_type": "stream",
          "name": "stdout",
          "text": [
            "Question_985_mathematical_operation.pt\n"
          ]
        },
        {
          "output_type": "stream",
          "name": "stderr",
          "text": [
            "\n",
            "10it [00:00, 109.50it/s]\n",
            " 76%|███████▌  | 856/1132 [02:20<00:41,  6.70it/s]"
          ]
        },
        {
          "output_type": "stream",
          "name": "stdout",
          "text": [
            "Question_987_mathematical_operation.pt\n"
          ]
        },
        {
          "output_type": "stream",
          "name": "stderr",
          "text": [
            "\n",
            "10it [00:00, 119.00it/s]\n",
            " 76%|███████▌  | 857/1132 [02:20<00:39,  6.89it/s]"
          ]
        },
        {
          "output_type": "stream",
          "name": "stdout",
          "text": [
            "Question_988_mathematical_operation.pt\n"
          ]
        },
        {
          "output_type": "stream",
          "name": "stderr",
          "text": [
            "\n",
            "10it [00:00, 108.99it/s]\n",
            " 76%|███████▌  | 858/1132 [02:21<00:39,  6.86it/s]"
          ]
        },
        {
          "output_type": "stream",
          "name": "stdout",
          "text": [
            "Question_989_mathematical_operation.pt\n"
          ]
        },
        {
          "output_type": "stream",
          "name": "stderr",
          "text": [
            "\n",
            "10it [00:00, 121.84it/s]\n",
            " 76%|███████▌  | 859/1132 [02:21<00:44,  6.16it/s]"
          ]
        },
        {
          "output_type": "stream",
          "name": "stdout",
          "text": [
            "Question_990_mathematical_operation.pt\n"
          ]
        },
        {
          "output_type": "stream",
          "name": "stderr",
          "text": [
            "\n",
            "10it [00:00, 117.32it/s]\n",
            " 76%|███████▌  | 860/1132 [02:21<00:41,  6.48it/s]"
          ]
        },
        {
          "output_type": "stream",
          "name": "stdout",
          "text": [
            "Question_991_mathematical_operation.pt\n"
          ]
        },
        {
          "output_type": "stream",
          "name": "stderr",
          "text": [
            "\n",
            "10it [00:00, 102.72it/s]\n",
            " 76%|███████▌  | 861/1132 [02:21<00:41,  6.56it/s]"
          ]
        },
        {
          "output_type": "stream",
          "name": "stdout",
          "text": [
            "Question_992_mathematical_operation.pt\n"
          ]
        },
        {
          "output_type": "stream",
          "name": "stderr",
          "text": [
            "\n",
            "10it [00:00, 118.16it/s]\n",
            " 76%|███████▌  | 862/1132 [02:21<00:39,  6.76it/s]"
          ]
        },
        {
          "output_type": "stream",
          "name": "stdout",
          "text": [
            "Question_993_mathematical_operation.pt\n"
          ]
        },
        {
          "output_type": "stream",
          "name": "stderr",
          "text": [
            "\n",
            "10it [00:00, 106.54it/s]\n",
            " 76%|███████▌  | 863/1132 [02:21<00:39,  6.79it/s]"
          ]
        },
        {
          "output_type": "stream",
          "name": "stdout",
          "text": [
            "Question_994_mathematical_operation.pt\n"
          ]
        },
        {
          "output_type": "stream",
          "name": "stderr",
          "text": [
            "\n",
            "10it [00:00, 114.75it/s]\n",
            " 76%|███████▋  | 864/1132 [02:21<00:38,  6.89it/s]"
          ]
        },
        {
          "output_type": "stream",
          "name": "stdout",
          "text": [
            "Question_995_mathematical_operation.pt\n"
          ]
        },
        {
          "output_type": "stream",
          "name": "stderr",
          "text": [
            "\n",
            "10it [00:00, 119.79it/s]\n",
            " 76%|███████▋  | 865/1132 [02:22<00:43,  6.09it/s]"
          ]
        },
        {
          "output_type": "stream",
          "name": "stdout",
          "text": [
            "Question_996_mathematical_operation.pt\n"
          ]
        },
        {
          "output_type": "stream",
          "name": "stderr",
          "text": [
            "\n",
            "10it [00:00, 114.04it/s]\n",
            " 77%|███████▋  | 866/1132 [02:22<00:42,  6.30it/s]"
          ]
        },
        {
          "output_type": "stream",
          "name": "stdout",
          "text": [
            "Question_997_mathematical_operation.pt\n"
          ]
        },
        {
          "output_type": "stream",
          "name": "stderr",
          "text": [
            "\n",
            "10it [00:00, 113.55it/s]\n",
            " 77%|███████▋  | 867/1132 [02:22<00:40,  6.56it/s]"
          ]
        },
        {
          "output_type": "stream",
          "name": "stdout",
          "text": [
            "Question_998_mathematical_operation.pt\n"
          ]
        },
        {
          "output_type": "stream",
          "name": "stderr",
          "text": [
            "\n",
            "10it [00:00, 109.16it/s]\n",
            " 77%|███████▋  | 868/1132 [02:22<00:39,  6.69it/s]"
          ]
        },
        {
          "output_type": "stream",
          "name": "stdout",
          "text": [
            "Question_999_mathematical_operation.pt\n"
          ]
        },
        {
          "output_type": "stream",
          "name": "stderr",
          "text": [
            "\n",
            "10it [00:00, 114.96it/s]\n",
            " 77%|███████▋  | 869/1132 [02:22<00:38,  6.85it/s]"
          ]
        },
        {
          "output_type": "stream",
          "name": "stdout",
          "text": [
            "Question_1000_mathematical_operation.pt\n"
          ]
        },
        {
          "output_type": "stream",
          "name": "stderr",
          "text": [
            "\n",
            "10it [00:00, 107.26it/s]\n",
            " 77%|███████▋  | 870/1132 [02:22<00:38,  6.87it/s]"
          ]
        },
        {
          "output_type": "stream",
          "name": "stdout",
          "text": [
            "Question_1001_date_qa.pt\n"
          ]
        },
        {
          "output_type": "stream",
          "name": "stderr",
          "text": [
            "\n",
            "10it [00:00, 119.06it/s]\n",
            " 77%|███████▋  | 871/1132 [02:23<00:42,  6.18it/s]"
          ]
        },
        {
          "output_type": "stream",
          "name": "stdout",
          "text": [
            "Question_1002_date_qa.pt\n"
          ]
        },
        {
          "output_type": "stream",
          "name": "stderr",
          "text": [
            "\n",
            "10it [00:00, 117.09it/s]\n",
            " 77%|███████▋  | 872/1132 [02:23<00:40,  6.45it/s]"
          ]
        },
        {
          "output_type": "stream",
          "name": "stdout",
          "text": [
            "Question_1003_date_qa.pt\n"
          ]
        },
        {
          "output_type": "stream",
          "name": "stderr",
          "text": [
            "\n",
            "10it [00:00, 105.33it/s]\n",
            " 77%|███████▋  | 873/1132 [02:23<00:39,  6.54it/s]"
          ]
        },
        {
          "output_type": "stream",
          "name": "stdout",
          "text": [
            "Question_1004_date_qa.pt\n"
          ]
        },
        {
          "output_type": "stream",
          "name": "stderr",
          "text": [
            "\n",
            "10it [00:00, 112.76it/s]\n",
            " 77%|███████▋  | 874/1132 [02:23<00:38,  6.72it/s]"
          ]
        },
        {
          "output_type": "stream",
          "name": "stdout",
          "text": [
            "Question_1005_date_qa.pt\n"
          ]
        },
        {
          "output_type": "stream",
          "name": "stderr",
          "text": [
            "\n",
            "10it [00:00, 106.47it/s]\n",
            " 77%|███████▋  | 875/1132 [02:23<00:38,  6.74it/s]"
          ]
        },
        {
          "output_type": "stream",
          "name": "stdout",
          "text": [
            "Question_1006_date_qa.pt\n"
          ]
        },
        {
          "output_type": "stream",
          "name": "stderr",
          "text": [
            "\n",
            "10it [00:00, 121.24it/s]\n",
            " 77%|███████▋  | 876/1132 [02:23<00:37,  6.87it/s]"
          ]
        },
        {
          "output_type": "stream",
          "name": "stdout",
          "text": [
            "Question_1007_date_qa.pt\n"
          ]
        },
        {
          "output_type": "stream",
          "name": "stderr",
          "text": [
            "\n",
            "10it [00:00, 119.96it/s]\n",
            " 77%|███████▋  | 877/1132 [02:24<00:41,  6.15it/s]"
          ]
        },
        {
          "output_type": "stream",
          "name": "stdout",
          "text": [
            "Question_1008_date_qa.pt\n"
          ]
        },
        {
          "output_type": "stream",
          "name": "stderr",
          "text": [
            "\n",
            "10it [00:00, 117.62it/s]\n",
            " 78%|███████▊  | 878/1132 [02:24<00:39,  6.47it/s]"
          ]
        },
        {
          "output_type": "stream",
          "name": "stdout",
          "text": [
            "Question_1010_date_qa.pt\n"
          ]
        },
        {
          "output_type": "stream",
          "name": "stderr",
          "text": [
            "\n",
            "10it [00:00, 117.47it/s]\n",
            " 78%|███████▊  | 879/1132 [02:24<00:38,  6.61it/s]"
          ]
        },
        {
          "output_type": "stream",
          "name": "stdout",
          "text": [
            "Question_1009_date_qa.pt\n"
          ]
        },
        {
          "output_type": "stream",
          "name": "stderr",
          "text": [
            "\n",
            "10it [00:00, 111.37it/s]\n",
            " 78%|███████▊  | 880/1132 [02:24<00:37,  6.70it/s]"
          ]
        },
        {
          "output_type": "stream",
          "name": "stdout",
          "text": [
            "Question_1011_date_qa.pt\n"
          ]
        },
        {
          "output_type": "stream",
          "name": "stderr",
          "text": [
            "\n",
            "10it [00:00, 119.27it/s]\n",
            " 78%|███████▊  | 881/1132 [02:24<00:36,  6.90it/s]"
          ]
        },
        {
          "output_type": "stream",
          "name": "stdout",
          "text": [
            "Question_1012_date_qa.pt\n"
          ]
        },
        {
          "output_type": "stream",
          "name": "stderr",
          "text": [
            "\n",
            "10it [00:00, 101.07it/s]\n",
            " 78%|███████▊  | 882/1132 [02:24<00:36,  6.80it/s]"
          ]
        },
        {
          "output_type": "stream",
          "name": "stdout",
          "text": [
            "Question_1013_date_qa.pt\n"
          ]
        },
        {
          "output_type": "stream",
          "name": "stderr",
          "text": [
            "\n",
            "10it [00:00, 115.58it/s]\n",
            " 78%|███████▊  | 883/1132 [02:24<00:40,  6.10it/s]"
          ]
        },
        {
          "output_type": "stream",
          "name": "stdout",
          "text": [
            "Question_1014_date_qa.pt\n"
          ]
        },
        {
          "output_type": "stream",
          "name": "stderr",
          "text": [
            "\n",
            "10it [00:00, 121.25it/s]\n",
            " 78%|███████▊  | 884/1132 [02:25<00:38,  6.40it/s]"
          ]
        },
        {
          "output_type": "stream",
          "name": "stdout",
          "text": [
            "Question_1015_date_qa.pt\n"
          ]
        },
        {
          "output_type": "stream",
          "name": "stderr",
          "text": [
            "\n",
            "10it [00:00, 112.58it/s]\n",
            " 78%|███████▊  | 885/1132 [02:25<00:37,  6.60it/s]"
          ]
        },
        {
          "output_type": "stream",
          "name": "stdout",
          "text": [
            "Question_1017_date_qa.pt\n"
          ]
        },
        {
          "output_type": "stream",
          "name": "stderr",
          "text": [
            "\n",
            "10it [00:00, 117.72it/s]\n",
            " 78%|███████▊  | 886/1132 [02:25<00:36,  6.82it/s]"
          ]
        },
        {
          "output_type": "stream",
          "name": "stdout",
          "text": [
            "Question_1016_date_qa.pt\n"
          ]
        },
        {
          "output_type": "stream",
          "name": "stderr",
          "text": [
            "\n",
            "10it [00:00, 104.07it/s]\n",
            " 78%|███████▊  | 887/1132 [02:25<00:35,  6.82it/s]"
          ]
        },
        {
          "output_type": "stream",
          "name": "stdout",
          "text": [
            "Question_1018_date_qa.pt\n"
          ]
        },
        {
          "output_type": "stream",
          "name": "stderr",
          "text": [
            "\n",
            "10it [00:00, 117.32it/s]\n",
            " 78%|███████▊  | 888/1132 [02:25<00:34,  6.98it/s]"
          ]
        },
        {
          "output_type": "stream",
          "name": "stdout",
          "text": [
            "Question_1019_date_qa.pt\n"
          ]
        },
        {
          "output_type": "stream",
          "name": "stderr",
          "text": [
            "\n",
            "10it [00:00, 111.93it/s]\n",
            " 79%|███████▊  | 889/1132 [02:25<00:40,  6.01it/s]"
          ]
        },
        {
          "output_type": "stream",
          "name": "stdout",
          "text": [
            "Question_1020_date_qa.pt\n"
          ]
        },
        {
          "output_type": "stream",
          "name": "stderr",
          "text": [
            "\n",
            "10it [00:00, 117.97it/s]\n",
            " 79%|███████▊  | 890/1132 [02:25<00:38,  6.35it/s]"
          ]
        },
        {
          "output_type": "stream",
          "name": "stdout",
          "text": [
            "Question_1021_date_qa.pt\n"
          ]
        },
        {
          "output_type": "stream",
          "name": "stderr",
          "text": [
            "\n",
            "10it [00:00, 113.79it/s]\n",
            " 79%|███████▊  | 891/1132 [02:26<00:36,  6.58it/s]"
          ]
        },
        {
          "output_type": "stream",
          "name": "stdout",
          "text": [
            "Question_1022_date_qa.pt\n"
          ]
        },
        {
          "output_type": "stream",
          "name": "stderr",
          "text": [
            "\n",
            "10it [00:00, 111.02it/s]\n",
            " 79%|███████▉  | 892/1132 [02:26<00:36,  6.66it/s]"
          ]
        },
        {
          "output_type": "stream",
          "name": "stdout",
          "text": [
            "Question_1024_date_qa.pt\n"
          ]
        },
        {
          "output_type": "stream",
          "name": "stderr",
          "text": [
            "\n",
            "10it [00:00, 115.96it/s]\n",
            " 79%|███████▉  | 893/1132 [02:26<00:35,  6.81it/s]"
          ]
        },
        {
          "output_type": "stream",
          "name": "stdout",
          "text": [
            "Question_1023_date_qa.pt\n"
          ]
        },
        {
          "output_type": "stream",
          "name": "stderr",
          "text": [
            "\n",
            "10it [00:00, 107.53it/s]\n",
            " 79%|███████▉  | 894/1132 [02:26<00:35,  6.74it/s]"
          ]
        },
        {
          "output_type": "stream",
          "name": "stdout",
          "text": [
            "Question_1025_date_qa.pt\n"
          ]
        },
        {
          "output_type": "stream",
          "name": "stderr",
          "text": [
            "\n",
            "10it [00:00, 120.99it/s]\n",
            " 79%|███████▉  | 895/1132 [02:26<00:38,  6.08it/s]"
          ]
        },
        {
          "output_type": "stream",
          "name": "stdout",
          "text": [
            "Question_1026_date_qa.pt\n"
          ]
        },
        {
          "output_type": "stream",
          "name": "stderr",
          "text": [
            "\n",
            "10it [00:00, 114.50it/s]\n",
            " 79%|███████▉  | 896/1132 [02:38<14:24,  3.66s/it]"
          ]
        },
        {
          "output_type": "stream",
          "name": "stdout",
          "text": [
            "Question_1027_date_qa.pt\n"
          ]
        },
        {
          "output_type": "stream",
          "name": "stderr",
          "text": [
            "\n",
            "10it [00:00, 117.57it/s]\n",
            " 79%|███████▉  | 897/1132 [02:38<10:12,  2.60s/it]"
          ]
        },
        {
          "output_type": "stream",
          "name": "stdout",
          "text": [
            "Question_1028_date_qa.pt\n"
          ]
        },
        {
          "output_type": "stream",
          "name": "stderr",
          "text": [
            "\n",
            "10it [00:00, 115.62it/s]\n",
            " 79%|███████▉  | 898/1132 [02:38<07:16,  1.86s/it]"
          ]
        },
        {
          "output_type": "stream",
          "name": "stdout",
          "text": [
            "Question_1029_month_qa.pt\n"
          ]
        },
        {
          "output_type": "stream",
          "name": "stderr",
          "text": [
            "\n",
            "10it [00:00, 109.33it/s]\n",
            " 79%|███████▉  | 899/1132 [02:39<05:14,  1.35s/it]"
          ]
        },
        {
          "output_type": "stream",
          "name": "stdout",
          "text": [
            "Question_1030_month_qa.pt\n"
          ]
        },
        {
          "output_type": "stream",
          "name": "stderr",
          "text": [
            "\n",
            "10it [00:00, 113.14it/s]\n",
            " 80%|███████▉  | 900/1132 [02:39<03:48,  1.01it/s]"
          ]
        },
        {
          "output_type": "stream",
          "name": "stdout",
          "text": [
            "Question_1031_month_qa.pt\n"
          ]
        },
        {
          "output_type": "stream",
          "name": "stderr",
          "text": [
            "\n",
            "10it [00:00, 116.23it/s]\n",
            " 80%|███████▉  | 901/1132 [02:39<02:53,  1.33it/s]"
          ]
        },
        {
          "output_type": "stream",
          "name": "stdout",
          "text": [
            "Question_1032_month_qa.pt\n"
          ]
        },
        {
          "output_type": "stream",
          "name": "stderr",
          "text": [
            "\n",
            "10it [00:00, 114.74it/s]\n",
            " 80%|███████▉  | 902/1132 [02:39<02:10,  1.77it/s]"
          ]
        },
        {
          "output_type": "stream",
          "name": "stdout",
          "text": [
            "Question_1034_month_qa.pt\n"
          ]
        },
        {
          "output_type": "stream",
          "name": "stderr",
          "text": [
            "\n",
            "10it [00:00, 118.51it/s]\n",
            " 80%|███████▉  | 903/1132 [02:39<01:40,  2.29it/s]"
          ]
        },
        {
          "output_type": "stream",
          "name": "stdout",
          "text": [
            "Question_1033_month_qa.pt\n"
          ]
        },
        {
          "output_type": "stream",
          "name": "stderr",
          "text": [
            "\n",
            "10it [00:00, 104.54it/s]\n",
            " 80%|███████▉  | 904/1132 [02:39<01:20,  2.85it/s]"
          ]
        },
        {
          "output_type": "stream",
          "name": "stdout",
          "text": [
            "Question_1035_month_qa.pt\n"
          ]
        },
        {
          "output_type": "stream",
          "name": "stderr",
          "text": [
            "\n",
            "10it [00:00, 117.40it/s]\n",
            " 80%|███████▉  | 905/1132 [02:39<01:05,  3.49it/s]"
          ]
        },
        {
          "output_type": "stream",
          "name": "stdout",
          "text": [
            "Question_1036_month_qa.pt\n"
          ]
        },
        {
          "output_type": "stream",
          "name": "stderr",
          "text": [
            "\n",
            "10it [00:00, 105.72it/s]\n",
            " 80%|████████  | 906/1132 [02:40<00:55,  4.09it/s]"
          ]
        },
        {
          "output_type": "stream",
          "name": "stdout",
          "text": [
            "Question_1038_month_qa.pt\n"
          ]
        },
        {
          "output_type": "stream",
          "name": "stderr",
          "text": [
            "\n",
            "10it [00:00, 115.18it/s]\n",
            " 80%|████████  | 907/1132 [02:40<00:52,  4.29it/s]"
          ]
        },
        {
          "output_type": "stream",
          "name": "stdout",
          "text": [
            "Question_1037_month_qa.pt\n"
          ]
        },
        {
          "output_type": "stream",
          "name": "stderr",
          "text": [
            "\n",
            "10it [00:00, 117.73it/s]\n",
            " 80%|████████  | 908/1132 [02:40<00:45,  4.88it/s]"
          ]
        },
        {
          "output_type": "stream",
          "name": "stdout",
          "text": [
            "Question_1039_month_qa.pt\n"
          ]
        },
        {
          "output_type": "stream",
          "name": "stderr",
          "text": [
            "\n",
            "10it [00:00, 109.36it/s]\n",
            " 80%|████████  | 909/1132 [02:40<00:41,  5.38it/s]"
          ]
        },
        {
          "output_type": "stream",
          "name": "stdout",
          "text": [
            "Question_1040_month_qa.pt\n"
          ]
        },
        {
          "output_type": "stream",
          "name": "stderr",
          "text": [
            "\n",
            "10it [00:00, 109.52it/s]\n",
            " 80%|████████  | 910/1132 [02:40<00:38,  5.78it/s]"
          ]
        },
        {
          "output_type": "stream",
          "name": "stdout",
          "text": [
            "Question_1041_month_qa.pt\n"
          ]
        },
        {
          "output_type": "stream",
          "name": "stderr",
          "text": [
            "\n",
            "10it [00:00, 111.33it/s]\n",
            " 80%|████████  | 911/1132 [02:40<00:36,  6.11it/s]"
          ]
        },
        {
          "output_type": "stream",
          "name": "stdout",
          "text": [
            "Question_1042_month_qa.pt\n"
          ]
        },
        {
          "output_type": "stream",
          "name": "stderr",
          "text": [
            "\n",
            "10it [00:00, 106.26it/s]\n",
            " 81%|████████  | 912/1132 [02:40<00:34,  6.33it/s]"
          ]
        },
        {
          "output_type": "stream",
          "name": "stdout",
          "text": [
            "Question_1044_month_qa.pt\n"
          ]
        },
        {
          "output_type": "stream",
          "name": "stderr",
          "text": [
            "\n",
            "10it [00:00, 115.83it/s]\n",
            " 81%|████████  | 913/1132 [02:41<00:37,  5.81it/s]"
          ]
        },
        {
          "output_type": "stream",
          "name": "stdout",
          "text": [
            "Question_1043_month_qa.pt\n"
          ]
        },
        {
          "output_type": "stream",
          "name": "stderr",
          "text": [
            "\n",
            "10it [00:00, 107.42it/s]\n",
            " 81%|████████  | 914/1132 [02:41<00:36,  6.03it/s]"
          ]
        },
        {
          "output_type": "stream",
          "name": "stdout",
          "text": [
            "Question_1046_month_qa.pt\n"
          ]
        },
        {
          "output_type": "stream",
          "name": "stderr",
          "text": [
            "\n",
            "10it [00:00, 117.07it/s]\n",
            " 81%|████████  | 915/1132 [02:41<00:34,  6.34it/s]"
          ]
        },
        {
          "output_type": "stream",
          "name": "stdout",
          "text": [
            "Question_1045_month_qa.pt\n"
          ]
        },
        {
          "output_type": "stream",
          "name": "stderr",
          "text": [
            "\n",
            "10it [00:00, 108.44it/s]\n",
            " 81%|████████  | 916/1132 [02:41<00:33,  6.47it/s]"
          ]
        },
        {
          "output_type": "stream",
          "name": "stdout",
          "text": [
            "Question_1047_month_qa.pt\n"
          ]
        },
        {
          "output_type": "stream",
          "name": "stderr",
          "text": [
            "\n",
            "10it [00:00, 120.60it/s]\n",
            " 81%|████████  | 917/1132 [02:41<00:32,  6.71it/s]"
          ]
        },
        {
          "output_type": "stream",
          "name": "stdout",
          "text": [
            "Question_1048_month_qa.pt\n"
          ]
        },
        {
          "output_type": "stream",
          "name": "stderr",
          "text": [
            "\n",
            "10it [00:00, 107.18it/s]\n",
            " 81%|████████  | 918/1132 [02:41<00:31,  6.75it/s]"
          ]
        },
        {
          "output_type": "stream",
          "name": "stdout",
          "text": [
            "Question_1049_month_qa.pt\n"
          ]
        },
        {
          "output_type": "stream",
          "name": "stderr",
          "text": [
            "\n",
            "10it [00:00, 112.63it/s]\n",
            " 81%|████████  | 919/1132 [02:42<00:35,  5.92it/s]"
          ]
        },
        {
          "output_type": "stream",
          "name": "stdout",
          "text": [
            "Question_1050_month_qa.pt\n"
          ]
        },
        {
          "output_type": "stream",
          "name": "stderr",
          "text": [
            "\n",
            "10it [00:00, 118.75it/s]\n",
            " 81%|████████▏ | 920/1132 [02:42<00:33,  6.26it/s]"
          ]
        },
        {
          "output_type": "stream",
          "name": "stdout",
          "text": [
            "Question_1051_month_qa.pt\n"
          ]
        },
        {
          "output_type": "stream",
          "name": "stderr",
          "text": [
            "\n",
            "10it [00:00, 109.64it/s]\n",
            " 81%|████████▏ | 921/1132 [02:42<00:32,  6.41it/s]"
          ]
        },
        {
          "output_type": "stream",
          "name": "stdout",
          "text": [
            "Question_1052_month_qa.pt\n"
          ]
        },
        {
          "output_type": "stream",
          "name": "stderr",
          "text": [
            "\n",
            "10it [00:00, 113.03it/s]\n",
            " 81%|████████▏ | 922/1132 [02:42<00:32,  6.49it/s]"
          ]
        },
        {
          "output_type": "stream",
          "name": "stdout",
          "text": [
            "Question_1053_month_qa.pt\n"
          ]
        },
        {
          "output_type": "stream",
          "name": "stderr",
          "text": [
            "\n",
            "10it [00:00, 105.44it/s]\n",
            " 82%|████████▏ | 923/1132 [02:42<00:31,  6.58it/s]"
          ]
        },
        {
          "output_type": "stream",
          "name": "stdout",
          "text": [
            "Question_1055_month_qa.pt\n"
          ]
        },
        {
          "output_type": "stream",
          "name": "stderr",
          "text": [
            "\n",
            "10it [00:00, 120.60it/s]\n",
            " 82%|████████▏ | 924/1132 [02:42<00:30,  6.78it/s]"
          ]
        },
        {
          "output_type": "stream",
          "name": "stdout",
          "text": [
            "Question_1056_month_qa.pt\n"
          ]
        },
        {
          "output_type": "stream",
          "name": "stderr",
          "text": [
            "\n",
            "10it [00:00, 117.53it/s]\n",
            " 82%|████████▏ | 925/1132 [02:43<00:35,  5.78it/s]"
          ]
        },
        {
          "output_type": "stream",
          "name": "stdout",
          "text": [
            "Question_1054_month_qa.pt\n"
          ]
        },
        {
          "output_type": "stream",
          "name": "stderr",
          "text": [
            "\n",
            "10it [00:00, 115.14it/s]\n",
            " 82%|████████▏ | 926/1132 [02:43<00:33,  6.09it/s]"
          ]
        },
        {
          "output_type": "stream",
          "name": "stdout",
          "text": [
            "Question_1058_month_qa.pt\n"
          ]
        },
        {
          "output_type": "stream",
          "name": "stderr",
          "text": [
            "\n",
            "10it [00:00, 114.45it/s]\n",
            " 82%|████████▏ | 927/1132 [02:43<00:32,  6.31it/s]"
          ]
        },
        {
          "output_type": "stream",
          "name": "stdout",
          "text": [
            "Question_1057_month_qa.pt\n"
          ]
        },
        {
          "output_type": "stream",
          "name": "stderr",
          "text": [
            "\n",
            "0it [00:00, ?it/s]\u001b[A\n",
            "10it [00:00, 83.77it/s]\n",
            " 82%|████████▏ | 928/1132 [02:43<00:33,  6.10it/s]"
          ]
        },
        {
          "output_type": "stream",
          "name": "stdout",
          "text": [
            "Question_1059_month_qa.pt\n"
          ]
        },
        {
          "output_type": "stream",
          "name": "stderr",
          "text": [
            "\n",
            "10it [00:00, 116.22it/s]\n",
            " 82%|████████▏ | 929/1132 [02:43<00:32,  6.31it/s]"
          ]
        },
        {
          "output_type": "stream",
          "name": "stdout",
          "text": [
            "Question_1060_month_qa.pt\n"
          ]
        },
        {
          "output_type": "stream",
          "name": "stderr",
          "text": [
            "\n",
            "0it [00:00, ?it/s]\u001b[A\n",
            "10it [00:00, 72.00it/s]\n",
            " 82%|████████▏ | 930/1132 [02:43<00:34,  5.93it/s]"
          ]
        },
        {
          "output_type": "stream",
          "name": "stdout",
          "text": [
            "Question_1061_month_qa.pt\n"
          ]
        },
        {
          "output_type": "stream",
          "name": "stderr",
          "text": [
            "\n",
            "10it [00:00, 117.32it/s]\n",
            " 82%|████████▏ | 931/1132 [02:44<00:36,  5.57it/s]"
          ]
        },
        {
          "output_type": "stream",
          "name": "stdout",
          "text": [
            "Question_1062_month_qa.pt\n"
          ]
        },
        {
          "output_type": "stream",
          "name": "stderr",
          "text": [
            "\n",
            "10it [00:00, 111.03it/s]\n",
            " 82%|████████▏ | 932/1132 [02:44<00:33,  5.89it/s]"
          ]
        },
        {
          "output_type": "stream",
          "name": "stdout",
          "text": [
            "Question_1063_month_qa.pt\n"
          ]
        },
        {
          "output_type": "stream",
          "name": "stderr",
          "text": [
            "\n",
            "10it [00:00, 117.25it/s]\n",
            " 82%|████████▏ | 933/1132 [02:44<00:32,  6.05it/s]"
          ]
        },
        {
          "output_type": "stream",
          "name": "stdout",
          "text": [
            "Question_1065_month_qa.pt\n"
          ]
        },
        {
          "output_type": "stream",
          "name": "stderr",
          "text": [
            "\n",
            "10it [00:00, 115.56it/s]\n",
            " 83%|████████▎ | 934/1132 [02:44<00:31,  6.21it/s]"
          ]
        },
        {
          "output_type": "stream",
          "name": "stdout",
          "text": [
            "Question_1064_month_qa.pt\n"
          ]
        },
        {
          "output_type": "stream",
          "name": "stderr",
          "text": [
            "\n",
            "0it [00:00, ?it/s]\u001b[A\n",
            "10it [00:00, 75.25it/s]\n",
            " 83%|████████▎ | 935/1132 [02:44<00:34,  5.79it/s]"
          ]
        },
        {
          "output_type": "stream",
          "name": "stdout",
          "text": [
            "Question_1066_month_qa.pt\n"
          ]
        },
        {
          "output_type": "stream",
          "name": "stderr",
          "text": [
            "\n",
            "10it [00:00, 110.69it/s]\n",
            " 83%|████████▎ | 936/1132 [02:44<00:32,  6.09it/s]"
          ]
        },
        {
          "output_type": "stream",
          "name": "stdout",
          "text": [
            "Question_1067_month_qa.pt\n"
          ]
        },
        {
          "output_type": "stream",
          "name": "stderr",
          "text": [
            "\n",
            "10it [00:00, 112.08it/s]\n",
            " 83%|████████▎ | 937/1132 [02:45<00:35,  5.50it/s]"
          ]
        },
        {
          "output_type": "stream",
          "name": "stdout",
          "text": [
            "Question_1069_month_qa.pt\n"
          ]
        },
        {
          "output_type": "stream",
          "name": "stderr",
          "text": [
            "\n",
            "0it [00:00, ?it/s]\u001b[A\n",
            "10it [00:00, 91.56it/s]\n",
            " 83%|████████▎ | 938/1132 [02:45<00:34,  5.64it/s]"
          ]
        },
        {
          "output_type": "stream",
          "name": "stdout",
          "text": [
            "Question_1070_month_qa.pt\n"
          ]
        },
        {
          "output_type": "stream",
          "name": "stderr",
          "text": [
            "\n",
            "10it [00:00, 115.35it/s]\n",
            " 83%|████████▎ | 939/1132 [02:45<00:32,  5.93it/s]"
          ]
        },
        {
          "output_type": "stream",
          "name": "stdout",
          "text": [
            "Question_1068_month_qa.pt\n"
          ]
        },
        {
          "output_type": "stream",
          "name": "stderr",
          "text": [
            "\n",
            "10it [00:00, 100.73it/s]\n",
            " 83%|████████▎ | 940/1132 [02:45<00:31,  6.06it/s]"
          ]
        },
        {
          "output_type": "stream",
          "name": "stdout",
          "text": [
            "Question_1072_month_qa.pt\n"
          ]
        },
        {
          "output_type": "stream",
          "name": "stderr",
          "text": [
            "\n",
            "10it [00:00, 113.25it/s]\n",
            " 83%|████████▎ | 941/1132 [02:45<00:30,  6.31it/s]"
          ]
        },
        {
          "output_type": "stream",
          "name": "stdout",
          "text": [
            "Question_1071_month_qa.pt\n"
          ]
        },
        {
          "output_type": "stream",
          "name": "stderr",
          "text": [
            "\n",
            "10it [00:00, 107.80it/s]\n",
            " 83%|████████▎ | 942/1132 [02:45<00:30,  6.18it/s]"
          ]
        },
        {
          "output_type": "stream",
          "name": "stdout",
          "text": [
            "Question_1074_month_qa.pt\n"
          ]
        },
        {
          "output_type": "stream",
          "name": "stderr",
          "text": [
            "\n",
            "10it [00:00, 109.15it/s]\n",
            " 83%|████████▎ | 943/1132 [02:46<00:29,  6.33it/s]"
          ]
        },
        {
          "output_type": "stream",
          "name": "stdout",
          "text": [
            "Question_1073_month_qa.pt\n"
          ]
        },
        {
          "output_type": "stream",
          "name": "stderr",
          "text": [
            "\n",
            "10it [00:00, 114.38it/s]\n",
            " 83%|████████▎ | 944/1132 [02:46<00:32,  5.77it/s]"
          ]
        },
        {
          "output_type": "stream",
          "name": "stdout",
          "text": [
            "Question_1075_month_qa.pt\n"
          ]
        },
        {
          "output_type": "stream",
          "name": "stderr",
          "text": [
            "\n",
            "10it [00:00, 117.47it/s]\n",
            " 83%|████████▎ | 945/1132 [02:46<00:30,  6.17it/s]"
          ]
        },
        {
          "output_type": "stream",
          "name": "stdout",
          "text": [
            "Question_1076_month_qa.pt\n"
          ]
        },
        {
          "output_type": "stream",
          "name": "stderr",
          "text": [
            "\n",
            "10it [00:00, 107.58it/s]\n",
            " 84%|████████▎ | 946/1132 [02:46<00:29,  6.38it/s]"
          ]
        },
        {
          "output_type": "stream",
          "name": "stdout",
          "text": [
            "Question_1077_month_date_qa.pt\n"
          ]
        },
        {
          "output_type": "stream",
          "name": "stderr",
          "text": [
            "\n",
            "10it [00:00, 116.79it/s]\n",
            " 84%|████████▎ | 947/1132 [02:46<00:27,  6.63it/s]"
          ]
        },
        {
          "output_type": "stream",
          "name": "stdout",
          "text": [
            "Question_1078_month_date_qa.pt\n"
          ]
        },
        {
          "output_type": "stream",
          "name": "stderr",
          "text": [
            "\n",
            "10it [00:00, 111.17it/s]\n",
            " 84%|████████▎ | 948/1132 [02:46<00:27,  6.74it/s]"
          ]
        },
        {
          "output_type": "stream",
          "name": "stdout",
          "text": [
            "Question_1079_month_date_qa.pt\n"
          ]
        },
        {
          "output_type": "stream",
          "name": "stderr",
          "text": [
            "\n",
            "10it [00:00, 113.85it/s]\n",
            " 84%|████████▍ | 949/1132 [02:46<00:26,  6.85it/s]"
          ]
        },
        {
          "output_type": "stream",
          "name": "stdout",
          "text": [
            "Question_1080_month_date_qa.pt\n"
          ]
        },
        {
          "output_type": "stream",
          "name": "stderr",
          "text": [
            "\n",
            "10it [00:00, 124.07it/s]\n",
            " 84%|████████▍ | 950/1132 [02:47<00:29,  6.21it/s]"
          ]
        },
        {
          "output_type": "stream",
          "name": "stdout",
          "text": [
            "Question_1081_month_date_qa.pt\n"
          ]
        },
        {
          "output_type": "stream",
          "name": "stderr",
          "text": [
            "\n",
            "10it [00:00, 116.09it/s]\n",
            " 84%|████████▍ | 951/1132 [02:47<00:27,  6.51it/s]"
          ]
        },
        {
          "output_type": "stream",
          "name": "stdout",
          "text": [
            "Question_1082_month_date_qa.pt\n"
          ]
        },
        {
          "output_type": "stream",
          "name": "stderr",
          "text": [
            "\n",
            "10it [00:00, 108.78it/s]\n",
            " 84%|████████▍ | 952/1132 [02:47<00:27,  6.63it/s]"
          ]
        },
        {
          "output_type": "stream",
          "name": "stdout",
          "text": [
            "Question_1083_month_date_qa.pt\n"
          ]
        },
        {
          "output_type": "stream",
          "name": "stderr",
          "text": [
            "\n",
            "10it [00:00, 111.25it/s]\n",
            " 84%|████████▍ | 953/1132 [02:47<00:26,  6.76it/s]"
          ]
        },
        {
          "output_type": "stream",
          "name": "stdout",
          "text": [
            "Question_1084_month_date_qa.pt\n"
          ]
        },
        {
          "output_type": "stream",
          "name": "stderr",
          "text": [
            "\n",
            "10it [00:00, 117.99it/s]\n",
            " 84%|████████▍ | 954/1132 [02:47<00:25,  6.92it/s]"
          ]
        },
        {
          "output_type": "stream",
          "name": "stdout",
          "text": [
            "Question_1085_month_date_qa.pt\n"
          ]
        },
        {
          "output_type": "stream",
          "name": "stderr",
          "text": [
            "\n",
            "10it [00:00, 111.90it/s]\n",
            " 84%|████████▍ | 955/1132 [02:47<00:25,  6.99it/s]"
          ]
        },
        {
          "output_type": "stream",
          "name": "stdout",
          "text": [
            "Question_1086_month_date_qa.pt\n"
          ]
        },
        {
          "output_type": "stream",
          "name": "stderr",
          "text": [
            "\n",
            "10it [00:00, 114.06it/s]\n",
            " 84%|████████▍ | 956/1132 [02:48<00:28,  6.19it/s]"
          ]
        },
        {
          "output_type": "stream",
          "name": "stdout",
          "text": [
            "Question_1087_month_date_qa.pt\n"
          ]
        },
        {
          "output_type": "stream",
          "name": "stderr",
          "text": [
            "\n",
            "10it [00:00, 110.15it/s]\n",
            " 85%|████████▍ | 957/1132 [02:48<00:27,  6.40it/s]"
          ]
        },
        {
          "output_type": "stream",
          "name": "stdout",
          "text": [
            "Question_1088_month_date_qa.pt\n"
          ]
        },
        {
          "output_type": "stream",
          "name": "stderr",
          "text": [
            "\n",
            "10it [00:00, 105.50it/s]\n",
            " 85%|████████▍ | 958/1132 [02:48<00:26,  6.51it/s]"
          ]
        },
        {
          "output_type": "stream",
          "name": "stdout",
          "text": [
            "Question_1089_month_date_qa.pt\n"
          ]
        },
        {
          "output_type": "stream",
          "name": "stderr",
          "text": [
            "\n",
            "10it [00:00, 112.70it/s]\n",
            " 85%|████████▍ | 959/1132 [02:48<00:25,  6.66it/s]"
          ]
        },
        {
          "output_type": "stream",
          "name": "stdout",
          "text": [
            "Question_1090_month_date_qa.pt\n"
          ]
        },
        {
          "output_type": "stream",
          "name": "stderr",
          "text": [
            "\n",
            "10it [00:00, 109.39it/s]\n",
            " 85%|████████▍ | 960/1132 [02:48<00:25,  6.76it/s]"
          ]
        },
        {
          "output_type": "stream",
          "name": "stdout",
          "text": [
            "Question_1091_month_date_qa.pt\n"
          ]
        },
        {
          "output_type": "stream",
          "name": "stderr",
          "text": [
            "\n",
            "10it [00:00, 114.09it/s]\n",
            " 85%|████████▍ | 961/1132 [02:48<00:25,  6.76it/s]"
          ]
        },
        {
          "output_type": "stream",
          "name": "stdout",
          "text": [
            "Question_1092_month_date_qa.pt\n"
          ]
        },
        {
          "output_type": "stream",
          "name": "stderr",
          "text": [
            "\n",
            "10it [00:00, 117.80it/s]\n",
            " 85%|████████▍ | 962/1132 [02:48<00:28,  6.06it/s]"
          ]
        },
        {
          "output_type": "stream",
          "name": "stdout",
          "text": [
            "Question_1093_month_date_qa.pt\n"
          ]
        },
        {
          "output_type": "stream",
          "name": "stderr",
          "text": [
            "\n",
            "10it [00:00, 110.68it/s]\n",
            " 85%|████████▌ | 963/1132 [02:49<00:26,  6.33it/s]"
          ]
        },
        {
          "output_type": "stream",
          "name": "stdout",
          "text": [
            "Question_1095_month_date_qa.pt\n"
          ]
        },
        {
          "output_type": "stream",
          "name": "stderr",
          "text": [
            "\n",
            "10it [00:00, 119.95it/s]\n",
            " 85%|████████▌ | 964/1132 [02:49<00:25,  6.60it/s]"
          ]
        },
        {
          "output_type": "stream",
          "name": "stdout",
          "text": [
            "Question_1094_month_date_qa.pt\n"
          ]
        },
        {
          "output_type": "stream",
          "name": "stderr",
          "text": [
            "\n",
            "10it [00:00, 103.65it/s]\n",
            " 85%|████████▌ | 965/1132 [02:49<00:25,  6.62it/s]"
          ]
        },
        {
          "output_type": "stream",
          "name": "stdout",
          "text": [
            "Question_1096_month_date_qa.pt\n"
          ]
        },
        {
          "output_type": "stream",
          "name": "stderr",
          "text": [
            "\n",
            "10it [00:00, 108.45it/s]\n",
            " 85%|████████▌ | 966/1132 [02:49<00:24,  6.71it/s]"
          ]
        },
        {
          "output_type": "stream",
          "name": "stdout",
          "text": [
            "Question_1097_month_date_qa.pt\n"
          ]
        },
        {
          "output_type": "stream",
          "name": "stderr",
          "text": [
            "\n",
            "10it [00:00, 102.87it/s]\n",
            " 85%|████████▌ | 967/1132 [02:49<00:24,  6.70it/s]"
          ]
        },
        {
          "output_type": "stream",
          "name": "stdout",
          "text": [
            "Question_1098_month_date_qa.pt\n"
          ]
        },
        {
          "output_type": "stream",
          "name": "stderr",
          "text": [
            "\n",
            "10it [00:00, 113.82it/s]\n",
            " 86%|████████▌ | 968/1132 [02:49<00:27,  5.99it/s]"
          ]
        },
        {
          "output_type": "stream",
          "name": "stdout",
          "text": [
            "Question_1099_month_date_qa.pt\n"
          ]
        },
        {
          "output_type": "stream",
          "name": "stderr",
          "text": [
            "\n",
            "10it [00:00, 122.73it/s]\n",
            " 86%|████████▌ | 969/1132 [02:50<00:25,  6.38it/s]"
          ]
        },
        {
          "output_type": "stream",
          "name": "stdout",
          "text": [
            "Question_1100_odd_one_out.pt\n"
          ]
        },
        {
          "output_type": "stream",
          "name": "stderr",
          "text": [
            "\n",
            "10it [00:00, 114.67it/s]\n",
            " 86%|████████▌ | 970/1132 [02:50<00:24,  6.62it/s]"
          ]
        },
        {
          "output_type": "stream",
          "name": "stdout",
          "text": [
            "Question_1101_odd_one_out.pt\n"
          ]
        },
        {
          "output_type": "stream",
          "name": "stderr",
          "text": [
            "\n",
            "10it [00:00, 117.07it/s]\n",
            " 86%|████████▌ | 971/1132 [02:50<00:23,  6.81it/s]"
          ]
        },
        {
          "output_type": "stream",
          "name": "stdout",
          "text": [
            "Question_1102_odd_one_out.pt\n"
          ]
        },
        {
          "output_type": "stream",
          "name": "stderr",
          "text": [
            "\n",
            "10it [00:00, 100.81it/s]\n",
            " 86%|████████▌ | 972/1132 [02:50<00:23,  6.73it/s]"
          ]
        },
        {
          "output_type": "stream",
          "name": "stdout",
          "text": [
            "Question_1103_odd_one_out.pt\n"
          ]
        },
        {
          "output_type": "stream",
          "name": "stderr",
          "text": [
            "\n",
            "10it [00:00, 119.88it/s]\n",
            " 86%|████████▌ | 973/1132 [02:50<00:23,  6.87it/s]"
          ]
        },
        {
          "output_type": "stream",
          "name": "stdout",
          "text": [
            "Question_1104_odd_one_out.pt\n"
          ]
        },
        {
          "output_type": "stream",
          "name": "stderr",
          "text": [
            "\n",
            "10it [00:00, 114.71it/s]\n",
            " 86%|████████▌ | 974/1132 [02:50<00:26,  6.02it/s]"
          ]
        },
        {
          "output_type": "stream",
          "name": "stdout",
          "text": [
            "Question_1105_odd_one_out.pt\n"
          ]
        },
        {
          "output_type": "stream",
          "name": "stderr",
          "text": [
            "\n",
            "10it [00:00, 116.13it/s]\n",
            " 86%|████████▌ | 975/1132 [02:50<00:24,  6.32it/s]"
          ]
        },
        {
          "output_type": "stream",
          "name": "stdout",
          "text": [
            "Question_1106_odd_one_out.pt\n"
          ]
        },
        {
          "output_type": "stream",
          "name": "stderr",
          "text": [
            "\n",
            "10it [00:00, 117.41it/s]\n",
            " 86%|████████▌ | 976/1132 [02:51<00:23,  6.56it/s]"
          ]
        },
        {
          "output_type": "stream",
          "name": "stdout",
          "text": [
            "Question_1107_odd_one_out.pt\n"
          ]
        },
        {
          "output_type": "stream",
          "name": "stderr",
          "text": [
            "\n",
            "10it [00:00, 109.57it/s]\n",
            " 86%|████████▋ | 977/1132 [02:51<00:23,  6.68it/s]"
          ]
        },
        {
          "output_type": "stream",
          "name": "stdout",
          "text": [
            "Question_1108_odd_one_out.pt\n"
          ]
        },
        {
          "output_type": "stream",
          "name": "stderr",
          "text": [
            "\n",
            "10it [00:00, 119.83it/s]\n",
            " 86%|████████▋ | 978/1132 [02:51<00:22,  6.85it/s]"
          ]
        },
        {
          "output_type": "stream",
          "name": "stdout",
          "text": [
            "Question_1109_odd_one_out.pt\n"
          ]
        },
        {
          "output_type": "stream",
          "name": "stderr",
          "text": [
            "\n",
            "10it [00:00, 108.05it/s]\n",
            " 86%|████████▋ | 979/1132 [02:51<00:22,  6.78it/s]"
          ]
        },
        {
          "output_type": "stream",
          "name": "stdout",
          "text": [
            "Question_1110_odd_one_out.pt\n"
          ]
        },
        {
          "output_type": "stream",
          "name": "stderr",
          "text": [
            "\n",
            "10it [00:00, 118.99it/s]\n",
            " 87%|████████▋ | 980/1132 [02:51<00:24,  6.12it/s]"
          ]
        },
        {
          "output_type": "stream",
          "name": "stdout",
          "text": [
            "Question_1112_odd_one_out.pt\n"
          ]
        },
        {
          "output_type": "stream",
          "name": "stderr",
          "text": [
            "\n",
            "10it [00:00, 116.59it/s]\n",
            " 87%|████████▋ | 981/1132 [02:51<00:23,  6.44it/s]"
          ]
        },
        {
          "output_type": "stream",
          "name": "stdout",
          "text": [
            "Question_1111_odd_one_out.pt\n"
          ]
        },
        {
          "output_type": "stream",
          "name": "stderr",
          "text": [
            "\n",
            "10it [00:00, 112.45it/s]\n",
            " 87%|████████▋ | 982/1132 [02:51<00:22,  6.64it/s]"
          ]
        },
        {
          "output_type": "stream",
          "name": "stdout",
          "text": [
            "Question_1113_odd_one_out.pt\n"
          ]
        },
        {
          "output_type": "stream",
          "name": "stderr",
          "text": [
            "\n",
            "10it [00:00, 114.73it/s]\n",
            " 87%|████████▋ | 983/1132 [02:52<00:21,  6.80it/s]"
          ]
        },
        {
          "output_type": "stream",
          "name": "stdout",
          "text": [
            "Question_1114_odd_one_out.pt\n"
          ]
        },
        {
          "output_type": "stream",
          "name": "stderr",
          "text": [
            "\n",
            "10it [00:00, 105.65it/s]\n",
            " 87%|████████▋ | 984/1132 [02:52<00:21,  6.82it/s]"
          ]
        },
        {
          "output_type": "stream",
          "name": "stdout",
          "text": [
            "Question_1115_odd_one_out.pt\n"
          ]
        },
        {
          "output_type": "stream",
          "name": "stderr",
          "text": [
            "\n",
            "10it [00:00, 120.61it/s]\n",
            " 87%|████████▋ | 985/1132 [02:52<00:21,  6.94it/s]"
          ]
        },
        {
          "output_type": "stream",
          "name": "stdout",
          "text": [
            "Question_1116_odd_one_out.pt\n"
          ]
        },
        {
          "output_type": "stream",
          "name": "stderr",
          "text": [
            "\n",
            "10it [00:00, 119.61it/s]\n",
            " 87%|████████▋ | 986/1132 [02:52<00:23,  6.13it/s]"
          ]
        },
        {
          "output_type": "stream",
          "name": "stdout",
          "text": [
            "Question_1117_odd_one_out.pt\n"
          ]
        },
        {
          "output_type": "stream",
          "name": "stderr",
          "text": [
            "\n",
            "10it [00:00, 120.73it/s]\n",
            " 87%|████████▋ | 987/1132 [02:52<00:22,  6.41it/s]"
          ]
        },
        {
          "output_type": "stream",
          "name": "stdout",
          "text": [
            "Question_1118_odd_one_out.pt\n"
          ]
        },
        {
          "output_type": "stream",
          "name": "stderr",
          "text": [
            "\n",
            "10it [00:00, 113.37it/s]\n",
            " 87%|████████▋ | 988/1132 [02:52<00:21,  6.59it/s]"
          ]
        },
        {
          "output_type": "stream",
          "name": "stdout",
          "text": [
            "Question_1119_odd_one_out.pt\n"
          ]
        },
        {
          "output_type": "stream",
          "name": "stderr",
          "text": [
            "\n",
            "10it [00:00, 100.37it/s]\n",
            " 87%|████████▋ | 989/1132 [02:53<00:21,  6.58it/s]"
          ]
        },
        {
          "output_type": "stream",
          "name": "stdout",
          "text": [
            "Question_1120_odd_one_out.pt\n"
          ]
        },
        {
          "output_type": "stream",
          "name": "stderr",
          "text": [
            "\n",
            "10it [00:00, 115.99it/s]\n",
            " 87%|████████▋ | 990/1132 [02:53<00:21,  6.72it/s]"
          ]
        },
        {
          "output_type": "stream",
          "name": "stdout",
          "text": [
            "Question_1121_odd_one_out.pt\n"
          ]
        },
        {
          "output_type": "stream",
          "name": "stderr",
          "text": [
            "\n",
            "10it [00:00, 108.38it/s]\n",
            " 88%|████████▊ | 991/1132 [02:53<00:20,  6.77it/s]"
          ]
        },
        {
          "output_type": "stream",
          "name": "stdout",
          "text": [
            "Question_1122_odd_one_out.pt\n"
          ]
        },
        {
          "output_type": "stream",
          "name": "stderr",
          "text": [
            "\n",
            "10it [00:00, 113.28it/s]\n",
            " 88%|████████▊ | 992/1132 [02:53<00:23,  6.05it/s]"
          ]
        },
        {
          "output_type": "stream",
          "name": "stdout",
          "text": [
            "Question_1123_odd_one_out.pt\n"
          ]
        },
        {
          "output_type": "stream",
          "name": "stderr",
          "text": [
            "\n",
            "10it [00:00, 117.49it/s]\n",
            " 88%|████████▊ | 993/1132 [02:53<00:21,  6.40it/s]"
          ]
        },
        {
          "output_type": "stream",
          "name": "stdout",
          "text": [
            "Question_1124_odd_one_out.pt\n"
          ]
        },
        {
          "output_type": "stream",
          "name": "stderr",
          "text": [
            "\n",
            "10it [00:00, 111.08it/s]\n",
            " 88%|████████▊ | 994/1132 [02:53<00:21,  6.55it/s]"
          ]
        },
        {
          "output_type": "stream",
          "name": "stdout",
          "text": [
            "Question_1125_odd_one_out.pt\n"
          ]
        },
        {
          "output_type": "stream",
          "name": "stderr",
          "text": [
            "\n",
            "10it [00:00, 120.00it/s]\n",
            " 88%|████████▊ | 995/1132 [02:53<00:20,  6.80it/s]"
          ]
        },
        {
          "output_type": "stream",
          "name": "stdout",
          "text": [
            "Question_1126_odd_one_out.pt\n"
          ]
        },
        {
          "output_type": "stream",
          "name": "stderr",
          "text": [
            "\n",
            "10it [00:00, 110.42it/s]\n",
            " 88%|████████▊ | 996/1132 [02:54<00:19,  6.88it/s]"
          ]
        },
        {
          "output_type": "stream",
          "name": "stdout",
          "text": [
            "Question_1127_odd_one_out.pt\n"
          ]
        },
        {
          "output_type": "stream",
          "name": "stderr",
          "text": [
            "\n",
            "10it [00:00, 118.57it/s]\n",
            " 88%|████████▊ | 997/1132 [02:54<00:19,  6.98it/s]"
          ]
        },
        {
          "output_type": "stream",
          "name": "stdout",
          "text": [
            "Question_1128_odd_one_out.pt\n"
          ]
        },
        {
          "output_type": "stream",
          "name": "stderr",
          "text": [
            "\n",
            "10it [00:00, 110.16it/s]\n",
            " 88%|████████▊ | 998/1132 [02:54<00:22,  6.07it/s]"
          ]
        },
        {
          "output_type": "stream",
          "name": "stdout",
          "text": [
            "meta-data.csv\n"
          ]
        },
        {
          "output_type": "stream",
          "name": "stderr",
          "text": [
            "\n",
            "10it [00:00, 100.47it/s]\n",
            " 88%|████████▊ | 999/1132 [02:54<00:21,  6.21it/s]"
          ]
        },
        {
          "output_type": "stream",
          "name": "stdout",
          "text": [
            "Question_1129_odd_one_out.pt\n"
          ]
        },
        {
          "output_type": "stream",
          "name": "stderr",
          "text": [
            "\n",
            "10it [00:00, 114.79it/s]\n",
            "100%|██████████| 1132/1132 [02:54<00:00,  6.48it/s]\n"
          ]
        }
      ]
    },
    {
      "cell_type": "code",
      "source": [
        "d = {'prompt_filenames': all_prompt_filenames, 'prompt_activations': all_prompt_activations}\n",
        "df = pd.DataFrame(data=d)"
      ],
      "metadata": {
        "id": "kQ9102U7dnyg"
      },
      "execution_count": 52,
      "outputs": []
    },
    {
      "cell_type": "code",
      "source": [
        "df.head()"
      ],
      "metadata": {
        "colab": {
          "base_uri": "https://localhost:8080/",
          "height": 206
        },
        "id": "b8BBTkIHfEBu",
        "outputId": "3d5d1a9a-9d30-4f7e-eb84-cd2c1c9a51e9"
      },
      "execution_count": 53,
      "outputs": [
        {
          "output_type": "execute_result",
          "data": {
            "text/plain": [
              "       prompt_filenames                                 prompt_activations\n",
              "0  character_qa_open.pt  [0.0003011, -0.0008216, -4.98e-05, 0.001191, 0...\n",
              "1  character_qa_open.pt  [0.0003011, -0.0008216, -4.98e-05, 0.001191, 0...\n",
              "2  character_qa_open.pt  [0.0003011, -0.0008216, -4.98e-05, 0.001191, 0...\n",
              "3  character_qa_open.pt  [0.0003011, -0.0008216, -4.98e-05, 0.001191, 0...\n",
              "4  character_qa_open.pt  [0.0003011, -0.0008216, -4.98e-05, 0.001191, 0..."
            ],
            "text/html": [
              "\n",
              "  <div id=\"df-580baa36-7881-44db-9363-3f1f75962e73\">\n",
              "    <div class=\"colab-df-container\">\n",
              "      <div>\n",
              "<style scoped>\n",
              "    .dataframe tbody tr th:only-of-type {\n",
              "        vertical-align: middle;\n",
              "    }\n",
              "\n",
              "    .dataframe tbody tr th {\n",
              "        vertical-align: top;\n",
              "    }\n",
              "\n",
              "    .dataframe thead th {\n",
              "        text-align: right;\n",
              "    }\n",
              "</style>\n",
              "<table border=\"1\" class=\"dataframe\">\n",
              "  <thead>\n",
              "    <tr style=\"text-align: right;\">\n",
              "      <th></th>\n",
              "      <th>prompt_filenames</th>\n",
              "      <th>prompt_activations</th>\n",
              "    </tr>\n",
              "  </thead>\n",
              "  <tbody>\n",
              "    <tr>\n",
              "      <th>0</th>\n",
              "      <td>character_qa_open.pt</td>\n",
              "      <td>[0.0003011, -0.0008216, -4.98e-05, 0.001191, 0...</td>\n",
              "    </tr>\n",
              "    <tr>\n",
              "      <th>1</th>\n",
              "      <td>character_qa_open.pt</td>\n",
              "      <td>[0.0003011, -0.0008216, -4.98e-05, 0.001191, 0...</td>\n",
              "    </tr>\n",
              "    <tr>\n",
              "      <th>2</th>\n",
              "      <td>character_qa_open.pt</td>\n",
              "      <td>[0.0003011, -0.0008216, -4.98e-05, 0.001191, 0...</td>\n",
              "    </tr>\n",
              "    <tr>\n",
              "      <th>3</th>\n",
              "      <td>character_qa_open.pt</td>\n",
              "      <td>[0.0003011, -0.0008216, -4.98e-05, 0.001191, 0...</td>\n",
              "    </tr>\n",
              "    <tr>\n",
              "      <th>4</th>\n",
              "      <td>character_qa_open.pt</td>\n",
              "      <td>[0.0003011, -0.0008216, -4.98e-05, 0.001191, 0...</td>\n",
              "    </tr>\n",
              "  </tbody>\n",
              "</table>\n",
              "</div>\n",
              "      <button class=\"colab-df-convert\" onclick=\"convertToInteractive('df-580baa36-7881-44db-9363-3f1f75962e73')\"\n",
              "              title=\"Convert this dataframe to an interactive table.\"\n",
              "              style=\"display:none;\">\n",
              "        \n",
              "  <svg xmlns=\"http://www.w3.org/2000/svg\" height=\"24px\"viewBox=\"0 0 24 24\"\n",
              "       width=\"24px\">\n",
              "    <path d=\"M0 0h24v24H0V0z\" fill=\"none\"/>\n",
              "    <path d=\"M18.56 5.44l.94 2.06.94-2.06 2.06-.94-2.06-.94-.94-2.06-.94 2.06-2.06.94zm-11 1L8.5 8.5l.94-2.06 2.06-.94-2.06-.94L8.5 2.5l-.94 2.06-2.06.94zm10 10l.94 2.06.94-2.06 2.06-.94-2.06-.94-.94-2.06-.94 2.06-2.06.94z\"/><path d=\"M17.41 7.96l-1.37-1.37c-.4-.4-.92-.59-1.43-.59-.52 0-1.04.2-1.43.59L10.3 9.45l-7.72 7.72c-.78.78-.78 2.05 0 2.83L4 21.41c.39.39.9.59 1.41.59.51 0 1.02-.2 1.41-.59l7.78-7.78 2.81-2.81c.8-.78.8-2.07 0-2.86zM5.41 20L4 18.59l7.72-7.72 1.47 1.35L5.41 20z\"/>\n",
              "  </svg>\n",
              "      </button>\n",
              "      \n",
              "  <style>\n",
              "    .colab-df-container {\n",
              "      display:flex;\n",
              "      flex-wrap:wrap;\n",
              "      gap: 12px;\n",
              "    }\n",
              "\n",
              "    .colab-df-convert {\n",
              "      background-color: #E8F0FE;\n",
              "      border: none;\n",
              "      border-radius: 50%;\n",
              "      cursor: pointer;\n",
              "      display: none;\n",
              "      fill: #1967D2;\n",
              "      height: 32px;\n",
              "      padding: 0 0 0 0;\n",
              "      width: 32px;\n",
              "    }\n",
              "\n",
              "    .colab-df-convert:hover {\n",
              "      background-color: #E2EBFA;\n",
              "      box-shadow: 0px 1px 2px rgba(60, 64, 67, 0.3), 0px 1px 3px 1px rgba(60, 64, 67, 0.15);\n",
              "      fill: #174EA6;\n",
              "    }\n",
              "\n",
              "    [theme=dark] .colab-df-convert {\n",
              "      background-color: #3B4455;\n",
              "      fill: #D2E3FC;\n",
              "    }\n",
              "\n",
              "    [theme=dark] .colab-df-convert:hover {\n",
              "      background-color: #434B5C;\n",
              "      box-shadow: 0px 1px 3px 1px rgba(0, 0, 0, 0.15);\n",
              "      filter: drop-shadow(0px 1px 2px rgba(0, 0, 0, 0.3));\n",
              "      fill: #FFFFFF;\n",
              "    }\n",
              "  </style>\n",
              "\n",
              "      <script>\n",
              "        const buttonEl =\n",
              "          document.querySelector('#df-580baa36-7881-44db-9363-3f1f75962e73 button.colab-df-convert');\n",
              "        buttonEl.style.display =\n",
              "          google.colab.kernel.accessAllowed ? 'block' : 'none';\n",
              "\n",
              "        async function convertToInteractive(key) {\n",
              "          const element = document.querySelector('#df-580baa36-7881-44db-9363-3f1f75962e73');\n",
              "          const dataTable =\n",
              "            await google.colab.kernel.invokeFunction('convertToInteractive',\n",
              "                                                     [key], {});\n",
              "          if (!dataTable) return;\n",
              "\n",
              "          const docLinkHtml = 'Like what you see? Visit the ' +\n",
              "            '<a target=\"_blank\" href=https://colab.research.google.com/notebooks/data_table.ipynb>data table notebook</a>'\n",
              "            + ' to learn more about interactive tables.';\n",
              "          element.innerHTML = '';\n",
              "          dataTable['output_type'] = 'display_data';\n",
              "          await google.colab.output.renderOutput(dataTable, element);\n",
              "          const docLink = document.createElement('div');\n",
              "          docLink.innerHTML = docLinkHtml;\n",
              "          element.appendChild(docLink);\n",
              "        }\n",
              "      </script>\n",
              "    </div>\n",
              "  </div>\n",
              "  "
            ]
          },
          "metadata": {},
          "execution_count": 53
        }
      ]
    },
    {
      "cell_type": "code",
      "source": [
        "reducer = umap.UMAP()\n",
        "\n",
        "# Prepare the input for UMAP\n",
        "activations = np.stack(df['prompt_activations'].to_numpy())\n",
        "\n",
        "# Apply UMAP to compress dimensions to 2D\n",
        "reducer = umap.UMAP(n_components=2, n_neighbors=2)\n",
        "umap_result = reducer.fit_transform(activations)"
      ],
      "metadata": {
        "id": "TNVi2t4CgBFj"
      },
      "execution_count": null,
      "outputs": []
    },
    {
      "cell_type": "code",
      "source": [
        "#Define coloring algo\n",
        "def generate_color_map(unique_elements):\n",
        "    color_palette = sns.color_palette('husl', len(unique_elements))\n",
        "    color_map = {key: color for key, color in zip(unique_elements, color_palette)}\n",
        "    return color_map\n",
        "\n",
        "# Create a scatter plot using the reduced dimensions\n",
        "unique_filenames = df['prompt_filenames'].unique()\n",
        "color_map = generate_color_map(unique_filenames)\n",
        "\n",
        "for i, filename in enumerate(df['prompt_filenames']):\n",
        "    plt.scatter(umap_result[i, 0], umap_result[i, 1], color=color_map[filename], label=filename)\n",
        "\n",
        "plt.xlabel('UMAP 1')\n",
        "plt.ylabel('UMAP 2')\n",
        "plt.title('UMAP Visualization of Prompt Activations')\n",
        "\n",
        "# Add legend and remove duplicates\n",
        "handles, labels = plt.gca().get_legend_handles_labels()\n",
        "by_label = dict(zip(labels, handles))\n",
        "plt.legend(by_label.values(), by_label.keys())\n",
        "\n",
        "plt.show()"
      ],
      "metadata": {
        "id": "oXiO0oBzixDQ"
      },
      "execution_count": null,
      "outputs": []
    }
  ],
  "metadata": {
    "accelerator": "GPU",
    "colab": {
      "machine_shape": "hm",
      "provenance": []
    },
    "gpuClass": "premium",
    "kernelspec": {
      "display_name": "Python 3",
      "name": "python3"
    },
    "language_info": {
      "codemirror_mode": {
        "name": "ipython",
        "version": 3
      },
      "file_extension": ".py",
      "mimetype": "text/x-python",
      "name": "python",
      "nbconvert_exporter": "python",
      "pygments_lexer": "ipython3",
      "version": "3.10.8"
    }
  },
  "nbformat": 4,
  "nbformat_minor": 0
}