{
 "cells": [
  {
   "cell_type": "code",
   "execution_count": 1,
   "id": "ea3492d2",
   "metadata": {},
   "outputs": [],
   "source": [
    "import numpy as np\n",
    "import cv2\n",
    "import time\n",
    "import matplotlib.pyplot as plt\n",
    "import matplotlib\n",
    "from matplotlib.animation import FuncAnimation\n",
    "import matplotlib.colors as mcolors\n",
    "from matplotlib.colors import LogNorm\n",
    "from IPython.display import HTML\n",
    "import torch\n",
    "from tqdm import tqdm \n",
    "import os\n",
    "import pandas as pd\n",
    "import umap\n",
    "from tqdm import tqdm\n",
    "import seaborn as sns\n",
    "from sklearn.linear_model import LinearRegression\n",
    "from sklearn.decomposition import PCA\n",
    "from sklearn import svm\n",
    "import re\n",
    "from transformers import LlamaTokenizer, LlamaForCausalLM, GenerationConfig\n",
    "from sklearn.preprocessing import OneHotEncoder"
   ]
  },
  {
   "cell_type": "code",
   "execution_count": 2,
   "id": "b224c103",
   "metadata": {},
   "outputs": [
    {
     "name": "stderr",
     "output_type": "stream",
     "text": [
      "The tokenizer class you load from this checkpoint is not the same type as the class this function is called from. It may result in unexpected tokenization. \n",
      "The tokenizer class you load from this checkpoint is 'LLaMATokenizer'. \n",
      "The class this function is called from is 'LlamaTokenizer'.\n"
     ]
    }
   ],
   "source": [
    "tokenizer = LlamaTokenizer.from_pretrained('../../models/llama-7b-hf', local_files_only=True)"
   ]
  },
  {
   "cell_type": "code",
   "execution_count": 3,
   "id": "71b1a13c",
   "metadata": {},
   "outputs": [],
   "source": [
    "def extract_number(filename):\n",
    "    match = re.search(r'\\d+', filename)\n",
    "    return int(match.group()) if match else float('inf')\n",
    "\n",
    "def sort_files(activations_directory):\n",
    "  activation_folder_list = os.listdir(activations_directory)\n",
    "  activation_folder_list = sorted(activation_folder_list, key=extract_number, reverse=False)\n",
    "  return activation_folder_list \n"
   ]
  },
  {
   "cell_type": "code",
   "execution_count": 29,
   "id": "cb5d7083",
   "metadata": {},
   "outputs": [],
   "source": [
    "\n",
    "# Assuming a data set with variable length tokens, token_output_focus determines which token to focus on for each element of the data set\n",
    "# Assumes filename corresponds to the class of the prompt\n",
    "def build_activations_array(activations_directory, activation_folder_list, token_output_focus = \"first\", first_n_files=None):\n",
    "  if first_n_files is None:\n",
    "    first_n_files = len(activation_folder_list)\n",
    "\n",
    "  # Array of arrays \n",
    "  all_prompt_activations = [] \n",
    "  all_prompt_filenames = []\n",
    "  all_prompt_tokens = []\n",
    "\n",
    "  # Load the CSV file into a pandas DataFrame\n",
    "  df = pd.read_csv(activations_directory+'Task.csv')\n",
    "\n",
    "  # Create a dictionary that maps question IDs to classes\n",
    "  id_to_class = df.set_index('Question_ID')['Class'].to_dict()\n",
    "  id_to_q_type = df.set_index('Question_ID')['Question_Type'].to_dict()\n",
    "#   print(id_to_class)\n",
    "#   print(id_to_q_type)\n",
    "\n",
    "  activation_folder_list = [f for f in activation_folder_list if os.path.splitext(f)[1] == '.pt']\n",
    "\n",
    "  for activation_file in tqdm((activation_folder_list[:first_n_files]), position=0, leave=True):\n",
    "      # Extract the question ID from the filename\n",
    "      question_id = int(re.search(r\"^Question_(\\d+)_\", activation_file).group(1))\n",
    "      \n",
    "      # Check if the question type is 'character_qa_close' before proceeding\n",
    "      if id_to_q_type[question_id] == 'character_qa_close':\n",
    "#           Use the dictionary to get the corresponding class\n",
    "#       if 1:\n",
    "\n",
    "          activation_path = os.path.join(activations_directory,str(activation_file))\n",
    "          data = torch.load(activation_path, map_location=torch.device('cpu'))\n",
    "\n",
    "\n",
    "          hidden_states = data['hidden_states']\n",
    "          output_response = data['output'].split(\"Response:\")[1]\n",
    "          tokenized_output_response = tokenizer.encode(output_response)\n",
    "\n",
    "          \n",
    "\n",
    "          if token_output_focus == \"first\":\n",
    "            token_id = 3 # Disregard first hidden state (which inclued all input? tokens), and disregard first two tokens (['', '<0x0A>',)\n",
    "          if token_output_focus == \"last\":\n",
    "              token_id = len(hidden_states) - 1\n",
    "              token_text = tokenizer.decode(tokenized_output_response[token_id])\n",
    "              # Check if token_text is not one of the specified strings\n",
    "#               if token_text not in [\"Yes\", \"yes\", \"No\", \"no\"]:\n",
    "#                   token_id = len(hidden_states) - 2 # n-1 to avoid full stop\n",
    "#                   token_text = tokenizer.decode(tokenized_output_response[token_id])\n",
    "#                   if token_text not in [\"Yes\", \"yes\", \"No\", \"no\"]:\n",
    "#                     print(\"output neither yes or no\")\n",
    "#                     continue\n",
    "\n",
    "          filename = id_to_class[question_id] +'_'+ id_to_q_type[question_id]+'_'+token_text\n",
    "#           filename = id_to_class[question_id]\n",
    "          all_prompt_filenames.append(filename)\n",
    "          \n",
    "          token_hidden_states = hidden_states[token_id]\n",
    "\n",
    "          # Initialize an empty dictionary to store activations\n",
    "          activations = []\n",
    "\n",
    "          # iterate through all layers for each token's hidden states\n",
    "          for layer_id, layers in enumerate(token_hidden_states):\n",
    "            # print(\"Layer: \"+str(layer_id))\n",
    "            for beam_id, beams in enumerate(layers):\n",
    "              # print(\"Beam: \"+str(beam_id))\n",
    "              for token_activation_id, token_activations in enumerate(beams):\n",
    "                # print(token_activations.shape)\n",
    "                token_activations_np = token_activations.numpy()  # Detach and convert to NumPy array\n",
    "                activations.extend(token_activations_np)\n",
    "          token_text = tokenizer.decode(tokenized_output_response[token_id])\n",
    "          all_prompt_activations.append(activations)\n",
    "          all_prompt_tokens.append(token_text)\n",
    "\n",
    "  return all_prompt_activations, all_prompt_filenames, all_prompt_tokens"
   ]
  },
  {
   "cell_type": "code",
   "execution_count": 30,
   "id": "05949362",
   "metadata": {},
   "outputs": [
    {
     "name": "stderr",
     "output_type": "stream",
     "text": [
      "100%|██████████| 800/800 [00:39<00:00, 20.28it/s]\n"
     ]
    }
   ],
   "source": [
    "activations_directory = \"/home/gridsan/wzulfikar/activations/dataset_trex/\"\n",
    "#Sort files\n",
    "activation_folder_list = sort_files(activations_directory)\n",
    "#Set params\n",
    "token_output_focus = \"last\"\n",
    "first_n_files = 800\n",
    "\n",
    "all_prompt_activations, all_prompt_filenames, all_prompt_tokens = build_activations_array(activations_directory, activation_folder_list, token_output_focus = token_output_focus, first_n_files = first_n_files)"
   ]
  },
  {
   "cell_type": "code",
   "execution_count": 33,
   "id": "d306ed0b",
   "metadata": {},
   "outputs": [
    {
     "name": "stdout",
     "output_type": "stream",
     "text": [
      "Vincent Van Gogh_character_qa_open_3\n",
      "Marie Curie_character_qa_open_and\n",
      "Vincent Van Gogh_character_qa_open_ity\n",
      "William Shakespeare_character_qa_close_Yes\n",
      "William Shakespeare_character_qa_open_iam\n",
      "William Shakespeare_character_qa_close_.\n",
      "Hermione Granger_character_qa_close_Yes\n",
      "William Shakespeare_character_qa_open_ane\n",
      "Vincent Van Gogh_character_qa_close_No\n",
      "Marie Curie_character_qa_close_Yes\n",
      "William Shakespeare_character_qa_open_.\n",
      "Ada Lovelace_character_qa_open_\".\n",
      "Isaac Newton_character_qa_open_ton\n",
      "Hermione Granger_character_qa_open_.\n",
      "Hermione Granger_character_qa_open_ale\n",
      "Princess Leia_character_qa_open_ale\n",
      "Princess Leia_character_qa_open_Blue\n",
      "Isaac Newton_character_qa_close_.\n",
      "Lady Gaga_character_qa_open_.\n",
      "Cleopatra_character_qa_open_0\n",
      "Vincent Van Gogh_character_qa_open_ry\n",
      "Marie Curie_character_qa_open_Blue\n",
      "Lady Gaga_character_qa_open_anne\n",
      "Cleopatra_character_qa_open_atra\n",
      "Ada Lovelace_character_qa_close_.\n",
      "Sherlock Holmes_character_qa_open_January\n",
      "Vincent Van Gogh_character_qa_close_Yes\n",
      "Vincent Van Gogh_character_qa_open_ale\n",
      "Vincent Van Gogh_character_qa_open_cent\n",
      "Lady Gaga_character_qa_open_York\n",
      "Isaac Newton_character_qa_open_ah\n",
      "Albert Einstein_character_qa_open_Max\n",
      "Marie Curie_character_qa_open_atholic\n",
      "Isaac Newton_character_qa_open_ary\n",
      "Isaac Newton_character_qa_open_3\n",
      "William Shakespeare_character_qa_open_English\n",
      "Isaac Newton_character_qa_open_ale\n",
      "Marie Curie_character_qa_open_rene\n",
      "Cleopatra_character_qa_open_ale\n",
      "Harry Potter_character_qa_open_ry\n",
      "Ada Lovelace_character_qa_open_ace\n",
      "Princess Leia_character_qa_open_9\n",
      "Barney the Dinosaur_character_qa_open_:\n",
      "Ada Lovelace_character_qa_open_Blue\n",
      "Barney the Dinosaur_character_qa_open_ama\n",
      "Hermione Granger_character_qa_open_ione\n",
      "Vincent Van Gogh_character_qa_open_Blue\n",
      "Isaac Newton_character_qa_open_ham\n",
      "Ada Lovelace_character_qa_open_on\n",
      "Marie Curie_character_qa_open_.\n",
      "Marie Curie_character_qa_open_Pierre\n",
      "Isaac Newton_character_qa_open_Blue\n",
      "Marie Curie_character_qa_open_ist\n",
      "Barney the Dinosaur_character_qa_open_Green\n",
      "Sherlock Holmes_character_qa_open_ale\n",
      "Isaac Newton_character_qa_close_No\n",
      "Ada Lovelace_character_qa_close_No\n",
      "Princess Leia_character_qa_open_!\n",
      "Cleopatra_character_qa_open_my\n",
      "Socrates_character_qa_open_ates\n",
      "William Shakespeare_character_qa_open_ale\n",
      "Isaac Newton_character_qa_open_ist\n",
      "Ada Lovelace_character_qa_open_5\n",
      "Harry Potter_character_qa_open_uly\n",
      "Marie Curie_character_qa_open_ember\n",
      "Lady Gaga_character_qa_open_atholic\n",
      "Socrates_character_qa_open_.\n",
      "Princess Leia_character_qa_open_mé\n",
      "Ada Lovelace_character_qa_open_English\n",
      "Marie Curie_character_qa_close_.\n",
      "Isaac Newton_character_qa_open_ity\n",
      "Isaac Newton_character_qa_close_Yes\n",
      "Albert Einstein_character_qa_close_No\n",
      "Cleopatra_character_qa_open_Mark\n",
      "Princess Leia_character_qa_open_ia\n",
      "Harry Potter_character_qa_open_.\n",
      "Marie Curie_character_qa_close_No\n",
      "Vincent Van Gogh_character_qa_close_.\n",
      "Lady Gaga_character_qa_open_\".\n",
      "Barney the Dinosaur_character_qa_open_ney\n",
      "Isaac Newton_character_qa_open_.\n",
      "Ada Lovelace_character_qa_close_Yes\n",
      "Isaac Newton_character_qa_open_le\n",
      "Hermione Granger_character_qa_close_No\n",
      "Lady Gaga_character_qa_close_.\n",
      "Socrates_character_qa_close_.\n",
      "William Shakespeare_character_qa_open_ford\n",
      "Barney the Dinosaur_character_qa_open_ale\n",
      "Cleopatra_character_qa_open_ian\n",
      "Lady Gaga_character_qa_open_ia\n",
      "Isaac Newton_character_qa_open_ac\n",
      "Barney the Dinosaur_character_qa_open_.\n",
      "Barney the Dinosaur_character_qa_open_ie\n",
      "Hermione Granger_character_qa_open_ish\n",
      "Vincent Van Gogh_character_qa_open_ter\n",
      "Sherlock Holmes_character_qa_close_.\n",
      "Hermione Granger_character_qa_open_va\n",
      "Vincent Van Gogh_character_qa_open_ical\n",
      "Vincent Van Gogh_character_qa_open_.\n",
      "Hermione Granger_character_qa_open_izard\n",
      "Princess Leia_character_qa_open_Star\n",
      "Socrates_character_qa_open_\".\n",
      "Isaac Newton_character_qa_open_English\n",
      "Hermione Granger_character_qa_close_.\n",
      "Harry Potter_character_qa_close_No\n",
      "Harry Potter_character_qa_close_.\n",
      "Marie Curie_character_qa_open_ish\n",
      "Lady Gaga_character_qa_open_ale\n",
      "William Shakespeare_character_qa_open_are\n",
      "Cleopatra_character_qa_open_\"\n",
      "Ada Lovelace_character_qa_open_.\n",
      "Marie Curie_character_qa_open_7\n",
      "Barney the Dinosaur_character_qa_close_No\n",
      "Harry Potter_character_qa_open_English\n",
      "Barney the Dinosaur_character_qa_open_!\n",
      "Barney the Dinosaur_character_qa_open_American\n",
      "William Shakespeare_character_qa_open_4\n",
      "Marie Curie_character_qa_open_ie\n",
      "Princess Leia_character_qa_open_an\n",
      "Vincent Van Gogh_character_qa_open_an\n",
      "Cleopatra_character_qa_open_D\n",
      "Princess Leia_character_qa_close_.\n",
      "Albert Einstein_character_qa_open_\"\n",
      "Ada Lovelace_character_qa_open_iam\n",
      "Harry Potter_character_qa_open_ale\n",
      "Harry Potter_character_qa_close_Yes\n",
      "Barney the Dinosaur_character_qa_close_.\n",
      "Cleopatra_character_qa_close_.\n",
      "Albert Einstein_character_qa_open_9\n",
      "Princess Leia_character_qa_open_.\n",
      "Cleopatra_character_qa_open_.\n",
      "Hermione Granger_character_qa_open_9\n",
      "Hermione Granger_character_qa_open_gle\n",
      "Cleopatra_character_qa_close_No\n",
      "Cleopatra_character_qa_open_\".\n",
      "Isaac Newton_character_qa_open_ics\n",
      "Harry Potter_character_qa_open_ily\n",
      "Albert Einstein_character_qa_close_.\n",
      "Hermione Granger_character_qa_open_anger\n",
      "Lady Gaga_character_qa_close_No\n",
      "Sherlock Holmes_character_qa_open_.\n",
      "Ada Lovelace_character_qa_open_ale\n",
      "Sherlock Holmes_character_qa_open_\".\n",
      "Barney the Dinosaur_character_qa_open_1\n",
      "Lady Gaga_character_qa_open_ani\n",
      "Princess Leia_character_qa_open_edi\n",
      "Barney the Dinosaur_character_qa_open_!\"\n",
      "Socrates_character_qa_close_Yes\n",
      "Albert Einstein_character_qa_close_Yes\n",
      "Barney the Dinosaur_character_qa_open_Blue\n",
      "Marie Curie_character_qa_open_ale\n",
      "Sherlock Holmes_character_qa_open_ish\n",
      "Vincent Van Gogh_character_qa_open_na\n",
      "Hermione Granger_character_qa_open_ptember\n",
      "Albert Einstein_character_qa_open_ale\n",
      "Lady Gaga_character_qa_close_Yes\n",
      "Harry Potter_character_qa_open_ny\n",
      "Marie Curie_character_qa_open_Marie\n",
      "Harry Potter_character_qa_open_izard\n",
      "Isaac Newton_character_qa_open_pe\n",
      "Lady Gaga_character_qa_open_Blue\n",
      "Albert Einstein_character_qa_open_Al\n",
      "Lady Gaga_character_qa_open_American\n",
      "Cleopatra_character_qa_close_Yes\n",
      "Vincent Van Gogh_character_qa_open_utch\n",
      "William Shakespeare_character_qa_close_No\n",
      "Lady Gaga_character_qa_open_6\n",
      "Hermione Granger_character_qa_open_ity\n",
      "Albert Einstein_character_qa_open_.\n"
     ]
    }
   ],
   "source": [
    "unique_strings = set(all_prompt_filenames)\n",
    "\n",
    "for unique_string in unique_strings:\n",
    "    print(unique_string)"
   ]
  },
  {
   "cell_type": "code",
   "execution_count": 35,
   "id": "946c94b5",
   "metadata": {},
   "outputs": [
    {
     "name": "stdout",
     "output_type": "stream",
     "text": [
      "(800, 209920)\n",
      "explained variance: [1.18665433e+05 6.62703260e+03 1.88858321e+03 1.59072848e+03\n",
      " 1.27660080e+03 1.24168612e+03 1.03058733e+03 7.72712189e+02\n",
      " 6.70356441e+02 6.10787892e+02 5.93520911e+02 4.70154130e+02\n",
      " 4.35363410e+02 3.92376550e+02 3.35861560e+02 3.22560800e+02\n",
      " 2.90993716e+02 2.46924660e+02 2.28282236e+02 2.04142277e+02\n",
      " 1.88294831e+02 1.76106626e+02 1.50076611e+02 1.30396687e+02\n",
      " 1.21554330e+02 1.11531276e+02 1.03225153e+02 9.65940743e+01\n",
      " 8.87588422e+01 8.28394967e+01 7.69453178e+01 7.43750974e+01]\n",
      "explained variance ratio: [8.35851144e-01 4.66792447e-02 1.33027319e-02 1.12047138e-02\n",
      " 8.99207303e-03 8.74614233e-03 7.25921252e-03 5.44280126e-03\n",
      " 4.72183166e-03 4.30224494e-03 4.18062043e-03 3.31165410e-03\n",
      " 3.06659653e-03 2.76380729e-03 2.36572911e-03 2.27204172e-03\n",
      " 2.04969067e-03 1.73927870e-03 1.60796589e-03 1.43792975e-03\n",
      " 1.32630410e-03 1.24045327e-03 1.05710403e-03 9.18483314e-04\n",
      " 8.56199849e-04 7.85599836e-04 7.27093481e-04 6.80385733e-04\n",
      " 6.25196218e-04 5.83501753e-04 5.41984556e-04 5.23880534e-04]\n",
      "Time taken 6.843346118927002\n"
     ]
    }
   ],
   "source": [
    "import cudf\n",
    "import cuml\n",
    "\n",
    "start = time.time()\n",
    "\n",
    "all_prompt_activations = np.array(all_prompt_activations)\n",
    "print(all_prompt_activations.shape)\n",
    "\n",
    "trials = all_prompt_activations.shape[0]\n",
    "n_neurons = all_prompt_activations.shape[1]\n",
    "\n",
    "# Convert your data to cuDF DataFrame, because cuML works with cuDF DataFrame\n",
    "# df = cudf.DataFrame(all_prompt_activations, columns=[f'feature_{i+1}' for i in range(n_neurons)])\n",
    "\n",
    "pca_float = PCA(n_components = 32)\n",
    "\n",
    "all_prompt_activations_pca = pca_float.fit_transform(all_prompt_activations)\n",
    "\n",
    "print(f'explained variance: {pca_float.explained_variance_}')\n",
    "print(f'explained variance ratio: {pca_float.explained_variance_ratio_}')\n",
    "\n",
    "print(\"Time taken\", time.time()-start)"
   ]
  },
  {
   "cell_type": "code",
   "execution_count": 23,
   "id": "a955adb3",
   "metadata": {},
   "outputs": [
    {
     "name": "stdout",
     "output_type": "stream",
     "text": [
      "(379, 16)\n"
     ]
    }
   ],
   "source": [
    "print(all_prompt_activations_pca.shape)"
   ]
  },
  {
   "cell_type": "code",
   "execution_count": 7,
   "id": "63d75080",
   "metadata": {},
   "outputs": [
    {
     "name": "stdout",
     "output_type": "stream",
     "text": [
      "(209920, 800)\n",
      "(800, 14)\n"
     ]
    }
   ],
   "source": [
    "clustering_data = np.array(all_prompt_activations).T\n",
    "target = np.array(all_prompt_filenames)[:, np.newaxis]\n",
    "target = OneHotEncoder().fit_transform(target)\n",
    "\n",
    "print(clustering_data.shape)\n",
    "print(target.shape)\n"
   ]
  },
  {
   "cell_type": "code",
   "execution_count": 8,
   "id": "240372c6",
   "metadata": {},
   "outputs": [
    {
     "name": "stdout",
     "output_type": "stream",
     "text": [
      "dict_keys(['Ada Lovelace', 'Vincent Van Gogh', 'Princess Leia', 'William Shakespeare', 'Albert Einstein', 'Sherlock Holmes', 'Marie Curie', 'Harry Potter', 'Lady Gaga', 'Isaac Newton', 'Barney the Dinosaur', 'Socrates', 'Cleopatra', 'Hermione Granger'])\n"
     ]
    }
   ],
   "source": [
    "classes = set(all_prompt_filenames)\n",
    "all_prompt_activations_with_class = {k:[] for k in classes}\n",
    "for j, activation in enumerate(all_prompt_activations):\n",
    "    k = all_prompt_filenames[j]\n",
    "    all_prompt_activations_with_class[k].append(np.array(activation))\n",
    "\n",
    "print(all_prompt_activations_with_class.keys())"
   ]
  },
  {
   "cell_type": "code",
   "execution_count": 38,
   "id": "37322490",
   "metadata": {},
   "outputs": [
    {
     "name": "stdout",
     "output_type": "stream",
     "text": [
      "   Question_ID                                           Question  \\\n",
      "0            1  Pretend to be Albert Einstein, what is your fi...   \n",
      "1            2  Pretend to be Albert Einstein, what is your la...   \n",
      "2            3  Pretend to be Albert Einstein, what is your na...   \n",
      "3            4  Pretend to be Albert Einstein, what is your ge...   \n",
      "4            5  Pretend to be Albert Einstein, what is your oc...   \n",
      "\n",
      "       Question_Type            Class  \n",
      "0  character_qa_open  Albert Einstein  \n",
      "1  character_qa_open  Albert Einstein  \n",
      "2  character_qa_open  Albert Einstein  \n",
      "3  character_qa_open  Albert Einstein  \n",
      "4  character_qa_open  Albert Einstein  \n",
      "1129\n",
      "Index(['Question_ID', 'Question', 'Question_Type', 'Class'], dtype='object')\n"
     ]
    }
   ],
   "source": [
    "df = pd.read_csv(activations_directory+'Task.csv')\n",
    "print(df.head())\n",
    "# print length of df\n",
    "print(len(df))\n",
    "# print the columns of df\n",
    "print(df.columns)"
   ]
  },
  {
   "cell_type": "markdown",
   "id": "e825fcb6",
   "metadata": {
    "heading_collapsed": true
   },
   "source": [
    "## CPU"
   ]
  },
  {
   "cell_type": "code",
   "execution_count": 21,
   "id": "de2e34ac",
   "metadata": {
    "hidden": true
   },
   "outputs": [
    {
     "name": "stderr",
     "output_type": "stream",
     "text": [
      "/home/gridsan/wzulfikar/.conda/envs/openllm/lib/python3.8/site-packages/sklearn/manifold/_spectral_embedding.py:274: UserWarning: Graph is not fully connected, spectral embedding may not work as expected.\n",
      "  warnings.warn(\n"
     ]
    },
    {
     "ename": "KeyboardInterrupt",
     "evalue": "",
     "output_type": "error",
     "traceback": [
      "\u001b[0;31m---------------------------------------------------------------------------\u001b[0m",
      "\u001b[0;31mKeyboardInterrupt\u001b[0m                         Traceback (most recent call last)",
      "Cell \u001b[0;32mIn[21], line 1\u001b[0m\n\u001b[0;32m----> 1\u001b[0m mapper \u001b[38;5;241m=\u001b[39m \u001b[43mumap\u001b[49m\u001b[38;5;241;43m.\u001b[39;49m\u001b[43mUMAP\u001b[49m\u001b[43m(\u001b[49m\u001b[43mrandom_state\u001b[49m\u001b[38;5;241;43m=\u001b[39;49m\u001b[38;5;241;43m42\u001b[39;49m\u001b[43m,\u001b[49m\u001b[43m \u001b[49m\u001b[43mn_components\u001b[49m\u001b[38;5;241;43m=\u001b[39;49m\u001b[38;5;241;43m2\u001b[39;49m\u001b[43m)\u001b[49m\u001b[38;5;241;43m.\u001b[39;49m\u001b[43mfit\u001b[49m\u001b[43m(\u001b[49m\u001b[43mclustering_data\u001b[49m\u001b[43m)\u001b[49m\n",
      "File \u001b[0;32m~/.conda/envs/openllm/lib/python3.8/site-packages/umap/umap_.py:2684\u001b[0m, in \u001b[0;36mUMAP.fit\u001b[0;34m(self, X, y)\u001b[0m\n\u001b[1;32m   2681\u001b[0m     \u001b[38;5;28mprint\u001b[39m(ts(), \u001b[38;5;124m\"\u001b[39m\u001b[38;5;124mConstruct embedding\u001b[39m\u001b[38;5;124m\"\u001b[39m)\n\u001b[1;32m   2683\u001b[0m \u001b[38;5;28;01mif\u001b[39;00m \u001b[38;5;28mself\u001b[39m\u001b[38;5;241m.\u001b[39mtransform_mode \u001b[38;5;241m==\u001b[39m \u001b[38;5;124m\"\u001b[39m\u001b[38;5;124membedding\u001b[39m\u001b[38;5;124m\"\u001b[39m:\n\u001b[0;32m-> 2684\u001b[0m     \u001b[38;5;28mself\u001b[39m\u001b[38;5;241m.\u001b[39membedding_, aux_data \u001b[38;5;241m=\u001b[39m \u001b[38;5;28;43mself\u001b[39;49m\u001b[38;5;241;43m.\u001b[39;49m\u001b[43m_fit_embed_data\u001b[49m\u001b[43m(\u001b[49m\n\u001b[1;32m   2685\u001b[0m \u001b[43m        \u001b[49m\u001b[38;5;28;43mself\u001b[39;49m\u001b[38;5;241;43m.\u001b[39;49m\u001b[43m_raw_data\u001b[49m\u001b[43m[\u001b[49m\u001b[43mindex\u001b[49m\u001b[43m]\u001b[49m\u001b[43m,\u001b[49m\n\u001b[1;32m   2686\u001b[0m \u001b[43m        \u001b[49m\u001b[38;5;28;43mself\u001b[39;49m\u001b[38;5;241;43m.\u001b[39;49m\u001b[43mn_epochs\u001b[49m\u001b[43m,\u001b[49m\n\u001b[1;32m   2687\u001b[0m \u001b[43m        \u001b[49m\u001b[43minit\u001b[49m\u001b[43m,\u001b[49m\n\u001b[1;32m   2688\u001b[0m \u001b[43m        \u001b[49m\u001b[43mrandom_state\u001b[49m\u001b[43m,\u001b[49m\u001b[43m  \u001b[49m\u001b[38;5;66;43;03m# JH why raw data?\u001b[39;49;00m\n\u001b[1;32m   2689\u001b[0m \u001b[43m    \u001b[49m\u001b[43m)\u001b[49m\n\u001b[1;32m   2690\u001b[0m     \u001b[38;5;66;03m# Assign any points that are fully disconnected from our manifold(s) to have embedding\u001b[39;00m\n\u001b[1;32m   2691\u001b[0m     \u001b[38;5;66;03m# coordinates of np.nan.  These will be filtered by our plotting functions automatically.\u001b[39;00m\n\u001b[1;32m   2692\u001b[0m     \u001b[38;5;66;03m# They also prevent users from being deceived a distance query to one of these points.\u001b[39;00m\n\u001b[1;32m   2693\u001b[0m     \u001b[38;5;66;03m# Might be worth moving this into simplicial_set_embedding or _fit_embed_data\u001b[39;00m\n\u001b[1;32m   2694\u001b[0m     disconnected_vertices \u001b[38;5;241m=\u001b[39m np\u001b[38;5;241m.\u001b[39marray(\u001b[38;5;28mself\u001b[39m\u001b[38;5;241m.\u001b[39mgraph_\u001b[38;5;241m.\u001b[39msum(axis\u001b[38;5;241m=\u001b[39m\u001b[38;5;241m1\u001b[39m))\u001b[38;5;241m.\u001b[39mflatten() \u001b[38;5;241m==\u001b[39m \u001b[38;5;241m0\u001b[39m\n",
      "File \u001b[0;32m~/.conda/envs/openllm/lib/python3.8/site-packages/umap/umap_.py:2717\u001b[0m, in \u001b[0;36mUMAP._fit_embed_data\u001b[0;34m(self, X, n_epochs, init, random_state)\u001b[0m\n\u001b[1;32m   2713\u001b[0m \u001b[38;5;28;01mdef\u001b[39;00m \u001b[38;5;21m_fit_embed_data\u001b[39m(\u001b[38;5;28mself\u001b[39m, X, n_epochs, init, random_state):\n\u001b[1;32m   2714\u001b[0m \u001b[38;5;250m    \u001b[39m\u001b[38;5;124;03m\"\"\"A method wrapper for simplicial_set_embedding that can be\u001b[39;00m\n\u001b[1;32m   2715\u001b[0m \u001b[38;5;124;03m    replaced by subclasses.\u001b[39;00m\n\u001b[1;32m   2716\u001b[0m \u001b[38;5;124;03m    \"\"\"\u001b[39;00m\n\u001b[0;32m-> 2717\u001b[0m     \u001b[38;5;28;01mreturn\u001b[39;00m \u001b[43msimplicial_set_embedding\u001b[49m\u001b[43m(\u001b[49m\n\u001b[1;32m   2718\u001b[0m \u001b[43m        \u001b[49m\u001b[43mX\u001b[49m\u001b[43m,\u001b[49m\n\u001b[1;32m   2719\u001b[0m \u001b[43m        \u001b[49m\u001b[38;5;28;43mself\u001b[39;49m\u001b[38;5;241;43m.\u001b[39;49m\u001b[43mgraph_\u001b[49m\u001b[43m,\u001b[49m\n\u001b[1;32m   2720\u001b[0m \u001b[43m        \u001b[49m\u001b[38;5;28;43mself\u001b[39;49m\u001b[38;5;241;43m.\u001b[39;49m\u001b[43mn_components\u001b[49m\u001b[43m,\u001b[49m\n\u001b[1;32m   2721\u001b[0m \u001b[43m        \u001b[49m\u001b[38;5;28;43mself\u001b[39;49m\u001b[38;5;241;43m.\u001b[39;49m\u001b[43m_initial_alpha\u001b[49m\u001b[43m,\u001b[49m\n\u001b[1;32m   2722\u001b[0m \u001b[43m        \u001b[49m\u001b[38;5;28;43mself\u001b[39;49m\u001b[38;5;241;43m.\u001b[39;49m\u001b[43m_a\u001b[49m\u001b[43m,\u001b[49m\n\u001b[1;32m   2723\u001b[0m \u001b[43m        \u001b[49m\u001b[38;5;28;43mself\u001b[39;49m\u001b[38;5;241;43m.\u001b[39;49m\u001b[43m_b\u001b[49m\u001b[43m,\u001b[49m\n\u001b[1;32m   2724\u001b[0m \u001b[43m        \u001b[49m\u001b[38;5;28;43mself\u001b[39;49m\u001b[38;5;241;43m.\u001b[39;49m\u001b[43mrepulsion_strength\u001b[49m\u001b[43m,\u001b[49m\n\u001b[1;32m   2725\u001b[0m \u001b[43m        \u001b[49m\u001b[38;5;28;43mself\u001b[39;49m\u001b[38;5;241;43m.\u001b[39;49m\u001b[43mnegative_sample_rate\u001b[49m\u001b[43m,\u001b[49m\n\u001b[1;32m   2726\u001b[0m \u001b[43m        \u001b[49m\u001b[43mn_epochs\u001b[49m\u001b[43m,\u001b[49m\n\u001b[1;32m   2727\u001b[0m \u001b[43m        \u001b[49m\u001b[43minit\u001b[49m\u001b[43m,\u001b[49m\n\u001b[1;32m   2728\u001b[0m \u001b[43m        \u001b[49m\u001b[43mrandom_state\u001b[49m\u001b[43m,\u001b[49m\n\u001b[1;32m   2729\u001b[0m \u001b[43m        \u001b[49m\u001b[38;5;28;43mself\u001b[39;49m\u001b[38;5;241;43m.\u001b[39;49m\u001b[43m_input_distance_func\u001b[49m\u001b[43m,\u001b[49m\n\u001b[1;32m   2730\u001b[0m \u001b[43m        \u001b[49m\u001b[38;5;28;43mself\u001b[39;49m\u001b[38;5;241;43m.\u001b[39;49m\u001b[43m_metric_kwds\u001b[49m\u001b[43m,\u001b[49m\n\u001b[1;32m   2731\u001b[0m \u001b[43m        \u001b[49m\u001b[38;5;28;43mself\u001b[39;49m\u001b[38;5;241;43m.\u001b[39;49m\u001b[43mdensmap\u001b[49m\u001b[43m,\u001b[49m\n\u001b[1;32m   2732\u001b[0m \u001b[43m        \u001b[49m\u001b[38;5;28;43mself\u001b[39;49m\u001b[38;5;241;43m.\u001b[39;49m\u001b[43m_densmap_kwds\u001b[49m\u001b[43m,\u001b[49m\n\u001b[1;32m   2733\u001b[0m \u001b[43m        \u001b[49m\u001b[38;5;28;43mself\u001b[39;49m\u001b[38;5;241;43m.\u001b[39;49m\u001b[43moutput_dens\u001b[49m\u001b[43m,\u001b[49m\n\u001b[1;32m   2734\u001b[0m \u001b[43m        \u001b[49m\u001b[38;5;28;43mself\u001b[39;49m\u001b[38;5;241;43m.\u001b[39;49m\u001b[43m_output_distance_func\u001b[49m\u001b[43m,\u001b[49m\n\u001b[1;32m   2735\u001b[0m \u001b[43m        \u001b[49m\u001b[38;5;28;43mself\u001b[39;49m\u001b[38;5;241;43m.\u001b[39;49m\u001b[43m_output_metric_kwds\u001b[49m\u001b[43m,\u001b[49m\n\u001b[1;32m   2736\u001b[0m \u001b[43m        \u001b[49m\u001b[38;5;28;43mself\u001b[39;49m\u001b[38;5;241;43m.\u001b[39;49m\u001b[43moutput_metric\u001b[49m\u001b[43m \u001b[49m\u001b[38;5;129;43;01min\u001b[39;49;00m\u001b[43m \u001b[49m\u001b[43m(\u001b[49m\u001b[38;5;124;43m\"\u001b[39;49m\u001b[38;5;124;43meuclidean\u001b[39;49m\u001b[38;5;124;43m\"\u001b[39;49m\u001b[43m,\u001b[49m\u001b[43m \u001b[49m\u001b[38;5;124;43m\"\u001b[39;49m\u001b[38;5;124;43ml2\u001b[39;49m\u001b[38;5;124;43m\"\u001b[39;49m\u001b[43m)\u001b[49m\u001b[43m,\u001b[49m\n\u001b[1;32m   2737\u001b[0m \u001b[43m        \u001b[49m\u001b[38;5;28;43mself\u001b[39;49m\u001b[38;5;241;43m.\u001b[39;49m\u001b[43mrandom_state\u001b[49m\u001b[43m \u001b[49m\u001b[38;5;129;43;01mis\u001b[39;49;00m\u001b[43m \u001b[49m\u001b[38;5;28;43;01mNone\u001b[39;49;00m\u001b[43m,\u001b[49m\n\u001b[1;32m   2738\u001b[0m \u001b[43m        \u001b[49m\u001b[38;5;28;43mself\u001b[39;49m\u001b[38;5;241;43m.\u001b[39;49m\u001b[43mverbose\u001b[49m\u001b[43m,\u001b[49m\n\u001b[1;32m   2739\u001b[0m \u001b[43m        \u001b[49m\u001b[43mtqdm_kwds\u001b[49m\u001b[38;5;241;43m=\u001b[39;49m\u001b[38;5;28;43mself\u001b[39;49m\u001b[38;5;241;43m.\u001b[39;49m\u001b[43mtqdm_kwds\u001b[49m\u001b[43m,\u001b[49m\n\u001b[1;32m   2740\u001b[0m \u001b[43m    \u001b[49m\u001b[43m)\u001b[49m\n",
      "File \u001b[0;32m~/.conda/envs/openllm/lib/python3.8/site-packages/umap/umap_.py:1156\u001b[0m, in \u001b[0;36msimplicial_set_embedding\u001b[0;34m(data, graph, n_components, initial_alpha, a, b, gamma, negative_sample_rate, n_epochs, init, random_state, metric, metric_kwds, densmap, densmap_kwds, output_dens, output_metric, output_metric_kwds, euclidean_output, parallel, verbose, tqdm_kwds)\u001b[0m\n\u001b[1;32m   1149\u001b[0m embedding \u001b[38;5;241m=\u001b[39m (\n\u001b[1;32m   1150\u001b[0m     \u001b[38;5;241m10.0\u001b[39m\n\u001b[1;32m   1151\u001b[0m     \u001b[38;5;241m*\u001b[39m (embedding \u001b[38;5;241m-\u001b[39m np\u001b[38;5;241m.\u001b[39mmin(embedding, \u001b[38;5;241m0\u001b[39m))\n\u001b[1;32m   1152\u001b[0m     \u001b[38;5;241m/\u001b[39m (np\u001b[38;5;241m.\u001b[39mmax(embedding, \u001b[38;5;241m0\u001b[39m) \u001b[38;5;241m-\u001b[39m np\u001b[38;5;241m.\u001b[39mmin(embedding, \u001b[38;5;241m0\u001b[39m))\n\u001b[1;32m   1153\u001b[0m )\u001b[38;5;241m.\u001b[39mastype(np\u001b[38;5;241m.\u001b[39mfloat32, order\u001b[38;5;241m=\u001b[39m\u001b[38;5;124m\"\u001b[39m\u001b[38;5;124mC\u001b[39m\u001b[38;5;124m\"\u001b[39m)\n\u001b[1;32m   1155\u001b[0m \u001b[38;5;28;01mif\u001b[39;00m euclidean_output:\n\u001b[0;32m-> 1156\u001b[0m     embedding \u001b[38;5;241m=\u001b[39m \u001b[43moptimize_layout_euclidean\u001b[49m\u001b[43m(\u001b[49m\n\u001b[1;32m   1157\u001b[0m \u001b[43m        \u001b[49m\u001b[43membedding\u001b[49m\u001b[43m,\u001b[49m\n\u001b[1;32m   1158\u001b[0m \u001b[43m        \u001b[49m\u001b[43membedding\u001b[49m\u001b[43m,\u001b[49m\n\u001b[1;32m   1159\u001b[0m \u001b[43m        \u001b[49m\u001b[43mhead\u001b[49m\u001b[43m,\u001b[49m\n\u001b[1;32m   1160\u001b[0m \u001b[43m        \u001b[49m\u001b[43mtail\u001b[49m\u001b[43m,\u001b[49m\n\u001b[1;32m   1161\u001b[0m \u001b[43m        \u001b[49m\u001b[43mn_epochs\u001b[49m\u001b[43m,\u001b[49m\n\u001b[1;32m   1162\u001b[0m \u001b[43m        \u001b[49m\u001b[43mn_vertices\u001b[49m\u001b[43m,\u001b[49m\n\u001b[1;32m   1163\u001b[0m \u001b[43m        \u001b[49m\u001b[43mepochs_per_sample\u001b[49m\u001b[43m,\u001b[49m\n\u001b[1;32m   1164\u001b[0m \u001b[43m        \u001b[49m\u001b[43ma\u001b[49m\u001b[43m,\u001b[49m\n\u001b[1;32m   1165\u001b[0m \u001b[43m        \u001b[49m\u001b[43mb\u001b[49m\u001b[43m,\u001b[49m\n\u001b[1;32m   1166\u001b[0m \u001b[43m        \u001b[49m\u001b[43mrng_state\u001b[49m\u001b[43m,\u001b[49m\n\u001b[1;32m   1167\u001b[0m \u001b[43m        \u001b[49m\u001b[43mgamma\u001b[49m\u001b[43m,\u001b[49m\n\u001b[1;32m   1168\u001b[0m \u001b[43m        \u001b[49m\u001b[43minitial_alpha\u001b[49m\u001b[43m,\u001b[49m\n\u001b[1;32m   1169\u001b[0m \u001b[43m        \u001b[49m\u001b[43mnegative_sample_rate\u001b[49m\u001b[43m,\u001b[49m\n\u001b[1;32m   1170\u001b[0m \u001b[43m        \u001b[49m\u001b[43mparallel\u001b[49m\u001b[38;5;241;43m=\u001b[39;49m\u001b[43mparallel\u001b[49m\u001b[43m,\u001b[49m\n\u001b[1;32m   1171\u001b[0m \u001b[43m        \u001b[49m\u001b[43mverbose\u001b[49m\u001b[38;5;241;43m=\u001b[39;49m\u001b[43mverbose\u001b[49m\u001b[43m,\u001b[49m\n\u001b[1;32m   1172\u001b[0m \u001b[43m        \u001b[49m\u001b[43mdensmap\u001b[49m\u001b[38;5;241;43m=\u001b[39;49m\u001b[43mdensmap\u001b[49m\u001b[43m,\u001b[49m\n\u001b[1;32m   1173\u001b[0m \u001b[43m        \u001b[49m\u001b[43mdensmap_kwds\u001b[49m\u001b[38;5;241;43m=\u001b[39;49m\u001b[43mdensmap_kwds\u001b[49m\u001b[43m,\u001b[49m\n\u001b[1;32m   1174\u001b[0m \u001b[43m        \u001b[49m\u001b[43mtqdm_kwds\u001b[49m\u001b[38;5;241;43m=\u001b[39;49m\u001b[43mtqdm_kwds\u001b[49m\u001b[43m,\u001b[49m\n\u001b[1;32m   1175\u001b[0m \u001b[43m        \u001b[49m\u001b[43mmove_other\u001b[49m\u001b[38;5;241;43m=\u001b[39;49m\u001b[38;5;28;43;01mTrue\u001b[39;49;00m\u001b[43m,\u001b[49m\n\u001b[1;32m   1176\u001b[0m \u001b[43m    \u001b[49m\u001b[43m)\u001b[49m\n\u001b[1;32m   1177\u001b[0m \u001b[38;5;28;01melse\u001b[39;00m:\n\u001b[1;32m   1178\u001b[0m     embedding \u001b[38;5;241m=\u001b[39m optimize_layout_generic(\n\u001b[1;32m   1179\u001b[0m         embedding,\n\u001b[1;32m   1180\u001b[0m         embedding,\n\u001b[0;32m   (...)\u001b[0m\n\u001b[1;32m   1196\u001b[0m         move_other\u001b[38;5;241m=\u001b[39m\u001b[38;5;28;01mTrue\u001b[39;00m,\n\u001b[1;32m   1197\u001b[0m     )\n",
      "File \u001b[0;32m~/.conda/envs/openllm/lib/python3.8/site-packages/umap/layouts.py:369\u001b[0m, in \u001b[0;36moptimize_layout_euclidean\u001b[0;34m(head_embedding, tail_embedding, head, tail, n_epochs, n_vertices, epochs_per_sample, a, b, rng_state, gamma, initial_alpha, negative_sample_rate, parallel, verbose, densmap, densmap_kwds, tqdm_kwds, move_other)\u001b[0m\n\u001b[1;32m    366\u001b[0m         dens_re_mean \u001b[38;5;241m=\u001b[39m \u001b[38;5;241m0\u001b[39m\n\u001b[1;32m    367\u001b[0m         dens_re_cov \u001b[38;5;241m=\u001b[39m \u001b[38;5;241m0\u001b[39m\n\u001b[0;32m--> 369\u001b[0m     \u001b[43moptimize_fn\u001b[49m\u001b[43m(\u001b[49m\n\u001b[1;32m    370\u001b[0m \u001b[43m        \u001b[49m\u001b[43mhead_embedding\u001b[49m\u001b[43m,\u001b[49m\n\u001b[1;32m    371\u001b[0m \u001b[43m        \u001b[49m\u001b[43mtail_embedding\u001b[49m\u001b[43m,\u001b[49m\n\u001b[1;32m    372\u001b[0m \u001b[43m        \u001b[49m\u001b[43mhead\u001b[49m\u001b[43m,\u001b[49m\n\u001b[1;32m    373\u001b[0m \u001b[43m        \u001b[49m\u001b[43mtail\u001b[49m\u001b[43m,\u001b[49m\n\u001b[1;32m    374\u001b[0m \u001b[43m        \u001b[49m\u001b[43mn_vertices\u001b[49m\u001b[43m,\u001b[49m\n\u001b[1;32m    375\u001b[0m \u001b[43m        \u001b[49m\u001b[43mepochs_per_sample\u001b[49m\u001b[43m,\u001b[49m\n\u001b[1;32m    376\u001b[0m \u001b[43m        \u001b[49m\u001b[43ma\u001b[49m\u001b[43m,\u001b[49m\n\u001b[1;32m    377\u001b[0m \u001b[43m        \u001b[49m\u001b[43mb\u001b[49m\u001b[43m,\u001b[49m\n\u001b[1;32m    378\u001b[0m \u001b[43m        \u001b[49m\u001b[43mrng_state\u001b[49m\u001b[43m,\u001b[49m\n\u001b[1;32m    379\u001b[0m \u001b[43m        \u001b[49m\u001b[43mgamma\u001b[49m\u001b[43m,\u001b[49m\n\u001b[1;32m    380\u001b[0m \u001b[43m        \u001b[49m\u001b[43mdim\u001b[49m\u001b[43m,\u001b[49m\n\u001b[1;32m    381\u001b[0m \u001b[43m        \u001b[49m\u001b[43mmove_other\u001b[49m\u001b[43m,\u001b[49m\n\u001b[1;32m    382\u001b[0m \u001b[43m        \u001b[49m\u001b[43malpha\u001b[49m\u001b[43m,\u001b[49m\n\u001b[1;32m    383\u001b[0m \u001b[43m        \u001b[49m\u001b[43mepochs_per_negative_sample\u001b[49m\u001b[43m,\u001b[49m\n\u001b[1;32m    384\u001b[0m \u001b[43m        \u001b[49m\u001b[43mepoch_of_next_negative_sample\u001b[49m\u001b[43m,\u001b[49m\n\u001b[1;32m    385\u001b[0m \u001b[43m        \u001b[49m\u001b[43mepoch_of_next_sample\u001b[49m\u001b[43m,\u001b[49m\n\u001b[1;32m    386\u001b[0m \u001b[43m        \u001b[49m\u001b[43mn\u001b[49m\u001b[43m,\u001b[49m\n\u001b[1;32m    387\u001b[0m \u001b[43m        \u001b[49m\u001b[43mdensmap_flag\u001b[49m\u001b[43m,\u001b[49m\n\u001b[1;32m    388\u001b[0m \u001b[43m        \u001b[49m\u001b[43mdens_phi_sum\u001b[49m\u001b[43m,\u001b[49m\n\u001b[1;32m    389\u001b[0m \u001b[43m        \u001b[49m\u001b[43mdens_re_sum\u001b[49m\u001b[43m,\u001b[49m\n\u001b[1;32m    390\u001b[0m \u001b[43m        \u001b[49m\u001b[43mdens_re_cov\u001b[49m\u001b[43m,\u001b[49m\n\u001b[1;32m    391\u001b[0m \u001b[43m        \u001b[49m\u001b[43mdens_re_std\u001b[49m\u001b[43m,\u001b[49m\n\u001b[1;32m    392\u001b[0m \u001b[43m        \u001b[49m\u001b[43mdens_re_mean\u001b[49m\u001b[43m,\u001b[49m\n\u001b[1;32m    393\u001b[0m \u001b[43m        \u001b[49m\u001b[43mdens_lambda\u001b[49m\u001b[43m,\u001b[49m\n\u001b[1;32m    394\u001b[0m \u001b[43m        \u001b[49m\u001b[43mdens_R\u001b[49m\u001b[43m,\u001b[49m\n\u001b[1;32m    395\u001b[0m \u001b[43m        \u001b[49m\u001b[43mdens_mu\u001b[49m\u001b[43m,\u001b[49m\n\u001b[1;32m    396\u001b[0m \u001b[43m        \u001b[49m\u001b[43mdens_mu_tot\u001b[49m\u001b[43m,\u001b[49m\n\u001b[1;32m    397\u001b[0m \u001b[43m    \u001b[49m\u001b[43m)\u001b[49m\n\u001b[1;32m    399\u001b[0m     alpha \u001b[38;5;241m=\u001b[39m initial_alpha \u001b[38;5;241m*\u001b[39m (\u001b[38;5;241m1.0\u001b[39m \u001b[38;5;241m-\u001b[39m (\u001b[38;5;28mfloat\u001b[39m(n) \u001b[38;5;241m/\u001b[39m \u001b[38;5;28mfloat\u001b[39m(n_epochs)))\n\u001b[1;32m    401\u001b[0m \u001b[38;5;28;01mreturn\u001b[39;00m head_embedding\n",
      "\u001b[0;31mKeyboardInterrupt\u001b[0m: "
     ]
    }
   ],
   "source": [
    "start = time.time()\n",
    "mapper = umap.UMAP(random_state=42, n_components=2).fit(clustering_data)\n",
    "\n",
    "print(\"Time taken\", time.time()-start)"
   ]
  },
  {
   "cell_type": "code",
   "execution_count": null,
   "id": "c279b5a5",
   "metadata": {
    "hidden": true
   },
   "outputs": [],
   "source": [
    "labels = [str(i) for i in range(15)]\n",
    "umap.plot.points(mapper, labels=labels)"
   ]
  },
  {
   "cell_type": "markdown",
   "id": "b14f6e96",
   "metadata": {},
   "source": [
    "## GPU"
   ]
  },
  {
   "cell_type": "code",
   "execution_count": 67,
   "id": "e55f837c",
   "metadata": {},
   "outputs": [
    {
     "name": "stdout",
     "output_type": "stream",
     "text": [
      "Time taken 13.812620401382446\n"
     ]
    }
   ],
   "source": [
    "from cuml.manifold.umap import UMAP as cumlUMAP\n",
    "import time\n",
    "start = time.time()\n",
    "\n",
    "cuml_umap = cumlUMAP(n_components=2, n_neighbors=16, init=\"spectral\")\n",
    "embedding = cuml_umap.fit_transform(clustering_data)\n",
    "print(\"Time taken\", time.time()-start)"
   ]
  },
  {
   "cell_type": "code",
   "execution_count": 68,
   "id": "127fb268",
   "metadata": {},
   "outputs": [
    {
     "name": "stdout",
     "output_type": "stream",
     "text": [
      "(209920, 2)\n"
     ]
    }
   ],
   "source": [
    "print(embedding.shape)"
   ]
  },
  {
   "cell_type": "code",
   "execution_count": 70,
   "id": "716d417a",
   "metadata": {},
   "outputs": [
    {
     "name": "stderr",
     "output_type": "stream",
     "text": [
      "/state/partition1/slurm_tmp/22773281.0.0/ipykernel_30667/4186800325.py:4: UserWarning: No data for colormapping provided via 'c'. Parameters 'cmap' will be ignored\n",
      "  plt.scatter(embedding[:,1], embedding[:,0], s=0.3, cmap='Spectral', alpha=1.0)\n"
     ]
    },
    {
     "data": {
      "image/png": "[encoded data removed]",
      "text/plain": [
       "<Figure size 1400x1000 with 2 Axes>"
      ]
     },
     "metadata": {},
     "output_type": "display_data"
    }
   ],
   "source": [
    "# g_embedding_numpy = embedding.to_pandas().values #it is necessary to convert to numpy array to do the visual mapping\n",
    "\n",
    "fig, ax = plt.subplots(1, figsize=(14, 10))\n",
    "plt.scatter(embedding[:,1], embedding[:,0], s=0.3, cmap='Spectral', alpha=1.0)\n",
    "plt.setp(ax, xticks=[], yticks=[])\n",
    "cbar = plt.colorbar(boundaries=np.arange(11)-0.5)\n",
    "cbar.set_ticks(np.arange(10))"
   ]
  },
  {
   "cell_type": "code",
   "execution_count": 9,
   "id": "3bb3a934",
   "metadata": {},
   "outputs": [
    {
     "name": "stdout",
     "output_type": "stream",
     "text": [
      "Fitting\n"
     ]
    }
   ],
   "source": [
    "# Assuming embedding is your data and its shape is [n_neurons, features]\n",
    "# n_neurons = embedding.shape[0]\n",
    "# features = embedding.shape[1]\n",
    "import cudf\n",
    "import cuml\n",
    "\n",
    "start = time.time()\n",
    "\n",
    "embedding = clustering_data\n",
    "\n",
    "n_neurons = embedding.shape[0]\n",
    "features = embedding.shape[1]\n",
    "\n",
    "# Convert your data to cuDF DataFrame, because cuML works with cuDF DataFrame\n",
    "df = cudf.DataFrame(embedding, columns=[f'feature_{i+1}' for i in range(features)])\n",
    "\n",
    "# Initialize the KMeans model\n",
    "kmeans = cuml.KMeans(n_clusters=16)\n",
    "\n",
    "print(\"Fitting\")\n",
    "# Fit the model\n",
    "kmeans.fit(df)\n",
    "\n",
    "# Get cluster predictions\n",
    "df['cluster'] = kmeans.predict(df)\n",
    "\n",
    "# # Plotting\n",
    "# plt.figure(figsize=(10, 8))\n",
    "# for i in range(16):\n",
    "#     cluster_data = df[df['cluster'] == i].to_pandas()\n",
    "#     plt.scatter(cluster_data['feature_1'], cluster_data['feature_2'], label=f'Cluster {i+1}')\n",
    "\n",
    "# plt.title('KMeans Clustering with cuML')\n",
    "# plt.xlabel('Feature 1')\n",
    "# plt.ylabel('Feature 2')\n",
    "# plt.legend()\n",
    "# plt.show()\n",
    "\n",
    "\n",
    "\n",
    "print(\"Time taken \", time.time() - start)"
   ]
  },
  {
   "cell_type": "code",
   "execution_count": 71,
   "id": "f9a76eae",
   "metadata": {},
   "outputs": [
    {
     "name": "stdout",
     "output_type": "stream",
     "text": [
      "Fitting\n"
     ]
    },
    {
     "data": {
      "image/png": "[encoded data removed]",
      "text/plain": [
       "<Figure size 1000x800 with 1 Axes>"
      ]
     },
     "metadata": {},
     "output_type": "display_data"
    }
   ],
   "source": [
    "# Assuming embedding is your data and its shape is [n_neurons, features]\n",
    "# n_neurons = embedding.shape[0]\n",
    "# features = embedding.shape[1]\n",
    "import cudf\n",
    "import cuml\n",
    "\n",
    "n_neurons = embedding.shape[0]\n",
    "features = 2\n",
    "\n",
    "# Convert your data to cuDF DataFrame, because cuML works with cuDF DataFrame\n",
    "df = cudf.DataFrame(embedding, columns=[f'feature_{i+1}' for i in range(features)])\n",
    "\n",
    "# Initialize the KMeans model\n",
    "kmeans = cuml.KMeans(n_clusters=16)\n",
    "\n",
    "print(\"Fitting\")\n",
    "# Fit the model\n",
    "kmeans.fit(df)\n",
    "\n",
    "# Get cluster predictions\n",
    "df['cluster'] = kmeans.predict(df)\n",
    "\n",
    "# Plotting\n",
    "plt.figure(figsize=(10, 8))\n",
    "for i in range(16):\n",
    "    cluster_data = df[df['cluster'] == i].to_pandas()\n",
    "    plt.scatter(cluster_data['feature_1'], cluster_data['feature_2'], label=f'Cluster {i+1}')\n",
    "\n",
    "plt.title('KMeans Clustering with cuML')\n",
    "plt.xlabel('Feature 1')\n",
    "plt.ylabel('Feature 2')\n",
    "plt.legend()\n",
    "plt.show()\n"
   ]
  },
  {
   "cell_type": "code",
   "execution_count": 11,
   "id": "96adfb85",
   "metadata": {},
   "outputs": [
    {
     "name": "stdout",
     "output_type": "stream",
     "text": [
      "Int64Index([ 38071,  43191,  48311,  53431,  58551,  63671,  68791,  73911,\n",
      "             79031,  84151,  89271,  94391,  99511, 104631, 109751, 114871,\n",
      "            119991, 125111, 130231, 135351, 140471, 145591, 150711, 155831,\n",
      "            160951, 166071, 171191, 176311, 191671, 196791, 201911],\n",
      "           dtype='int64')\n"
     ]
    }
   ],
   "source": [
    "indices = df.loc[df['cluster'] == 1].index\n",
    "print(indices)"
   ]
  },
  {
   "cell_type": "code",
   "execution_count": 10,
   "id": "19c95ac6",
   "metadata": {},
   "outputs": [
    {
     "name": "stdout",
     "output_type": "stream",
     "text": [
      "For class Ada Lovelace, the top 5 clusters are:\n",
      "Cluster ID: 3, Number of neurons: 33, Correlation: 142.5\n",
      "Cluster ID: 0, Number of neurons: 33, Correlation: 64.35714285714286\n",
      "Cluster ID: 4, Number of neurons: 33, Correlation: 24.553571428571427\n",
      "Cluster ID: 9, Number of neurons: 284, Correlation: 1.2109375\n",
      "Cluster ID: 12, Number of neurons: 44927, Correlation: 0.17424665178571427\n",
      "\n",
      "For class Vincent Van Gogh, the top 5 clusters are:\n",
      "Cluster ID: 3, Number of neurons: 33, Correlation: 135.25423728813558\n",
      "Cluster ID: 0, Number of neurons: 33, Correlation: 61.186440677966104\n",
      "Cluster ID: 4, Number of neurons: 33, Correlation: 23.322033898305083\n",
      "Cluster ID: 9, Number of neurons: 284, Correlation: 1.152542372881356\n",
      "Cluster ID: 12, Number of neurons: 44927, Correlation: 0.1651218220338983\n",
      "\n",
      "For class Princess Leia, the top 5 clusters are:\n",
      "Cluster ID: 3, Number of neurons: 33, Correlation: 134.64406779661016\n",
      "Cluster ID: 0, Number of neurons: 33, Correlation: 60.88135593220339\n",
      "Cluster ID: 4, Number of neurons: 33, Correlation: 23.220338983050848\n",
      "Cluster ID: 9, Number of neurons: 284, Correlation: 1.1504237288135593\n",
      "Cluster ID: 12, Number of neurons: 44927, Correlation: 0.164989406779661\n",
      "\n",
      "For class William Shakespeare, the top 5 clusters are:\n",
      "Cluster ID: 3, Number of neurons: 33, Correlation: 139.9298245614035\n",
      "Cluster ID: 0, Number of neurons: 33, Correlation: 63.19298245614035\n",
      "Cluster ID: 4, Number of neurons: 33, Correlation: 24.12280701754386\n",
      "Cluster ID: 9, Number of neurons: 284, Correlation: 1.1907894736842106\n",
      "Cluster ID: 12, Number of neurons: 44927, Correlation: 0.17173793859649122\n",
      "\n",
      "For class Albert Einstein, the top 5 clusters are:\n",
      "Cluster ID: 3, Number of neurons: 33, Correlation: 134.84745762711864\n",
      "Cluster ID: 0, Number of neurons: 33, Correlation: 60.94915254237288\n",
      "Cluster ID: 4, Number of neurons: 33, Correlation: 23.23728813559322\n",
      "Cluster ID: 9, Number of neurons: 284, Correlation: 1.1483050847457628\n",
      "Cluster ID: 12, Number of neurons: 44927, Correlation: 0.1653866525423729\n",
      "\n",
      "For class Sherlock Holmes, the top 5 clusters are:\n",
      "Cluster ID: 3, Number of neurons: 33, Correlation: 139.71929824561403\n",
      "Cluster ID: 0, Number of neurons: 33, Correlation: 63.19298245614035\n",
      "Cluster ID: 4, Number of neurons: 33, Correlation: 24.087719298245613\n",
      "Cluster ID: 9, Number of neurons: 284, Correlation: 1.1896929824561404\n",
      "Cluster ID: 12, Number of neurons: 44927, Correlation: 0.17132675438596492\n",
      "\n",
      "For class Marie Curie, the top 5 clusters are:\n",
      "Cluster ID: 3, Number of neurons: 33, Correlation: 139.50877192982455\n",
      "Cluster ID: 0, Number of neurons: 33, Correlation: 63.05263157894737\n",
      "Cluster ID: 4, Number of neurons: 33, Correlation: 24.05263157894737\n",
      "Cluster ID: 9, Number of neurons: 284, Correlation: 1.1885964912280702\n",
      "Cluster ID: 12, Number of neurons: 44927, Correlation: 0.17118969298245615\n",
      "\n",
      "For class Harry Potter, the top 5 clusters are:\n",
      "Cluster ID: 3, Number of neurons: 33, Correlation: 139.78947368421052\n",
      "Cluster ID: 0, Number of neurons: 33, Correlation: 63.228070175438596\n",
      "Cluster ID: 4, Number of neurons: 33, Correlation: 24.07017543859649\n",
      "Cluster ID: 9, Number of neurons: 284, Correlation: 1.1929824561403508\n",
      "Cluster ID: 12, Number of neurons: 44927, Correlation: 0.17132675438596492\n",
      "\n",
      "For class Lady Gaga, the top 5 clusters are:\n",
      "Cluster ID: 3, Number of neurons: 33, Correlation: 134.98305084745763\n",
      "Cluster ID: 0, Number of neurons: 33, Correlation: 61.05084745762712\n",
      "Cluster ID: 4, Number of neurons: 33, Correlation: 23.25423728813559\n",
      "Cluster ID: 9, Number of neurons: 284, Correlation: 1.1514830508474576\n",
      "Cluster ID: 12, Number of neurons: 44927, Correlation: 0.16551906779661016\n",
      "\n",
      "For class Isaac Newton, the top 5 clusters are:\n",
      "Cluster ID: 3, Number of neurons: 33, Correlation: 139.859649122807\n",
      "Cluster ID: 0, Number of neurons: 33, Correlation: 63.228070175438596\n",
      "Cluster ID: 4, Number of neurons: 33, Correlation: 24.12280701754386\n",
      "Cluster ID: 9, Number of neurons: 284, Correlation: 1.1918859649122806\n",
      "Cluster ID: 12, Number of neurons: 44927, Correlation: 0.17146381578947367\n",
      "\n",
      "For class Barney the Dinosaur, the top 5 clusters are:\n",
      "Cluster ID: 3, Number of neurons: 33, Correlation: 158.48\n",
      "Cluster ID: 0, Number of neurons: 33, Correlation: 71.56\n",
      "Cluster ID: 4, Number of neurons: 33, Correlation: 27.32\n",
      "Cluster ID: 9, Number of neurons: 284, Correlation: 1.35875\n",
      "Cluster ID: 12, Number of neurons: 44927, Correlation: 0.195\n",
      "\n",
      "For class Socrates, the top 5 clusters are:\n",
      "Cluster ID: 3, Number of neurons: 33, Correlation: 137.24137931034483\n",
      "Cluster ID: 0, Number of neurons: 33, Correlation: 62.0\n",
      "Cluster ID: 4, Number of neurons: 33, Correlation: 23.655172413793103\n",
      "Cluster ID: 9, Number of neurons: 284, Correlation: 1.1702586206896552\n",
      "Cluster ID: 12, Number of neurons: 44927, Correlation: 0.16823814655172414\n",
      "\n",
      "For class Cleopatra, the top 5 clusters are:\n",
      "Cluster ID: 3, Number of neurons: 33, Correlation: 139.57894736842104\n",
      "Cluster ID: 0, Number of neurons: 33, Correlation: 63.05263157894737\n",
      "Cluster ID: 4, Number of neurons: 33, Correlation: 24.07017543859649\n",
      "Cluster ID: 9, Number of neurons: 284, Correlation: 1.194078947368421\n",
      "Cluster ID: 12, Number of neurons: 44927, Correlation: 0.17118969298245615\n",
      "\n",
      "For class Hermione Granger, the top 5 clusters are:\n",
      "Cluster ID: 3, Number of neurons: 33, Correlation: 137.79310344827587\n",
      "Cluster ID: 0, Number of neurons: 33, Correlation: 62.3448275862069\n",
      "Cluster ID: 4, Number of neurons: 33, Correlation: 23.74137931034483\n",
      "Cluster ID: 9, Number of neurons: 284, Correlation: 1.1724137931034482\n",
      "Cluster ID: 12, Number of neurons: 44927, Correlation: 0.16837284482758622\n",
      "\n"
     ]
    }
   ],
   "source": [
    "import numpy as np\n",
    "import pandas as pd\n",
    "import cudf\n",
    "import cuml\n",
    "from collections import defaultdict\n",
    "import matplotlib.pyplot as plt\n",
    "\n",
    "correlation_results = defaultdict(list)\n",
    "\n",
    "for class_name, trials in all_prompt_activations_with_class.items():\n",
    "    for cluster_id in range(16):  # Assuming you have 16 clusters\n",
    "        cluster_neurons = df.loc[df['cluster'] == cluster_id].index.to_numpy()\n",
    "        num_neurons = len(cluster_neurons)\n",
    "\n",
    "        correlation_sum = 0\n",
    "        for trial in trials:\n",
    "            cluster_activations = trial[cluster_neurons]\n",
    "#             correlation_sum += np.corrcoef(trial, cluster_activations)[0, 1]\n",
    "            correlation_sum = np.mean(cluster_activations)\n",
    "\n",
    "        average_correlation = correlation_sum / len(trials)\n",
    "        correlation_results[class_name].append((cluster_id, num_neurons, average_correlation))\n",
    "\n",
    "# Now let's get top 5 clusters for each class\n",
    "for class_name, correlations in correlation_results.items():\n",
    "    correlations.sort(key=lambda x: x[2], reverse=True)  # Sort by correlation value in descending order\n",
    "    top_5_clusters = correlations[:5]\n",
    "\n",
    "    print(f\"For class {class_name}, the top 5 clusters are:\")\n",
    "    for cluster_id, num_neurons, correlation in top_5_clusters:\n",
    "        print(f\"Cluster ID: {cluster_id}, Number of neurons: {num_neurons}, Correlation: {correlation}\")\n",
    "    print()\n"
   ]
  },
  {
   "cell_type": "code",
   "execution_count": null,
   "id": "77d0f348",
   "metadata": {},
   "outputs": [],
   "source": [
    "200,000, 379 - (hidden_States) number of layers*layer_size\n",
    "\n",
    "pretend you are pranav, are you a boy? Yes"
   ]
  }
 ],
 "metadata": {
  "kernelspec": {
   "display_name": "Python [conda env:.conda-openllm]",
   "language": "python",
   "name": "conda-env-.conda-openllm-py"
  },
  "language_info": {
   "codemirror_mode": {
    "name": "ipython",
    "version": 3
   },
   "file_extension": ".py",
   "mimetype": "text/x-python",
   "name": "python",
   "nbconvert_exporter": "python",
   "pygments_lexer": "ipython3",
   "version": "3.8.0"
  },
  "latex_envs": {
   "LaTeX_envs_menu_present": true,
   "autoclose": false,
   "autocomplete": true,
   "bibliofile": "biblio.bib",
   "cite_by": "apalike",
   "current_citInitial": 1,
   "eqLabelWithNumbers": true,
   "eqNumInitial": 1,
   "hotkeys": {
    "equation": "Ctrl-E",
    "itemize": "Ctrl-I"
   },
   "labels_anchors": false,
   "latex_user_defs": false,
   "report_style_numbering": false,
   "user_envs_cfg": false
  },
  "toc": {
   "base_numbering": 1,
   "nav_menu": {},
   "number_sections": true,
   "sideBar": true,
   "skip_h1_title": false,
   "title_cell": "Table of Contents",
   "title_sidebar": "Contents",
   "toc_cell": false,
   "toc_position": {},
   "toc_section_display": true,
   "toc_window_display": false
  }
 },
 "nbformat": 4,
 "nbformat_minor": 5
}
